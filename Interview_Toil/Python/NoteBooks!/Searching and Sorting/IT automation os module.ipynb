{
 "cells": [
  {
   "cell_type": "code",
   "execution_count": 8,
   "metadata": {},
   "outputs": [],
   "source": [
    "def headline(text, align=True):\n",
    "    if align:\n",
    "        return f\"{text.title()}\\n{'-' * len(text)}\"\n",
    "    else:\n",
    "        return f\" {text.title()} \".center(50, \"o\")"
   ]
  },
  {
   "cell_type": "code",
   "execution_count": 10,
   "metadata": {},
   "outputs": [
    {
     "name": "stdout",
     "output_type": "stream",
     "text": [
      "Alpha Is Equivalent\n",
      "-------------------\n"
     ]
    }
   ],
   "source": [
    "print(headline(\"alpha is equivalent\"))"
   ]
  },
  {
   "cell_type": "markdown",
   "metadata": {},
   "source": [
    "    def fetch_squares ( max_root ):\n",
    "        squares = []\n",
    "        for x in range ( max_root ):\n",
    "            squares . append (x **2)\n",
    "        return squares\n",
    "\n",
    "    MAX = 5\n",
    "\n",
    "    for square in fetch_squares (MAX ):\n",
    "         do_something_with ( square )\n",
    "\n",
    "    1) Do you see a memory bottleneck here? If so, what is it?\n",
    "    2) Can you think of a way to fix the memory bottleneck?\n",
    "\n",
    "    Want to know if I am trying to solve the correct bottleneck.\n",
    "    I am thinking that the bottleneck is to create a list only to iterate the same \n",
    "    list you created sort of doubling the time through.\n",
    "\n",
    "    Is that the correct problem to solve?\n",
    "\n",
    "    If it is then I thought the best way is just to supply the numbers on the fly, \n",
    "    a generator.\n",
    "\n",
    "    def supply_squares(max_root):\n",
    "        for x in max_root:\n",
    "            yield x\n",
    "\n",
    "    MAX = 5\n",
    "\n",
    "\n",
    "    So then I set up a loop and do whatever is needed. At this time I am creating \n",
    "    generator objects. But is this the correct way to go? More of a am I thinking \n",
    "    correctly questino.\n",
    "\n",
    "    item = 0\n",
    "    while item < MAX:\n",
    "        print(supply_squares(item))\n",
    "        item += 1\n",
    "\n",
    "    <generator object supply_squares at 0x0000000004DEAC00>\n",
    "    <generator object supply_squares at 0x0000000004DEAC00>\n",
    "    <generator object supply_squares at 0x0000000004DEAC00>\n",
    "    <generator object supply_squares at 0x0000000004DEAC00>\n",
    "    <generator object supply_squares at 0x0000000004DEAC00>\n"
   ]
  },
  {
   "cell_type": "code",
   "execution_count": 32,
   "metadata": {},
   "outputs": [],
   "source": [
    "import requests\n",
    "import socket\n",
    "\n",
    "def check_localhost():\n",
    "        localhost = socket.gethostbyname('localhost')\n",
    "        print(localhost)\n",
    "        if localhost == \"127.0.0.1\":\n",
    "                return True\n",
    "\n",
    "def check_connectivity():\n",
    "        request = requests.get(\"http://www.google.com\")\n",
    "        if request.status_code == \"200\":\n",
    "            print(True)\n",
    "\n",
    "check_connectivity()"
   ]
  },
  {
   "cell_type": "code",
   "execution_count": 33,
   "metadata": {},
   "outputs": [
    {
     "ename": "ModuleNotFoundError",
     "evalue": "No module named 'network'",
     "output_type": "error",
     "traceback": [
      "\u001b[1;31m---------------------------------------------------------------------------\u001b[0m",
      "\u001b[1;31mModuleNotFoundError\u001b[0m                       Traceback (most recent call last)",
      "\u001b[1;32m<ipython-input-33-7c411a87cfbd>\u001b[0m in \u001b[0;36m<module>\u001b[1;34m\u001b[0m\n\u001b[0;32m      2\u001b[0m \u001b[1;32mimport\u001b[0m \u001b[0mshutil\u001b[0m\u001b[1;33m\u001b[0m\u001b[1;33m\u001b[0m\u001b[0m\n\u001b[0;32m      3\u001b[0m \u001b[1;32mimport\u001b[0m \u001b[0mpsutil\u001b[0m\u001b[1;33m\u001b[0m\u001b[1;33m\u001b[0m\u001b[0m\n\u001b[1;32m----> 4\u001b[1;33m \u001b[1;32mfrom\u001b[0m \u001b[0mnetwork\u001b[0m \u001b[1;32mimport\u001b[0m \u001b[1;33m*\u001b[0m\u001b[1;33m\u001b[0m\u001b[1;33m\u001b[0m\u001b[0m\n\u001b[0m\u001b[0;32m      5\u001b[0m \u001b[1;33m\u001b[0m\u001b[0m\n\u001b[0;32m      6\u001b[0m \u001b[1;32mdef\u001b[0m \u001b[0mcheck_disk_usage\u001b[0m\u001b[1;33m(\u001b[0m\u001b[0mdisk\u001b[0m\u001b[1;33m)\u001b[0m\u001b[1;33m:\u001b[0m\u001b[1;33m\u001b[0m\u001b[1;33m\u001b[0m\u001b[0m\n",
      "\u001b[1;31mModuleNotFoundError\u001b[0m: No module named 'network'"
     ]
    }
   ],
   "source": [
    "#!/usr/bin/env python3\n",
    "import shutil\n",
    "import psutil\n",
    "from network import *\n",
    "\n",
    "def check_disk_usage(disk):\n",
    "    \"\"\"Verifies that there's enough free space on disk\"\"\"\n",
    "    du = shutil.disk_usage(disk)\n",
    "    free = du.free / du.total * 100\n",
    "    return free > 20\n",
    "def check_cpu_usage():\n",
    "    \"\"\"Verifies that there's enough unused CPU\"\"\"\n",
    "    usage = psutil.cpu_percent(1)\n",
    "    return usage < 75\n",
    "# If there's not enough disk, or not enough CPU, print an error\n",
    "if not check_disk_usage('/') or not check_cpu_usage():\n",
    "    print(\"ERROR!\")\n",
    "elif check_localhost() and check_connectivity():\n",
    "    print(\"Everything ok\")"
   ]
  },
  {
   "cell_type": "code",
   "execution_count": 34,
   "metadata": {},
   "outputs": [],
   "source": [
    "\n",
    "#!/usr/bin/env python3\n",
    "import requests\n",
    "import socket\n",
    "\n",
    "def check_localhost():\n",
    "        localhost = socket.gethostbyname('localhost')\n",
    "        print(localhost)\n",
    "        if localhost == \"127.0.0.1\":\n",
    "                return True\n",
    "\n",
    "def check_connectivity():\n",
    "        request = requests.get(\"http://www.google.com\")\n",
    "        if request.status_code == 200:\n",
    "                return True\n",
    "        else:\n",
    "                return False\n"
   ]
  },
  {
   "cell_type": "code",
   "execution_count": 35,
   "metadata": {},
   "outputs": [
    {
     "name": "stdout",
     "output_type": "stream",
     "text": [
      "31\n"
     ]
    }
   ],
   "source": [
    "import os\n",
    "\n",
    "def create_python_script(filename):\n",
    "  with open(filename, \"w\") as file:\n",
    "    file.write(\"# Start of a new Python program\")\n",
    "    \n",
    "  filesize = os.path.getsize(filename)\n",
    "  return(filesize)\n",
    "\n",
    "print(create_python_script(\"program.py\"))"
   ]
  },
  {
   "cell_type": "code",
   "execution_count": 36,
   "metadata": {},
   "outputs": [
    {
     "name": "stdout",
     "output_type": "stream",
     "text": [
      "['script.py']\n"
     ]
    }
   ],
   "source": [
    "import os\n",
    "\n",
    "def new_directory(directory, filename):\n",
    "  # Before creating a new directory, check to see if it already exists\n",
    "  if os.path.isdir(directory) == False:\n",
    "    os.mkdir(directory)\n",
    "\n",
    "  # Create the new file inside of the new directory\n",
    "  os.chdir(directory)\n",
    "  with open (filename, 'w') as file:\n",
    "    file.write(\"\")\n",
    "    \n",
    "  os.chdir(\"../\")\n",
    "\n",
    "  # Return the list of files in the new directory\n",
    "  return(os.listdir(directory))\n",
    "\n",
    "print(new_directory(\"PythonPrograms\", \"script.py\"))"
   ]
  },
  {
   "cell_type": "code",
   "execution_count": 37,
   "metadata": {},
   "outputs": [
    {
     "name": "stdout",
     "output_type": "stream",
     "text": [
      "2020-06-04\n"
     ]
    }
   ],
   "source": [
    "import os\n",
    "import datetime\n",
    "\n",
    "def file_date(filename):\n",
    "  # Create the file in the current directory\n",
    "  os.mkdir(filename)\n",
    "  timestamp = os.path.getmtime(filename)\n",
    "  # Convert the timestamp into a readable format, then into a string\n",
    "  dates = datetime.datetime.fromtimestamp(timestamp)\n",
    "  # Return just the date portion \n",
    "  # Hint: how many characters are in “yyyy-mm-dd”? \n",
    "  return (\"{}\".format(dates.strftime(\"%Y-%m-%d\")))\n",
    "\n",
    "print(file_date(\"newfile.txt\")) \n",
    "# Should be today's date in the format of yyyy-mm-dd"
   ]
  },
  {
   "cell_type": "code",
   "execution_count": 38,
   "metadata": {},
   "outputs": [
    {
     "name": "stdout",
     "output_type": "stream",
     "text": [
      "C:\\Users\\lipsp\\Python\\NoteBooks!\n"
     ]
    }
   ],
   "source": [
    "import os\n",
    "def parent_directory():\n",
    "  # Create a relative path to the parent \n",
    "  # of the current working directory \n",
    "  relative_parent = os.path.join(os.getcwd(), os.pardir)\n",
    "\n",
    "  # Return the absolute path of the parent directory\n",
    "  return os.path.abspath(relative_parent)\n",
    "\n",
    "print(parent_directory())"
   ]
  },
  {
   "cell_type": "code",
   "execution_count": null,
   "metadata": {},
   "outputs": [],
   "source": []
  },
  {
   "cell_type": "code",
   "execution_count": 61,
   "metadata": {},
   "outputs": [
    {
     "name": "stdout",
     "output_type": "stream",
     "text": [
      "John F. Kennedy\n"
     ]
    }
   ],
   "source": [
    "import re\n",
    "def rearrange_name(name):\n",
    "  result = re.search(r\"^(\\w*), (\\w*) ([A-Z]\\.)$\", name)\n",
    "  if result == None:\n",
    "    return name\n",
    "  return \"{} {} {}\".format(result[2], result[3], result[1])\n",
    "\n",
    "name=rearrange_name(\"Kennedy, John F.\")\n",
    "print(name)"
   ]
  },
  {
   "cell_type": "markdown",
   "metadata": {},
   "source": [
    "1. We're working with a CSV file, which contains employee information. Each record has a name field, followed by a phone number field, and a role field. The phone number field contains U.S. phone numbers, and needs to be modified to the international format, with \"+1-\" in front of the phone number. Fill in the regular expression, using groups, to use the transform_record function to do that."
   ]
  },
  {
   "cell_type": "code",
   "execution_count": 62,
   "metadata": {},
   "outputs": [
    {
     "name": "stdout",
     "output_type": "stream",
     "text": [
      "Sabrina Green,+1-802-867-5309,System Administrator\n",
      "Eli Jones,+1-684-3481127,IT specialist\n",
      "Melody Daniels,+1-846-687-7436,Programmer\n",
      "Charlie Rivera,+1-698-746-3357,Web Developer\n"
     ]
    }
   ],
   "source": [
    "import re\n",
    "def transform_record(record):\n",
    "  new_record = re.sub(r\"(\\d+-\\d+-\\d+|\\d+-\\d+)\",r\"+1-\\1\", record)\n",
    "  return new_record\n",
    "\n",
    "print(transform_record(\"Sabrina Green,802-867-5309,System Administrator\")) \n",
    "# Sabrina Green,+1-802-867-5309,System Administrator\n",
    "\n",
    "print(transform_record(\"Eli Jones,684-3481127,IT specialist\")) \n",
    "# Eli Jones,+1-684-3481127,IT specialist\n",
    "\n",
    "print(transform_record(\"Melody Daniels,846-687-7436,Programmer\")) \n",
    "# Melody Daniels,+1-846-687-7436,Programmer\n",
    "\n",
    "print(transform_record(\"Charlie Rivera,698-746-3357,Web Developer\")) \n",
    "# Charlie Rivera,+1-698-746-3357,Web Developer"
   ]
  },
  {
   "cell_type": "markdown",
   "metadata": {},
   "source": [
    "2. The multi_vowel_words function returns all words with 3 or more consecutive vowels (a, e, i, o, u). Fill in the regular expression to do that.\n",
    "\n"
   ]
  },
  {
   "cell_type": "code",
   "execution_count": 63,
   "metadata": {},
   "outputs": [
    {
     "name": "stdout",
     "output_type": "stream",
     "text": [
      "['beautiful']\n",
      "['Obviously', 'queen', 'courageous', 'gracious']\n",
      "['rambunctious', 'quietly', 'delicious']\n",
      "['queue']\n",
      "[]\n"
     ]
    }
   ],
   "source": [
    "import re\n",
    "def multi_vowel_words(text):\n",
    "  pattern = r\"\\b\\w*[aeiou]{3,}\\w*\\b\"\n",
    "  result = re.findall(pattern, text)\n",
    "  return result\n",
    "\n",
    "print(multi_vowel_words(\"Life is beautiful\")) \n",
    "# ['beautiful']\n",
    "\n",
    "print(multi_vowel_words(\"Obviously, the queen is courageous and gracious.\")) \n",
    "# ['Obviously', 'queen', 'courageous', 'gracious']\n",
    "\n",
    "print(multi_vowel_words(\"The rambunctious children had to sit quietly and await their delicious dinner.\")) \n",
    "# ['rambunctious', 'quietly', 'delicious']\n",
    "\n",
    "print(multi_vowel_words(\"The order of a data queue is First In First Out (FIFO)\")) \n",
    "# ['queue']\n",
    "\n",
    "print(multi_vowel_words(\"Hello world!\")) \n",
    "# []"
   ]
  },
  {
   "cell_type": "markdown",
   "metadata": {},
   "source": [
    "4. The transform_comments function converts comments in a Python script into those usable by a C compiler. This means looking for text that begins with a hash mark (#) and replacing it with double slashes (//), which is the C single-line comment indicator. For the purpose of this exercise, we'll ignore the possibility of a hash mark embedded inside of a Python command, and assume that it's only used to indicate a comment. We also want to treat repetitive hash marks (##), (###), etc., as a single comment indicator, to be replaced with just (//) and not (#//) or (//#). Fill in the parameters of the substitution method to complete this function:"
   ]
  },
  {
   "cell_type": "code",
   "execution_count": 64,
   "metadata": {},
   "outputs": [
    {
     "name": "stdout",
     "output_type": "stream",
     "text": [
      "// Start of program\n",
      "  number = 0   // Initialize the variable\n",
      "  number += 1   // Increment the variable\n",
      "  return(number)\n"
     ]
    }
   ],
   "source": [
    "import re\n",
    "def transform_comments(line_of_code):\n",
    "  result = re.sub(r\"###|##|#\", r\"//\", line_of_code)\n",
    "  return result\n",
    "\n",
    "print(transform_comments(\"### Start of program\")) \n",
    "# Should be \"// Start of program\"\n",
    "print(transform_comments(\"  number = 0   ## Initialize the variable\")) \n",
    "# Should be \"  number = 0   // Initialize the variable\"\n",
    "print(transform_comments(\"  number += 1   # Increment the variable\")) \n",
    "# Should be \"  number += 1   // Increment the variable\"\n",
    "print(transform_comments(\"  return(number)\")) \n",
    "# Should be \"  return(number)\""
   ]
  },
  {
   "cell_type": "markdown",
   "metadata": {},
   "source": [
    "5. The convert_phone_number function checks for a U.S. phone number format: XXX-XXX-XXXX (3 digits followed by a dash, 3 more digits followed by a dash, and 4 digits), and converts it to a more formal format that looks like this: (XXX) XXX-XXXX. Fill in the regular expression to complete this function."
   ]
  },
  {
   "cell_type": "code",
   "execution_count": 68,
   "metadata": {},
   "outputs": [
    {
     "name": "stdout",
     "output_type": "stream",
     "text": [
      "My number is (212) 345-9999.\n",
      "Please call (888) 555-1234\n",
      "(123) 123-12345\n",
      "Phone number of Buckingham Palace is +44 303 123 7300\n"
     ]
    }
   ],
   "source": [
    "import re\n",
    "def convert_phone_number(phone):\n",
    "  result = re.sub(r\"(\\d{3})-(\\d{3})-(\\d{4})\", r\"(\\1) \\2-\\3\", phone)\n",
    "  # result = re.search(r\"(\\d+)\", phone)\n",
    "  return \"{}\".format(result)\n",
    "\n",
    "print(convert_phone_number(\"My number is 212-345-9999.\")) # My number is (212) 345-9999.\n",
    "print(convert_phone_number(\"Please call 888-555-1234\")) # Please call (888) 555-1234\n",
    "print(convert_phone_number(\"123-123-12345\")) # 123-123-12345\n",
    "print(convert_phone_number(\"Phone number of Buckingham Palace is +44 303 123 7300\")) # Phone number of Buckingham Palace is +44 303 123 7300"
   ]
  },
  {
   "cell_type": "markdown",
   "metadata": {},
   "source": [
    "    Identify the old domain\n",
    "    In this section, we will write the body of the function named contains_domain. This function uses regex to identify the domain of the user email addresses in the user_emails.csv file.\n",
    "\n",
    "    The function takes address and domain as parameters, and its primary objective is to check whether an email address belongs to the old domain(abc.edu).\n",
    "\n",
    "    To do this, we will use a regular expression stored in the variable named domain_pattern. This variable will now match email addresses of a particular domain. If the old domain is found, then the function returns true.\n",
    "\n",
    "      domain_pattern = r'[\\w\\.-]+@'+domain+'$'\n",
    "      if re.match(domain_pattern, address):\n",
    "        return True\n",
    "\n",
    "    The function contains_domain should now look like this:\n",
    "\n",
    "    def contains_domain(address, domain):\n",
    "      domain_pattern = r'[\\w\\.-]+@'+domain+'$'\n",
    "      if re.match(domain_pattern, address):\n",
    "        return True\n",
    "      return False\n",
    "\n",
    "    Replace the domain name\n",
    "    In this section, we will replace the old domain name with the new one. The second function defined in the script.py file is replace_domain.\n",
    "\n",
    "    The replace_domain function takes in one email address at a time, as well as the email's old domain name and its new domain name. This function's primary objective is to replace the email addresses containing the old domain name with new domain name.\n",
    "\n",
    "    In order to replace the domain name, we will use the regular expression module and make a pattern that identifies sub-strings containing the old domain name within email addresses. We will then store this pattern in a variable called old_domain_pattern. Next, we will use substitution function sub() from re module to replace the old domain name with the new one and return the updated email address.\n",
    "\n",
    "      old_domain_pattern = r'' + old_domain + '$'\n",
    "      address = re.sub(old_domain_pattern, new_domain, address)\n",
    "\n",
    "    The function replace_domain should now look similar to the following:\n",
    "\n",
    "    def replace_domain(address, old_domain, new_domain):\n",
    "      old_domain_pattern = r'' + old_domain + '$'\n",
    "      address = re.sub(old_domain_pattern, new_domain, address)\n",
    "      return address\n",
    "\n",
    "    Write a CSV file with replaced domain from main\n",
    "    In this section, we're going to call the above defined functions: contains_domain() and replace_domain from the main(). This will allow us to find the old domain email address, replace it with the newer one, and write the updated list to a CSV file in the data directory.\n",
    "\n",
    "    In the previous sections, you might have seen variables named old_domain and new_domain, which are passed as parameters to the functions. Let's declare them here within main().\n",
    "\n",
    "      old_domain, new_domain = 'abc.edu', 'xyz.edu'\n",
    "\n",
    "    Now store the path of the list user_emails.csv in the variable csv_file_location. Also, give a file path for the resulting updated list within the variable report_file. This updated list should be generated within the data directory.\n",
    "\n",
    "      csv_file_location = '<csv-file-location>'\n",
    "      report_file =  '<data-directory>' + '/updated_user_emails.csv'\n",
    "\n",
    "    Replace <csv_file_location> by the path to the user_emails.csv. <csv_file_location> is similar to the path /home/<username>/data/user_emails.csv. For variable report_file, replace <data_directory> by the path to /data directory. <data_directory> is similar to the path /home/<username>/data. Replace <username> with the one mentioned in the Connection Details Panel on the left-hand side.\n",
    "\n",
    "    Then, initialize an empty list where you will store the user email addresses. This is then passed to the function contains_domain, where a regular expression is used to match them and finally replace the domains using the replace_domain function.\n",
    "\n",
    "    Next, initialize the two different lists, old_domain_email_list and new_domain_email_list. The old_domain_email_list will contain all the email addresses with the old domain that the regex would match within the function contains_domain. Since the function contains_domain takes in email address passed as parameter, we will iterate over the user_email_list to pass email addresses one by one. For every matched email address, we will append it to the list old_domain_email_list.\n",
    "\n",
    "      user_email_list = []\n",
    "      old_domain_email_list = []\n",
    "      new_domain_email_list = []\n",
    "\n",
    "    The CSV module imported earlier implements classes to read and write tabular data in CSV format. The CSV library provides functionality to both read from and write to CSV files. In this case, we are first going to read data from the list (which is a CSV file). The data is read from the user_emails.csv file and passed to the user_data_list. So the user_data_list now contains the same information as that present in user_emails.csv file. While we do this, we will also add all the email addresses into the user_email_list that we initialized in the previous step.\n",
    "\n",
    "      with open(csv_file_location, 'r') as f:\n",
    "        user_data_list = list(csv.reader(f))\n",
    "        user_email_list = [data[1].strip() for data in user_data_list[1:]]\n",
    "\n",
    "    The list old_domain_email_list should contain all the email addresses with the old domain. This will be checked by the function contains_domain. The function replace_domain will then take in the email addresses (with old domain) and replace them with the new domains.\n",
    "\n",
    "        for email_address in user_email_list:\n",
    "          if contains_domain(email_address, old_domain):\n",
    "            old_domain_email_list.append(email_address)\n",
    "            replaced_email = replace_domain(email_address, old_domain, new_domain)\n",
    "            new_domain_email_list.append(replaced_email)\n",
    "\n",
    "    Now, let's define the headers for our output file through the user_data_list, which contains all the data read from user_emails.csv file.\n",
    "\n",
    "        email_key = ' ' + 'Email Address'\n",
    "        email_index = user_data_list[0].index(email_key)\n",
    "\n",
    "    Next, replace the email addresses within the user_data_list (which initially had all the user names and respective email addresses read from the user_emails.csv file) by iterating over the new_domain_email_list, and replacing the corresponding values in user_data_list.\n",
    "\n",
    "    Finally, close the file using the close() method. A closed file no longer be read or written. It is good practice to use the close() method to close a file.\n",
    "\n",
    "        for user in user_data_list[1:]:\n",
    "          for old_domain, new_domain in zip(old_domain_email_list, new_domain_email_list):\n",
    "            if user[email_index] == ' ' + old_domain:\n",
    "              user[email_index] = ' ' + new_domain\n",
    "        f.close()\n",
    "\n",
    "    Now write the list to an output file, which we declared at the beginning of the script within the variable report_file.\n",
    "\n",
    "      with open(report_file, 'w+') as output_file:\n",
    "        writer = csv.writer(output_file)\n",
    "        writer.writerows(user_data_list)\n",
    "        output_file.close()\n",
    "\n",
    "    Finally, call the main() method.\n",
    "\n",
    "    main()\n",
    "\n",
    "    The script should now look like this:\n",
    "\n",
    "    #!/usr/bin/env python3\n",
    "\n",
    "    import re\n",
    "    import csv\n",
    "\n",
    "\n",
    "    def contains_domain(address, domain):\n",
    "      \"\"\"Returns True if the email address contains the given,domain,in the domain position, false if not.\"\"\"\n",
    "      domain = r'[\\w\\.-]+@'+domain+'$'\n",
    "      if re.match(domain,address):\n",
    "        return True\n",
    "      return False\n",
    "\n",
    "\n",
    "    def replace_domain(address, old_domain, new_domain):\n",
    "      \"\"\"Replaces the old domain with the new domain in the received address.\"\"\"\n",
    "      old_domain_pattern = r'' + old_domain + '$'\n",
    "      address = re.sub(old_domain_pattern, new_domain, address)\n",
    "      return address\n",
    "\n",
    "    def main():\n",
    "      \"\"\"Processes the list of emails, replacing any instances of the old domain with the new domain.\"\"\"\n",
    "      old_domain, new_domain = 'abc.edu', 'xyz.edu'\n",
    "      csv_file_location = '<csv_file_location>'\n",
    "      report_file = '<path_to_home_directory>' + '/updated_user_emails.csv'\n",
    "      user_email_list = []\n",
    "      old_domain_email_list = []\n",
    "      new_domain_email_list = []\n",
    "\n",
    "      with open(csv_file_location, 'r') as f:\n",
    "        user_data_list = list(csv.reader(f))\n",
    "        user_email_list = [data[1].strip() for data in user_data_list[1:]]\n",
    "\n",
    "        for email_address in user_email_list:\n",
    "          if contains_domain(email_address, old_domain):\n",
    "            old_domain_email_list.append(email_address)\n",
    "            replaced_email = replace_domain(email_address,old_domain,new_domain)\n",
    "            new_domain_email_list.append(replaced_email)\n",
    "\n",
    "        email_key = ' ' + 'Email Address'\n",
    "        email_index = user_data_list[0].index(email_key)\n",
    "\n",
    "        for user in user_data_list[1:]:\n",
    "          for old_domain, new_domain in zip(old_domain_email_list, new_domain_email_list):\n",
    "            if user[email_index] == ' ' + old_domain:\n",
    "              user[email_index] = ' ' + new_domain\n",
    "      f.close()\n",
    "\n",
    "      with open(report_file, 'w+') as output_file:\n",
    "        writer = csv.writer(output_file)\n",
    "        writer.writerows(user_data_list)\n",
    "        output_file.close()\n",
    "\n",
    "    main()\n",
    "\n",
    "    Save the file by clicking Ctrl-o, Enter key, and Ctrl-x.\n",
    "\n",
    "    Now run the file.\n",
    "\n",
    "    ./script.py\n",
    "\n",
    "    On a successful run, this should generate a new file named updated_user_emails within the data directory.\n",
    "\n",
    "    To view the newly generated file, enter the following command:\n",
    "\n",
    "    ls ~/data\n",
    "\n",
    "    You should now be able to see a new file named updated_user_emails.csv. To view the contents of this file, enter the following command:\n",
    "\n",
    "    cat ~/data/updated_user_emails.csv\n",
    "\n",
    "    Great job! You have successfully replaced the old domain names with the new ones and generated a new file containing all the user names with their respective email addresses."
   ]
  },
  {
   "cell_type": "code",
   "execution_count": 69,
   "metadata": {},
   "outputs": [],
   "source": [
    "def contains_domain(address, domain):\n",
    "  domain_pattern = r'[\\w\\.-]+@'+domain+'$'\n",
    "  if re.match(domain_pattern, address):\n",
    "    return True\n",
    "  return False"
   ]
  },
  {
   "cell_type": "code",
   "execution_count": 70,
   "metadata": {},
   "outputs": [],
   "source": [
    "def replace_domain(address, old_domain, new_domain):\n",
    "  old_domain_pattern = r'' + old_domain + '$'\n",
    "  address = re.sub(old_domain_pattern, new_domain, address)\n",
    "  return address"
   ]
  },
  {
   "cell_type": "code",
   "execution_count": null,
   "metadata": {},
   "outputs": [],
   "source": []
  }
 ],
 "metadata": {
  "kernelspec": {
   "display_name": "Python 3",
   "language": "python",
   "name": "python3"
  },
  "language_info": {
   "codemirror_mode": {
    "name": "ipython",
    "version": 3
   },
   "file_extension": ".py",
   "mimetype": "text/x-python",
   "name": "python",
   "nbconvert_exporter": "python",
   "pygments_lexer": "ipython3",
   "version": "3.8.0"
  }
 },
 "nbformat": 4,
 "nbformat_minor": 4
}
