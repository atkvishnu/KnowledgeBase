{
 "cells": [
  {
   "cell_type": "markdown",
   "metadata": {},
   "source": [
    "# SEQUENTIAL SEARCH\n",
    "\n",
    "###### It is of two types:\n",
    "\n",
    "1. Unordered Sequential Search\n",
    "2. Ordered Sequential Search"
   ]
  },
  {
   "cell_type": "markdown",
   "metadata": {},
   "source": [
    "## 1. Unordered Sequential Search"
   ]
  },
  {
   "cell_type": "code",
   "execution_count": 11,
   "metadata": {},
   "outputs": [],
   "source": [
    "def seq_search(arr:list, ele:int) -> bool:# type checking added here\n",
    "    \n",
    "    pos = 0\n",
    "    found = False\n",
    "    \n",
    "    while pos < len(arr) and not found:\n",
    "        if arr[pos] == ele:\n",
    "            found = True\n",
    "        else:\n",
    "            pos = pos + 1\n",
    "    return found"
   ]
  },
  {
   "cell_type": "code",
   "execution_count": 14,
   "metadata": {},
   "outputs": [
    {
     "name": "stdout",
     "output_type": "stream",
     "text": [
      "True\n",
      "False\n"
     ]
    }
   ],
   "source": [
    "arr = [1,9,2,8,3,4,7,5,6]\n",
    "print(seq_search(arr, 1))\n",
    "print(seq_search(arr, 10))"
   ]
  },
  {
   "cell_type": "markdown",
   "metadata": {},
   "source": [
    "## 2. Ordered Sequential Search\n",
    "In this the list to be fed to the algorithm should be Ordered! OR else the function will not work!"
   ]
  },
  {
   "cell_type": "code",
   "execution_count": 4,
   "metadata": {},
   "outputs": [],
   "source": [
    "def ordered_seq_search(arr, ele):\n",
    "    \n",
    "    pos = 0\n",
    "    found = False\n",
    "    stopped = False\n",
    "    \n",
    "    while pos < len(arr) and not found and not stopped:\n",
    "        if arr[pos] == ele:\n",
    "            found = True\n",
    "        else:\n",
    "            if arr[pos] > ele:\n",
    "                stopped = True\n",
    "            else:\n",
    "                pos = pos + 1\n",
    "    return found"
   ]
  },
  {
   "cell_type": "code",
   "execution_count": 6,
   "metadata": {},
   "outputs": [
    {
     "name": "stdout",
     "output_type": "stream",
     "text": [
      "True\n",
      "False\n"
     ]
    }
   ],
   "source": [
    "arr.sort()\n",
    "print(ordered_seq_search(arr, 3))\n",
    "print(ordered_seq_search(arr, 1.5))"
   ]
  }
 ],
 "metadata": {
  "kernelspec": {
   "display_name": "Python 3",
   "language": "python",
   "name": "python3"
  },
  "language_info": {
   "codemirror_mode": {
    "name": "ipython",
    "version": 3
   },
   "file_extension": ".py",
   "mimetype": "text/x-python",
   "name": "python",
   "nbconvert_exporter": "python",
   "pygments_lexer": "ipython3",
   "version": "3.8.0"
  }
 },
 "nbformat": 4,
 "nbformat_minor": 4
}
