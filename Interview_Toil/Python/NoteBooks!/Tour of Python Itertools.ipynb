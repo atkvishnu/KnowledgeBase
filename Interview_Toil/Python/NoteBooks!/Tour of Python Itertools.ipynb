{
 "cells": [
  {
   "cell_type": "markdown",
   "metadata": {},
   "source": [
    "https://martinheinz.dev/blog/16"
   ]
  },
  {
   "cell_type": "markdown",
   "metadata": {},
   "source": [
    "There are lots of great Python libraries, but most of them don't come close to what built-in itertools and also more-itertools provide.\n",
    "These two libraries are really the whole kitchen sink when it comes to processing/iterating over some data in Python. At first glance however, functions in those libraries might not seem that useful, so let's make little tour of (in my opinion) the most interesting ones, including examples how to get the most out of them!"
   ]
  },
  {
   "cell_type": "markdown",
   "metadata": {},
   "source": [
    "## Compress\n",
    "\n",
    "Before we get to functions from more_itertools library, let's first look into few of the more obscure ones from built-in itertools module - first of them being itertools.compress:"
   ]
  },
  {
   "cell_type": "code",
   "execution_count": 2,
   "metadata": {},
   "outputs": [
    {
     "name": "stdout",
     "output_type": "stream",
     "text": [
      "['2020-02-04', '2020-01-24', '2020-02-10', '2020-02-15']\n"
     ]
    }
   ],
   "source": [
    "dates = [\n",
    "    \"2020-01-01\",\n",
    "    \"2020-02-04\",\n",
    "    \"2020-02-01\",\n",
    "    \"2020-01-24\",\n",
    "    \"2020-01-08\",\n",
    "    \"2020-02-10\",\n",
    "    \"2020-02-15\",\n",
    "    \"2020-02-11\",\n",
    "]\n",
    "\n",
    "counts = [1, 4, 3, 8, 0, 7, 9, 2]\n",
    "\n",
    "from itertools import compress\n",
    "bools = [n > 3 for n in counts]\n",
    "print(list(compress(dates, bools)))  # Compress returns iterator!\n",
    "#  ['2020-02-04', '2020-01-24', '2020-02-10', '2020-02-15']"
   ]
  },
  {
   "cell_type": "markdown",
   "metadata": {},
   "source": [
    "You have quite a few option when it comes to filtering sequences, one of them is also compress, which takes iterable and boolean selector and outputs items of the iterable where the corresponding element in the selector is True.\n",
    "\n",
    "We can use this to apply result of filtering of one sequence to another like in above example, where we create list of dates where the corresponding count is greater than 3.\n",
    "\n",
    "## Accumulate\n",
    "\n",
    "As name suggests - we will use this function to accumulate results of some (binary) function. Example of this can be running maximum or factorial:"
   ]
  },
  {
   "cell_type": "code",
   "execution_count": 3,
   "metadata": {},
   "outputs": [
    {
     "data": {
      "text/plain": [
       "[1, 2, 6, 24, 120, 720, 5040, 40320, 362880, 3628800]"
      ]
     },
     "execution_count": 3,
     "metadata": {},
     "output_type": "execute_result"
    }
   ],
   "source": [
    "from itertools import accumulate\n",
    "import operator\n",
    "\n",
    "data = [3, 4, 1, 3, 5, 6, 9, 0, 1]\n",
    "\n",
    "list(accumulate(data, max))  # running maximum\n",
    "#  [3, 4, 4, 4, 5, 6, 9, 9, 9]\n",
    "\n",
    "list(accumulate(range(1, 11), operator.mul))  # Factorial\n",
    "#  [1, 2, 6, 24, 120, 720, 5040, 40320, 362880, 3628800]"
   ]
  },
  {
   "cell_type": "markdown",
   "metadata": {},
   "source": [
    "If you don't care about intermediate results, you could use functools.reduce (called fold in other languages), which keeps only final value and is also more memory efficient.\n",
    "\n",
    "## Cycle\n",
    "\n",
    "This function takes iterable and creates infinite cycle from it. This can be useful for example in a game, where players take turns. Another cool thing you can do with cycle is to create simple infinite spinner:"
   ]
  },
  {
   "cell_type": "code",
   "execution_count": 4,
   "metadata": {},
   "outputs": [
    {
     "name": "stdout",
     "output_type": "stream",
     "text": [
      "\\\r"
     ]
    },
    {
     "ename": "KeyboardInterrupt",
     "evalue": "",
     "output_type": "error",
     "traceback": [
      "\u001b[1;31m---------------------------------------------------------------------------\u001b[0m",
      "\u001b[1;31mKeyboardInterrupt\u001b[0m                         Traceback (most recent call last)",
      "\u001b[1;32m<ipython-input-4-acc51654d9ec>\u001b[0m in \u001b[0;36m<module>\u001b[1;34m\u001b[0m\n\u001b[0;32m     17\u001b[0m \u001b[1;32mfor\u001b[0m \u001b[0mc\u001b[0m \u001b[1;32min\u001b[0m \u001b[0mcycle\u001b[0m\u001b[1;33m(\u001b[0m\u001b[1;34m'/-\\|'\u001b[0m\u001b[1;33m)\u001b[0m\u001b[1;33m:\u001b[0m\u001b[1;33m\u001b[0m\u001b[1;33m\u001b[0m\u001b[0m\n\u001b[0;32m     18\u001b[0m     \u001b[0mprint\u001b[0m\u001b[1;33m(\u001b[0m\u001b[0mc\u001b[0m\u001b[1;33m,\u001b[0m \u001b[0mend\u001b[0m \u001b[1;33m=\u001b[0m \u001b[1;34m'\\r'\u001b[0m\u001b[1;33m)\u001b[0m\u001b[1;33m\u001b[0m\u001b[1;33m\u001b[0m\u001b[0m\n\u001b[1;32m---> 19\u001b[1;33m     \u001b[0mtime\u001b[0m\u001b[1;33m.\u001b[0m\u001b[0msleep\u001b[0m\u001b[1;33m(\u001b[0m\u001b[1;36m0.2\u001b[0m\u001b[1;33m)\u001b[0m\u001b[1;33m\u001b[0m\u001b[1;33m\u001b[0m\u001b[0m\n\u001b[0m",
      "\u001b[1;31mKeyboardInterrupt\u001b[0m: "
     ]
    }
   ],
   "source": [
    "# Cycling through players\n",
    "from itertools import cycle\n",
    "\n",
    "players = [\"John\", \"Ben\", \"Martin\", \"Peter\"]\n",
    "\n",
    "next_player = cycle(players).__next__\n",
    "player = next_player()\n",
    "#  \"John\"\n",
    "\n",
    "player = next_player()\n",
    "#  \"Ben\"\n",
    "#  ...\n",
    "\n",
    "# Infinite Spinner\n",
    "import time\n",
    "\n",
    "for c in cycle('/-\\|'):\n",
    "    print(c, end = '\\r')\n",
    "    time.sleep(0.2)"
   ]
  },
  {
   "cell_type": "markdown",
   "metadata": {},
   "source": [
    "One thing you might need to do when using cycle is skipping few elements of iterable (in other words - starting at different element). You can do that with itertools.islice, so to start at third player from example above you could do: islice(cycle(players), 2, None).\n",
    "\n",
    "## Tee\n",
    "\n",
    "Final one from itertools module is tee, this function creates multiple iterators from one, which allows us to remember what happened. Example of that is pairwise function from itertools recipes (and also more_itertools), which returns pairs of values from input iterable (current value and previous one):"
   ]
  },
  {
   "cell_type": "code",
   "execution_count": 5,
   "metadata": {},
   "outputs": [],
   "source": [
    "from itertools import tee\n",
    "\n",
    "def pairwise(iterable):\n",
    "    \"\"\"\n",
    "    s -> (s0, s1), (s1, s2), (s2, s3), ...\n",
    "    \"\"\"\n",
    "    a, b = tee(iterable, 2)\n",
    "    next(b, None)\n",
    "    return zip(a, b)"
   ]
  },
  {
   "cell_type": "markdown",
   "metadata": {},
   "source": [
    "This function is handy every time you need multiple separate pointers to same stream of data. Be careful when using it though, as it can be pretty costly when it comes to memory. Also important to note is that you should not use original iterable after you use tee on it as it will mess up (unintentionally advance) those new tee objects.\n",
    "\n",
    "\n",
    "\n",
    "# more_itertools\n",
    "\n",
    "Now, let's have a closer look at what more_itertools library offers, as there are many interesting functions, that you might not have heard about.\n",
    "\n",
    "## divide\n",
    "\n",
    "First up from more_itertools is divide. As the name suggests, it divides iterable into number of sub-iterables. As you can see in example below, the length of the sub-iterables might not be the same, as it depends on number of elements being divided and number of sub-iterables."
   ]
  },
  {
   "cell_type": "code",
   "execution_count": 7,
   "metadata": {},
   "outputs": [
    {
     "data": {
      "text/plain": [
       "[['first', 'second', 'third'], ['fourth', 'fifth'], ['sixth', 'seventh']]"
      ]
     },
     "execution_count": 7,
     "metadata": {},
     "output_type": "execute_result"
    }
   ],
   "source": [
    "from more_itertools import divide\n",
    "data = [\"first\", \"second\", \"third\", \"fourth\", \"fifth\", \"sixth\", \"seventh\"]\n",
    "\n",
    "[list(l) for l in divide(3, data)]\n",
    "#  [['first', 'second', 'third'], ['fourth', 'fifth'], ['sixth', 'seventh']]"
   ]
  },
  {
   "cell_type": "markdown",
   "metadata": {},
   "source": [
    "There is one more similar function in more_itertools called distribute, it however doesn't maintain order. If you don't care about order you should use distribute as it needs less memory.\n",
    "\n",
    "## partition\n",
    "\n",
    "With this function, we will be also dividing our iterable, this time however, using a predicate:"
   ]
  },
  {
   "cell_type": "code",
   "execution_count": 9,
   "metadata": {},
   "outputs": [
    {
     "data": {
      "text/plain": [
       "[]"
      ]
     },
     "execution_count": 9,
     "metadata": {},
     "output_type": "execute_result"
    }
   ],
   "source": [
    "# Split based on age\n",
    "from datetime import datetime, timedelta\n",
    "from more_itertools import partition\n",
    "\n",
    "dates = [\n",
    "    datetime(2015, 1, 15),\n",
    "    datetime(2020, 1, 16),\n",
    "    datetime(2020, 1, 17),\n",
    "    datetime(2019, 2, 1),\n",
    "    datetime(2020, 2, 2),\n",
    "    datetime(2018, 2, 4)\n",
    "]\n",
    "\n",
    "is_old = lambda x: datetime.now() - x < timedelta(days=30)\n",
    "old, recent = partition(is_old, dates)\n",
    "list(old)\n",
    "#  [datetime.datetime(2015, 1, 15, 0, 0), datetime.datetime(2019, 2, 1, 0, 0), datetime.datetime(2018, 2, 4, 0, 0)]\n",
    "list(recent)\n",
    "#  [datetime.datetime(2020, 1, 16, 0, 0), datetime.datetime(2020, 1, 17, 0, 0), datetime.datetime(2020, 2, 2, 0, 0)]"
   ]
  },
  {
   "cell_type": "code",
   "execution_count": 8,
   "metadata": {},
   "outputs": [
    {
     "data": {
      "text/plain": [
       "['foo.jpg', 'baz.gif']"
      ]
     },
     "execution_count": 8,
     "metadata": {},
     "output_type": "execute_result"
    }
   ],
   "source": [
    "# Split based on file extension\n",
    "files = [\n",
    "    \"foo.jpg\",\n",
    "    \"bar.exe\",\n",
    "    \"baz.gif\",\n",
    "    \"text.txt\",\n",
    "    \"data.bin\",\n",
    "]\n",
    "\n",
    "ALLOWED_EXTENSIONS = ('jpg','jpeg','gif','bmp','png')\n",
    "is_allowed = lambda x: x.split(\".\")[1] in ALLOWED_EXTENSIONS\n",
    "\n",
    "allowed, forbidden = partition(is_allowed, files)\n",
    "list(allowed)\n",
    "#  ['bar.exe', 'text.txt', 'data.bin']\n",
    "list(forbidden)\n",
    "#  ['foo.jpg', 'baz.gif']"
   ]
  },
  {
   "cell_type": "markdown",
   "metadata": {},
   "source": [
    "In the first example above, we are splitting list of dates into recent ones and old ones, using simple lambda function. For the second example we are partitioning files based on their extension, again using lambda function which splits file name into name and extension and checks whether the extension is in list of allowed ones.\n",
    "\n",
    "## consecutive_groups\n",
    "\n",
    "If you need to find runs of consecutive numbers, dates, letters, booleans or any other orderable objects, then you might find consecutive_groups handy:"
   ]
  },
  {
   "cell_type": "code",
   "execution_count": 11,
   "metadata": {},
   "outputs": [
    {
     "data": {
      "text/plain": [
       "[[datetime.datetime(2020, 1, 15, 0, 0),\n",
       "  datetime.datetime(2020, 1, 16, 0, 0),\n",
       "  datetime.datetime(2020, 1, 17, 0, 0)],\n",
       " [datetime.datetime(2020, 2, 1, 0, 0), datetime.datetime(2020, 2, 2, 0, 0)],\n",
       " [datetime.datetime(2020, 2, 4, 0, 0)]]"
      ]
     },
     "execution_count": 11,
     "metadata": {},
     "output_type": "execute_result"
    }
   ],
   "source": [
    "# Consecutive Groups of dates\n",
    "import datetime\n",
    "import more_itertools\n",
    "\n",
    "dates = [\n",
    "    datetime.datetime(2020, 1, 15),\n",
    "    datetime.datetime(2020, 1, 16),\n",
    "    datetime.datetime(2020, 1, 17),\n",
    "    datetime.datetime(2020, 2, 1),\n",
    "    datetime.datetime(2020, 2, 2),\n",
    "    datetime.datetime(2020, 2, 4)\n",
    "]\n",
    "\n",
    "ordinal_dates = []\n",
    "for d in dates:\n",
    "    ordinal_dates.append(d.toordinal())\n",
    "\n",
    "groups = [list(map(datetime.datetime.fromordinal, group)) for group in more_itertools.consecutive_groups(ordinal_dates)]\n",
    "groups"
   ]
  },
  {
   "cell_type": "markdown",
   "metadata": {},
   "source": [
    "In this example, we have list of dates, where some of them are consecutive. To be able to pass these dates to consecutive_groups function, we first have to convert them to ordinal numbers. Then using list comprehension we iterate over groups of consecutive ordinal dates created by consecutive_groups and convert them back to datetime.datetime using map and fromordinal functions.\n",
    "\n",
    "## side_effect\n",
    "\n",
    "Let's say you need to cause side-effect when iterating over list of items. This side-effect could be e.g. writing logs, writing to file or like in example below counting number of events that occurred:"
   ]
  },
  {
   "cell_type": "code",
   "execution_count": 12,
   "metadata": {},
   "outputs": [
    {
     "ename": "SyntaxError",
     "evalue": "no binding for nonlocal 'num_events' found (<ipython-input-12-05bf9d8feca5>, line 5)",
     "output_type": "error",
     "traceback": [
      "\u001b[1;36m  File \u001b[1;32m\"<ipython-input-12-05bf9d8feca5>\"\u001b[1;36m, line \u001b[1;32m5\u001b[0m\n\u001b[1;33m    nonlocal num_events\u001b[0m\n\u001b[1;37m    ^\u001b[0m\n\u001b[1;31mSyntaxError\u001b[0m\u001b[1;31m:\u001b[0m no binding for nonlocal 'num_events' found\n"
     ]
    }
   ],
   "source": [
    "import more_itertools\n",
    "num_events = 0\n",
    "\n",
    "def _increment_num_events(_):\n",
    "    nonlocal num_events\n",
    "    num_events += 1\n",
    "\n",
    "# Iterator that will be consumed\n",
    "event_iterator = more_itertools.side_effect(_increment_num_events, events)\n",
    "\n",
    "more_itertools.consume(event_iterator)\n",
    "\n",
    "print(num_events)"
   ]
  },
  {
   "cell_type": "markdown",
   "metadata": {},
   "source": [
    "We declare simple function that will increment counter every time it's invoked. This function is then passed to side_effect along with non-specific iterable called events. Later when the event iterator is consumed, it will call _increment_num_events for each item, giving us final events count.\n",
    "\n",
    "## collapse\n",
    "\n",
    "This is a more powerful version of another more_itertools function called flatten. collapse allows you to flatten multiple levels of nesting. It also allows you to specify base type, so that you can stop flattening with one layer of lists/tuples remaining. One use-case for this function would be flattenning of Pandas DataFrame. Here are little more general purpose examples:"
   ]
  },
  {
   "cell_type": "code",
   "execution_count": 13,
   "metadata": {},
   "outputs": [
    {
     "data": {
      "text/plain": [
       "[40, 25, 10, 3, 17, 32, 30, 38, 78, 50, 93]"
      ]
     },
     "execution_count": 13,
     "metadata": {},
     "output_type": "execute_result"
    }
   ],
   "source": [
    "import more_itertools\n",
    "import os\n",
    "\n",
    "# Get flat list of all files and directories\n",
    "list(more_itertools.collapse(list(os.walk(\"/home/martin/Downloads\"))))\n",
    "\n",
    "# Get all nodes of tree into flat list\n",
    "tree = [40, [25, [10, 3, 17], [32, 30, 38]], [78, 50, 93]]  # [Root, SUB_TREE_1, SUB_TREE_2, ..., SUB_TREE_n]\n",
    "list(more_itertools.collapse(tree))"
   ]
  },
  {
   "cell_type": "markdown",
   "metadata": {},
   "source": [
    "First one generates list of files and directory paths by collapsing iterables returned by os.walk. In the second one we take tree data structure in a form of nested lists and collapse it to get flat list of all nodes of said tree.\n",
    "\n",
    "## split_at\n",
    "\n",
    "Back to splitting data. split_at function splits iterable into lists based on predicate. This works like basic split for strings, but here we have iterable instead of string and predicate function instead of delimiter:"
   ]
  },
  {
   "cell_type": "code",
   "execution_count": 14,
   "metadata": {},
   "outputs": [
    {
     "data": {
      "text/plain": [
       "[['erhgedrgh', 'erhgedrghed', 'esdrhesdresr', 'ktguygkyuk'],\n",
       " ['srdthsrdt', 'waefawef', 'ryjrtyfj'],\n",
       " ['edthedt', 'awefawe']]"
      ]
     },
     "execution_count": 14,
     "metadata": {},
     "output_type": "execute_result"
    }
   ],
   "source": [
    "import more_itertools\n",
    "\n",
    "lines = [\n",
    "    \"erhgedrgh\",\n",
    "    \"erhgedrghed\",\n",
    "    \"esdrhesdresr\",\n",
    "    \"ktguygkyuk\",\n",
    "    \"-------------\",\n",
    "    \"srdthsrdt\",\n",
    "    \"waefawef\",\n",
    "    \"ryjrtyfj\",\n",
    "    \"-------------\",\n",
    "    \"edthedt\",\n",
    "    \"awefawe\",\n",
    "]\n",
    "\n",
    "list(more_itertools.split_at(lines, lambda x: '-------------' in x))\n",
    "#  [['erhgedrgh', 'erhgedrghed', 'esdrhesdresr', 'ktguygkyuk'], ['srdthsrdt', 'waefawef', 'ryjrtyfj'], ['edthedt', 'awefawe']]"
   ]
  },
  {
   "cell_type": "markdown",
   "metadata": {},
   "source": [
    "Above, we simulate text file using list of lines. This \"text file\" contains lines with -------------, which is used as delimiter. So, that's what we use as our predicate for splitting these lines into separate lists.\n",
    "\n",
    "## bucket\n",
    "\n",
    "If you need to split your iterable into multiple buckets based on some condition, then bucket is what you are looking for. It creates child iterables by splitting input iterable using key function:"
   ]
  },
  {
   "cell_type": "code",
   "execution_count": 15,
   "metadata": {},
   "outputs": [
    {
     "data": {
      "text/plain": [
       "[<__main__.Circle at 0x1f0edc7cf70>,\n",
       " <__main__.Circle at 0x1f0edc7c6d0>,\n",
       " <__main__.Circle at 0x1f0edc7c940>]"
      ]
     },
     "execution_count": 15,
     "metadata": {},
     "output_type": "execute_result"
    }
   ],
   "source": [
    "# Split based on Object Type\n",
    "import more_itertools\n",
    "\n",
    "class Cube:\n",
    "    pass\n",
    "\n",
    "class Circle:\n",
    "    pass\n",
    "\n",
    "class Triangle:\n",
    "    pass\n",
    "\n",
    "shapes = [Circle(), Cube(), Circle(), Circle(), Cube(), Triangle(), Triangle()]\n",
    "s = more_itertools.bucket(shapes, key=lambda x: type(x))\n",
    "# s -> <more_itertools.more.bucket object at 0x7fa65323f210>\n",
    "list(s[Cube])\n",
    "#  [<__main__.Cube object at 0x7f394a0633c8>, <__main__.Cube object at 0x7f394a063278>]\n",
    "list(s[Circle])\n",
    "# [<__main__.Circle object at 0x7f394a063160>, <__main__.Circle object at 0x7f394a063198>, <__main__.Circle object at 0x7f394a063320>]"
   ]
  },
  {
   "cell_type": "markdown",
   "metadata": {},
   "source": [
    "Here we show how to bucket iterable based on items type. We first declare a few types of shapes and create a list of them. When we call bucket on this list with above key function, we create bucket object. This object supports lookup like built-in Python dict. Also, as you can see, each item in the whole bucket object is a generator, therefore we need to call list on it to actually get the values out of it.\n",
    "\n",
    "## map_reduce\n",
    "Probably the most interesting function in this library for all the data science people out there - the map_reduce. I'm not going to go into detail on how MapReduce works as that is not purpose of this article and there's lots of articles about that already. What I'm gonna show you though, is how to use it:"
   ]
  },
  {
   "cell_type": "code",
   "execution_count": 16,
   "metadata": {},
   "outputs": [],
   "source": [
    "from more_itertools import map_reduce\n",
    "data = 'This sentence has words of various lengths in it, both short ones and long ones'.split()\n",
    "\n",
    "keyfunc = lambda x: len(x)\n",
    "result = map_reduce(data, keyfunc)\n",
    "# defaultdict(None, {\n",
    "#   4: ['This', 'both', 'ones', 'long', 'ones'],\n",
    "#   8: ['sentence'],\n",
    "#   3: ['has', 'it,', 'and'],\n",
    "#   5: ['words', 'short'],\n",
    "#   2: ['of', 'in'],\n",
    "#   7: ['various', 'lengths']})\n",
    "\n",
    "valuefunc = lambda x: 1\n",
    "result = map_reduce(data, keyfunc, valuefunc)\n",
    "# defaultdict(None, {\n",
    "#   4: [1, 1, 1, 1, 1],\n",
    "#   8: [1],\n",
    "#   3: [1, 1, 1],\n",
    "#   5: [1, 1],\n",
    "#   2: [1, 1],\n",
    "#   7: [1, 1]})\n",
    "\n",
    "reducefunc = sum\n",
    "result = map_reduce(data, keyfunc, valuefunc, reducefunc)\n",
    "# defaultdict(None, {\n",
    "#   4: 5,\n",
    "#   8: 1,\n",
    "#   3: 3,\n",
    "#   5: 2,\n",
    "#   2: 2,\n",
    "#   7: 2})"
   ]
  },
  {
   "cell_type": "markdown",
   "metadata": {},
   "source": [
    "This MapReduce implementation allows us to specify 3 functions: key function (for categorizing), value function (for transforming) and finally reduce function (for reducing). Some of these function can be omitted to produce intermediate steps in MapReduce process, as shown above.\n",
    "\n",
    "## sort_together\n",
    "If you work with spreadsheets of data, chances are, that you need to sort it by some column. This is simple task for sort_together. It allows us to specify by which column(s) to sort the data:"
   ]
  },
  {
   "cell_type": "code",
   "execution_count": 17,
   "metadata": {},
   "outputs": [
    {
     "data": {
      "text/plain": [
       "[('Ben', 'John', 'Mary', 'Andy'),\n",
       " ('1985-04-01', '1994-02-06', '1998-03-14', '2000-06-25'),\n",
       " ('2019-03-07', '2020-01-06', '2018-08-15', '2020-01-08')]"
      ]
     },
     "execution_count": 17,
     "metadata": {},
     "output_type": "execute_result"
    }
   ],
   "source": [
    "# Table\n",
    "\"\"\"\n",
    "      Name     |    Address    | Date of Birth |   Updated At\n",
    "----------------------------------------------------------------\n",
    "John           |               |  1994-02-06   |   2020-01-06\n",
    "Ben            |               |  1985-04-01   |   2019-03-07\n",
    "Andy           |               |  2000-06-25   |   2020-01-08\n",
    "Mary           |               |  1998-03-14   |   2018-08-15\n",
    "\"\"\"\n",
    "\n",
    "from more_itertools import sort_together\n",
    "cols = [\n",
    "    (\"John\", \"Ben\", \"Andy\", \"Mary\"),\n",
    "    (\"1994-02-06\", \"1985-04-01\", \"2000-06-25\", \"1998-03-14\"),\n",
    "    (\"2020-01-06\", \"2019-03-07\", \"2020-01-08\", \"2018-08-15\")\n",
    "]\n",
    "\n",
    "sort_together(cols, key_list=(1, 2))\n",
    "#  [('Ben', 'John', 'Mary', 'Andy'), ('1985-04-01', '1994-02-06', '1998-03-14', '2000-06-25'), ('2019-03-07', '2020-01-06', '2018-08-15', '2020-01-08')]"
   ]
  },
  {
   "cell_type": "markdown",
   "metadata": {},
   "source": [
    "Input to the function is list of iterables (columns) and key_list which is tells sort_together which of the iterables to use for sorting and with what priority. In case of the above example with first sort the \"table\" by Date of Birth and then by Updated At column.\n",
    "\n",
    "## seekable\n",
    "We all love iterators, but you should always be careful with them in Python as one of their features is that they consume the supplied iterable. They don't have to though, thanks to seekable:"
   ]
  },
  {
   "cell_type": "code",
   "execution_count": 18,
   "metadata": {},
   "outputs": [
    {
     "ename": "StopIteration",
     "evalue": "",
     "output_type": "error",
     "traceback": [
      "\u001b[1;31m---------------------------------------------------------------------------\u001b[0m",
      "\u001b[1;31mStopIteration\u001b[0m                             Traceback (most recent call last)",
      "\u001b[1;32m<ipython-input-18-aa3e3c0626a2>\u001b[0m in \u001b[0;36m<module>\u001b[1;34m\u001b[0m\n\u001b[0;32m      7\u001b[0m     \u001b[1;33m...\u001b[0m\u001b[1;33m\u001b[0m\u001b[1;33m\u001b[0m\u001b[0m\n\u001b[0;32m      8\u001b[0m \u001b[1;33m\u001b[0m\u001b[0m\n\u001b[1;32m----> 9\u001b[1;33m \u001b[0mnext\u001b[0m\u001b[1;33m(\u001b[0m\u001b[0mit\u001b[0m\u001b[1;33m)\u001b[0m\u001b[1;33m\u001b[0m\u001b[1;33m\u001b[0m\u001b[0m\n\u001b[0m\u001b[0;32m     10\u001b[0m \u001b[1;31m# StopIteration\u001b[0m\u001b[1;33m\u001b[0m\u001b[1;33m\u001b[0m\u001b[1;33m\u001b[0m\u001b[0m\n\u001b[0;32m     11\u001b[0m \u001b[0mit\u001b[0m\u001b[1;33m.\u001b[0m\u001b[0mseek\u001b[0m\u001b[1;33m(\u001b[0m\u001b[1;36m3\u001b[0m\u001b[1;33m)\u001b[0m\u001b[1;33m\u001b[0m\u001b[1;33m\u001b[0m\u001b[0m\n",
      "\u001b[1;32mc:\\python38\\lib\\site-packages\\more_itertools\\more.py\u001b[0m in \u001b[0;36m__next__\u001b[1;34m(self)\u001b[0m\n\u001b[0;32m   2315\u001b[0m                 \u001b[1;32mreturn\u001b[0m \u001b[0mitem\u001b[0m\u001b[1;33m\u001b[0m\u001b[1;33m\u001b[0m\u001b[0m\n\u001b[0;32m   2316\u001b[0m \u001b[1;33m\u001b[0m\u001b[0m\n\u001b[1;32m-> 2317\u001b[1;33m         \u001b[0mitem\u001b[0m \u001b[1;33m=\u001b[0m \u001b[0mnext\u001b[0m\u001b[1;33m(\u001b[0m\u001b[0mself\u001b[0m\u001b[1;33m.\u001b[0m\u001b[0m_source\u001b[0m\u001b[1;33m)\u001b[0m\u001b[1;33m\u001b[0m\u001b[1;33m\u001b[0m\u001b[0m\n\u001b[0m\u001b[0;32m   2318\u001b[0m         \u001b[0mself\u001b[0m\u001b[1;33m.\u001b[0m\u001b[0m_cache\u001b[0m\u001b[1;33m.\u001b[0m\u001b[0mappend\u001b[0m\u001b[1;33m(\u001b[0m\u001b[0mitem\u001b[0m\u001b[1;33m)\u001b[0m\u001b[1;33m\u001b[0m\u001b[1;33m\u001b[0m\u001b[0m\n\u001b[0;32m   2319\u001b[0m         \u001b[1;32mreturn\u001b[0m \u001b[0mitem\u001b[0m\u001b[1;33m\u001b[0m\u001b[1;33m\u001b[0m\u001b[0m\n",
      "\u001b[1;31mStopIteration\u001b[0m: "
     ]
    }
   ],
   "source": [
    "from more_itertools import seekable\n",
    "\n",
    "data = \"This is example sentence for seeking back and forth\".split()\n",
    "\n",
    "it = seekable(data)\n",
    "for word in it:\n",
    "    ...\n",
    "\n",
    "next(it)\n",
    "# StopIteration\n",
    "it.seek(3)\n",
    "next(it)\n",
    "# \"sentence\""
   ]
  },
  {
   "cell_type": "markdown",
   "metadata": {},
   "source": [
    "<b>seekable</b> is function that wraps iterable in object that makes it possible to go back and forth through iterator, even after some elements were consumed. In the example you can see that we've got StopIteration exception after going through whole iterator, but we can seek back and keep working with it.\n",
    "\n",
    "## filter_except\n",
    "\n",
    "Let's look at following scenario: You received mixed data, that contains both text and numbers and all of it is in string form. You however, want to work only with numbers (floats/ints):"
   ]
  },
  {
   "cell_type": "code",
   "execution_count": 19,
   "metadata": {},
   "outputs": [
    {
     "data": {
      "text/plain": [
       "[1.5, 6.0, 11.0, 1.23e-07, 25.0]"
      ]
     },
     "execution_count": 19,
     "metadata": {},
     "output_type": "execute_result"
    }
   ],
   "source": [
    "from more_itertools import filter_except\n",
    "\n",
    "data = ['1.5', '6', 'not-important', '11', '1.23E-7', 'remove-me', '25', 'trash']\n",
    "list(map(float, filter_except(float, data, TypeError, ValueError)))\n",
    "#  [1.5, 6.0, 11.0, 1.23e-07, 25.0]"
   ]
  },
  {
   "cell_type": "markdown",
   "metadata": {},
   "source": [
    "filter_except filters items of input iterable, by passing elements of iterable to provided function (float) and checking whether it throws error (TypeError, ValueError) or not, keeping only elements that passed the check.\n",
    "\n",
    "## unique_to_each\n",
    "unique_to_each is one of the more obscure functions in more_itertools library. It takes bunch of iterables and returns elements from each of them, that aren't in the other ones. It's better to look at example:"
   ]
  },
  {
   "cell_type": "code",
   "execution_count": 20,
   "metadata": {},
   "outputs": [
    {
     "data": {
      "text/plain": [
       "[[], ['C'], [], [], ['D']]"
      ]
     },
     "execution_count": 20,
     "metadata": {},
     "output_type": "execute_result"
    }
   ],
   "source": [
    "from more_itertools import unique_to_each\n",
    "\n",
    "# Graph (adjacency list)\n",
    "graph = {'A': {'B', 'E'}, 'B': {'A', 'C'}, 'C': {'B'}, 'D': {'E'}, 'E': {'A', 'D'}}\n",
    "\n",
    "unique_to_each({'B', 'E'}, {'A', 'C'}, {'B'}, {'E'}, {'A', 'D'})\n",
    "# [[], ['C'], [], [], ['D']]\n",
    "# If we discard B node, then C gets isolated and if we discard E node, then D gets isolated"
   ]
  },
  {
   "cell_type": "markdown",
   "metadata": {},
   "source": [
    "<img src=\"https://res.cloudinary.com/martinheinz/image/upload/v1581451343/blog_posts/graph_martinheinz_dmc42g.png\" width = 250>"
   ]
  },
  {
   "cell_type": "markdown",
   "metadata": {},
   "source": [
    "Here, we define graph data structure using adjacency list (actually dict). We then pass neighbours of each node as a set to unique_to_each. What it outputs is a list of nodes that would get isolated if respective node was to be removed.\n",
    "\n",
    "## numeric_range\n",
    "This one has a lot of use cases, as it's quite common that you would need to iterate over range of some non-integer values:"
   ]
  },
  {
   "cell_type": "code",
   "execution_count": 21,
   "metadata": {},
   "outputs": [
    {
     "data": {
      "text/plain": [
       "[datetime.datetime(2020, 2, 10, 0, 0),\n",
       " datetime.datetime(2020, 2, 12, 0, 0),\n",
       " datetime.datetime(2020, 2, 14, 0, 0)]"
      ]
     },
     "execution_count": 21,
     "metadata": {},
     "output_type": "execute_result"
    }
   ],
   "source": [
    "from more_itertools import numeric_range\n",
    "import datetime\n",
    "from decimal import Decimal\n",
    "\n",
    "list(numeric_range(Decimal('1.7'), Decimal('3.5'), Decimal('0.3')))\n",
    "#  [Decimal('1.7'), Decimal('2.0'), Decimal('2.3'), Decimal('2.6'), Decimal('2.9'), Decimal('3.2')]\n",
    "\n",
    "start = datetime.datetime(2020, 2, 10)\n",
    "stop = datetime.datetime(2020, 2, 15)\n",
    "step = datetime.timedelta(days=2)\n",
    "list(numeric_range(start, stop, step))\n",
    "#  [datetime.datetime(2020, 2, 10, 0, 0), datetime.datetime(2020, 2, 12, 0, 0), datetime.datetime(2020, 2, 14, 0, 0)]"
   ]
  },
  {
   "cell_type": "markdown",
   "metadata": {},
   "source": [
    "What is nice about numeric_range is that it behaves the same way as basic range. You can specify start ,stop and step arguments as in examples above, where we first use decimals between 1.7 and 3.5 with step of 0.3 and then dates between 2020/2/10 and 2020/2/15 with step of 2 days.\n",
    "\n",
    "## make_decorator\n",
    "Last but not least, make_decorator enables us to use other itertools as decorators and therefore modify outputs of other functions, producing iterators:"
   ]
  },
  {
   "cell_type": "code",
   "execution_count": 22,
   "metadata": {},
   "outputs": [
    {
     "data": {
      "text/plain": [
       "[1.5, 6.0, 11.0, 1.23e-07, 25.0]"
      ]
     },
     "execution_count": 22,
     "metadata": {},
     "output_type": "execute_result"
    }
   ],
   "source": [
    "from more_itertools import make_decorator\n",
    "from more_itertools import map_except\n",
    "\n",
    "mapper_except = make_decorator(map_except, result_index=1)\n",
    "\n",
    "@mapper_except(float, ValueError, TypeError)\n",
    "def read_file(f):\n",
    "    ... # Read mix of text and numbers from file\n",
    "    return ['1.5', '6', 'not-important', '11', '1.23E-7', 'remove-me', '25', 'trash']\n",
    "\n",
    "list(read_file(\"file.txt\"))\n",
    "#  [1.5, 6.0, 11.0, 1.23e-07, 25.0]"
   ]
  },
  {
   "cell_type": "markdown",
   "metadata": {},
   "source": [
    "This example takes map_except function and creates decorator out of it. This decorator will consume result of decorated function as its second argument (result_index=1). In our case, the decorated function is read_file, which simulates reading data of some file and outputs list of strings that might or might not be floats. The output however, is first passed to decorator, which maps and filters all the undesirable items, leaving us with only floats.\n",
    "\n",
    "### Conclusion\n",
    "itertools and more_itertools can make your life a whole lot easier if you are processing lots of data frequently. Using these libraries and functions however, requires some practice to be efficient with. So, if you think that you can make use of some of the things shown in this article, then go ahead and checkout itertools recipes or just force yourself to use these as much as possible to get comfortable with it."
   ]
  },
  {
   "cell_type": "code",
   "execution_count": null,
   "metadata": {},
   "outputs": [],
   "source": []
  }
 ],
 "metadata": {
  "kernelspec": {
   "display_name": "Python 3",
   "language": "python",
   "name": "python3"
  },
  "language_info": {
   "codemirror_mode": {
    "name": "ipython",
    "version": 3
   },
   "file_extension": ".py",
   "mimetype": "text/x-python",
   "name": "python",
   "nbconvert_exporter": "python",
   "pygments_lexer": "ipython3",
   "version": "3.8.0"
  }
 },
 "nbformat": 4,
 "nbformat_minor": 4
}
