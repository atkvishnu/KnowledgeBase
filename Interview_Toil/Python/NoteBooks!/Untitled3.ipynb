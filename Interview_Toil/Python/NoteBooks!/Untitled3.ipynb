{
 "cells": [
  {
   "cell_type": "code",
   "execution_count": null,
   "metadata": {},
   "outputs": [],
   "source": [
    "arr = [1]\n",
    "elem = int(input(\"Enter the number of elements: \"))\n",
    "for i in range(1, elem-1):\n",
    "    arr.append(int(input(\"Enter the next number: \")))\n",
    "print(arr)\n",
    "\n",
    "# for n in range(elem):\n",
    "#     if arr[n]-arr[n-1]!=1:\n",
    "#         print(True)\n",
    "#     else:\n",
    "#         print(False)"
   ]
  },
  {
   "cell_type": "code",
   "execution_count": null,
   "metadata": {},
   "outputs": [],
   "source": [
    "len(arr)"
   ]
  },
  {
   "cell_type": "code",
   "execution_count": null,
   "metadata": {},
   "outputs": [],
   "source": [
    "arr[elem]"
   ]
  },
  {
   "cell_type": "code",
   "execution_count": null,
   "metadata": {},
   "outputs": [],
   "source": [
    "def getMissingNo(A): \n",
    "    n = len(A) \n",
    "    N = (n+2)*(n + 1)/2\n",
    "    S = sum(A) \n",
    "    return N - S \n",
    "  \n",
    "S = [1, 2, 4, 5] \n",
    "miss = getMissingNo(S) \n",
    "print(int(miss))\n"
   ]
  },
  {
   "cell_type": "code",
   "execution_count": null,
   "metadata": {},
   "outputs": [],
   "source": [
    "fruit = 'banana'\n",
    "index = 0\n",
    "while index < len(fruit):\n",
    "    letter = fruit[index]\n",
    "    print(letter)\n",
    "    index = index + 1"
   ]
  },
  {
   "cell_type": "code",
   "execution_count": null,
   "metadata": {},
   "outputs": [],
   "source": [
    "fruit = 'banana'\n",
    "index = len(fruit) - 1\n",
    "while index >= 0:\n",
    "    letter = fruit[index]\n",
    "    print(letter)\n",
    "    index = index - 1"
   ]
  },
  {
   "cell_type": "code",
   "execution_count": null,
   "metadata": {},
   "outputs": [],
   "source": [
    "fruit[:]"
   ]
  },
  {
   "cell_type": "code",
   "execution_count": null,
   "metadata": {},
   "outputs": [],
   "source": [
    "fruit[3:]"
   ]
  },
  {
   "cell_type": "code",
   "execution_count": null,
   "metadata": {},
   "outputs": [],
   "source": [
    "def count(word):\n",
    "    counter = 0\n",
    "    for letter in word:\n",
    "        if letter == 'a':\n",
    "            counter = counter + 1\n",
    "    print(counter)"
   ]
  },
  {
   "cell_type": "code",
   "execution_count": null,
   "metadata": {},
   "outputs": [],
   "source": [
    "count('vishnu')"
   ]
  },
  {
   "cell_type": "code",
   "execution_count": null,
   "metadata": {},
   "outputs": [],
   "source": [
    "'ann' in 'banana'"
   ]
  },
  {
   "cell_type": "code",
   "execution_count": null,
   "metadata": {},
   "outputs": [],
   "source": [
    "word = 'pineapple'\n",
    "\n",
    "if word == 'bananas':\n",
    "    print('All right, bananas!')\n",
    "elif word > 'bananas':\n",
    "    print('Your word, ' + word + ' comes before bananas.')\n",
    "elif word < 'bananas':\n",
    "    print('Your word, ' + word + ' comes after bananas.')\n",
    "else:\n",
    "    print('Failed test!')"
   ]
  },
  {
   "cell_type": "code",
   "execution_count": null,
   "metadata": {},
   "outputs": [],
   "source": [
    "'apple' < 'bananas'"
   ]
  },
  {
   "cell_type": "code",
   "execution_count": null,
   "metadata": {},
   "outputs": [],
   "source": [
    "def missingno(A): \n",
    "    n = len(A)+1\n",
    "    a = test[0]\n",
    "    d=0\n",
    "    d = test[1]-test[0]\n",
    "#     print(a,d,n)\n",
    "    x = n*((2*a)+((n-1)*d))/2\n",
    "    x = int(x)\n",
    "    y = sum(A) \n",
    "    return x - y \n",
    "  \n",
    "test = [24,26,30,32] \n",
    "miss = missingno(test) \n",
    "print(miss)"
   ]
  },
  {
   "cell_type": "code",
   "execution_count": null,
   "metadata": {},
   "outputs": [],
   "source": [
    "fact(5)"
   ]
  },
  {
   "cell_type": "code",
   "execution_count": null,
   "metadata": {},
   "outputs": [],
   "source": [
    "n = int(input(\"Enter the number: \"))\n",
    "fact = 1\n",
    "\n",
    "for i in range(1,n+1): \n",
    "    fact = fact * i \n",
    "    \n",
    "    \n",
    "print(\"The factorial of is: \", fact)"
   ]
  },
  {
   "cell_type": "code",
   "execution_count": null,
   "metadata": {},
   "outputs": [],
   "source": [
    "import math\n",
    "\n",
    "n = int(input(\"Enter the number: \"))\n",
    "print(\"The factorial of the number is: \", math.factorial(n))"
   ]
  },
  {
   "cell_type": "code",
   "execution_count": null,
   "metadata": {},
   "outputs": [],
   "source": [
    "num = int(input(\"Enter the number to be tested for the amstrong number: \"))\n",
    "\n",
    "order = len(str(num))\n",
    "\n",
    "sum = 0\n",
    "\n",
    "temp = num\n",
    "\n",
    "while temp > 0:\n",
    "    digit = num % 10\n",
    "    sum += digit ** order\n",
    "    \n",
    "if num == sum:\n",
    "    print(num, \"is a amstrong number!\")\n",
    "else:\n",
    "    print(num, \"is not a anstrong number!\")"
   ]
  },
  {
   "cell_type": "code",
   "execution_count": null,
   "metadata": {},
   "outputs": [],
   "source": [
    "num = int(input(\"Enter the number to be tested for the amstrong number: \"))\n",
    "\n",
    "order = len(str(num))\n",
    "\n",
    "sum = 0\n",
    "\n",
    "temp = num\n",
    "\n",
    "while temp > 0:\n",
    "    digit = num % 10\n",
    "    sum += digit ** order\n",
    "    \n",
    "if num == sum:\n",
    "    print(num, \"is a amstrong number!\")\n",
    "else:\n",
    "    print(num, \"is not a anstrong number!\")"
   ]
  },
  {
   "cell_type": "code",
   "execution_count": null,
   "metadata": {},
   "outputs": [],
   "source": []
  },
  {
   "cell_type": "code",
   "execution_count": null,
   "metadata": {},
   "outputs": [],
   "source": []
  },
  {
   "cell_type": "code",
   "execution_count": null,
   "metadata": {},
   "outputs": [],
   "source": []
  },
  {
   "cell_type": "code",
   "execution_count": null,
   "metadata": {},
   "outputs": [],
   "source": []
  }
 ],
 "metadata": {
  "kernelspec": {
   "display_name": "Python 3",
   "language": "python",
   "name": "python3"
  },
  "language_info": {
   "codemirror_mode": {
    "name": "ipython",
    "version": 3
   },
   "file_extension": ".py",
   "mimetype": "text/x-python",
   "name": "python",
   "nbconvert_exporter": "python",
   "pygments_lexer": "ipython3",
   "version": "3.7.4"
  }
 },
 "nbformat": 4,
 "nbformat_minor": 2
}
