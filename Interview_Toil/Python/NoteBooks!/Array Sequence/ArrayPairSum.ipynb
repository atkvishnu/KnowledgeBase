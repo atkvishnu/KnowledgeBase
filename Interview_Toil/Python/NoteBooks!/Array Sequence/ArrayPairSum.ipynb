{
 "cells": [
  {
   "cell_type": "markdown",
   "metadata": {},
   "source": [
    "## O(n)"
   ]
  },
  {
   "cell_type": "code",
   "execution_count": 24,
   "metadata": {},
   "outputs": [],
   "source": [
    "def pair_sum(arr,k):\n",
    "    counter = 0\n",
    "    lookup = set()\n",
    "    for num in arr:\n",
    "        if k-num in lookup:\n",
    "            counter+=1\n",
    "        else:\n",
    "            lookup.add(num)\n",
    "    return counter\n",
    "    pass"
   ]
  },
  {
   "cell_type": "markdown",
   "metadata": {},
   "source": [
    "## Time Complexity : O(n2) & Auxiliary Space : O(1)"
   ]
  },
  {
   "cell_type": "code",
   "execution_count": 14,
   "metadata": {},
   "outputs": [],
   "source": [
    "def pair_sum1(arr, k):\n",
    "      \n",
    "    count = 0 # Initialize result\n",
    "    n = len(arr)\n",
    "    \n",
    "    # Consider all possible pairs \n",
    "    # and check their sums \n",
    "    for i in range(0, n): \n",
    "        for j in range(i + 1, n): \n",
    "            if arr[i] + arr[j] == k: \n",
    "                count += 1\n",
    "      \n",
    "    return count "
   ]
  },
  {
   "cell_type": "markdown",
   "metadata": {},
   "source": [
    "## Time Complexity : O(n)"
   ]
  },
  {
   "cell_type": "code",
   "execution_count": 20,
   "metadata": {},
   "outputs": [],
   "source": [
    "import sys \n",
    "  \n",
    "# Returns number of pairs in arr[0..n-1]  \n",
    "# with sum equal to 'sum' \n",
    "def pair_sum2(arr, sum): \n",
    "      \n",
    "    m = [0] * 1000\n",
    "    n = len(arr)\n",
    "      \n",
    "    # Store counts of all elements in map m \n",
    "    for i in range(0, n): \n",
    "        m[arr[i]] \n",
    "        m[arr[i]] += 1\n",
    "  \n",
    "    twice_count = 0\n",
    "  \n",
    "    # Iterate through each element and increment \n",
    "    # the count (Notice that every pair is  \n",
    "    # counted twice) \n",
    "    for i in range(0, n): \n",
    "      \n",
    "        twice_count += m[sum - arr[i]]  \n",
    "  \n",
    "        # if (arr[i], arr[i]) pair satisfies the \n",
    "        # condition, then we need to ensure that \n",
    "        # the count is  decreased by one such  \n",
    "        # that the (arr[i], arr[i]) pair is not \n",
    "        # considered \n",
    "        if (sum - arr[i] == arr[i]): \n",
    "            twice_count -= 1\n",
    "      \n",
    "    # return the half of twice_count \n",
    "    return int(twice_count / 2)"
   ]
  },
  {
   "cell_type": "code",
   "execution_count": 21,
   "metadata": {},
   "outputs": [
    {
     "data": {
      "text/plain": [
       "2"
      ]
     },
     "execution_count": 21,
     "metadata": {},
     "output_type": "execute_result"
    }
   ],
   "source": [
    "pair_sum2([1,3,2,2],4)"
   ]
  },
  {
   "cell_type": "code",
   "execution_count": 22,
   "metadata": {},
   "outputs": [
    {
     "data": {
      "text/plain": [
       "5"
      ]
     },
     "execution_count": 22,
     "metadata": {},
     "output_type": "execute_result"
    }
   ],
   "source": [
    "pair_sum([1,3,2,2,3,1],4)"
   ]
  },
  {
   "cell_type": "code",
   "execution_count": 25,
   "metadata": {},
   "outputs": [
    {
     "name": "stdout",
     "output_type": "stream",
     "text": [
      "ALL TEST CASES PASSED\n"
     ]
    }
   ],
   "source": [
    "from nose.tools import assert_equal\n",
    "\n",
    "class TestPair(object):\n",
    "    \n",
    "    def test(self,sol):\n",
    "        assert_equal(sol([1,9,2,8,3,7,4,6,5,5,13,14,11,13,-1],10),6)\n",
    "        assert_equal(sol([1,2,3,1],3),1)\n",
    "        assert_equal(sol([1,3,2,2],4),2)\n",
    "        print('ALL TEST CASES PASSED')\n",
    "        \n",
    "#Run tests\n",
    "t = TestPair()\n",
    "t.test(pair_sum)"
   ]
  },
  {
   "cell_type": "code",
   "execution_count": null,
   "metadata": {},
   "outputs": [],
   "source": []
  }
 ],
 "metadata": {
  "kernelspec": {
   "display_name": "Python 3",
   "language": "python",
   "name": "python3"
  },
  "language_info": {
   "codemirror_mode": {
    "name": "ipython",
    "version": 3
   },
   "file_extension": ".py",
   "mimetype": "text/x-python",
   "name": "python",
   "nbconvert_exporter": "python",
   "pygments_lexer": "ipython3",
   "version": "3.8.0"
  }
 },
 "nbformat": 4,
 "nbformat_minor": 4
}
