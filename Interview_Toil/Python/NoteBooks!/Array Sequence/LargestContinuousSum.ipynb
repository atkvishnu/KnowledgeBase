{
 "cells": [
  {
   "cell_type": "markdown",
   "metadata": {},
   "source": [
    "### Kadane’s Algorithm:\n",
    "\n",
    "### Initialize:\n",
    "    max_so_far = 0\n",
    "    max_ending_here = 0\n",
    "\n",
    "    Loop for each element of the array\n",
    "      (a) max_ending_here = max_ending_here + a[i]\n",
    "      (b) if(max_ending_here < 0)\n",
    "                max_ending_here = 0\n",
    "      (c) if(max_so_far < max_ending_here)\n",
    "                max_so_far = max_ending_here\n",
    "    return max_so_far\n",
    "\n",
    "### Explanation:\n",
    "\n",
    "Simple idea of the Kadane’s algorithm is to look for all positive contiguous segments of the array (max_ending_here is used for this). And keep track of maximum sum contiguous segment among all positive segments (max_so_far is used for this). Each time we get a positive sum compare it with max_so_far and update max_so_far if it is greater than max_so_far\n",
    "\n",
    "    Lets take the example:\n",
    "    {-2, -3, 4, -1, -2, 1, 5, -3}\n",
    "\n",
    "    max_so_far = max_ending_here = 0\n",
    "\n",
    "    for i=0,  a[0] =  -2\n",
    "    max_ending_here = max_ending_here + (-2)\n",
    "    Set max_ending_here = 0 because max_ending_here < 0\n",
    "\n",
    "    for i=1,  a[1] =  -3\n",
    "    max_ending_here = max_ending_here + (-3)\n",
    "    Set max_ending_here = 0 because max_ending_here < 0\n",
    "\n",
    "    for i=2,  a[2] =  4\n",
    "    max_ending_here = max_ending_here + (4)\n",
    "    max_ending_here = 4\n",
    "    max_so_far is updated to 4 because max_ending_here greater \n",
    "    than max_so_far which was 0 till now\n",
    "\n",
    "    for i=3,  a[3] =  -1\n",
    "    max_ending_here = max_ending_here + (-1)\n",
    "    max_ending_here = 3\n",
    "\n",
    "    for i=4,  a[4] =  -2\n",
    "    max_ending_here = max_ending_here + (-2)\n",
    "    max_ending_here = 1\n",
    "\n",
    "    for i=5,  a[5] =  1\n",
    "    max_ending_here = max_ending_here + (1)\n",
    "    max_ending_here = 2\n",
    "\n",
    "    for i=6,  a[6] =  5\n",
    "    max_ending_here = max_ending_here + (5)\n",
    "    max_ending_here = 7\n",
    "    max_so_far is updated to 7 because max_ending_here is \n",
    "    greater than max_so_far\n",
    "\n",
    "    for i=7,  a[7] =  -3\n",
    "    max_ending_here = max_ending_here + (-3)\n",
    "    max_ending_here = 4"
   ]
  },
  {
   "cell_type": "code",
   "execution_count": 3,
   "metadata": {},
   "outputs": [],
   "source": [
    "def large_cont_sum(arr):\n",
    "    size = len(arr)\n",
    "    max_so_far = 0\n",
    "    max_ending_here = 0\n",
    "      \n",
    "    for i in range(0, size): \n",
    "        max_ending_here = max_ending_here + arr[i] \n",
    "        if max_ending_here < 0: \n",
    "            max_ending_here = 0\n",
    "          \n",
    "        # Do not compare for all elements. Compare only    \n",
    "        # when  max_ending_here > 0 \n",
    "        elif (max_so_far < max_ending_here): \n",
    "            max_so_far = max_ending_here \n",
    "              \n",
    "    return max_so_far"
   ]
  },
  {
   "cell_type": "code",
   "execution_count": 6,
   "metadata": {},
   "outputs": [],
   "source": [
    "def large_cont_sum1(arr):\n",
    "    max_so_far =arr[0] \n",
    "    curr_max = arr[0] \n",
    "      \n",
    "    for i in range(1,len(arr)): \n",
    "        curr_max = max(arr[i], curr_max + arr[i]) \n",
    "        max_so_far = max(max_so_far,curr_max) \n",
    "          \n",
    "    return max_so_far "
   ]
  },
  {
   "cell_type": "code",
   "execution_count": 10,
   "metadata": {},
   "outputs": [
    {
     "data": {
      "text/plain": [
       "29"
      ]
     },
     "execution_count": 10,
     "metadata": {},
     "output_type": "execute_result"
    }
   ],
   "source": [
    "large_cont_sum([1,2,-1,3,4,10,10,-10,-1])"
   ]
  },
  {
   "cell_type": "code",
   "execution_count": 9,
   "metadata": {},
   "outputs": [
    {
     "data": {
      "text/plain": [
       "29"
      ]
     },
     "execution_count": 9,
     "metadata": {},
     "output_type": "execute_result"
    }
   ],
   "source": [
    "large_cont_sum1([1,2,-1,3,4,10,10,-10,-1])"
   ]
  },
  {
   "cell_type": "code",
   "execution_count": 8,
   "metadata": {},
   "outputs": [
    {
     "name": "stdout",
     "output_type": "stream",
     "text": [
      "ALL TEST CASES PASSED\n"
     ]
    }
   ],
   "source": [
    "from nose.tools import assert_equal\n",
    "\n",
    "class LargeContTest(object):\n",
    "    def test(self,sol):\n",
    "        assert_equal(sol([1,2,-1,3,4,-1]),9)\n",
    "        assert_equal(sol([1,2,-1,3,4,10,10,-10,-1]),29)\n",
    "        assert_equal(sol([-1,1]),1)\n",
    "        print ('ALL TEST CASES PASSED')\n",
    "        \n",
    "#Run Test\n",
    "t = LargeContTest()\n",
    "t.test(large_cont_sum1)"
   ]
  },
  {
   "cell_type": "code",
   "execution_count": null,
   "metadata": {},
   "outputs": [],
   "source": []
  }
 ],
 "metadata": {
  "kernelspec": {
   "display_name": "Python 3",
   "language": "python",
   "name": "python3"
  },
  "language_info": {
   "codemirror_mode": {
    "name": "ipython",
    "version": 3
   },
   "file_extension": ".py",
   "mimetype": "text/x-python",
   "name": "python",
   "nbconvert_exporter": "python",
   "pygments_lexer": "ipython3",
   "version": "3.8.0"
  }
 },
 "nbformat": 4,
 "nbformat_minor": 4
}
