{
 "cells": [
  {
   "cell_type": "code",
   "execution_count": 11,
   "metadata": {},
   "outputs": [],
   "source": [
    "def finder(arr1,arr2):\n",
    "    arr2 = sorted(arr2)\n",
    "    for i in range(len(arr1)):\n",
    "        for j in range(len(arr2)):\n",
    "            if arr2[j] != arr1[i]:\n",
    "                return arr2, arr2[j]\n",
    "            else:\n",
    "                pass"
   ]
  },
  {
   "cell_type": "code",
   "execution_count": 24,
   "metadata": {},
   "outputs": [],
   "source": [
    "#Time Complexity => O(2n) = O(n)  \n",
    "def finder1(arr1, arr2):\n",
    "    sum_1 = 0\n",
    "    sum_2 = 0\n",
    "    \n",
    "    for i in range(len(arr1)):\n",
    "        sum_1 += arr1[i]\n",
    "        \n",
    "    for j in range(len(arr2)):\n",
    "        sum_2 += arr2[j]\n",
    "    \n",
    "    return sum_1 - sum_2"
   ]
  },
  {
   "cell_type": "markdown",
   "metadata": {},
   "source": [
    "### Method 2: This method uses the technique of XOR to solve the problem.\n",
    "\n",
    "Approach:\n",
    "XOR has certain properties\n",
    "Assume a1 ^ a2 ^ a3 ^ …^ an = a and a1 ^ a2 ^ a3 ^ …^ an-1 = b\n",
    "Then a ^ b = an\n",
    "Using this property, the missing element can be found. Calculate XOR of all the natural number from 1 to n and store it as a. Now calculate XOR of all the elements of the array and store it as b. The missing number will be a ^ b.\n",
    "^ is XOR operator.\n",
    "\n",
    "Algorithm:\n",
    "Create two variables a = 0 and b = 0\n",
    "Run a loop from 1 to n with i as counter.\n",
    "For every index update a as a = a ^ i\n",
    "Now traverse the array from start to end.\n",
    "For every index update b as b = b ^ array[i]\n",
    "Print the missing number as a ^ b.\n",
    "Implementation:"
   ]
  },
  {
   "cell_type": "code",
   "execution_count": 58,
   "metadata": {},
   "outputs": [],
   "source": [
    "# Time Complexity => O(n)\n",
    "def finder2(arr1, arr2):#a,n\n",
    "    x1 = 0\n",
    "    x2 = 0\n",
    "      \n",
    "    for i in range(len(arr1)): #O(n)\n",
    "        x1 = x1 ^ arr1[i] \n",
    "          \n",
    "    for j in range(len(arr2)): #O(n)\n",
    "        x2 = x2 ^ arr2[j] # or x2 ^= arr2[j] \n",
    "      \n",
    "    return x1 ^ x2 "
   ]
  },
  {
   "cell_type": "code",
   "execution_count": 59,
   "metadata": {},
   "outputs": [
    {
     "data": {
      "text/plain": [
       "5"
      ]
     },
     "execution_count": 59,
     "metadata": {},
     "output_type": "execute_result"
    }
   ],
   "source": [
    "arr1 = [1,2,3,4,5,6,7]\n",
    "arr2 = [3,7,2,1,4,6]\n",
    "finder2(arr1,arr2)"
   ]
  },
  {
   "cell_type": "code",
   "execution_count": 54,
   "metadata": {},
   "outputs": [
    {
     "data": {
      "text/plain": [
       "5"
      ]
     },
     "execution_count": 54,
     "metadata": {},
     "output_type": "execute_result"
    }
   ],
   "source": [
    "arr1 = [5,5,7,7]\n",
    "arr2 = [5,7,7]\n",
    "\n",
    "finder2(arr1,arr2)"
   ]
  },
  {
   "cell_type": "code",
   "execution_count": 51,
   "metadata": {},
   "outputs": [
    {
     "name": "stdout",
     "output_type": "stream",
     "text": [
      "ALL TEST CASES PASSED\n"
     ]
    }
   ],
   "source": [
    "\"\"\"\n",
    "RUN THIS CELL TO TEST YOUR SOLUTION\n",
    "\"\"\"\n",
    "from nose.tools import assert_equal\n",
    "\n",
    "class TestFinder(object):\n",
    "    \n",
    "    def test(self,sol):\n",
    "        assert_equal(sol([5,5,7,7],[5,7,7]),5)\n",
    "        assert_equal(sol([1,2,3,4,5,6,7],[3,7,2,1,4,6]),5)\n",
    "        assert_equal(sol([9,8,7,6,5,4,3,2,1],[9,8,7,5,4,3,2,1]),6)\n",
    "        print('ALL TEST CASES PASSED')\n",
    "\n",
    "# Run test\n",
    "t = TestFinder()\n",
    "t.test(finder2)"
   ]
  },
  {
   "cell_type": "code",
   "execution_count": null,
   "metadata": {},
   "outputs": [],
   "source": []
  }
 ],
 "metadata": {
  "kernelspec": {
   "display_name": "Python 3",
   "language": "python",
   "name": "python3"
  },
  "language_info": {
   "codemirror_mode": {
    "name": "ipython",
    "version": 3
   },
   "file_extension": ".py",
   "mimetype": "text/x-python",
   "name": "python",
   "nbconvert_exporter": "python",
   "pygments_lexer": "ipython3",
   "version": "3.8.0"
  }
 },
 "nbformat": 4,
 "nbformat_minor": 4
}
