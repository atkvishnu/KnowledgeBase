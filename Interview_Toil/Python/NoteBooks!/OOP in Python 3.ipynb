{
 "cells": [
  {
   "cell_type": "markdown",
   "metadata": {},
   "source": [
    "### What Is Object-Oriented Programming (OOP)?"
   ]
  },
  {
   "cell_type": "markdown",
   "metadata": {},
   "source": [
    "Object-oriented Programming, or OOP for short, is a programming paradigm which provides a means of structuring programs so that properties and behaviors are bundled into individual objects.\n",
    "\n",
    "For instance, an object could represent a person with a name property, age, address, etc., with behaviors like walking, talking, breathing, and running. Or an email with properties like recipient list, subject, body, etc., and behaviors like adding attachments and sending.\n",
    "\n",
    "Put another way, object-oriented programming is an approach for modeling concrete, real-world things like cars as well as relations between things like companies and employees, students and teachers, etc. OOP models real-world entities as software objects, which have some data associated with them and can perform certain functions.\n",
    "\n",
    "Another common programming paradigm is procedural programming which structures a program like a recipe in that it provides a set of steps, in the form of functions and code blocks, which flow sequentially in order to complete a task.\n",
    "\n",
    "The key takeaway is that objects are at the center of the object-oriented programming paradigm, not only representing the data, as in procedural programming, but in the overall structure of the program as well.\n",
    "\n",
    "    NOTE: Since Python is a multi-paradigm programming language, you can choose the paradigm that best suits the problem at hand, mix different paradigms in one program, and/or switch from one paradigm to another as your program evolves.\n",
    "\n",
    "### Classes in Python\n",
    "\n",
    "Focusing first on the data, each thing or object is an instance of some class.\n",
    "\n",
    "The primitive data structures available in Python, like numbers, strings, and lists are designed to represent simple things like the cost of something, the name of a poem, and your favorite colors, respectively.\n",
    "\n",
    "What if you wanted to represent something much more complicated?\n",
    "\n",
    "For example, let’s say you wanted to track a number of different animals. If you used a list, the first element could be the animal’s name while the second element could represent its age.\n",
    "\n",
    "How would you know which element is supposed to be which? What if you had 100 different animals? Are you certain each animal has both a name and an age, and so forth? What if you wanted to add other properties to these animals? This lacks organization, and it’s the exact need for classes.\n",
    "\n",
    "<b>Classes are used to create new user-defined data structures that contain arbitrary information about something</b>. In the case of an animal, we could create an Animal() class to track properties about the Animal like the name and age.\n",
    "\n",
    "It’s important to note that a class just provides structure—it’s a blueprint for how something should be defined, but it doesn’t actually provide any real content itself. The Animal() class may specify that the name and age are necessary for defining an animal, but it will not actually state what a specific animal’s name or age is.\n",
    "\n",
    "It may help to think of a class as an idea for how something should be defined.\n",
    "\n",
    "### Python Objects (Instances)\n",
    "\n",
    "<b>While the class is the blueprint</b>, <i><b>an instance is a copy of the class with actual values, literally an object belonging to a specific class. It’s not an idea anymore; it’s an actual animal, like a dog named Roger who’s eight years old.</b></i>\n",
    "\n",
    "Put another way, \n",
    "<b>A Class is like a form or questionnaire. It defines the needed information.</b> \n",
    "\n",
    "<b>After you fill out the form, \n",
    "your specific copy is an instance of the class; it contains actual information relevant to you.</b>\n",
    "\n",
    "You can fill out multiple copies to create many different instances, but without the form as a guide, you would be lost, not knowing what information is required. \n",
    "Thus, before you can create individual instances of an object, we must first specify what is needed by defining a class.\n",
    "\n",
    "### How To Define a Class in Python\n",
    "\n",
    "Defining a class is simple in Python:"
   ]
  },
  {
   "cell_type": "code",
   "execution_count": 1,
   "metadata": {},
   "outputs": [],
   "source": [
    "class Dog:\n",
    "    pass\n",
    "    "
   ]
  },
  {
   "cell_type": "markdown",
   "metadata": {},
   "source": [
    "You start with the class keyword to indicate that you are creating a class, then you add the name of the class (using CamelCase notation, starting with a capital letter.)\n",
    "\n",
    "Note: The above code is correct on Python 3. On Python 2.x (“legacy Python”) you’d use a slightly different class definition:\n",
    "\n",
    "## Python 2.x Class Definition:\n",
    "\n",
    "    class Dog(object):\n",
    "        pass\n",
    "\n",
    "The (object) part in parentheses specifies the parent class that you are inheriting from. In Python 3 this is no longer necessary because it is the implicit default.\n",
    "\n",
    "### Instance Attributes\n",
    "\n",
    "<b>All classes create objects, and all objects contain characteristics called <i>attributes</i> </b>(referred to as properties in the opening paragraph).\n",
    "Use the __init__() method to initialize (e.g., specify) an <b>object’s initial attributes</b> by giving them their default value (or state). This method must have at least one argument as well as the self variable, which refers to the object itself (e.g., Dog)."
   ]
  },
  {
   "cell_type": "code",
   "execution_count": 3,
   "metadata": {},
   "outputs": [],
   "source": [
    "class Dog:\n",
    "\n",
    "    def __init__(self, name, age):\n",
    "        self.name = name\n",
    "        self.age = age\n",
    "        "
   ]
  },
  {
   "cell_type": "markdown",
   "metadata": {},
   "source": [
    "In the case of our Dog() class, each dog has a specific name and age, which is obviously important to know for when you start actually creating different dogs. \n",
    "<b>Remember: the class is just for defining the Dog, not actually creating instances of individual dogs with specific names and ages; we’ll get to that shortly.\n",
    "\n",
    "Similarly, the self variable is also an instance of the class.</b>\n",
    "Since instances of a class have varying values we could state Dog.name = name rather than self.name = name. But since not all dogs share the same name, we need to be able to assign different values to different instances. Hence the need for the special self variable, which will help to keep track of individual instances of each class.\n",
    "\n",
    "    NOTE: You will never have to call the __init__() method; it gets called automatically when you create a new ‘Dog’ instance.\n",
    "\n",
    "### Class Attributes\n",
    "\n",
    "<b>While instance attributes are specific to each object,</b> \n",
    "<b>Class attributes are the same for all instances—which in this case is all dogs.</b>"
   ]
  },
  {
   "cell_type": "code",
   "execution_count": 4,
   "metadata": {},
   "outputs": [],
   "source": [
    "class Dog:\n",
    "\n",
    "    # Class Attribute\n",
    "    species = 'mammal'\n",
    "\n",
    "    # Initializer / Instance Attributes\n",
    "    def __init__(self, name, age):\n",
    "        self.name = name\n",
    "        self.age = age\n",
    "        "
   ]
  },
  {
   "cell_type": "markdown",
   "metadata": {},
   "source": [
    "So while each dog has a unique name and age, every dog will be a mammal.\n",
    "\n",
    "Let’s create some dogs…\n",
    "\n",
    "## Instantiating Objects\n",
    "\n",
    "Instantiating is a fancy term for <b>creating a new, unique instance of a class.</b>\n",
    "\n",
    "For example:"
   ]
  },
  {
   "cell_type": "code",
   "execution_count": 5,
   "metadata": {},
   "outputs": [],
   "source": [
    "class Dog:\n",
    "    pass"
   ]
  },
  {
   "cell_type": "code",
   "execution_count": 6,
   "metadata": {},
   "outputs": [
    {
     "data": {
      "text/plain": [
       "<__main__.Dog at 0x1786c92a160>"
      ]
     },
     "execution_count": 6,
     "metadata": {},
     "output_type": "execute_result"
    }
   ],
   "source": [
    "Dog()"
   ]
  },
  {
   "cell_type": "code",
   "execution_count": 7,
   "metadata": {},
   "outputs": [
    {
     "data": {
      "text/plain": [
       "<__main__.Dog at 0x1786c92aa30>"
      ]
     },
     "execution_count": 7,
     "metadata": {},
     "output_type": "execute_result"
    }
   ],
   "source": [
    "Dog()"
   ]
  },
  {
   "cell_type": "code",
   "execution_count": 8,
   "metadata": {},
   "outputs": [],
   "source": [
    "a = Dog()"
   ]
  },
  {
   "cell_type": "code",
   "execution_count": 9,
   "metadata": {},
   "outputs": [],
   "source": [
    "b = Dog()"
   ]
  },
  {
   "cell_type": "code",
   "execution_count": 10,
   "metadata": {},
   "outputs": [
    {
     "data": {
      "text/plain": [
       "False"
      ]
     },
     "execution_count": 10,
     "metadata": {},
     "output_type": "execute_result"
    }
   ],
   "source": [
    "a == b"
   ]
  },
  {
   "cell_type": "markdown",
   "metadata": {},
   "source": [
    "We started by defining a new Dog() class, then created two new dogs, each assigned to different objects. So, to create an instance of a class, you use the the class name, followed by parentheses. Then to demonstrate that each instance is actually different, we instantiated two more dogs, assigning each to a variable, then tested if those variables are equal.\n",
    "\n",
    "What do you think the type of a class instance is?"
   ]
  },
  {
   "cell_type": "code",
   "execution_count": 11,
   "metadata": {},
   "outputs": [],
   "source": [
    "class Dog:\n",
    "    pass"
   ]
  },
  {
   "cell_type": "code",
   "execution_count": 12,
   "metadata": {},
   "outputs": [
    {
     "data": {
      "text/plain": [
       "__main__.Dog"
      ]
     },
     "execution_count": 12,
     "metadata": {},
     "output_type": "execute_result"
    }
   ],
   "source": [
    "a = Dog()\n",
    "type(a)"
   ]
  },
  {
   "cell_type": "markdown",
   "metadata": {},
   "source": [
    "Let’s look at a slightly more complex example…"
   ]
  },
  {
   "cell_type": "code",
   "execution_count": 13,
   "metadata": {},
   "outputs": [],
   "source": [
    "class Dog:\n",
    "\n",
    "    # Class Attribute\n",
    "    species = 'mammal'\n",
    "\n",
    "    # Initializer / Instance Attributes\n",
    "    def __init__(self, name, age):\n",
    "        self.name = name\n",
    "        self.age = age"
   ]
  },
  {
   "cell_type": "markdown",
   "metadata": {},
   "source": [
    "# Instantiate the Dog object"
   ]
  },
  {
   "cell_type": "code",
   "execution_count": 14,
   "metadata": {},
   "outputs": [
    {
     "name": "stdout",
     "output_type": "stream",
     "text": [
      "Philo is 5 and Mikey is 6.\n",
      "Philo is a mammal!\n"
     ]
    }
   ],
   "source": [
    "philo = Dog(\"Philo\", 5)\n",
    "mikey = Dog(\"Mikey\", 6)\n",
    "print(\"{} is {} and {} is {}.\".format(philo.name, philo.age, mikey.name, mikey.age))\n",
    "if philo.species == \"mammal\":\n",
    "    print(\"{0} is a {1}!\".format(philo.name, philo.species))"
   ]
  },
  {
   "cell_type": "markdown",
   "metadata": {},
   "source": [
    "## Access the instance attributes"
   ]
  },
  {
   "cell_type": "markdown",
   "metadata": {},
   "source": [
    "print(\"{} is {} and {} is {}.\".format(\n",
    "    philo.name, philo.age, mikey.name, mikey.age))"
   ]
  },
  {
   "cell_type": "markdown",
   "metadata": {},
   "source": [
    "## Is Philo a mammal?"
   ]
  },
  {
   "cell_type": "markdown",
   "metadata": {},
   "source": [
    "if philo.species == \"mammal\":\n",
    "    print(\"{0} is a {1}!\".format(philo.name, philo.species))"
   ]
  },
  {
   "cell_type": "markdown",
   "metadata": {},
   "source": [
    "    NOTE: Notice how we use dot notation to access attributes from each object.\n",
    "\n",
    "Save this as dog_class.py, then run the program. You should see:\n",
    "\n",
    "Philo is 5 and Mikey is 6.\n",
    "Philo is a mammal!\n",
    "\n",
    "\n",
    "## What’s Going On?\n",
    "We created a new instance of the Dog() class and assigned it to the variable philo. We then passed it two arguments, \"Philo\" and 5, which represent that dog’s name and age, respectively.\n",
    "\n",
    "These attributes are passed to the __init__ method, which gets called any time you create a new instance, attaching the name and age to the object. You might be wondering why we didn’t have to pass in the self argument.\n",
    "\n",
    "This is Python magic; when you create a new instance of the class, Python automatically determines what self is (a Dog in this case) and passes it to the __init__ method.\n",
    "\n",
    "### Review Exercises (#1)"
   ]
  },
  {
   "cell_type": "markdown",
   "metadata": {},
   "source": [
    "Using the same Dog class, instantiate three new dogs, each with a different age. Then write a function called, get_biggest_number(), that takes any number of ages (*args) and returns the oldest one. Then output the age of the oldest dog like so:\n",
    "\n",
    "    The oldest dog is 7 years old."
   ]
  },
  {
   "cell_type": "code",
   "execution_count": 17,
   "metadata": {},
   "outputs": [
    {
     "name": "stdout",
     "output_type": "stream",
     "text": [
      "The oldest dog is 7 years old.\n"
     ]
    }
   ],
   "source": [
    "class Dog:\n",
    "    \n",
    "    species = 'mammal'\n",
    "    \n",
    "    def __init__(self, name, age):\n",
    "        self.name = name\n",
    "        self.age = age\n",
    "        \n",
    "jake = Dog(\"Jake\", 7)\n",
    "doug = Dog(\"Doug\", 4)\n",
    "william = Dog(\"William\", 5)\n",
    "\n",
    "def get_biggest_number(*args):\n",
    "    return max(args)\n",
    "\n",
    "print(\"The oldest dog is {} years old.\".format(get_biggest_number(jake.age, doug.age, william.age)))"
   ]
  },
  {
   "cell_type": "markdown",
   "metadata": {},
   "source": [
    "## Instance Methods\n",
    "\n",
    "Instance methods are defined inside a class and are used to get the contents of an instance. They can also be used to perform operations with the attributes of our objects. Like the __init__ method, the first argument is always self:"
   ]
  },
  {
   "cell_type": "code",
   "execution_count": 18,
   "metadata": {},
   "outputs": [
    {
     "name": "stdout",
     "output_type": "stream",
     "text": [
      "Mikey is 6 years old\n",
      "Mikey says Gruff Gruff\n"
     ]
    }
   ],
   "source": [
    "class Dog:\n",
    "    \n",
    "    # Class Attribute    \n",
    "    species = 'mammal'\n",
    "    \n",
    "    # Initializer / Instance Attributes\n",
    "    def __init__(self, name, age):\n",
    "        self.name = name\n",
    "        self.age = age\n",
    "    \n",
    "    # instance method\n",
    "    def description(self):\n",
    "        return \"{} is {} years old\".format(self.name, self.age)\n",
    "    \n",
    "    # instance method\n",
    "    def speak(self, sound):\n",
    "        return \"{} says {}\".format(self.name, sound)\n",
    "    \n",
    "mikey = Dog(\"Mikey\", 6)\n",
    "\n",
    "print(mikey.description())\n",
    "print(mikey.speak(\"Gruff Gruff\"))\n"
   ]
  },
  {
   "cell_type": "markdown",
   "metadata": {},
   "source": [
    "In the latter method, speak(), we are defining behavior. What other behaviors could you assign to a dog? Look back to the beginning paragraph to see some example behaviors for other objects.\n",
    "\n",
    "### Modifying Attributes\n",
    "You can change the value of attributes based on some behavior:"
   ]
  },
  {
   "cell_type": "code",
   "execution_count": 20,
   "metadata": {},
   "outputs": [
    {
     "data": {
      "text/plain": [
       "False"
      ]
     },
     "execution_count": 20,
     "metadata": {},
     "output_type": "execute_result"
    }
   ],
   "source": [
    "class Email:\n",
    "    def __init__(self):\n",
    "        self.is_sent = False\n",
    "        \n",
    "    def send_email(self):\n",
    "        self.is_sent = True\n",
    "        \n",
    "my_email = Email()\n",
    "my_email.is_sent"
   ]
  },
  {
   "cell_type": "code",
   "execution_count": 21,
   "metadata": {},
   "outputs": [
    {
     "data": {
      "text/plain": [
       "True"
      ]
     },
     "execution_count": 21,
     "metadata": {},
     "output_type": "execute_result"
    }
   ],
   "source": [
    "my_email.send_email()\n",
    "my_email.is_sent"
   ]
  },
  {
   "cell_type": "markdown",
   "metadata": {},
   "source": [
    "Here, we added a method to send an email, which updates the is_sent variable to True.\n",
    "\n",
    "### Python Object Inheritance\n",
    "\n",
    "Inheritance is the process by which one class takes on the attributes and methods of another. Newly formed classes are called child classes, and the classes that child classes are derived from are called parent classes.\n",
    "\n",
    "It’s important to note that child classes override or extend the functionality (e.g., attributes and behaviors) of parent classes. In other words, child classes inherit all of the parent’s attributes and behaviors but can also specify different behavior to follow. The most basic type of class is an object, which generally all other classes inherit as their parent.\n",
    "\n",
    "When you define a new class, Python 3 it implicitly uses object as the parent class. So the following two definitions are equivalent:\n",
    "\n"
   ]
  },
  {
   "cell_type": "code",
   "execution_count": 22,
   "metadata": {},
   "outputs": [],
   "source": [
    "class Dog(object):\n",
    "    pass\n",
    "\n",
    "# In Python 3, this is the same as:\n",
    "\n",
    "class Dog:\n",
    "    pass"
   ]
  },
  {
   "cell_type": "markdown",
   "metadata": {},
   "source": [
    "    Note: In Python 2.x there’s a distinction between new-style and old-style classes. I won’t go into detail here, but you’ll generally want to specify object as the parent class to ensure you’re definint a new-style class if you’re writing Python 2 OOP code.\n",
    "\n",
    "### Dog Park Example\n",
    "\n",
    "Let’s pretend that we’re at a dog park. There are multiple Dog objects engaging in Dog behaviors, each with different attributes. In regular-speak that means some dogs are running, while some are stretching and some are just watching other dogs. Furthermore, each dog has been named by its owner and, since each dog is living and breathing, each ages.\n",
    "\n",
    "What’s another way to differentiate one dog from another? How about the dog’s breed:"
   ]
  },
  {
   "cell_type": "code",
   "execution_count": 23,
   "metadata": {},
   "outputs": [
    {
     "data": {
      "text/plain": [
       "'German Shepard'"
      ]
     },
     "execution_count": 23,
     "metadata": {},
     "output_type": "execute_result"
    }
   ],
   "source": [
    "class Dog:\n",
    "    def __init__(self, breed):\n",
    "        self.breed = breed\n",
    "\n",
    "spencer = Dog(\"German Shepard\")\n",
    "spencer.breed"
   ]
  },
  {
   "cell_type": "code",
   "execution_count": 24,
   "metadata": {},
   "outputs": [
    {
     "data": {
      "text/plain": [
       "'Boston Terrier'"
      ]
     },
     "execution_count": 24,
     "metadata": {},
     "output_type": "execute_result"
    }
   ],
   "source": [
    "sara = Dog(\"Boston Terrier\")\n",
    "sara.breed"
   ]
  },
  {
   "cell_type": "markdown",
   "metadata": {},
   "source": [
    "Each breed of dog has slightly different behaviors. To take these into account, let’s create separate classes for each breed. These are child classes of the parent Dog class.\n",
    "\n",
    "### Extending the Functionality of a Parent Class\n",
    "\n",
    "Create a new file called dog_inheritance.py:"
   ]
  },
  {
   "cell_type": "code",
   "execution_count": 25,
   "metadata": {},
   "outputs": [
    {
     "name": "stdout",
     "output_type": "stream",
     "text": [
      "Jim is 12 years old\n",
      "Jim runs slowly\n"
     ]
    }
   ],
   "source": [
    "# Parent class\n",
    "class Dog:\n",
    "\n",
    "    # Class attribute\n",
    "    species = 'mammal'\n",
    "\n",
    "    # Initializer / Instance attributes\n",
    "    def __init__(self, name, age):\n",
    "        self.name = name\n",
    "        self.age = age\n",
    "\n",
    "    # instance method\n",
    "    def description(self):\n",
    "        return \"{} is {} years old\".format(self.name, self.age)\n",
    "\n",
    "    # instance method\n",
    "    def speak(self, sound):\n",
    "        return \"{} says {}\".format(self.name, sound)\n",
    "\n",
    "\n",
    "# Child class (inherits from Dog class)\n",
    "class RussellTerrier(Dog):\n",
    "    def run(self, speed):\n",
    "        return \"{} runs {}\".format(self.name, speed)\n",
    "\n",
    "\n",
    "# Child class (inherits from Dog class)\n",
    "class Bulldog(Dog):\n",
    "    def run(self, speed):\n",
    "        return \"{} runs {}\".format(self.name, speed)\n",
    "\n",
    "\n",
    "# Child classes inherit attributes and\n",
    "# behaviors from the parent class\n",
    "jim = Bulldog(\"Jim\", 12)\n",
    "print(jim.description())\n",
    "\n",
    "# Child classes have specific attributes\n",
    "# and behaviors as well\n",
    "print(jim.run(\"slowly\"))"
   ]
  },
  {
   "cell_type": "markdown",
   "metadata": {},
   "source": [
    "We haven’t added any special attributes or methods to differentiate a RussellTerrier from a Bulldog, but since they’re now two different classes, we could for instance give them different class attributes defining their respective speeds.\n",
    "\n",
    "### Parent vs. Child Classes\n",
    "\n",
    "The isinstance() function is used to determine if an instance is also an instance of a certain parent class.\n",
    "\n",
    "Save this as dog_isinstance.py:"
   ]
  },
  {
   "cell_type": "code",
   "execution_count": 26,
   "metadata": {},
   "outputs": [
    {
     "name": "stdout",
     "output_type": "stream",
     "text": [
      "Jim is 12 years old\n",
      "Jim runs slowly\n",
      "True\n",
      "True\n",
      "False\n"
     ]
    },
    {
     "ename": "TypeError",
     "evalue": "isinstance() arg 2 must be a type or tuple of types",
     "output_type": "error",
     "traceback": [
      "\u001b[1;31m---------------------------------------------------------------------------\u001b[0m",
      "\u001b[1;31mTypeError\u001b[0m                                 Traceback (most recent call last)",
      "\u001b[1;32m<ipython-input-26-c976ae4d1a2c>\u001b[0m in \u001b[0;36m<module>\u001b[1;34m\u001b[0m\n\u001b[0;32m     52\u001b[0m \u001b[1;33m\u001b[0m\u001b[0m\n\u001b[0;32m     53\u001b[0m \u001b[1;31m# Is julie and instance of jim?\u001b[0m\u001b[1;33m\u001b[0m\u001b[1;33m\u001b[0m\u001b[1;33m\u001b[0m\u001b[0m\n\u001b[1;32m---> 54\u001b[1;33m \u001b[0mprint\u001b[0m\u001b[1;33m(\u001b[0m\u001b[0misinstance\u001b[0m\u001b[1;33m(\u001b[0m\u001b[0mjulie\u001b[0m\u001b[1;33m,\u001b[0m \u001b[0mjim\u001b[0m\u001b[1;33m)\u001b[0m\u001b[1;33m)\u001b[0m\u001b[1;33m\u001b[0m\u001b[1;33m\u001b[0m\u001b[0m\n\u001b[0m",
      "\u001b[1;31mTypeError\u001b[0m: isinstance() arg 2 must be a type or tuple of types"
     ]
    }
   ],
   "source": [
    "# Parent class\n",
    "class Dog:\n",
    "\n",
    "    # Class attribute\n",
    "    species = 'mammal'\n",
    "\n",
    "    # Initializer / Instance attributes\n",
    "    def __init__(self, name, age):\n",
    "        self.name = name\n",
    "        self.age = age\n",
    "\n",
    "    # instance method\n",
    "    def description(self):\n",
    "        return \"{} is {} years old\".format(self.name, self.age)\n",
    "\n",
    "    # instance method\n",
    "    def speak(self, sound):\n",
    "        return \"{} says {}\".format(self.name, sound)\n",
    "\n",
    "\n",
    "# Child class (inherits from Dog() class)\n",
    "class RussellTerrier(Dog):\n",
    "    def run(self, speed):\n",
    "        return \"{} runs {}\".format(self.name, speed)\n",
    "\n",
    "\n",
    "# Child class (inherits from Dog() class)\n",
    "class Bulldog(Dog):\n",
    "    def run(self, speed):\n",
    "        return \"{} runs {}\".format(self.name, speed)\n",
    "\n",
    "\n",
    "# Child classes inherit attributes and\n",
    "# behaviors from the parent class\n",
    "jim = Bulldog(\"Jim\", 12)\n",
    "print(jim.description())\n",
    "\n",
    "# Child classes have specific attributes\n",
    "# and behaviors as well\n",
    "print(jim.run(\"slowly\"))\n",
    "\n",
    "# Is jim an instance of Dog()?\n",
    "print(isinstance(jim, Dog))\n",
    "\n",
    "# Is julie an instance of Dog()?\n",
    "julie = Dog(\"Julie\", 100)\n",
    "print(isinstance(julie, Dog))\n",
    "\n",
    "# Is johnny walker an instance of Bulldog()\n",
    "johnnywalker = RussellTerrier(\"Johnny Walker\", 4)\n",
    "print(isinstance(johnnywalker, Bulldog))\n",
    "\n",
    "# Is julie and instance of jim?\n",
    "print(isinstance(julie, jim))"
   ]
  },
  {
   "cell_type": "markdown",
   "metadata": {},
   "source": [
    "Make sense? Both jim and julie are instances of the Dog() class, while johnnywalker is not an instance of the Bulldog() class. Then as a sanity check, we tested if julie is an instance of jim, which is impossible since jim is an instance of a class rather than a class itself—hence the reason for the TypeError.\n",
    "\n",
    "### Overriding the Functionality of a Parent Class\n",
    "\n",
    "Remember that child classes can also override attributes and behaviors from the parent class. For examples:\n",
    "\n"
   ]
  },
  {
   "cell_type": "code",
   "execution_count": 28,
   "metadata": {},
   "outputs": [
    {
     "data": {
      "text/plain": [
       "'mammal'"
      ]
     },
     "execution_count": 28,
     "metadata": {},
     "output_type": "execute_result"
    }
   ],
   "source": [
    "class Dog:\n",
    "    species = 'mammal'\n",
    "\n",
    "class SomeBreed(Dog):\n",
    "    pass\n",
    "\n",
    "class SomeOtherBreed(Dog):\n",
    "    species = 'reptile'\n",
    "\n",
    "frank = SomeBreed()\n",
    "frank.species"
   ]
  },
  {
   "cell_type": "code",
   "execution_count": 27,
   "metadata": {},
   "outputs": [
    {
     "data": {
      "text/plain": [
       "'reptile'"
      ]
     },
     "execution_count": 27,
     "metadata": {},
     "output_type": "execute_result"
    }
   ],
   "source": [
    "beans = SomeOtherBreed()\n",
    "beans.species"
   ]
  },
  {
   "cell_type": "markdown",
   "metadata": {},
   "source": [
    "The SomeBreed() class inherits the species from the parent class, while the SomeOtherBreed() class overrides the species, setting it to reptile.\n",
    "\n",
    "### Review Exercise (2)\n",
    "#### Dog Inheritance\n",
    "Create a Pets class that holds instances of dogs; this class is completely separate from the Dog class. In other words, the Dog class does not inherit from the Pets class. Then assign three dog instances to an instance of the Pets class. Start with the following code below. Save the file as pets_class.py. Your output should look like this:\n",
    "\n",
    "I have 3 dogs. \n",
    "\n",
    "Tom is 6.\n",
    "\n",
    "Fletcher is 7. \n",
    "\n",
    "Larry is 9. \n",
    "\n",
    "And they're all mammals, of course."
   ]
  },
  {
   "cell_type": "code",
   "execution_count": 31,
   "metadata": {},
   "outputs": [
    {
     "name": "stdout",
     "output_type": "stream",
     "text": [
      "I have 3 dogs.\n",
      "Tom is 6.\n",
      "Fletcher is 7.\n",
      "Larry is 9.\n",
      "And they're all mammals, of course.\n"
     ]
    }
   ],
   "source": [
    "# Parent class\n",
    "class Pets:\n",
    "\n",
    "    dogs = []\n",
    "\n",
    "    def __init__(self, dogs):\n",
    "        self.dogs = dogs\n",
    "\n",
    "\n",
    "class Dog:\n",
    "    \n",
    "    species = 'mammal'\n",
    "    \n",
    "    def __init__(self, name, age):\n",
    "        self.name = name\n",
    "        self.age = age\n",
    "    \n",
    "    def description(self):\n",
    "        return self.name, self.age\n",
    "    \n",
    "    def speak(self, sound):\n",
    "        return \"%s says %s\" % (self.name, sound)\n",
    "    \n",
    "    def eat(self):\n",
    "        self.is_hungry = False\n",
    "        \n",
    "# Child class (inherits from Dog class)\n",
    "class RussellTerrier(Dog):\n",
    "    def run(self, speed):\n",
    "        return \"%s runs %s\" % (self.name, speed)  \n",
    "    \n",
    "# Child class (inherits from Dog class)\n",
    "class Bulldog(Dog):\n",
    "    def run(self, speed):\n",
    "        return \"%s runs %s\" % (self.name, speed)\n",
    "\n",
    "# Create instances of dogs\n",
    "my_dogs = [\n",
    "    Bulldog(\"Tom\", 6), \n",
    "    RussellTerrier(\"Fletcher\", 7), \n",
    "    Dog(\"Larry\", 9)\n",
    "]\n",
    "\n",
    "# Instantiate the Pets class\n",
    "my_pets = Pets(my_dogs)\n",
    "\n",
    "\n",
    "# Output\n",
    "print(\"I have {} dogs.\".format(len(my_pets.dogs)))\n",
    "for dog in my_pets.dogs:\n",
    "    print(\"{} is {}.\".format(dog.name, dog.age))\n",
    "\n",
    "print(\"And they're all {}s, of course.\".format(dog.species))"
   ]
  },
  {
   "cell_type": "markdown",
   "metadata": {},
   "source": [
    "### Excercise 3: \"Hungry Dogs\"\n",
    "\n",
    "Using the same file, add an instance attribute of is_hungry = True to the Dog class. Then add a method called eat() which changes the value of is_hungry to False when called. Figure out the best way to feed each dog and then output “My dogs are hungry.” if all are hungry or “My dogs are not hungry.” if all are not hungry. The final output should look like this:\n",
    "\n",
    "I have 3 dogs. \n",
    "Tom is 6. \n",
    "Fletcher is 7. \n",
    "Larry is 9. \n",
    "And they're all mammals, of course. \n",
    "My dogs are not hungry."
   ]
  },
  {
   "cell_type": "code",
   "execution_count": 32,
   "metadata": {},
   "outputs": [
    {
     "name": "stdout",
     "output_type": "stream",
     "text": [
      "I have 3 dogs.\n",
      "Tom is 6.\n",
      "Fletcher is 7.\n",
      "Larry is 9.\n",
      "And they're all mammals, of course.\n",
      "My dogs are not hungry.\n"
     ]
    }
   ],
   "source": [
    "# Parent class\n",
    "class Pets:\n",
    "\n",
    "    dogs = []\n",
    "\n",
    "    def __init__(self, dogs):\n",
    "        self.dogs = dogs\n",
    "\n",
    "\n",
    "# Parent class\n",
    "class Dog:\n",
    "\n",
    "    # Class attribute\n",
    "    species = 'mammal'\n",
    "\n",
    "    # Initializer / Instance attributes\n",
    "    def __init__(self, name, age):\n",
    "        self.name = name\n",
    "        self.age = age\n",
    "        self.is_hungry = True\n",
    "\n",
    "    # Instance method\n",
    "    def description(self):\n",
    "        return self.name, self.age\n",
    "\n",
    "    # Instance method\n",
    "    def speak(self, sound):\n",
    "        return \"%s says %s\" % (self.name, sound)\n",
    "\n",
    "    # Instance method\n",
    "    def eat(self):\n",
    "        self.is_hungry = False\n",
    "\n",
    "\n",
    "# Child class (inherits from Dog class)\n",
    "class RussellTerrier(Dog):\n",
    "    def run(self, speed):\n",
    "        return \"%s runs %s\" % (self.name, speed)\n",
    "\n",
    "\n",
    "# Child class (inherits from Dog class)\n",
    "class Bulldog(Dog):\n",
    "    def run(self, speed):\n",
    "        return \"%s runs %s\" % (self.name, speed)\n",
    "\n",
    "# Create instances of dogs\n",
    "my_dogs = [\n",
    "    Bulldog(\"Tom\", 6), \n",
    "    RussellTerrier(\"Fletcher\", 7), \n",
    "    Dog(\"Larry\", 9)\n",
    "]\n",
    "\n",
    "# Instantiate the Pets class\n",
    "my_pets = Pets(my_dogs)\n",
    "\n",
    "# Output\n",
    "print(\"I have {} dogs.\".format(len(my_pets.dogs)))\n",
    "for dog in my_pets.dogs:\n",
    "    dog.eat()\n",
    "    print(\"{} is {}.\".format(dog.name, dog.age))\n",
    "\n",
    "print(\"And they're all {}s, of course.\".format(dog.species))\n",
    "\n",
    "are_my_dogs_hungry = False\n",
    "for dog in my_pets.dogs:\n",
    "    if dog.is_hungry:\n",
    "        are_my_dogs_hungry = True\n",
    "\n",
    "if are_my_dogs_hungry:\n",
    "    print(\"My dogs are hungry.\")\n",
    "else:\n",
    "    print(\"My dogs are not hungry.\")"
   ]
  },
  {
   "cell_type": "markdown",
   "metadata": {},
   "source": [
    "### Excercise 4 : Dog Walking\n",
    "\n",
    "Next, add a walk() method to both the Pets and Dog classes so that when you call the method on the Pets class, each dog instance assigned to the Pets class will walk(). Save this as dog_walking.py. This is slightly more difficult.\n",
    "\n",
    "Start by implementing the method in the same manner as the speak() method. As for the method in the Pets class, you will need to iterate through the list of dogs, then call the method itself.\n",
    "\n",
    "The output should look like this:\n",
    "\n",
    "Tom is walking!\n",
    "Fletcher is walking!\n",
    "Larry is walking!"
   ]
  },
  {
   "cell_type": "code",
   "execution_count": 33,
   "metadata": {},
   "outputs": [
    {
     "name": "stdout",
     "output_type": "stream",
     "text": [
      "Tom is walking!\n",
      "Fletcher is walking!\n",
      "Larry is walking!\n"
     ]
    }
   ],
   "source": [
    "class Pets:\n",
    "\n",
    "    dogs = []\n",
    "\n",
    "    def __init__(self, dogs):\n",
    "        self.dogs = dogs\n",
    "\n",
    "    def walk(self):\n",
    "        for dog in self.dogs:\n",
    "            print(dog.walk())\n",
    "\n",
    "\n",
    "# Parent class\n",
    "class Dog:\n",
    "\n",
    "    # Class attribute\n",
    "    species = 'mammal'\n",
    "    is_hungry = True\n",
    "\n",
    "    # Initializer / instance attributes\n",
    "    def __init__(self, name, age):\n",
    "        self.name = name\n",
    "        self.age = age\n",
    "\n",
    "    # Instance method\n",
    "    def description(self):\n",
    "        return self.name, self.age\n",
    "\n",
    "    # Instance method\n",
    "    def speak(self, sound):\n",
    "        return \"%s says %s\" % (self.name, sound)\n",
    "\n",
    "    # Instance method\n",
    "    def eat(self):\n",
    "        self.is_hungry = False\n",
    "\n",
    "    def walk(self):\n",
    "        return \"%s is walking!\" % (self.name)\n",
    "\n",
    "\n",
    "# Child class (inherits from Dog class)\n",
    "class RussellTerrier(Dog):\n",
    "    def run(self, speed):\n",
    "        return \"%s runs %s\" % (self.name, speed)\n",
    "\n",
    "\n",
    "# Child class (inherits from Dog class)\n",
    "class Bulldog(Dog):\n",
    "    def run(self, speed):\n",
    "        return \"%s runs %s\" % (self.name, speed)\n",
    "\n",
    "# Create instances of dogs\n",
    "my_dogs = [\n",
    "    Bulldog(\"Tom\", 6), \n",
    "    RussellTerrier(\"Fletcher\", 7), \n",
    "    Dog(\"Larry\", 9)\n",
    "]\n",
    "\n",
    "# Instantiate the Pet class\n",
    "my_pets = Pets(my_dogs)\n",
    "\n",
    "# Output\n",
    "my_pets.walk()"
   ]
  },
  {
   "cell_type": "markdown",
   "metadata": {},
   "source": [
    "### Excercise 5: Comprehension Check\n",
    "Answer the following questions about OOP to check your learning progress:\n",
    "\n",
    "1. What’s a class?\n",
    "2. What’s an instance?\n",
    "3. What’s the relationship between a class and an instance?\n",
    "4. What’s the Python syntax used for defining a new class?\n",
    "5. What’s the spelling convention for a class name?\n",
    "6. How do you instantiate, or create an instance of, a class?\n",
    "7. How do you access the attributes and behaviors of a class instance?\n",
    "8. What’s a method?\n",
    "9. What’s the purpose of self?\n",
    "10. What’s the purpose of the __init__ method?\n",
    "11. Describe how inheritance helps prevent code duplication.\n",
    "12. Can child classes override properties of their parents?\n",
    "\n",
    "#### Answers\n",
    "1. A class is a mechanism used to create new user-defined data structures. It contains data as well as the methods used to process that data.\n",
    "\n",
    "2. An instance is a copy of the class with actual values, literally an object of a specific class.\n",
    "\n",
    "3. While a class is a blueprint used to describe how to make something, instances are objects created from those blueprints.\n",
    "\n",
    "4. class PythonClassName:\n",
    "\n",
    "5. CamelCase notation, starting with a capital letter - i.e., PythonClassName()\n",
    "\n",
    "6. You use the the class name, followed by parentheses. So if the class name is Dog(), an dog instance would be - my_class = Dog().\n",
    "\n",
    "7. With dot notation - e.g., instance_name.attribute_name\n",
    "\n",
    "8. A function that’s defined inside a class.\n",
    "\n",
    "9. The first argument of every method references the current instance of the class, which by convention, is named self. In the __init__ method, self refers to the newly created object; while in other methods, self refers to the instance whose method was called. For more on __init__ vs. self, check out this article.\n",
    "10. The __init__ method initializes an instance of a class.\n",
    "11. Child classes inherit all of the parent’s attributes and behaviors.\n",
    "12. Yes."
   ]
  },
  {
   "cell_type": "code",
   "execution_count": null,
   "metadata": {},
   "outputs": [],
   "source": []
  }
 ],
 "metadata": {
  "kernelspec": {
   "display_name": "Python 3",
   "language": "python",
   "name": "python3"
  },
  "language_info": {
   "codemirror_mode": {
    "name": "ipython",
    "version": 3
   },
   "file_extension": ".py",
   "mimetype": "text/x-python",
   "name": "python",
   "nbconvert_exporter": "python",
   "pygments_lexer": "ipython3",
   "version": "3.8.0"
  }
 },
 "nbformat": 4,
 "nbformat_minor": 4
}
