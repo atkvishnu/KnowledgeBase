{
 "cells": [
  {
   "cell_type": "code",
   "execution_count": 41,
   "metadata": {},
   "outputs": [
    {
     "name": "stdout",
     "output_type": "stream",
     "text": [
      "Deleting node: 4\n",
      "Deleting node: 5\n",
      "Deleting node: 2\n",
      "Deleting node: 3\n",
      "Deleting node: 1\n",
      "Tree deleted \n"
     ]
    }
   ],
   "source": [
    "class newNode:  \n",
    "   \n",
    "    def __init__(self, key):  \n",
    "        self.data = key \n",
    "        self.left = None\n",
    "        self.right = None\n",
    "        \n",
    "def deleteTree(node) : \n",
    "  \n",
    "    if (node == None): \n",
    "        return\n",
    "  \n",
    "    deleteTree(node.left)  \n",
    "    deleteTree(node.right)  \n",
    "      \n",
    "    print(\"Deleting node:\", node.data)  \n",
    "  \n",
    "  \n",
    "# Driver Code  \n",
    "if __name__ == '__main__': \n",
    "    root = newNode(1)  \n",
    "    root.left = newNode(2)  \n",
    "    root.right = newNode(3)  \n",
    "    root.left.left = newNode(4) \n",
    "    root.left.right = newNode(5) \n",
    "    deleteTree(root)  \n",
    "    root = None\n",
    "  \n",
    "    print(\"Tree deleted \")"
   ]
  },
  {
   "cell_type": "code",
   "execution_count": 35,
   "metadata": {},
   "outputs": [
    {
     "name": "stdout",
     "output_type": "stream",
     "text": [
      "count =  0\n"
     ]
    }
   ],
   "source": [
    "root = Node(1)  \n",
    "root.left = Node(2)  \n",
    "root.right = Node(3)  \n",
    "root.left.left = Node(4)  \n",
    "root.right.left = Node(5)  \n",
    "root.right.right = Node(7)  \n",
    "root.left.left.left = Node(10)  \n",
    "root.left.left.right = Node(11)  \n",
    "root.right.right.left = Node(8)  \n",
    "\n",
    "PrintLeafLeftToRight(root)"
   ]
  },
  {
   "cell_type": "code",
   "execution_count": 46,
   "metadata": {},
   "outputs": [
    {
     "name": "stdout",
     "output_type": "stream",
     "text": [
      "2\n"
     ]
    }
   ],
   "source": [
    "class Node: \n",
    "    # A utility function to create a new node \n",
    "    def __init__(self ,key): \n",
    "        self.data = key \n",
    "        self.left = None\n",
    "        self.right = None\n",
    "  \n",
    "# Iterative Method to count full nodes of binary tree \n",
    "def getfullCount(root): \n",
    "    # Base Case \n",
    "    if root is None: \n",
    "        return 0\n",
    "      \n",
    "    # Create an empty queue for BSF\n",
    "    queue = [] \n",
    "  \n",
    "    # Enqueue Root and initialize count \n",
    "    queue.append(root) \n",
    "          \n",
    "    count = 0 #initialize count for full nodes \n",
    "    while(len(queue) > 0): \n",
    "        node = queue.pop(0) \n",
    "  \n",
    "        # if it is full node then increment count \n",
    "        if node.left is not None and node.right is not None: \n",
    "            count = count+1\n",
    "  \n",
    "        # Enqueue left child \n",
    "        if node.left is not None: \n",
    "            queue.append(node.left) \n",
    "  \n",
    "        # Enqueue right child \n",
    "        if node.right is not None: \n",
    "            queue.append(node.right) \n",
    "              \n",
    "    return count \n",
    "  \n",
    "# Driver Program to test above function \n",
    "root = Node(2) \n",
    "root.left = Node(7) \n",
    "root.right = Node(5) \n",
    "root.left.right = Node(6) \n",
    "root.left.right.left = Node(1) \n",
    "root.left.right.right = Node(11) \n",
    "root.right.right = Node(9) \n",
    "root.right.right.left = Node(4) \n",
    "  \n",
    "  \n",
    "print(getfullCount(root))"
   ]
  }
 ],
 "metadata": {
  "kernelspec": {
   "display_name": "Python 3",
   "language": "python",
   "name": "python3"
  },
  "language_info": {
   "codemirror_mode": {
    "name": "ipython",
    "version": 3
   },
   "file_extension": ".py",
   "mimetype": "text/x-python",
   "name": "python",
   "nbconvert_exporter": "python",
   "pygments_lexer": "ipython3",
   "version": "3.8.0"
  }
 },
 "nbformat": 4,
 "nbformat_minor": 4
}
