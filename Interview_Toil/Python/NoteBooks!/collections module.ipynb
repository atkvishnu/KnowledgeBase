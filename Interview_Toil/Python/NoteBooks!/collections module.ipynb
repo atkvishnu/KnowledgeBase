{
 "cells": [
  {
   "cell_type": "markdown",
   "metadata": {},
   "source": [
    "<img src=\"https://cdn.journaldev.com/wp-content/uploads/2018/02/Python-collections-module-1024x683.png\" width=\"500\">"
   ]
  },
  {
   "cell_type": "markdown",
   "metadata": {},
   "source": [
    "Python collections module comes with with a number of container data types. These data types have different capabilities, as we will learn in this post. Let’s study about python collections module and it’s most important and widely used data types.\n",
    "\n",
    "## Python Collections Module\n",
    "\n",
    "The collections which we will study in python collections module are:\n",
    "\n",
    "1.OrderedDict\n",
    "\n",
    "2.defaultdict\n",
    "\n",
    "3.counter\n",
    "\n",
    "4.namedtuple\n",
    "\n",
    "5.deque\n",
    "\n",
    "Let’s get started.\n",
    "\n",
    "### 1. OrderedDict\n",
    "\n",
    "With an OrderedDict, the order of insertion is maintained when key and values are inserted into the dictionary. If we try to insert a key again, this will overwrite the previous value for that key.\n",
    "\n",
    "Here is a sample program to demonstrate the usage of an OrderedDict:"
   ]
  },
  {
   "cell_type": "code",
   "execution_count": 1,
   "metadata": {},
   "outputs": [
    {
     "name": "stdout",
     "output_type": "stream",
     "text": [
      "11 Shubham\n",
      "9 Pankaj\n",
      "17 JournalDev\n"
     ]
    }
   ],
   "source": [
    "from collections import OrderedDict\n",
    "\n",
    "roll_no = OrderedDict([\n",
    "    (11, 'Shubham'),\n",
    "    (9, 'Pankaj'),\n",
    "    (17, 'JournalDev'),\n",
    "])\n",
    "\n",
    "for key, value in roll_no.items():\n",
    "    print(key, value)"
   ]
  },
  {
   "cell_type": "markdown",
   "metadata": {},
   "source": [
    "Notice that the output order was exactly the same as the order of insertion.\n",
    "\n",
    "### 2. Default Dict\n",
    "\n",
    "The default dictionary can contain duplicate keys. The advantage of using the default dictionary is that we can collect items which belong to the same key. Let’s look at a code snippet which demonstrates the same:"
   ]
  },
  {
   "cell_type": "code",
   "execution_count": 2,
   "metadata": {},
   "outputs": [
    {
     "name": "stdout",
     "output_type": "stream",
     "text": [
      "[('Shubham', [89]), ('Pankaj', [92]), ('JournalDev', [99, 98])]\n"
     ]
    }
   ],
   "source": [
    "from collections import defaultdict\n",
    "\n",
    "marks = [\n",
    "    ('Shubham', 89),\n",
    "    ('Pankaj', 92),\n",
    "    ('JournalDev', 99),\n",
    "    ('JournalDev', 98)\n",
    "]\n",
    "\n",
    "dict_marks = defaultdict(list)\n",
    "\n",
    "for key, value in marks:\n",
    "    dict_marks[key].append(value)\n",
    "\n",
    "print(list(dict_marks.items()))"
   ]
  },
  {
   "cell_type": "markdown",
   "metadata": {},
   "source": [
    "The key JournalDev was used two times and values for the same was collected once we printed the dictionary.\n",
    "\n",
    "## 3. Counter\n",
    "The Counter collections allow us to keep a count of all the items which are inserted into the collection with the keys. Here is a sample program to show how it works:"
   ]
  },
  {
   "cell_type": "code",
   "execution_count": 3,
   "metadata": {},
   "outputs": [
    {
     "name": "stdout",
     "output_type": "stream",
     "text": [
      "Counter({'JournalDev': 2, 'Shubham': 1, 'Pankaj': 1})\n"
     ]
    }
   ],
   "source": [
    "from collections import Counter\n",
    "\n",
    "marks_list = [\n",
    "    ('Shubham', 89),\n",
    "    ('Pankaj', 92),\n",
    "    ('JournalDev', 99),\n",
    "    ('JournalDev', 98)\n",
    "]\n",
    "\n",
    "count = Counter(name for name, marks in marks_list)\n",
    "print(count)"
   ]
  },
  {
   "cell_type": "markdown",
   "metadata": {},
   "source": [
    "This way, we were able to count the number of times a key appeared in the list.\n",
    "\n",
    "### 4. Named Tuple\n",
    "As we already know, Python Tuples are immutable lists. This means that a value cannot be given to a key which aready exists in the tuple. First, let’s see how a Tuple can be made in Python:"
   ]
  },
  {
   "cell_type": "code",
   "execution_count": 4,
   "metadata": {},
   "outputs": [
    {
     "name": "stdout",
     "output_type": "stream",
     "text": [
      "('Shubham', 23, 'M')\n"
     ]
    }
   ],
   "source": [
    "shubham = ('Shubham', 23, 'M')\n",
    "print(shubham)"
   ]
  },
  {
   "cell_type": "markdown",
   "metadata": {},
   "source": [
    "We can convert this Tuple to a Named tuple by assigning a name to all values present in this tuple. This will give a lot more context to the data present as well:\n",
    "\n"
   ]
  },
  {
   "cell_type": "code",
   "execution_count": 5,
   "metadata": {},
   "outputs": [
    {
     "name": "stdout",
     "output_type": "stream",
     "text": [
      "User(name='Shubham', age=23, gender='M')\n",
      "Name of User: Shubham\n"
     ]
    }
   ],
   "source": [
    "import collections\n",
    "\n",
    "User = collections.namedtuple('User', 'name age gender')\n",
    "shubham = User(name='Shubham', age=23, gender='M')\n",
    "print(shubham)\n",
    "\n",
    "print('Name of User: {0}'.format(shubham.name))"
   ]
  },
  {
   "cell_type": "markdown",
   "metadata": {},
   "source": [
    "See how we can access properties of a named tuple with the name we provide. Also, remember that the key names cannot be Python keywords.\n",
    "\n",
    "### 5. Deque\n",
    "\n",
    "A Deque is a double-ended queue which allows us to add and remove elements from both the ends. This enhances the capabilities of a stack or a queue. Here is a sample program:\n",
    "\n"
   ]
  },
  {
   "cell_type": "code",
   "execution_count": 6,
   "metadata": {},
   "outputs": [
    {
     "name": "stdout",
     "output_type": "stream",
     "text": [
      "Deque       : deque(['S', 'h', 'u', 'b', 'h', 'a', 'm'])\n",
      "Queue Length: 7\n",
      "Left part   : S\n",
      "Right part  : m\n",
      "remove(b): deque(['S', 'h', 'u', 'h', 'a', 'm'])\n"
     ]
    }
   ],
   "source": [
    "import collections\n",
    "\n",
    "name = collections.deque('Shubham')\n",
    "print('Deque       :', name)\n",
    "print('Queue Length:', len(name))\n",
    "print('Left part   :', name[0])\n",
    "print('Right part  :', name[-1])\n",
    "\n",
    "name.remove('b')\n",
    "print('remove(b):', name)"
   ]
  },
  {
   "cell_type": "markdown",
   "metadata": {},
   "source": [
    "So, the dequeueing of the elements was done automatically. We can also insert elements in a Dequeue on a specific end. Let’s try it:\n",
    "\n"
   ]
  },
  {
   "cell_type": "code",
   "execution_count": 7,
   "metadata": {},
   "outputs": [
    {
     "name": "stdout",
     "output_type": "stream",
     "text": [
      "Deque       : deque(['S', 'h', 'u', 'b', 'h', 'a', 'm'])\n",
      "Deque       : deque(['.', '.', '.', 'S', 'h', 'u', 'b', 'h', 'a', 'm', '-'])\n"
     ]
    }
   ],
   "source": [
    "\n",
    "import collections\n",
    "\n",
    "name = collections.deque('Shubham')\n",
    "print('Deque       :', name)\n",
    "\n",
    "name.extendleft('...')\n",
    "name.append('-')\n",
    "print('Deque       :', name)"
   ]
  },
  {
   "cell_type": "markdown",
   "metadata": {},
   "source": [
    "MORE REFERENCE -> https://docs.python.org/3/library/collections.html"
   ]
  }
 ],
 "metadata": {
  "kernelspec": {
   "display_name": "Python 3",
   "language": "python",
   "name": "python3"
  },
  "language_info": {
   "codemirror_mode": {
    "name": "ipython",
    "version": 3
   },
   "file_extension": ".py",
   "mimetype": "text/x-python",
   "name": "python",
   "nbconvert_exporter": "python",
   "pygments_lexer": "ipython3",
   "version": "3.8.0"
  }
 },
 "nbformat": 4,
 "nbformat_minor": 4
}
