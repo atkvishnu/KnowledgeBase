{
 "cells": [
  {
   "cell_type": "code",
   "execution_count": null,
   "metadata": {},
   "outputs": [],
   "source": [
    "# def q_1():\n",
    "#     while True:\n",
    "#         line = 0\n",
    "#         line = try_expect(input(\"Enter a number: \"))\n",
    "#         if line == 'done':\n",
    "#             break\n",
    "#         print(line)\n",
    "#     print('done')\n",
    "    \n",
    "#     total = sum(line)\n",
    "    \n",
    "#     count = 0\n",
    "#     for lin in line:\n",
    "#         count = count + 1\n",
    "        \n",
    "#     average = total/count\n",
    "    \n",
    "#     print(total, count, average)\n",
    "    \n",
    "    \n",
    "# def try_expect(input):\n",
    "#     try:\n",
    "#         input_1 = int(input)\n",
    "#     except ValueError:\n",
    "#         print(\"Invalid input\")"
   ]
  },
  {
   "cell_type": "code",
   "execution_count": null,
   "metadata": {},
   "outputs": [],
   "source": [
    "# q_1()"
   ]
  },
  {
   "cell_type": "code",
   "execution_count": 6,
   "metadata": {},
   "outputs": [
    {
     "name": "stdout",
     "output_type": "stream",
     "text": [
      "Enter a number: 4\n",
      "Enter a number: 5\n",
      "Enter a number: jn\n",
      "Invalid input\n",
      "Enter a number: 7\n",
      "Enter a number: done\n",
      "16.0 3 5.333333333333333\n"
     ]
    }
   ],
   "source": [
    "total = 0\n",
    "count = 0\n",
    "average = None\n",
    "while True:\n",
    "    value = input('Enter a number: ')\n",
    "    if value != 'done':\n",
    "        try:\n",
    "            value = float(value)\n",
    "        except:\n",
    "            print('Invalid input')\n",
    "            continue\n",
    "    else:\n",
    "        break\n",
    "    total = total + value\n",
    "    count = count + 1\n",
    "    \n",
    "    average = total / count\n",
    "\n",
    "print(total, count, average)\n",
    "# print(value)"
   ]
  },
  {
   "cell_type": "code",
   "execution_count": 8,
   "metadata": {},
   "outputs": [
    {
     "name": "stdout",
     "output_type": "stream",
     "text": [
      "Enter a number: 4\n",
      "Enter a number: 5\n",
      "Enter a number: 6\n",
      "Enter a number: \n",
      "Invalid input\n",
      "Enter a number: 7\n",
      "Enter a number: 8\n",
      "Enter a number: 9\n",
      "Enter a number: ,n4\n",
      "Invalid input\n",
      "Enter a number: done\n",
      "4.0 9.0\n"
     ]
    }
   ],
   "source": [
    "max = None\n",
    "min = None\n",
    "\n",
    "while True:\n",
    "    value = input(\"Enter a number: \")\n",
    "    if value != 'done':    \n",
    "        try:\n",
    "            value = float(value)\n",
    "        except ValueError:\n",
    "            print(\"Invalid input\")\n",
    "            continue\n",
    "    else:\n",
    "        break\n",
    "    if min is None or min > value:\n",
    "        min = value\n",
    "    if max is None or max < value:\n",
    "        max = value\n",
    "print(min, max)"
   ]
  },
  {
   "cell_type": "code",
   "execution_count": null,
   "metadata": {},
   "outputs": [],
   "source": []
  },
  {
   "cell_type": "code",
   "execution_count": null,
   "metadata": {},
   "outputs": [],
   "source": []
  }
 ],
 "metadata": {
  "kernelspec": {
   "display_name": "Python 3",
   "language": "python",
   "name": "python3"
  },
  "language_info": {
   "codemirror_mode": {
    "name": "ipython",
    "version": 3
   },
   "file_extension": ".py",
   "mimetype": "text/x-python",
   "name": "python",
   "nbconvert_exporter": "python",
   "pygments_lexer": "ipython3",
   "version": "3.7.4"
  }
 },
 "nbformat": 4,
 "nbformat_minor": 2
}
