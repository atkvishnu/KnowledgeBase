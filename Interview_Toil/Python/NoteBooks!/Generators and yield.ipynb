{
 "cells": [
  {
   "cell_type": "markdown",
   "metadata": {},
   "source": [
    "## How to Use Generators and yield in Python"
   ]
  },
  {
   "cell_type": "markdown",
   "metadata": {},
   "source": [
    "### Table of Contents\n",
    "\n",
    "  1.  Using Generators\n",
    "            Example 1: Reading Large Files\n",
    "            Example 2: Generating an Infinite Sequence\n",
    "            Example 3: Detecting Palindromes\n",
    "  2.  Understanding Generators\n",
    "  3.  Building Generators With Generator Expressions\n",
    "  4.  Profiling Generator Performance\n",
    "  5.  Understanding the Python Yield Statement\n",
    "  6.  Using Advanced Generator Methods\n",
    "            How to Use .send()\n",
    "            How to Use .throw()\n",
    "            How to Use .close()\n",
    "  7.  Creating Data Pipelines With Generators\n",
    "  8.  Conclusion"
   ]
  },
  {
   "cell_type": "markdown",
   "metadata": {},
   "source": [
    "Have you ever had to work with a dataset so large that it overwhelmed your machine’s memory? Or maybe you have a complex function that needs to maintain an internal state every time it’s called, but the function is too small to justify creating its own class. In these cases and more, generators and the Python yield statement are here to help."
   ]
  },
  {
   "cell_type": "markdown",
   "metadata": {},
   "source": [
    "## Using Generators\n",
    "\n",
    "Introduced with PEP 255, generator functions are a special kind of function that return a lazy iterator. These are objects that you can loop over like a list. However, unlike lists, lazy iterators do not store their contents in memory. For an overview of iterators in Python, take a look at Python “for” Loops (Definite Iteration).\n",
    "\n",
    "Now that you have a rough idea of what a generator does, you might wonder what they look like in action. Let’s take a look at two examples. In the first, you’ll see how generators work from a bird’s eye view. Then, you’ll zoom in and examine each example more thoroughly.\n",
    "\n",
    "\n",
    "#### Example 1: Reading Large Files\n",
    "\n",
    "A common use case of generators is to work with data streams or large files, like CSV files. These text files separate data into columns by using commas. This format is a common way to share data. Now, what if you want to count the number of rows in a CSV file? The code block below shows one way of counting those rows:"
   ]
  },
  {
   "cell_type": "code",
   "execution_count": null,
   "metadata": {},
   "outputs": [],
   "source": [
    "import csv\n",
    "\n",
    "csv_gen = csv_reader(\"../materials/generators/techcrunch.csv\")\n",
    "row_count = 0\n",
    "\n",
    "for row in csv_gen:\n",
    "    row_count += 1\n",
    "\n",
    "print(f\"Row count is {row_count}\")"
   ]
  },
  {
   "cell_type": "markdown",
   "metadata": {},
   "source": [
    "Looking at this example, you might expect csv_gen to be a list. To populate this list, csv_reader() opens a file and loads its contents into csv_gen. Then, the program iterates over the list and increments row_count for each row.\n",
    "\n",
    "This is a reasonable explanation, but would this design still work if the file is very large? What if the file is larger than the memory you have available? To answer this question, let’s assume that csv_reader() just opens the file and reads it into an array:"
   ]
  },
  {
   "cell_type": "code",
   "execution_count": null,
   "metadata": {},
   "outputs": [],
   "source": [
    "def csv_reader(file_name):\n",
    "    file = open(file_name)\n",
    "    result = file.read().split(\"\\n\")\n",
    "    return result"
   ]
  },
  {
   "cell_type": "markdown",
   "metadata": {},
   "source": [
    "This function opens a given file and uses file.read() along with .split() to add each line as a separate element to a list. If you were to use this version of csv_reader() in the row counting code block you saw further up, then you’d get the following output:"
   ]
  },
  {
   "cell_type": "markdown",
   "metadata": {},
   "source": [
    "        Traceback (most recent call last):\n",
    "          File \"ex1_naive.py\", line 22, in <module>\n",
    "            main()\n",
    "          File \"ex1_naive.py\", line 13, in main\n",
    "            csv_gen = csv_reader(\"file.txt\")\n",
    "          File \"ex1_naive.py\", line 6, in csv_reader\n",
    "            result = file.read().split(\"\\n\")\n",
    "        MemoryError"
   ]
  },
  {
   "cell_type": "markdown",
   "metadata": {},
   "source": [
    "In this case, open() returns a generator object that you can lazily iterate through line by line. However, file.read().split() loads everything into memory at once, causing the MemoryError.\n",
    "\n",
    "Before that happens, you’ll probably notice your computer slow to a crawl. You might even need to kill the program with a KeyboardInterrupt. So, how can you handle these huge data files? Take a look at a new definition of csv_reader():\n",
    "\n"
   ]
  },
  {
   "cell_type": "code",
   "execution_count": null,
   "metadata": {},
   "outputs": [],
   "source": [
    "def csv_reader(file_name):\n",
    "    for row in open(file_name, \"r\"):\n",
    "        yield row"
   ]
  },
  {
   "cell_type": "markdown",
   "metadata": {},
   "source": [
    "In this version, you open the file, iterate through it, and yield a row. This code should produce the following output, with no memory errors:\n",
    "\n",
    "Row count is 64186394"
   ]
  },
  {
   "cell_type": "markdown",
   "metadata": {},
   "source": [
    "What’s happening here? Well,<b> you’ve essentially turned csv_reader() into a generator function. This version opens a file, loops through each line, and yields each row, instead of returning it.</b>\n",
    "\n",
    "You can also define a generator expression (also called a generator comprehension), which has a very similar syntax to list comprehensions. In this way, you can use the generator without calling a function:"
   ]
  },
  {
   "cell_type": "code",
   "execution_count": null,
   "metadata": {},
   "outputs": [],
   "source": [
    "csv_gen = (row for row in open(file_name))"
   ]
  },
  {
   "cell_type": "markdown",
   "metadata": {},
   "source": [
    "This is a more succinct way to create the list csv_gen. You’ll learn more about the Python yield statement soon. For now, just remember this key difference:\n",
    "\n",
    "<b>Using yield will result in a generator object.</b>\n",
    "\n",
    "<b>Using return will result in the first line of the file only.</b>"
   ]
  },
  {
   "cell_type": "markdown",
   "metadata": {},
   "source": [
    "#### Example 2: Generating an Infinite Sequence\n",
    "Let’s switch gears and look at infinite sequence generation. In Python, to get a finite sequence, you call range() and evaluate it in a list context:"
   ]
  },
  {
   "cell_type": "code",
   "execution_count": null,
   "metadata": {},
   "outputs": [],
   "source": [
    "a = range(5)\n",
    "list(a)"
   ]
  },
  {
   "cell_type": "markdown",
   "metadata": {},
   "source": [
    "Generating an infinite sequence, however, will require the use of a generator, since your computer memory is finite:"
   ]
  },
  {
   "cell_type": "code",
   "execution_count": null,
   "metadata": {},
   "outputs": [],
   "source": [
    "def infinite_sequence():\n",
    "    num = 0\n",
    "    while True:\n",
    "        yield num\n",
    "        num += 1"
   ]
  },
  {
   "cell_type": "markdown",
   "metadata": {},
   "source": [
    "This code block is short and sweet. <b>First, you initialize the variable num and start an infinite loop. Then, you immediately yield num so that you can capture the initial state. This mimics the action of range().</b>\n",
    "\n",
    "After yield, you increment num by 1. If you try this with a for loop, then you’ll see that it really does seem infinite:"
   ]
  },
  {
   "cell_type": "code",
   "execution_count": null,
   "metadata": {},
   "outputs": [],
   "source": [
    "for i in infinite_sequence():\n",
    "    print(i, end=\" \")"
   ]
  },
  {
   "cell_type": "markdown",
   "metadata": {},
   "source": [
    "The program will continue to execute until you stop it manually.\n",
    "\n",
    "Instead of using a for loop, you can also call next() on the generator object directly. This is especially useful for testing a generator in the console:"
   ]
  },
  {
   "cell_type": "code",
   "execution_count": null,
   "metadata": {},
   "outputs": [],
   "source": [
    "gen = infinite_sequence()"
   ]
  },
  {
   "cell_type": "code",
   "execution_count": null,
   "metadata": {},
   "outputs": [],
   "source": [
    "next(gen)"
   ]
  },
  {
   "cell_type": "code",
   "execution_count": null,
   "metadata": {},
   "outputs": [],
   "source": [
    "next(gen)"
   ]
  },
  {
   "cell_type": "code",
   "execution_count": null,
   "metadata": {},
   "outputs": [],
   "source": [
    "next(gen)"
   ]
  },
  {
   "cell_type": "code",
   "execution_count": null,
   "metadata": {},
   "outputs": [],
   "source": [
    "next(gen)"
   ]
  },
  {
   "cell_type": "code",
   "execution_count": null,
   "metadata": {},
   "outputs": [],
   "source": [
    "next(gen)"
   ]
  },
  {
   "cell_type": "markdown",
   "metadata": {},
   "source": [
    "Here, <b>you have a generator called gen, which you manually iterate over by repeatedly calling next()</b>. This works as a great sanity check to make sure your generators are producing the output you expect.\n",
    "\n",
    "Note: When you use next(), Python calls .__next__() on the function you pass in as a parameter. There are some special effects that this parameterization allows, but it goes beyond the scope of this article. Experiment with changing the parameter you pass to next() and see what happens!"
   ]
  },
  {
   "cell_type": "markdown",
   "metadata": {},
   "source": [
    "#### Example 3: Detecting Palindromes\n"
   ]
  },
  {
   "cell_type": "markdown",
   "metadata": {},
   "source": [
    "You can use infinite sequences in many ways, but one practical use for them is in building palindrome detectors. A palindrome detector will locate all sequences of letters or numbers that are palindromes. These are words or numbers that are read the same forward and backward, like 121. First, define your numeric palindrome detector:"
   ]
  },
  {
   "cell_type": "code",
   "execution_count": null,
   "metadata": {},
   "outputs": [],
   "source": [
    "def is_palindrome(num):\n",
    "    # Skip single-digit inputs\n",
    "    if num // 10 == 0:\n",
    "        return False\n",
    "    temp = num\n",
    "    reversed_num = 0\n",
    "\n",
    "    while temp != 0:\n",
    "        reversed_num = (reversed_num * 10) + (temp % 10)\n",
    "        temp = temp // 10\n",
    "\n",
    "    if num == reversed_num:\n",
    "        return num\n",
    "    else:\n",
    "        return False"
   ]
  },
  {
   "cell_type": "markdown",
   "metadata": {},
   "source": [
    "Don’t worry too much about understanding the underlying math in this code. Just note that the function takes an input number, reverses it, and checks to see if the reversed number is the same as the original. \n",
    "Now you can use your infinite sequence generator to get a running list of all numeric palindromes:"
   ]
  },
  {
   "cell_type": "code",
   "execution_count": null,
   "metadata": {},
   "outputs": [],
   "source": [
    "for i in infinite_sequence():\n",
    "     pal = is_palindrome(i)\n",
    "     if pal:\n",
    "         print(pal)"
   ]
  },
  {
   "cell_type": "markdown",
   "metadata": {},
   "source": [
    "In this case, the only numbers that are printed to the console are those that are the same forward or backward.\n",
    "\n",
    "<b> Note: In practice, you’re unlikely to write your own infinite sequence generator. The itertools module provides a very efficient infinite sequence generator with <i>itertools.count().</i> </b>"
   ]
  },
  {
   "cell_type": "markdown",
   "metadata": {},
   "source": [
    "## Understanding Generators\n",
    "\n",
    "So far, you’ve learned about the two primary ways of creating generators: <b>by using generator functions</b> and <b>generator expressions</b>. You might even have an intuitive understanding of how generators work. Let’s take a moment to make that knowledge a little more explicit.\n",
    "\n",
    "Generator functions look and act just like regular functions, but with one defining characteristic. Generator functions use the Python yield keyword instead of return. Recall the generator function you wrote earlier:"
   ]
  },
  {
   "cell_type": "code",
   "execution_count": null,
   "metadata": {},
   "outputs": [],
   "source": [
    "def infinite_sequence():\n",
    "    num = 0\n",
    "    while True:\n",
    "        yield num\n",
    "        num += 1"
   ]
  },
  {
   "cell_type": "markdown",
   "metadata": {},
   "source": [
    "This looks like a typical function definition, except for the Python yield statement and the code that follows it. yield indicates where a value is sent back to the caller, but unlike return, you don’t exit the function afterward."
   ]
  },
  {
   "cell_type": "markdown",
   "metadata": {},
   "source": [
    "Instead, the state of the function is remembered. That way, when next() is called on a generator object (either explicitly or implicitly within a for loop), the previously yielded variable num is incremented, and then yielded again. Since generator functions look like other functions and act very similarly to them, you can assume that generator expressions are very similar to other comprehensions available in Python.\n",
    "\n",
    "### Building Generators With Generator Expressions\n",
    "\n",
    "Like list comprehensions, generator expressions allow you to quickly create a generator object in just a few lines of code. They’re also useful in the same cases where list comprehensions are used, with an added benefit: you can create them without building and holding the entire object in memory before iteration. In other words, you’ll have no memory penalty when you use generator expressions. Take this example of squaring some numbers:"
   ]
  },
  {
   "cell_type": "code",
   "execution_count": null,
   "metadata": {},
   "outputs": [],
   "source": [
    "nums_squared_lc = [num**2 for num in range(5)]\n",
    "nums_squared_gc = (num**2 for num in range(5))"
   ]
  },
  {
   "cell_type": "markdown",
   "metadata": {},
   "source": [
    "Both nums_squared_lc and nums_squared_gc look basically the same, but there’s one key difference. Can you spot it? Take a look at what happens when you inspect each of these objects:\n",
    "\n",
    "        >>> nums_squared_lc\n",
    "        [0, 1, 4, 9, 16]\n",
    "        >>> nums_squared_gc\n",
    "        <generator object <genexpr> at 0x107fbbc78>\n",
    "        \n",
    "The first object used brackets to build a list, while the second created a generator expression by using parentheses. The output confirms that you’ve created a generator object and that it is distinct from a list.\n",
    "\n",
    "### Profiling Generator Performance"
   ]
  },
  {
   "cell_type": "markdown",
   "metadata": {},
   "source": [
    "You learned earlier that generators are a great way to optimize memory. While an infinite sequence generator is an extreme example of this optimization, let’s amp up the number squaring examples you just saw and inspect the size of the resulting objects. You can do this with a call to sys.getsizeof():\n",
    "\n",
    "        >>> import sys\n",
    "        >>> nums_squared_lc = [i * 2 for i in range(10000)]\n",
    "        >>> sys.getsizeof(nums_squared_lc)\n",
    "        87624\n",
    "        >>> nums_squared_gc = (i ** 2 for i in range(10000))\n",
    "        >>> print(sys.getsizeof(nums_squared_gc))\n",
    "        120\n",
    "\n",
    "In this case, the list you get from the list comprehension is 87,624 bytes, while the generator object is only 120. This means that the list is over 700 times larger than the generator object!\n",
    "\n",
    "There is one thing to keep in mind, though. If the list is smaller than the running machine’s available memory, then list comprehensions can be faster to evaluate than the equivalent generator expression. To explore this, let’s sum across the results from the two comprehensions above. You can generate a readout with cProfile.run():"
   ]
  },
  {
   "cell_type": "code",
   "execution_count": null,
   "metadata": {},
   "outputs": [],
   "source": [
    "import cProfile\n",
    "cProfile.run('sum([i * 2 for i in range(10000)])')"
   ]
  },
  {
   "cell_type": "code",
   "execution_count": null,
   "metadata": {},
   "outputs": [],
   "source": [
    "cProfile.run('sum((i * 2 for i in range(10000)))')"
   ]
  },
  {
   "cell_type": "markdown",
   "metadata": {},
   "source": [
    "Here, you can see that summing across all values in the list comprehension took about a third of the time as summing across the generator. If speed is an issue and memory isn’t, then a list comprehension is likely a better tool for the job.\n",
    "\n",
    "<b>Note: These measurements aren’t only valid for objects made with generator expressions. They’re also the same for objects made from the analogous generator function since the resulting generators are equivalent.</b>\n",
    "\n",
    "Remember, list comprehensions return full lists, while generator expressions return generators. Generators work the same whether they’re built from a function or an expression. Using an expression just allows you to define simple generators in a single line, with an assumed yield at the end of each inner iteration.\n",
    "\n",
    "The Python yield statement is certainly the linchpin on which all of the functionality of generators rests, so let’s dive into how yield works in Python.\n",
    "\n",
    "\n",
    "## Understanding the Python Yield Statement\n",
    "\n",
    "On the whole, yield is a fairly simple statement. Its primary job is to control the flow of a generator function in a way that’s similar to return statements. As briefly mentioned above, though, the Python yield statement has a few tricks up its sleeve.\n",
    "\n",
    "When you call a generator function or use a generator expression, you return a special iterator called a <b>generator</b>. You can assign this generator to a variable in order to use it. When you call special methods on the generator, such as next(), the code within the function is executed up to yield.\n",
    "\n",
    "When the Python yield statement is hit, the program suspends function execution and returns the yielded value to the caller. (In contrast, return stops function execution completely.) When a function is suspended, the state of that function is saved. This includes any variable bindings local to the generator, the instruction pointer, the internal stack, and any exception handling.\n",
    "\n",
    "This allows you to resume function execution whenever you call one of the generator’s methods. In this way, all function evaluation picks back up right after yield. You can see this in action by using multiple Python yield statements:\n",
    "\n",
    "        >>> def multi_yield():\n",
    "        ...     yield_str = \"This will print the first string\"\n",
    "        ...     yield yield_str\n",
    "        ...     yield_str = \"This will print the second string\"\n",
    "        ...     yield yield_str\n",
    "        ...\n",
    "        >>> multi_obj = multi_yield()\n",
    "        >>> print(next(multi_obj))\n",
    "        This will print the first string\n",
    "        >>> print(next(multi_obj))\n",
    "        This will print the second string\n",
    "        >>> print(next(multi_obj))\n",
    "        Traceback (most recent call last):\n",
    "          File \"<stdin>\", line 1, in <module>\n",
    "        StopIteration\n",
    "        \n",
    "Take a closer look at that last calls to next(). You can see that execution has blown up with a <b>traceback. This is because generators, like all iterators, can be exhausted</b>. Unless your generator is infinite, you can iterate through it one time only. Once all values have been evaluated, iteration will stop and the for loop will exit. If you used next(), then instead you’ll get an explicit StopIteration exception.\n",
    "\n",
    "    Note: StopIteration is a natural exception that’s raised to signal the end of an iterator. for loops, for example, are         built around StopIteration. You can even implement your own for loop by using a while loop:\n",
    "\n",
    "    >>> letters = [\"a\", \"b\", \"c\", \"y\"]\n",
    "    >>> it = iter(letters)\n",
    "    >>> while True:\n",
    "    ...     try:\n",
    "    ...         letter = next(it)\n",
    "    ...     except StopIteration:\n",
    "    ...         break\n",
    "    ...     print(letter)\n",
    "    ...\n",
    "    a\n",
    "    b\n",
    "    c\n",
    "    y\n",
    "    You can read more about StopIteration in the Python documentation on exceptions. For more on iteration in general, check       out Python “for” Loops (Definite Iteration) and Python “while” Loops (Indefinite Iteration).\n",
    "    \n",
    "yield can be used in many ways to control your generator’s execution flow. The use of multiple Python yield statements can be leveraged as far as your creativity allows.\n",
    "\n",
    "## Using Advanced Generator Methods\n",
    "\n",
    "You’ve seen the most common uses and constructions of generators, but there are a few more tricks to cover. In addition to yield, generator objects can make use of the following methods:\n",
    "\n",
    "    .send()\n",
    "    .throw()\n",
    "    .close()\n",
    "\n",
    "### How to Use .send()\n",
    "\n",
    "For this next section, you’re going to build a program that makes use of all three methods. This program will print numeric palindromes like before, but with a few tweaks. Upon encountering a palindrome, your new program will add a digit and start a search for the next one from there. You’ll also handle exceptions with .throw() and stop the generator after a given amount of digits with .close(). First, let’s recall the code for your palindrome detector:"
   ]
  },
  {
   "cell_type": "code",
   "execution_count": null,
   "metadata": {},
   "outputs": [],
   "source": [
    "def is_palindrome(num):\n",
    "    # Skip single-digit inputs\n",
    "    if num // 10 == 0:\n",
    "        return False\n",
    "    temp = num\n",
    "    reversed_num = 0\n",
    "\n",
    "    while temp != 0:\n",
    "        reversed_num = (reversed_num * 10) + (temp % 10)\n",
    "        temp = temp // 10\n",
    "\n",
    "    if num == reversed_num:\n",
    "        return True\n",
    "    else:\n",
    "        return False"
   ]
  },
  {
   "cell_type": "markdown",
   "metadata": {},
   "source": [
    "This is the same code you saw earlier, except that now the program returns strictly True or False. You’ll also need to modify your original infinite sequence generator, like so:"
   ]
  },
  {
   "cell_type": "code",
   "execution_count": null,
   "metadata": {},
   "outputs": [],
   "source": [
    "def infinite_palindromes():\n",
    "    num = 0\n",
    "    while True:\n",
    "        if is_palindrome(num):\n",
    "            i = (yield num)\n",
    "            if i is not None:\n",
    "                num = i\n",
    "        num += 1"
   ]
  },
  {
   "cell_type": "markdown",
   "metadata": {},
   "source": [
    "There are a lot of changes here! The first one you’ll see is in line 5, where i = (yield num). Though you learned earlier that yield is a statement, that isn’t quite the whole story.\n",
    "\n",
    "As of Python 2.5 (the same release that introduced the methods you are learning about now), <b>yield is an expression, rather than a statement. Of course, you can still use it as a statement.</b> But now, you can also use it as you see in the code block above, where i takes the value that is yielded. <b>This allows you to manipulate the yielded value.</b> More importantly, it allows you to .send() a value back to the generator. When execution picks up after yield, i will take the value that is sent.\n",
    "\n",
    "You’ll also check if i is not None, which could happen if next() is called on the generator object. (This can also happen when you iterate with a for loop.) If i has a value, then you update num with the new value. But regardless of whether or not i holds a value, you’ll then increment num and start the loop again.\n",
    "\n",
    "Now, take a look at the main function code, which sends the lowest number with another digit back to the generator. For example, if the palindrome is 121, then it will .send() 1000:"
   ]
  },
  {
   "cell_type": "code",
   "execution_count": null,
   "metadata": {},
   "outputs": [],
   "source": [
    "pal_gen = infinite_palindromes()\n",
    "for i in pal_gen:\n",
    "    digits = len(str(i))\n",
    "    pal_gen.send(10 ** (digits))"
   ]
  },
  {
   "cell_type": "markdown",
   "metadata": {},
   "source": [
    "With this code, you create the generator object and iterate through it.<b> The program only yields a value once a palindrome is found.</b> It uses len() to determine the number of digits in that palindrome. Then, it sends 10 ** digits to the generator. This brings execution back into the generator logic and assigns 10 ** digits to i. Since i now has a value, the program updates num, increments, and checks for palindromes again.\n",
    "\n",
    "Once your code finds and yields another palindrome, you’ll iterate via the for loop. This is the same as iterating with next(). The generator also picks up at line 5 with i = (yield num). However, now i is None, because you didn’t explicitly send a value.\n",
    "\n",
    "What you’ve created here is a coroutine, or a generator function into which you can pass data. These are useful for constructing data pipelines, but as you’ll see soon, they aren’t necessary for building them. (If you’re looking to dive deeper, then this course on coroutines and concurrency is one of the most comprehensive treatments available.)\n",
    "\n",
    "Now that you’ve learned about .send(), let’s take a look at .throw().\n",
    "\n",
    "### How to Use .throw()\n",
    "\n",
    ".throw() allows you to throw exceptions with the generator. In the below example, you raise the exception in line 6. This code will throw a ValueError once digits reaches 5:"
   ]
  },
  {
   "cell_type": "code",
   "execution_count": null,
   "metadata": {},
   "outputs": [],
   "source": [
    "pal_gen = infinite_palindromes()\n",
    "for i in pal_gen:\n",
    "    print(i)\n",
    "    digits = len(str(i))\n",
    "    if digits == 5:\n",
    "        pal_gen.throw(ValueError(\"We don't like large palindromes\"))\n",
    "    pal_gen.send(10 ** (digits))"
   ]
  },
  {
   "cell_type": "markdown",
   "metadata": {},
   "source": [
    "This is the same as the previous code, but now you’ll check if digits is equal to 5. If so, then you’ll .throw() a ValueError. To confirm that this works as expected, take a look at the code’s output:\n",
    "\n",
    "        11\n",
    "        111\n",
    "        1111\n",
    "        10101\n",
    "        Traceback (most recent call last):\n",
    "          File \"advanced_gen.py\", line 47, in <module>\n",
    "            main()\n",
    "          File \"advanced_gen.py\", line 41, in main\n",
    "            pal_gen.throw(ValueError(\"We don't like large palindromes\"))\n",
    "          File \"advanced_gen.py\", line 26, in infinite_palindromes\n",
    "            i = (yield num)\n",
    "        ValueError: We don't like large palindromes\n",
    "        \n",
    ".throw() is useful in any areas where you might need to catch an exception. In this example, you used .throw() to control when you stopped iterating through the generator. You can do this more elegantly with .close().\n",
    "\n",
    "### How to Use .close()\n",
    "\n",
    "As its name implies, .close() allows you to stop a generator. This can be especially handy when controlling an infinite sequence generator. Let’s update the code above by changing .throw() to .close() to stop the iteration:"
   ]
  },
  {
   "cell_type": "code",
   "execution_count": null,
   "metadata": {},
   "outputs": [],
   "source": [
    "pal_gen = infinite_palindromes()\n",
    "for i in pal_gen:\n",
    "    print(i)\n",
    "    digits = len(str(i))\n",
    "    if digits == 5:\n",
    "        pal_gen.close()\n",
    "    pal_gen.send(10 ** (digits))"
   ]
  },
  {
   "cell_type": "markdown",
   "metadata": {},
   "source": [
    "Instead of calling .throw(), you use .close() in line 6. The advantage of using .close() is that it raises StopIteration, an exception used to signal the end of a finite iterator:\n",
    "\n",
    "        11\n",
    "        111\n",
    "        1111\n",
    "        10101\n",
    "        Traceback (most recent call last):\n",
    "          File \"advanced_gen.py\", line 46, in <module>\n",
    "            main()\n",
    "          File \"advanced_gen.py\", line 42, in main\n",
    "            pal_gen.send(10 ** (digits))\n",
    "        StopIteration\n",
    "        \n",
    "Now that you’ve learned more about the special methods that come with generators, let’s talk about using generators to build data pipelines."
   ]
  },
  {
   "cell_type": "markdown",
   "metadata": {},
   "source": [
    "## Creating Data Pipelines With Generators\n",
    "\n",
    "Data pipelines allow you to string together code to process large datasets or streams of data without maxing out your machine’s memory. Imagine that you have a large CSV file:\n",
    "\n",
    "        permalink,company,numEmps,category,city,state,fundedDate,raisedAmt,raisedCurrency,round\n",
    "        digg,Digg,60,web,San Francisco,CA,1-Dec-06,8500000,USD,b\n",
    "        digg,Digg,60,web,San Francisco,CA,1-Oct-05,2800000,USD,a\n",
    "        facebook,Facebook,450,web,Palo Alto,CA,1-Sep-04,500000,USD,angel\n",
    "        facebook,Facebook,450,web,Palo Alto,CA,1-May-05,12700000,USD,a\n",
    "        photobucket,Photobucket,60,web,Palo Alto,CA,1-Mar-05,3000000,USD,a\n",
    "        \n",
    "This example is pulled from the TechCrunch Continental USA set, which describes funding rounds and dollar amounts for various startups based in the USA.\n",
    "\n",
    "\n",
    "It’s time to do some processing in Python! To demonstrate how to build pipelines with generators, you’re going to analyze this file to get the total and average of all series A rounds in the dataset.\n",
    "\n",
    "Let’s think of a strategy:\n",
    "\n",
    "       1. Read every line of the file.\n",
    "       2. Split each line into a list of values.\n",
    "       3. Extract the column names.\n",
    "       4. Use the column names and lists to create a dictionary.\n",
    "       5. Filter out the rounds you aren’t interested in.\n",
    "       6. Calculate the total and average values for the rounds you are interested in.\n",
    "\n",
    "Normally, you can do this with a package like pandas, but you can also achieve this functionality with just a few generators. You’ll start by reading each line from the file with a generator expression:"
   ]
  },
  {
   "cell_type": "code",
   "execution_count": null,
   "metadata": {},
   "outputs": [],
   "source": [
    "file_name = \"C://Users/lipsp/Python/materials/generators/techcrunch.csv\"\n",
    "lines = (line for line in open(file_name))"
   ]
  },
  {
   "cell_type": "markdown",
   "metadata": {},
   "source": [
    "Then, you’ll use another generator expression in concert with the previous one to split each line into a list:"
   ]
  },
  {
   "cell_type": "code",
   "execution_count": null,
   "metadata": {},
   "outputs": [],
   "source": [
    "list_line = (s.rstrip().split(\",\") for s in lines)"
   ]
  },
  {
   "cell_type": "markdown",
   "metadata": {},
   "source": [
    "Here, you created the generator list_line, which iterates through the first generator lines. This is a common pattern to use when designing generator pipelines. Next, you’ll pull the column names out of techcrunch.csv. Since the column names tend to make up the first line in a CSV file, you can grab that with a short next() call:"
   ]
  },
  {
   "cell_type": "code",
   "execution_count": null,
   "metadata": {},
   "outputs": [],
   "source": [
    "list_line"
   ]
  },
  {
   "cell_type": "code",
   "execution_count": null,
   "metadata": {},
   "outputs": [],
   "source": [
    "cols = next(list_line)"
   ]
  },
  {
   "cell_type": "code",
   "execution_count": null,
   "metadata": {},
   "outputs": [],
   "source": [
    "cols"
   ]
  },
  {
   "cell_type": "markdown",
   "metadata": {},
   "source": [
    "This call to next() advances the iterator over the list_line generator one time. Put it all together, and your code should look something like this:"
   ]
  },
  {
   "cell_type": "code",
   "execution_count": 1,
   "metadata": {},
   "outputs": [],
   "source": [
    "file_name = \"C://Users/lipsp/Python/materials/generators/techcrunch.csv\"\n",
    "lines = (line for line in open(file_name))\n",
    "list_line = (s.rstrip().split(\",\") for s in lines)\n",
    "cols = next(list_line)"
   ]
  },
  {
   "cell_type": "markdown",
   "metadata": {},
   "source": [
    "To sum this up, you first create a generator expression lines to yield each line in a file. Next, you iterate through that generator within the definition of another generator expression called list_line, which turns each line into a list of values. Then, you advance the iteration of list_line just once with next() to get a list of the column names from your CSV file.\n",
    "\n",
    "Note: Watch out for trailing newlines! This code takes advantage of .rstrip() in the list_line generator expression to make sure there are no trailing newline characters, which can be present in CSV files.\n",
    "\n",
    "To help you filter and perform operations on the data, you’ll create dictionaries where the keys are the column names from the CSV:"
   ]
  },
  {
   "cell_type": "code",
   "execution_count": 2,
   "metadata": {},
   "outputs": [],
   "source": [
    "company_dicts = (dict(zip(cols, data)) for data in list_line)"
   ]
  },
  {
   "cell_type": "markdown",
   "metadata": {},
   "source": [
    "This generator expression iterates through the lists produced by list_line. Then, it uses zip() and dict() to create the dictionary as specified above. Now, you’ll use a fourth generator to filter the funding round you want and pull raisedAmt as well:\n",
    "\n"
   ]
  },
  {
   "cell_type": "code",
   "execution_count": 3,
   "metadata": {},
   "outputs": [
    {
     "data": {
      "text/plain": [
       "<generator object <genexpr> at 0x0000020017922F20>"
      ]
     },
     "execution_count": 3,
     "metadata": {},
     "output_type": "execute_result"
    }
   ],
   "source": [
    "company_dicts"
   ]
  },
  {
   "cell_type": "code",
   "execution_count": 4,
   "metadata": {},
   "outputs": [],
   "source": [
    "funding = (\n",
    "    int(company_dict[\"raisedAmt\"])\n",
    "    for company_dict in company_dicts\n",
    "    if company_dict[\"round\"] == \"a\"\n",
    ")"
   ]
  },
  {
   "cell_type": "markdown",
   "metadata": {},
   "source": [
    "In this code snippet, your generator expression iterates through the results of company_dicts and takes the raisedAmt for any company_dict where the round key is A.\n",
    "\n",
    "Remember, you aren’t iterating through all these at once in the generator expression. In fact, you aren’t iterating through anything until you actually use a for loop or a function that works on iterables, like sum(). In fact, call sum() now to iterate through the generators:"
   ]
  },
  {
   "cell_type": "code",
   "execution_count": 5,
   "metadata": {},
   "outputs": [
    {
     "data": {
      "text/plain": [
       "<generator object <genexpr> at 0x0000020017922820>"
      ]
     },
     "execution_count": 5,
     "metadata": {},
     "output_type": "execute_result"
    }
   ],
   "source": [
    "funding"
   ]
  },
  {
   "cell_type": "code",
   "execution_count": 6,
   "metadata": {},
   "outputs": [],
   "source": [
    "total_series_a = sum(funding)"
   ]
  },
  {
   "cell_type": "code",
   "execution_count": 7,
   "metadata": {},
   "outputs": [
    {
     "data": {
      "text/plain": [
       "4376015000"
      ]
     },
     "execution_count": 7,
     "metadata": {},
     "output_type": "execute_result"
    }
   ],
   "source": [
    "total_series_a"
   ]
  },
  {
   "cell_type": "markdown",
   "metadata": {},
   "source": [
    "Putting this all together, you’ll produce the following script:\n",
    "\n"
   ]
  },
  {
   "cell_type": "code",
   "execution_count": 10,
   "metadata": {},
   "outputs": [
    {
     "name": "stdout",
     "output_type": "stream",
     "text": [
      "Total series A fundraising: $0\n"
     ]
    }
   ],
   "source": [
    "file_name = \"C://Users/lipsp/Python/materials/generators/techcrunch.csv\"\n",
    "lines = (line for line in open(file_name))\n",
    "list_line = (s.rstrip().split(\",\") for s in lines)\n",
    "cols = next(list_line)\n",
    "company_dicts = (dict(zip(cols, data)) for data in list_line)\n",
    "funding = (\n",
    "    int(company_dict[\"raisedAmt\"])\n",
    "    for company_dict in company_dicts\n",
    "    if company_dict[\"round\"] == \"A\"\n",
    ")\n",
    "total_series_a = sum(funding)\n",
    "print(f\"Total series A fundraising: ${total_series_a}\")"
   ]
  },
  {
   "cell_type": "markdown",
   "metadata": {},
   "source": [
    "This script pulls together every generator you’ve built, and they all function as one big data pipeline. Here’s a line by line breakdown:\n",
    "\n",
    "        Line 2 reads in each line of the file.\n",
    "        Line 3 splits each line into values and puts the values into a list.\n",
    "        Line 4 uses next() to store the column names in a list.\n",
    "        Line 5 creates dictionaries and unites them with a zip() call:\n",
    "        The keys are the column names cols from line 4.\n",
    "        The values are the rows in list form, created in line 3.\n",
    "        Line 6 gets each company’s series A funding amounts. It also filters out any other raised amount.\n",
    "        Line 11 begins the iteration process by calling sum() to get the total amount of series A funding found in the CSV.\n",
    "        \n",
    "When you run this code on techcrunch.csv, you should find a total of $4,376,015,000 raised in series A funding rounds.\n",
    "\n",
    "    Note: The methods for handling CSV files developed in this tutorial are important for understanding how to use generators       and the Python yield statement. However, when you work with CSV files in Python, you should instead use the csv module           included in Python’s standard library. This module has optimized methods for handling CSV files efficiently.\n",
    "    \n",
    "To dig even deeper, try figuring out the average amount raised per company in a series A round. This is a bit trickier, so here are some hints:\n",
    "\n",
    "Generators exhaust themselves after being iterated over fully.\n",
    "You will still need the sum() function."
   ]
  },
  {
   "cell_type": "markdown",
   "metadata": {},
   "source": [
    "### Conclusion\n",
    "\n",
    "In this tutorial, you’ve learned about generator functions and generator expressions.\n",
    "\n",
    "You now know:\n",
    "\n",
    "    1.How to use and write generator functions and generator expressions\n",
    "    2.How the all-important Python yield statement enables generators\n",
    "    3.How to use multiple Python yield statements in a generator function\n",
    "    4.How to use .send() to send data to a generator\n",
    "    5.How to use .throw() to raise generator exceptions\n",
    "    6.How to use .close() to stop a generator’s iteration\n",
    "    7.How to build a generator pipeline to efficiently process large CSV files"
   ]
  }
 ],
 "metadata": {
  "kernelspec": {
   "display_name": "Python 3",
   "language": "python",
   "name": "python3"
  },
  "language_info": {
   "codemirror_mode": {
    "name": "ipython",
    "version": 3
   },
   "file_extension": ".py",
   "mimetype": "text/x-python",
   "name": "python",
   "nbconvert_exporter": "python",
   "pygments_lexer": "ipython3",
   "version": "3.8.0"
  }
 },
 "nbformat": 4,
 "nbformat_minor": 4
}
