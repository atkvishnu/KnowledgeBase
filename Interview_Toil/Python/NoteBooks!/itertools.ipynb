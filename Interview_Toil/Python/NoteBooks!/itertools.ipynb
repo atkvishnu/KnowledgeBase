{
 "cells": [
  {
   "cell_type": "markdown",
   "metadata": {},
   "source": [
    "## Itertools in Python 3, By Example\n"
   ]
  },
  {
   "cell_type": "markdown",
   "metadata": {},
   "source": [
    "It has been called a <b>“gem”</b> and “pretty much the coolest thing ever,” and if you have not heard of it, then you are missing out on one of the greatest corners of the Python 3 standard library: itertools.\n",
    "\n",
    "The thing about itertools, though, is that it is not enough to just know the definitions of the functions it contains. The real power lies in composing these functions to create fast, memory-efficient, and good-looking code.\n",
    "\n",
    "Rather than introducing itertools to you one function at a time, you will construct practical examples designed to encourage you to “think iteratively.” In general, the examples will start simple and gradually increase in complexity.\n",
    "\n",
    "A word of warning: this article is long and intended for the intermediate-to-advanced Python programmer. Before diving in, you should be confident using iterators and generators in Python 3, multiple assignment, and tuple unpacking. If you aren’t, or if you need to brush up on your knowledge, consider checking out the following before reading on:\n",
    "\n",
    "### What Is Itertools and Why Should You Use It?\n"
   ]
  },
  {
   "cell_type": "markdown",
   "metadata": {},
   "source": [
    "According to the itertools docs, it is a “module [that] implements a number of iterator building blocks inspired by constructs from APL, Haskell, and SML… Together, they form an ‘iterator algebra’ making it possible to construct specialized tools succinctly and efficiently in pure Python.”\n",
    "\n",
    "Loosely speaking, this means that the functions in itertools “operate” on iterators to produce more complex iterators. Consider, for example, the built-in zip() function, which takes any number of iterables as arguments and returns an iterator over tuples of their corresponding elements:"
   ]
  },
  {
   "cell_type": "code",
   "execution_count": null,
   "metadata": {},
   "outputs": [],
   "source": [
    "list(zip([1, 2, 3], ['a', 'b', 'c']))"
   ]
  },
  {
   "cell_type": "markdown",
   "metadata": {},
   "source": [
    "#### How, exactly, does zip() work?\n",
    "\n",
    "[1, 2, 3] and ['a', 'b', 'c'], like all lists, are iterable, which means they can return their elements one at a time. Technically, any Python object that implements the .__iter__() or .__getitem__() methods is iterable. (See the Python 3 docs glossary for a more detailed explanation.)\n",
    "\n",
    "The iter() built-in function, when called on an iterable, returns an iterator object for that iterable:"
   ]
  },
  {
   "cell_type": "code",
   "execution_count": null,
   "metadata": {},
   "outputs": [],
   "source": [
    "iter([1, 2, 3, 4])"
   ]
  },
  {
   "cell_type": "markdown",
   "metadata": {},
   "source": [
    "Under the hood, the zip() function works, in essence, by calling iter() on each of its arguments, then advancing each iterator returned by iter() with next() and aggregating the results into tuples. The iterator returned by zip() iterates over these tuples.\n",
    "\n",
    "The map() built-in function is another “iterator operator” that, in its simplest form, applies a single-parameter function to each element of an iterable one element at a time:"
   ]
  },
  {
   "cell_type": "code",
   "execution_count": null,
   "metadata": {},
   "outputs": [],
   "source": [
    "list(map(len, ['abc', 'de', 'fghi']))"
   ]
  },
  {
   "cell_type": "markdown",
   "metadata": {},
   "source": [
    "The map() function works by calling iter() on its second argument, advancing this iterator with next() until the iterator is exhausted, and applying the function passed to its first argument to the value returned by next() at each step. In the above example, len() is called on each element of ['abc', 'de', 'fghi'] to return an iterator over the lengths of each string in the list.\n",
    "\n",
    "Since iterators are iterable, you can compose zip() and map() to produce an iterator over combinations of elements in more than one iterable. For example, the following sums corresponding elements of two lists:"
   ]
  },
  {
   "cell_type": "code",
   "execution_count": null,
   "metadata": {},
   "outputs": [],
   "source": [
    "list(map(sum, zip([1, 2, 3], [4, 5, 6])))"
   ]
  },
  {
   "cell_type": "markdown",
   "metadata": {},
   "source": [
    "This is what is meant by the functions in itertools forming an “iterator algebra.” itertools is best viewed as a collection of building blocks that can be combined to form specialized “data pipelines” like the one in the example above.\n",
    "\n",
    "            Historical Note: In Python 2, the built-in zip() and map() functions do not return an iterator, but rather a list. To return an iterator, the izip() and imap() functions of itertools must be used. In Python 3, izip() and imap() have been removed from itertools and replaced the zip() and map() built-ins. So, in a way, if you have ever used zip() or map() in Python 3, you have already been using itertools!\n",
    "            \n",
    "There are two main reasons why such an “iterator algebra” is useful: improved memory efficiency (via lazy evaluation) and faster execuction time. To see this, consider the following problem:\n",
    "\n",
    "        Given a list of values inputs and a positive integer n, write a function that splits inputs into groups of length n. For simplicity, assume that the length of the input list is divisible by n. For example, if inputs = [1, 2, 3, 4, 5, 6] and n = 2, your function should return [(1, 2), (3, 4), (5, 6)].\n",
    "        \n",
    "Taking a naive approach, you might write something like this:"
   ]
  },
  {
   "cell_type": "code",
   "execution_count": null,
   "metadata": {},
   "outputs": [],
   "source": [
    "def naive_grouper(inputs, n):\n",
    "    num_groups = len(inputs) // n\n",
    "    return [tuple(inputs[i*n:(i+1)*n]) for i in range(num_groups)]"
   ]
  },
  {
   "cell_type": "code",
   "execution_count": null,
   "metadata": {},
   "outputs": [],
   "source": [
    "nums = [1, 2, 3, 4, 5, 6, 7, 8, 9, 10]\n",
    "naive_grouper(nums, 2)"
   ]
  },
  {
   "cell_type": "markdown",
   "metadata": {},
   "source": [
    "What happens when you try to pass it a list with, say, 100 million elements? You will need a whole lot of available memory! Even if you have enough memory available, your program will hang for a while until the output list is populated.\n",
    "\n",
    "To see this, store the following in a script called naive.py:\n",
    "        \n",
    "        def naive_grouper(inputs, n):\n",
    "            num_groups = len(inputs) // n\n",
    "            return [tuple(inputs[i*n:(i+1)*n]) for i in range(num_groups)]\n",
    "\n",
    "\n",
    "        for _ in naive_grouper(range(100000000), 10):\n",
    "            pass\n",
    "            \n",
    "From the console, you can use the time command (on UNIX systems) to measure memory usage and CPU user time. Make sure you have at least 5GB of free memory before executing the following:\n",
    "\n",
    "\n",
    "        $ time -f \"Memory used (kB): %M\\nUser time (seconds): %U\" python3 naive.py\n",
    "        Memory used (kB): 4551872\n",
    "        User time (seconds): 11.04\n",
    "        \n",
    "The list and tuple implementation in naive_grouper() requires approximately 4.5GB of memory to process range(100000000). Working with iterators drastically improves this situation. Consider the following:\n"
   ]
  },
  {
   "cell_type": "code",
   "execution_count": null,
   "metadata": {},
   "outputs": [],
   "source": [
    "def better_grouper(inputs, n):\n",
    "    iters = [iter(inputs)] * n\n",
    "    return zip(*iters)"
   ]
  },
  {
   "cell_type": "code",
   "execution_count": null,
   "metadata": {},
   "outputs": [],
   "source": [
    "nums = [1, 2, 3, 4, 5, 6, 7, 8, 9, 10]\n",
    "iters = [iter(nums)] * 2\n",
    "list(id(itr) for itr in iters)"
   ]
  },
  {
   "cell_type": "markdown",
   "metadata": {},
   "source": [
    "Next, zip(*iters) returns an iterator over pairs of corresponding elements of each iterator in iters. When the first element, 1, is taken from the “first” iterator, the “second” iterator now starts at 2 since it is just a reference to the “first” iterator and has therefore been advanced one step. So, the first tuple produced by zip() is (1, 2).\n",
    "\n",
    "At this point, “both” iterators in iters start at 3, so when zip() pulls 3 from the “first” iterator, it gets 4 from the “second” to produce the tuple (3, 4). This process continues until zip() finally produces (9, 10) and “both” iterators in iters are exhausted:"
   ]
  },
  {
   "cell_type": "code",
   "execution_count": null,
   "metadata": {},
   "outputs": [],
   "source": [
    "nums = [1, 2, 3, 4, 5, 6, 7, 8, 9, 10]\n",
    "list(better_grouper(nums, 2))"
   ]
  },
  {
   "cell_type": "markdown",
   "metadata": {},
   "source": [
    "The better_grouper() function is better for a couple of reasons. First, without the reference to the len() built-in, better_grouper() can take any iterable as an argument (even infinite iterators). Second, by returning an iterator rather than a list, better_grouper() can process enormous iterables without trouble and uses much less memory.\n",
    "\n",
    "Store the following in a file called better.py and run it with time from the console again:\n",
    "\n",
    "        def better_grouper(inputs, n):\n",
    "            iters = [iter(inputs)] * n\n",
    "            return zip(*iters)\n",
    "\n",
    "\n",
    "        for _ in better_grouper(range(100000000), 10):\n",
    "            pass\n",
    "            \n",
    "$ time -f \"Memory used (kB): %M\\nUser time (seconds): %U\" python3 better.py\n",
    "Memory used (kB): 7224\n",
    "User time (seconds): 2.48\n",
    "\n",
    "That’s a whopping 630 times less memory used than naive.py in less than a quarter of the time!\n",
    "\n",
    "Now that you’ve seen what itertools is (“iterator algebra”) and why you should use it (improved memory efficiency and faster execution time), let’s take a look at how to take better_grouper() to the next level with itertools.\n",
    "\n",
    "### The grouper Recipe\n",
    "\n",
    "The problem with better_grouper() is that it doesn’t handle situations where the value passed to the second argument isn’t a factor of the length of the iterable in the first argument:\n",
    "\n"
   ]
  },
  {
   "cell_type": "code",
   "execution_count": null,
   "metadata": {},
   "outputs": [],
   "source": [
    "nums = [1, 2, 3, 4, 5, 6, 7, 8, 9, 10]\n",
    "list(better_grouper(nums, 4))"
   ]
  },
  {
   "cell_type": "markdown",
   "metadata": {},
   "source": [
    "The elements 9 and 10 are missing from the grouped output. This happens because zip() stops aggregating elements once the shortest iterable passed to it is exhausted. It would make more sense to return a third group containing 9 and 10.\n",
    "\n",
    "To do this, you can use itertools.zip_longest(). This function accepts any number of iterables as arguments and a fillvalue keyword argument that defaults to None. The easiest way to get a sense of the difference between zip() and zip_longest() is to look at some example output:"
   ]
  },
  {
   "cell_type": "code",
   "execution_count": null,
   "metadata": {},
   "outputs": [],
   "source": [
    "import itertools as it\n",
    "x = [1, 2, 3, 4, 5]\n",
    "y = ['a', 'b', 'c']\n",
    "list(zip(x, y))"
   ]
  },
  {
   "cell_type": "code",
   "execution_count": null,
   "metadata": {},
   "outputs": [],
   "source": [
    "list(it.zip_longest(x, y))"
   ]
  },
  {
   "cell_type": "markdown",
   "metadata": {},
   "source": [
    "With this in mind, replace zip() in better_grouper() with zip_longest():"
   ]
  },
  {
   "cell_type": "code",
   "execution_count": null,
   "metadata": {},
   "outputs": [],
   "source": [
    "import itertools as it\n",
    "\n",
    "\n",
    "def grouper(inputs, n, fillvalue=None):\n",
    "    iters = [iter(inputs)] * n\n",
    "    return it.zip_longest(*iters, fillvalue=fillvalue)"
   ]
  },
  {
   "cell_type": "markdown",
   "metadata": {},
   "source": [
    "Now you get a better result:"
   ]
  },
  {
   "cell_type": "code",
   "execution_count": null,
   "metadata": {},
   "outputs": [],
   "source": [
    "nums = [1, 2, 3, 4, 5, 6, 7, 8, 9, 10]\n",
    "print(list(grouper(nums, 4)))"
   ]
  },
  {
   "cell_type": "markdown",
   "metadata": {},
   "source": [
    "The grouper() function can be found in the Recipes section of the itertools docs. The recipes are an excellent source of inspiration for ways to use itertools to your advantage.\n",
    "\n",
    "        Note: From this point forward, the line import itertools as it will not be included at the beginning of examples. All itertools methods in code examples are prefaced with it. The module import is implied.\n",
    "\n",
    "        If you get a NameError: name 'itertools' is not defined or a NameError: name 'it' is not defined exception when running one of the examples in this tutorial you’ll need to import the itertools module first.\n",
    "\n",
    "\n",
    "### Brute Force!\n",
    "\n",
    "Here’s a common interview-style problem:\n",
    "\n",
    "You have three $20 dollar bills, five $10 dollar bills, two $5 dollar bills, and five $1 dollar bills. How many ways can you make change for a $100 dollar bill?\n",
    "\n",
    "To “brute force” this problem, you just start listing off the ways there are to choose one bill from your wallet, check whether any of these makes change for $100, then list the ways to pick two bills from your wallet, check again, and so on and so forth.\n",
    "\n",
    "But you are a programmer, so naturally you want to automate this process.\n",
    "\n",
    "First, create a list of the bills you have in your wallet:\n",
    "\n",
    "bills = [20, 20, 20, 10, 10, 10, 10, 10, 5, 5, 1, 1, 1, 1, 1]\n",
    "\n",
    "A choice of k things from a set of n things is called a <b>combination</b>, and itertools has your back here. The <b>itertools.combinations()</b> function takes two arguments—an iterable inputs and a positive integer n—and produces an iterator over tuples of all combinations of n elements in inputs.\n",
    "\n",
    "For example, to list the combinations of three bills in your wallet, just do:"
   ]
  },
  {
   "cell_type": "code",
   "execution_count": null,
   "metadata": {},
   "outputs": [],
   "source": [
    "bills = [20, 20, 20, 10, 10, 10, 10, 10, 5, 5, 1, 1, 1, 1, 1]\n",
    "list(it.combinations(bills, 3))"
   ]
  },
  {
   "cell_type": "markdown",
   "metadata": {},
   "source": [
    "To solve the problem, you can loop over the positive integers from 1 to len(bills), then check which combinations of each size add up to $100:"
   ]
  },
  {
   "cell_type": "code",
   "execution_count": null,
   "metadata": {},
   "outputs": [],
   "source": [
    "makes_100 = []\n",
    "for n in range(1, len(bills) + 1):\n",
    "    for combination in it.combinations(bills, n):\n",
    "        if sum(combination) == 100:\n",
    "            makes_100.append(combination)"
   ]
  },
  {
   "cell_type": "markdown",
   "metadata": {},
   "source": [
    "If you print out makes_100, you will notice there are a lot of repeated combinations. This makes sense because you can make change for $100 with three $20 dollar bills and four $10 bills, but combinations() does this with the first four $10 dollars bills in your wallet; the first, third, fourth and fifth $10 dollar bills; the first, second, fourth and fifth $10 bills; and so on.\n",
    "\n",
    "To remove duplicates from makes_100, you can convert it to a set:"
   ]
  },
  {
   "cell_type": "code",
   "execution_count": null,
   "metadata": {},
   "outputs": [],
   "source": [
    "set(makes_100)"
   ]
  },
  {
   "cell_type": "markdown",
   "metadata": {},
   "source": [
    "So, there are five ways to make change for a $100 bill with the bills you have in your wallet.\n",
    "\n",
    "Here’s a variation on the same problem:\n",
    "\n",
    "How many ways are there to make change for a $100 bill using any number of $50, $20, $10, $5, and $1 dollar bills?\n",
    "\n",
    "In this case, you don’t have a pre-set collection of bills, so you need a way to generate all possible combinations using any number of bills. For this, you’ll need the itertools.combinations_with_replacement() function.\n",
    "\n",
    "It works just like combinations(), accepting an iterable inputs and a positive integer n, and returns an iterator over n-tuples of elements from inputs. The difference is that combinations_with_replacement() allows elements to be repeated in the tuples it returns.\n",
    "\n",
    "For example:"
   ]
  },
  {
   "cell_type": "code",
   "execution_count": null,
   "metadata": {},
   "outputs": [],
   "source": [
    "list(it.combinations_with_replacement([1, 2], 2))\n"
   ]
  },
  {
   "cell_type": "markdown",
   "metadata": {},
   "source": [
    "Compare that to combinations():"
   ]
  },
  {
   "cell_type": "code",
   "execution_count": null,
   "metadata": {},
   "outputs": [],
   "source": [
    "list(it.combinations([1, 2], 2))"
   ]
  },
  {
   "cell_type": "markdown",
   "metadata": {},
   "source": [
    "Here’s what the solution to the revised problem looks like:\n",
    "\n"
   ]
  },
  {
   "cell_type": "code",
   "execution_count": null,
   "metadata": {},
   "outputs": [],
   "source": [
    "import itertools as it\n",
    "\n",
    "bills = [50, 20, 10, 5, 1]\n",
    "makes_100 = []\n",
    "for n in range(1, 101):\n",
    "    for combination in it.combinations_with_replacement(bills, n):\n",
    "        if sum(combination) == 100:\n",
    "            makes_100.append(combination)"
   ]
  },
  {
   "cell_type": "markdown",
   "metadata": {},
   "source": [
    "In this case, you do not need to remove any duplicates since combinations_with_replacement() won’t produce any:"
   ]
  },
  {
   "cell_type": "code",
   "execution_count": null,
   "metadata": {},
   "outputs": [],
   "source": [
    "len(makes_100)"
   ]
  },
  {
   "cell_type": "markdown",
   "metadata": {},
   "source": [
    "If you run the above solution, you may notice that it takes a while for the output to display. That is because it has to process 96,560,645 combinations!\n",
    "\n",
    "Another “brute force” itertools function is permutations(), which accepts a single iterable and produces all possible permutations (rearrangements) of its elements:"
   ]
  },
  {
   "cell_type": "code",
   "execution_count": null,
   "metadata": {},
   "outputs": [],
   "source": [
    "list(it.permutations(['a', 'b', 'c']))"
   ]
  },
  {
   "cell_type": "markdown",
   "metadata": {},
   "source": [
    "Any iterable of three elements will have six permutations, and the number of permutations of longer iterables grows extremely fast. In fact, an iterable of length n has n! permutations, where\n",
    "\n",
    "Definition of a factorial\n",
    "    n! = n*(n-1)*(n-2)*........*3*2*1\n",
    "\n",
    "To put this in perspective, here’s a table of these numbers for n = 1 to n = 10:\n",
    "\n",
    "        n\tn!\n",
    "        \n",
    "        2\t2\n",
    "        3\t6\n",
    "        4\t24\n",
    "        5\t120\n",
    "        6\t720\n",
    "        7\t5,040\n",
    "        8\t40,320\n",
    "        9\t362,880\n",
    "        10\t3,628,800\n",
    "        \n",
    "The phenomenon of just a few inputs producing a large number of outcomes is called a combinatorial explosion and is something to keep in mind when working with <b>combinations(), combinations_with_replacement(), and permutations()</b>.\n",
    "\n",
    "It is usually best to avoid brute force algorithms, although there are times you may need to use one (for example, if the correctness of the algorithm is critical, or every possible outcome must be considered). In that case, itertools has you covered.\n",
    "\n",
    "### Section Recap\n",
    "\n",
    "In this section you met three itertools functions: combinations(), combinations_with_replacement(), and permutations().\n",
    "\n",
    "Let’s review these functions before moving on:\n",
    "\n",
    "#### itertools.combinations \n",
    "\n",
    "Example\n",
    "combinations(iterable, n)\n",
    "\n",
    "    Return successive n-length combinations of elements in the iterable.\n",
    "\n",
    "    >>> combinations([1, 2, 3], 2)\n",
    "    (1, 2), (1, 3), (2, 3)\n",
    "    itertools.combinations_with_replacement Example\n",
    "    combinations_with_replacement(iterable, n)\n",
    "\n",
    "    Return successive n-length combinations of elements in the iterable allowing individual elements to have successive repeats.\n",
    "\n",
    "    >>> combinations_with_replacement([1, 2], 2)\n",
    "    (1, 1), (1, 2), (2, 2)\n",
    "    itertools.permutations Example\n",
    "    permutations(iterable, n=None)\n",
    "\n",
    "    Return successive n-length permutations of elements in the iterable.\n",
    "\n",
    "    >>> permutations('abc')\n",
    "    ('a', 'b', 'c'), ('a', 'c', 'b'), ('b', 'a', 'c'),\n",
    "    ('b', 'c', 'a'), ('c', 'a', 'b'), ('c', 'b', 'a')\n",
    "\n",
    "## Sequences of Numbers\n",
    "\n",
    "With itertools, you can easily generate iterators over infinite sequences. In this section, you will explore numeric sequences, but the tools and techniques seen here are by no means limited to numbers.\n",
    "\n",
    "### Evens and Odds\n",
    "\n",
    "For the first example, you will create a pair of iterators over even and odd integers without explicitly doing any arithmetic. Before diving in, let’s look at an arithmetic solution using generators:"
   ]
  },
  {
   "cell_type": "code",
   "execution_count": 1,
   "metadata": {},
   "outputs": [],
   "source": [
    "def evens():\n",
    "    \"\"\"Generate even integers, starting with 0.\"\"\"\n",
    "    n = 0\n",
    "    while True:\n",
    "        yield n\n",
    "        n += 2"
   ]
  },
  {
   "cell_type": "code",
   "execution_count": 2,
   "metadata": {},
   "outputs": [],
   "source": [
    "evens = evens()"
   ]
  },
  {
   "cell_type": "code",
   "execution_count": 3,
   "metadata": {},
   "outputs": [
    {
     "data": {
      "text/plain": [
       "[0, 2, 4, 6, 8]"
      ]
     },
     "execution_count": 3,
     "metadata": {},
     "output_type": "execute_result"
    }
   ],
   "source": [
    "list(next(evens) for _ in range(5))"
   ]
  },
  {
   "cell_type": "code",
   "execution_count": 4,
   "metadata": {},
   "outputs": [],
   "source": [
    "def odds():\n",
    "    \"\"\"Generate odd integers, starting with 1.\"\"\"\n",
    "    n = 1\n",
    "    while True:\n",
    "        yield n\n",
    "        n += 2"
   ]
  },
  {
   "cell_type": "code",
   "execution_count": 5,
   "metadata": {},
   "outputs": [
    {
     "data": {
      "text/plain": [
       "[1, 3, 5, 7, 9]"
      ]
     },
     "execution_count": 5,
     "metadata": {},
     "output_type": "execute_result"
    }
   ],
   "source": [
    "odds = odds()\n",
    "list(next(odds) for _ in range(5))"
   ]
  },
  {
   "cell_type": "markdown",
   "metadata": {},
   "source": [
    "That is pretty straightforward, but with itertools you can do this much more compactly. The function you need is itertools.count(), which does exactly what it sounds like: it counts, starting by default with the number 0.\n",
    "\n"
   ]
  },
  {
   "cell_type": "code",
   "execution_count": 7,
   "metadata": {},
   "outputs": [
    {
     "data": {
      "text/plain": [
       "[0, 1, 2, 3, 4]"
      ]
     },
     "execution_count": 7,
     "metadata": {},
     "output_type": "execute_result"
    }
   ],
   "source": [
    "import itertools as it\n",
    "counter = it.count()\n",
    "list(next(counter) for _ in range(5))"
   ]
  },
  {
   "cell_type": "markdown",
   "metadata": {},
   "source": [
    "You can start counting from any number you like by setting the start keyword argument, which defaults to 0. You can even set a step keyword argument to determine the interval between numbers returned from count()—this defaults to 1.\n",
    "\n",
    "With count(), iterators over even and odd integers become literal one-liners:"
   ]
  },
  {
   "cell_type": "code",
   "execution_count": 8,
   "metadata": {},
   "outputs": [
    {
     "data": {
      "text/plain": [
       "[0, 2, 4, 6, 8]"
      ]
     },
     "execution_count": 8,
     "metadata": {},
     "output_type": "execute_result"
    }
   ],
   "source": [
    "evens = it.count(step=2)\n",
    "list(next(evens) for _ in range(5))"
   ]
  },
  {
   "cell_type": "code",
   "execution_count": 9,
   "metadata": {},
   "outputs": [
    {
     "data": {
      "text/plain": [
       "[1, 3, 5, 7, 9]"
      ]
     },
     "execution_count": 9,
     "metadata": {},
     "output_type": "execute_result"
    }
   ],
   "source": [
    "odds = it.count(start=1, step=2)\n",
    "list(next(odds) for _ in range(5))"
   ]
  },
  {
   "cell_type": "markdown",
   "metadata": {},
   "source": [
    "Ever since Python 3.1, the count() function also accepts non-integer arguments:\n",
    "You can even pass it negative numbers:"
   ]
  },
  {
   "cell_type": "code",
   "execution_count": 11,
   "metadata": {},
   "outputs": [
    {
     "data": {
      "text/plain": [
       "[0.5, 1.25, 2.0, 2.75, 3.5]"
      ]
     },
     "execution_count": 11,
     "metadata": {},
     "output_type": "execute_result"
    }
   ],
   "source": [
    "count_with_floats = it.count(start=0.5, step=0.75)\n",
    "list(next(count_with_floats) for _ in range(5))"
   ]
  },
  {
   "cell_type": "code",
   "execution_count": 12,
   "metadata": {},
   "outputs": [
    {
     "data": {
      "text/plain": [
       "[-1, -1.5, -2.0, -2.5, -3.0]"
      ]
     },
     "execution_count": 12,
     "metadata": {},
     "output_type": "execute_result"
    }
   ],
   "source": [
    "negative_count = it.count(start=-1, step=-0.5)\n",
    "list(next(negative_count) for _ in range(5))"
   ]
  },
  {
   "cell_type": "markdown",
   "metadata": {},
   "source": [
    "In some ways, count() is similar to the built-in range() function, but count() always returns an infinite sequence. You might wonder what good an infinite sequence is since it’s impossible to iterate over completely. That is a valid question, and I admit the first time I was introduced to infinite iterators, I too didn’t quite see the point.\n",
    "\n",
    "The example that made me realize the power of the infinite iterator was the following, which emulates the behavior of the built-in enumerate() function:\n"
   ]
  },
  {
   "cell_type": "code",
   "execution_count": 13,
   "metadata": {},
   "outputs": [
    {
     "data": {
      "text/plain": [
       "[(0, 'a'), (1, 'b'), (2, 'c')]"
      ]
     },
     "execution_count": 13,
     "metadata": {},
     "output_type": "execute_result"
    }
   ],
   "source": [
    "list(zip(it.count(), ['a', 'b', 'c']))"
   ]
  },
  {
   "cell_type": "markdown",
   "metadata": {},
   "source": [
    "It is a simple example, but think about it: you just enumerated a list without a for loop and without knowing the length of the list ahead of time.\n",
    "\n",
    "### Recurrence Relations\n",
    "\n",
    "A recurrence relation is a way of describing a sequence of numbers with a recursive formula. One of the best-known recurrence relations is the one that describes the <b>Fibonacci sequence.</b>\n",
    "\n",
    "The Fibonacci sequence is the sequence 0, 1, 1, 2, 3, 5, 8, 13, .... It starts with 0 and 1, and each subsequent number in the sequence is the sum of the previous two. The numbers in this sequence are called the Fibonacci numbers. In mathematical notation, the recurrence relation describing the n-th Fibonacci number looks like this:\n",
    "\n",
    "<img src=\"https://files.realpython.com/media/fibonacci.cf3bafbe6578.png\" width = 300px>\n",
    "\n",
    "    Note: If you search Google, you will find a host of implementations of these numbers in Python. You can find a recursive function that produces them in the Thinking Recursively in Python article here on Real Python.\n",
    "    \n",
    "It is common to see the Fibonacci sequence produced with a generator:"
   ]
  },
  {
   "cell_type": "code",
   "execution_count": 15,
   "metadata": {},
   "outputs": [],
   "source": [
    "def fibs():\n",
    "    a, b = 0, 1\n",
    "    while True:\n",
    "        yield a\n",
    "        a, b = b, a + b"
   ]
  },
  {
   "cell_type": "markdown",
   "metadata": {},
   "source": [
    "The recurrence relation describing the Fibonacci numbers is called a second order recurrence relation because, to calculate the next number in the sequence, you need to look back two numbers behind it.\n",
    "\n",
    "In general, second order recurrence relations have the form:\n",
    "\n",
    "<img src=\"https://files.realpython.com/media/second_order.b210039d7890.png\" width = 300>\n",
    "\n",
    "Here, P, Q, and R are constants. To generate the sequence, you need two initial values. For the Fibonacci numbers, P = Q = 1, R = 0, and the initial values are 0 and 1.\n",
    "\n",
    "As you might guess, a first order recurrence relation has the following form:\n",
    "\n",
    "<img src = \"https://files.realpython.com/media/first_order.fca566e6fd61.png\" width = 200>\n",
    "\n",
    "There are countless sequences of numbers that can be described by first and second order recurrence relations. For example, the positive integers can be described as a first order recurrence relation with P = Q = 1 and initial value 1. For the even integers, take P = 1 and Q = 2 with initial value 0.\n",
    "\n",
    "In this section, you will construct functions for producing any sequence whose values can be described with a first or second order recurrence relation.\n",
    "\n",
    "### First Order Recurrence Relations\n",
    "\n",
    "You’ve already seen how count() can generate the sequence of non-negative integers, the even integers, and the odd integers. You can also use it to generate the sequence 3n = 0, 3, 6, 9, 12, … and 4n = 0, 4, 8, 12, 16, ….\n",
    "\n"
   ]
  },
  {
   "cell_type": "code",
   "execution_count": 16,
   "metadata": {},
   "outputs": [],
   "source": [
    "count_by_three = it.count(step=3)\n",
    "count_by_four = it.count(step=4)"
   ]
  },
  {
   "cell_type": "code",
   "execution_count": 17,
   "metadata": {},
   "outputs": [
    {
     "data": {
      "text/plain": [
       "count(0, 3)"
      ]
     },
     "execution_count": 17,
     "metadata": {},
     "output_type": "execute_result"
    }
   ],
   "source": [
    "count_by_three"
   ]
  },
  {
   "cell_type": "markdown",
   "metadata": {},
   "source": [
    "In fact, count() can produce sequences of multiples of any number you wish. These sequences can be described with first-order recurrence relations. For example, to generate the sequence of multiples of some number n, just take P = 1, Q = n, and initial value 0.\n",
    "\n",
    "Another easy example of a first-order recurrence relation is the constant sequence n, n, n, n, n…, where n is any value you’d like. For this sequence, set P = 1 and Q = 0 with initial value n. itertools provides an easy way to implement this sequence as well, with the repeat() function:\n",
    "\n"
   ]
  },
  {
   "cell_type": "code",
   "execution_count": 18,
   "metadata": {},
   "outputs": [],
   "source": [
    "all_ones = it.repeat(1)\n",
    "all_twos = it.repeat(2)"
   ]
  },
  {
   "cell_type": "markdown",
   "metadata": {},
   "source": [
    "If you need a finite sequence of repeated values, you can set a stopping point by passing a positive integer as a second argument:\n",
    "\n"
   ]
  },
  {
   "cell_type": "code",
   "execution_count": 19,
   "metadata": {},
   "outputs": [],
   "source": [
    "five_ones = it.repeat(1, 5)\n",
    "three_fours = it.repeat(4, 3)"
   ]
  },
  {
   "cell_type": "markdown",
   "metadata": {},
   "source": [
    "What may not be quite as obvious is that the sequence 1, -1, 1, -1, 1, -1, ... of alternating 1s and -1s can also be described by a first order recurrence relation. Just take P = -1, Q = 0, and initial value 1.\n",
    "\n",
    "There’s an easy way to generate this sequence with the itertools.cycle() function. This function takes an iterable inputs as an argument and returns an infinite iterator over the values in inputs that returns to the beginning once the end of inputs is reached. So, to produce the alternating sequence of 1s and -1s, you could do this:"
   ]
  },
  {
   "cell_type": "code",
   "execution_count": 21,
   "metadata": {},
   "outputs": [
    {
     "data": {
      "text/plain": [
       "<itertools.cycle at 0x2d3d373e900>"
      ]
     },
     "execution_count": 21,
     "metadata": {},
     "output_type": "execute_result"
    }
   ],
   "source": [
    "alternating_ones = it.cycle([1, -1])\n",
    "alternating_ones"
   ]
  },
  {
   "cell_type": "markdown",
   "metadata": {},
   "source": [
    "The goal of this section, though, is to produce a single function that can generate any first order recurrence relation—just pass it P, Q, and an initial value. One way to do this is with itertools.accumulate().\n",
    "\n",
    "The accumulate() function takes two arguments—an iterable inputs and a binary function func (that is, a function with exactly two inputs)—and returns an iterator over accumulated results of applying func to elements of inputs. It is roughly equivalent to the following generator:"
   ]
  },
  {
   "cell_type": "code",
   "execution_count": 22,
   "metadata": {},
   "outputs": [],
   "source": [
    "def accumulate(inputs, func):\n",
    "    itr = iter(inputs)\n",
    "    prev = next(itr)\n",
    "    for cur in itr:\n",
    "        yield prev\n",
    "        prev = func(prev, cur)"
   ]
  },
  {
   "cell_type": "markdown",
   "metadata": {},
   "source": [
    "The first value in the iterator returned by accumulate() is always the first value in the input sequence. In the above example, this is 1—the first value in [1, 2, 3, 4, 5].\n",
    "\n",
    "The next value in the output iterator is the sum of the first two elements of the input sequence: add(1, 2) = 3. To produce the next value, accumulate() takes the result of add(1, 2) and adds this to the third value in the input sequence:\n",
    "\n",
    "    add(3, 3) = add(add(1, 2), 3) = 6\n",
    "    \n",
    "The fourth value produced by accumulate() is add(add(add(1, 2), 3), 4) = 10, and so on.\n",
    "\n",
    "The second argument of accumulate() defaults to operator.add(), so the previous example can be simplified to:"
   ]
  },
  {
   "cell_type": "code",
   "execution_count": 23,
   "metadata": {},
   "outputs": [
    {
     "data": {
      "text/plain": [
       "[1, 3, 6, 10, 15]"
      ]
     },
     "execution_count": 23,
     "metadata": {},
     "output_type": "execute_result"
    }
   ],
   "source": [
    "list(it.accumulate([1, 2, 3, 4, 5]))"
   ]
  },
  {
   "cell_type": "markdown",
   "metadata": {},
   "source": [
    "Passing the built-in min() to accumulate() will keep track of a running minimum:\n",
    "\n"
   ]
  },
  {
   "cell_type": "code",
   "execution_count": 24,
   "metadata": {},
   "outputs": [
    {
     "data": {
      "text/plain": [
       "[9, 9, 9, 5, 5, 5, 2, 2]"
      ]
     },
     "execution_count": 24,
     "metadata": {},
     "output_type": "execute_result"
    }
   ],
   "source": [
    " list(it.accumulate([9, 21, 17, 5, 11, 12, 2, 6], min))"
   ]
  },
  {
   "cell_type": "markdown",
   "metadata": {},
   "source": [
    "More complex functions can be passed to accumulate() with lambda expressions:\n",
    "\n"
   ]
  },
  {
   "cell_type": "code",
   "execution_count": 25,
   "metadata": {},
   "outputs": [
    {
     "data": {
      "text/plain": [
       "[1, 1.5, 2.25, 3.125, 4.0625]"
      ]
     },
     "execution_count": 25,
     "metadata": {},
     "output_type": "execute_result"
    }
   ],
   "source": [
    "list(it.accumulate([1, 2, 3, 4, 5], lambda x, y: (x + y) / 2))"
   ]
  },
  {
   "cell_type": "markdown",
   "metadata": {},
   "source": [
    "The order of the arguments in the binary function passed to accumulate() is important. The first argument is always the previously accumulated result and the second argument is always the next element of the input iterable. For example, consider the difference in output of the following expressions:\n",
    "\n"
   ]
  },
  {
   "cell_type": "code",
   "execution_count": 26,
   "metadata": {},
   "outputs": [
    {
     "data": {
      "text/plain": [
       "[1, -1, -4, -8, -13]"
      ]
     },
     "execution_count": 26,
     "metadata": {},
     "output_type": "execute_result"
    }
   ],
   "source": [
    "list(it.accumulate([1, 2, 3, 4, 5], lambda x, y: x - y))"
   ]
  },
  {
   "cell_type": "code",
   "execution_count": 27,
   "metadata": {},
   "outputs": [
    {
     "data": {
      "text/plain": [
       "[1, 1, 2, 2, 3]"
      ]
     },
     "execution_count": 27,
     "metadata": {},
     "output_type": "execute_result"
    }
   ],
   "source": [
    "list(it.accumulate([1, 2, 3, 4, 5], lambda x, y: y - x))"
   ]
  },
  {
   "cell_type": "markdown",
   "metadata": {},
   "source": [
    "To model a recurrence relation, you can just ignore the second argument of the binary function passed to accumulate(). That is, given values p, q, and s, lambda x, _: p*s + q will return the value following x in the recurrence relation defined by sᵢ = Psᵢ₋₁ + Q.\n",
    "\n",
    "In order for accumulate() to iterate over the resulting recurrence relation, you need to pass to it an infinite sequence with the right initial value. It doesn’t matter what the rest of the values in the sequence are, as long as the initial value is the initial value of the recurrence relation. You can do this is with repeat():\n",
    "\n"
   ]
  },
  {
   "cell_type": "code",
   "execution_count": 28,
   "metadata": {},
   "outputs": [],
   "source": [
    "def first_order(p, q, initial_val):\n",
    "    \"\"\"Return sequence defined by s(n) = p * s(n-1) + q.\"\"\"\n",
    "    return it.accumulate(it.repeat(initial_val), lambda s, _: p*s + q)"
   ]
  },
  {
   "cell_type": "markdown",
   "metadata": {},
   "source": [
    "Using first_order(), you can build the sequences from above as follows:\n",
    "\n"
   ]
  },
  {
   "cell_type": "code",
   "execution_count": 29,
   "metadata": {},
   "outputs": [
    {
     "data": {
      "text/plain": [
       "[0, 2, 4, 6, 8]"
      ]
     },
     "execution_count": 29,
     "metadata": {},
     "output_type": "execute_result"
    }
   ],
   "source": [
    "evens = first_order(p=1, q=2, initial_val=0)\n",
    "list(next(evens) for _ in range(5))"
   ]
  },
  {
   "cell_type": "code",
   "execution_count": 31,
   "metadata": {},
   "outputs": [
    {
     "data": {
      "text/plain": [
       "[1, 3, 5, 7, 9]"
      ]
     },
     "execution_count": 31,
     "metadata": {},
     "output_type": "execute_result"
    }
   ],
   "source": [
    "odds = first_order(p=1, q=2, initial_val=1)\n",
    "list(next(odds) for _ in range(5))"
   ]
  },
  {
   "cell_type": "code",
   "execution_count": 32,
   "metadata": {},
   "outputs": [
    {
     "data": {
      "text/plain": [
       "[0, 3, 6, 9, 12]"
      ]
     },
     "execution_count": 32,
     "metadata": {},
     "output_type": "execute_result"
    }
   ],
   "source": [
    "count_by_threes = first_order(p=1, q=3, initial_val=0)\n",
    "list(next(count_by_threes) for _ in range(5))"
   ]
  },
  {
   "cell_type": "code",
   "execution_count": 33,
   "metadata": {},
   "outputs": [
    {
     "data": {
      "text/plain": [
       "[0, 4, 8, 12, 16]"
      ]
     },
     "execution_count": 33,
     "metadata": {},
     "output_type": "execute_result"
    }
   ],
   "source": [
    "count_by_fours = first_order(p=1, q=4, initial_val=0)\n",
    "list(next(count_by_fours) for _ in range(5))"
   ]
  },
  {
   "cell_type": "code",
   "execution_count": 34,
   "metadata": {},
   "outputs": [
    {
     "data": {
      "text/plain": [
       "[1, 1, 1, 1, 1]"
      ]
     },
     "execution_count": 34,
     "metadata": {},
     "output_type": "execute_result"
    }
   ],
   "source": [
    "all_ones = first_order(p=1, q=0, initial_val=1)\n",
    "list(next(all_ones) for _ in range(5))"
   ]
  },
  {
   "cell_type": "code",
   "execution_count": 35,
   "metadata": {},
   "outputs": [
    {
     "data": {
      "text/plain": [
       "[2, 2, 2, 2, 2]"
      ]
     },
     "execution_count": 35,
     "metadata": {},
     "output_type": "execute_result"
    }
   ],
   "source": [
    "all_twos = first_order(p=1, q=0, initial_val=2)\n",
    "list(next(all_twos) for _ in range(5))"
   ]
  },
  {
   "cell_type": "code",
   "execution_count": 37,
   "metadata": {},
   "outputs": [
    {
     "data": {
      "text/plain": [
       "[1, -1, 1, -1, 1]"
      ]
     },
     "execution_count": 37,
     "metadata": {},
     "output_type": "execute_result"
    }
   ],
   "source": [
    "alternating_ones = first_order(p=-1, q=0, initial_val=1)\n",
    "list(next(alternating_ones) for _ in range(5))"
   ]
  },
  {
   "cell_type": "markdown",
   "metadata": {},
   "source": [
    "Second Order Recurrence Relations\n",
    "Generating sequences described by second order recurrence relations, like the Fibonacci sequence, can be accomplished using a similar technique as the one used for first order recurrence relations.\n",
    "\n",
    "The difference here is that you need to create an intermediate sequence of tuples that keep track of the previous two elements of the sequence, and then map() each of these tuples to their first component to get the final sequence.\n",
    "\n",
    "Here’s what it looks like:"
   ]
  },
  {
   "cell_type": "code",
   "execution_count": 38,
   "metadata": {},
   "outputs": [],
   "source": [
    "def second_order(p, q, r, initial_values):\n",
    "    \"\"\"Return sequence defined by s(n) = p * s(n-1) + q * s(n-2) + r.\"\"\"\n",
    "    intermediate = it.accumulate(\n",
    "        it.repeat(initial_values),\n",
    "        lambda s, _: (s[1], p*s[1] + q*s[0] + r)\n",
    "    )\n",
    "    return map(lambda x: x[0], intermediate)"
   ]
  },
  {
   "cell_type": "markdown",
   "metadata": {},
   "source": [
    "Using second_order(), you can generate the Fibonacci sequence like this:\n",
    "\n"
   ]
  },
  {
   "cell_type": "code",
   "execution_count": 39,
   "metadata": {},
   "outputs": [
    {
     "data": {
      "text/plain": [
       "[0, 1, 1, 2, 3, 5, 8, 13]"
      ]
     },
     "execution_count": 39,
     "metadata": {},
     "output_type": "execute_result"
    }
   ],
   "source": [
    "fibs = second_order(p=1, q=1, r=0, initial_values=(0, 1))\n",
    "list(next(fibs) for _ in range(8))"
   ]
  },
  {
   "cell_type": "markdown",
   "metadata": {},
   "source": [
    "Other sequences can be easily generated by changing the values of p, q, and r. For example, the Pell numbers and the Lucas numbers can be generated as follows:\n",
    "\n"
   ]
  },
  {
   "cell_type": "code",
   "execution_count": 40,
   "metadata": {},
   "outputs": [
    {
     "data": {
      "text/plain": [
       "[0, 1, 2, 5, 12, 29]"
      ]
     },
     "execution_count": 40,
     "metadata": {},
     "output_type": "execute_result"
    }
   ],
   "source": [
    "pell = second_order(p=2, q=1, r=0, initial_values=(0, 1))\n",
    "list(next(pell) for _ in range(6))"
   ]
  },
  {
   "cell_type": "code",
   "execution_count": 41,
   "metadata": {},
   "outputs": [
    {
     "data": {
      "text/plain": [
       "[2, 1, 3, 4, 7, 11]"
      ]
     },
     "execution_count": 41,
     "metadata": {},
     "output_type": "execute_result"
    }
   ],
   "source": [
    "lucas = second_order(p=1, q=1, r=0, initial_values=(2, 1))\n",
    "list(next(lucas) for _ in range(6))"
   ]
  },
  {
   "cell_type": "markdown",
   "metadata": {},
   "source": [
    "You can even generate the alternating Fibonacci numbers:\n",
    "\n"
   ]
  },
  {
   "cell_type": "code",
   "execution_count": 42,
   "metadata": {},
   "outputs": [
    {
     "data": {
      "text/plain": [
       "[-1, 1, -2, 3, -5, 8]"
      ]
     },
     "execution_count": 42,
     "metadata": {},
     "output_type": "execute_result"
    }
   ],
   "source": [
    "alt_fibs = second_order(p=-1, q=1, r=0, initial_values=(-1, 1))\n",
    "list(next(alt_fibs) for _ in range(6))"
   ]
  },
  {
   "cell_type": "markdown",
   "metadata": {},
   "source": [
    "This is all really cool if you are a giant math nerd like I am, but step back for a second and compare second_order() to the fibs() generator from the beginning of this section. Which one is easier to understand?\n",
    "\n",
    "This is a valuable lesson. The accumulate() function is a powerful tool to have in your toolkit, but there are times when using it could mean sacrificing clarity and readability."
   ]
  },
  {
   "cell_type": "markdown",
   "metadata": {},
   "source": [
    "### Section Recap\n",
    "\n",
    "You saw several itertools function in this section. Let’s review those now.\n",
    "\n",
    "#### itertools.count Example\n",
    "\n",
    "    count(start=0, step=1)\n",
    "\n",
    "    Return a count object whose .__next__() method returns consecutive         values.\n",
    "\n",
    "        >>> count()\n",
    "        0, 1, 2, 3, 4, ...\n",
    "\n",
    "        >>> count(start=1, step=2)\n",
    "        1, 3, 5, 7, 9, ...\n",
    "        \n",
    "#### itertools.repeat Example\n",
    "    \n",
    "    repeat(object, times=1)\n",
    "\n",
    "    Create an iterator which returns the object for the specified number of     times. If not specified, returns the object endlessly.\n",
    "\n",
    "        >>> repeat(2)\n",
    "        2, 2, 2, 2, 2 ...\n",
    "\n",
    "        >>> repeat(2, 5)  # Stops after 5 repititions.\n",
    "        2, 2, 2, 2, 2\n",
    "\n",
    "#### itertools.cycle Example\n",
    "    cycle(iterable)\n",
    "\n",
    "    Return elements from the iterable until it is exhausted. Then repeat the sequence indefinitely.\n",
    "\n",
    "        >>> cycle(['a', 'b', 'c'])\n",
    "        a, b, c, a, b, c, a, ...\n",
    "\n",
    "#### itertools accumulate Example\n",
    "    \n",
    "    accumulate(iterable, func=operator.add)\n",
    "\n",
    "    Return series of accumulated sums (or other binary function results).\n",
    "\n",
    "        >>> accumulate([1, 2, 3])\n",
    "        1, 3, 6\n",
    "        Alright, let’s take a break from the math and have some fun with cards."
   ]
  },
  {
   "cell_type": "markdown",
   "metadata": {},
   "source": [
    "## Dealing a Deck of Cards\n",
    "\n",
    "Suppose you are building a Poker app. You’ll need a deck of cards. You might start by defining a list of ranks (ace, king, queen, jack, 10, 9, and so on) and a list of suits (hearts, diamonds, clubs, and spades):"
   ]
  },
  {
   "cell_type": "code",
   "execution_count": 43,
   "metadata": {},
   "outputs": [],
   "source": [
    "ranks = ['A', 'K', 'Q', 'J', '10', '9', '8', '7', '6', '5', '4', '3', '2']\n",
    "suits = ['H', 'D', 'C', 'S']"
   ]
  },
  {
   "cell_type": "markdown",
   "metadata": {},
   "source": [
    "You could represent a card as a tuple whose first element is a rank and second element is a suit. A deck of cards would be a collection of such tuples. The deck should act like the real thing, so it makes sense to define a generator that yields cards one at a time and becomes exhausted once all the cards are dealt.\n",
    "\n",
    "One way to achieve this is to write a generator with a nested for loop over ranks and suits:\n",
    "\n"
   ]
  },
  {
   "cell_type": "code",
   "execution_count": 44,
   "metadata": {},
   "outputs": [],
   "source": [
    "def cards():\n",
    "    \"\"\"Return a generator that yields playing cards.\"\"\"\n",
    "    for rank in ranks:\n",
    "        for suit in suits:\n",
    "            yield rank, suit"
   ]
  },
  {
   "cell_type": "markdown",
   "metadata": {},
   "source": [
    "You could write this more compactly with a generator expression:\n",
    "\n"
   ]
  },
  {
   "cell_type": "code",
   "execution_count": 45,
   "metadata": {},
   "outputs": [],
   "source": [
    "cards = ((rank, suit) for rank in ranks for suit in suits)"
   ]
  },
  {
   "cell_type": "markdown",
   "metadata": {},
   "source": [
    "However, some might argue that this is actually more difficult to understand than the more explicit nested for loop.\n",
    "\n",
    "It helps to view nested for loops from a mathematical standpoint—that is, as a Cartesian product of two or more iterables. In mathematics, the Cartesian product of two sets A and B is the set of all tuples of the form (a, b) where a is an element of A and b is an element of B.\n",
    "\n",
    "Here’s an example with Python iterables: the Cartesian product of A = [1, 2] and B = ['a', 'b'] is [(1, 'a'), (1, 'b'), (2, 'a'), (2, 'b')].\n",
    "\n",
    "The itertools.product() function is for exactly this situation. It takes any number of iterables as arguments and returns an iterator over tuples in the Cartesian product:\n",
    "\n",
    "        it.product([1, 2], ['a', 'b'])  # (1, 'a'), (1, 'b'), (2, 'a'), (2,          'b')\n",
    "\n",
    "The product() function is by no means limited to two iterables. You can pass it as many as you like—they don’t even have to all be of the same size! See if you can predict what product([1, 2, 3], ['a', 'b'], ['c']) is, then check your work by running it in the interpreter.\n",
    "\n",
    "    Warning: The product() function is another “brute force” function and can lead to a combinatorial explosion if you aren’t careful.\n",
    "\n",
    "Using product(), you can re-write the cards in a single line:\n",
    "\n"
   ]
  },
  {
   "cell_type": "code",
   "execution_count": 46,
   "metadata": {},
   "outputs": [],
   "source": [
    "cards = it.product(ranks, suits)"
   ]
  },
  {
   "cell_type": "markdown",
   "metadata": {},
   "source": [
    "This is all fine and dandy, but any Poker app worth its salt better start with a shuffled deck:\n",
    "\n"
   ]
  },
  {
   "cell_type": "code",
   "execution_count": 47,
   "metadata": {},
   "outputs": [],
   "source": [
    "import random\n",
    "\n",
    "def shuffle(deck):\n",
    "    \"\"\"Return iterator over shuffled deck.\"\"\"\n",
    "    deck = list(deck)\n",
    "    random.shuffle(deck)\n",
    "    return iter(tuple(deck))\n",
    "\n",
    "cards = shuffle(cards)"
   ]
  },
  {
   "cell_type": "markdown",
   "metadata": {},
   "source": [
    "    Note: The random.shuffle() function uses the Fisher-Yates shuffle to shuffle a list (or any mutable sequence) in place in O(n) time. This algorithm is well-suited for shuffling cards because it produces an unbiased permutation—that is, all permutations of the iterable are equally likely to be returned by random.shuffle().\n",
    "\n",
    "    That said, you probably noticed that shuffle() creates a copy of its input deck in memory by calling list(deck). While this seemingly goes against the spirit of this article, this author is unaware of a good way to shuffle an iterator without making a copy."
   ]
  },
  {
   "cell_type": "markdown",
   "metadata": {},
   "source": [
    "As a courtesy to your users, you would like to give them the opportunity to cut the deck. If you imagine the cards being stacked neatly on a table, you have the user pick a number n and then remove the first n cards from the top of the stack and move them to the bottom.\n",
    "\n",
    "If you know a thing or two about slicing, you might accomplish this like so:"
   ]
  },
  {
   "cell_type": "code",
   "execution_count": 48,
   "metadata": {},
   "outputs": [],
   "source": [
    "def cut(deck, n):\n",
    "    \"\"\"Return an iterator over a deck of cards cut at index `n`.\"\"\"\n",
    "    if n < 0:\n",
    "        raise ValueError('`n` must be a non-negative integer')\n",
    "\n",
    "    deck = list(deck)\n",
    "    return iter(deck[n:] + deck[:n])\n",
    "\n",
    "cards = cut(cards, 26)  # Cut the deck in half."
   ]
  },
  {
   "cell_type": "markdown",
   "metadata": {},
   "source": [
    "The cut() function first converts deck to a list so that you can slice it to make the cut. To guarantee your slices behave as expected, you’ve got to check that n is non-negative. If it isn’t, you better throw an exception so that nothing crazy happens.\n",
    "\n",
    "Cutting the deck is pretty straightforward: the top of the cut deck is just deck[:n], and the bottom is the remaining cards, or deck[n:]. To construct the new deck with the top “half” moved to the bottom, you just append it to the bottom: deck[n:] + deck[:n].\n",
    "\n",
    "The cut() function is pretty simple, but it suffers from a couple of problems. When you slice a list, you make a copy of the original list and return a new list with the selected elements. With a deck of only 52 cards, this increase in space complexity is trivial, but you could reduce the memory overhead using itertools. To do this, you’ll need three functions: itertools.tee(), itertools.islice(), and itertools.chain().\n",
    "\n",
    "Let’s take a look at how those functions work.\n",
    "\n",
    "The tee() function can be used to create any number of independent iterators from a single iterable. It takes two arguments: the first is an iterable inputs, and the second is the number n of independent iterators over inputs to return (by default, n is set to 2). The iterators are returned in a tuple of length n."
   ]
  },
  {
   "cell_type": "code",
   "execution_count": 49,
   "metadata": {},
   "outputs": [
    {
     "data": {
      "text/plain": [
       "[1, 2, 3, 4, 5]"
      ]
     },
     "execution_count": 49,
     "metadata": {},
     "output_type": "execute_result"
    }
   ],
   "source": [
    "iterator1, iterator2 = it.tee([1, 2, 3, 4, 5], 2)\n",
    "list(iterator1)"
   ]
  },
  {
   "cell_type": "code",
   "execution_count": 50,
   "metadata": {},
   "outputs": [
    {
     "data": {
      "text/plain": [
       "[]"
      ]
     },
     "execution_count": 50,
     "metadata": {},
     "output_type": "execute_result"
    }
   ],
   "source": [
    "list(iterator1)  # iterator1 is now exhausted."
   ]
  },
  {
   "cell_type": "code",
   "execution_count": 51,
   "metadata": {},
   "outputs": [
    {
     "data": {
      "text/plain": [
       "[1, 2, 3, 4, 5]"
      ]
     },
     "execution_count": 51,
     "metadata": {},
     "output_type": "execute_result"
    }
   ],
   "source": [
    "list(iterator2)  # iterator2 works independently of iterator1"
   ]
  },
  {
   "cell_type": "markdown",
   "metadata": {},
   "source": [
    "While tee() is useful for creating independent iterators, it is important to understand a little bit about how it works under the hood. When you call tee() to create n independent iterators, each iterator is essentially working with its own FIFO queue.\n",
    "\n",
    "When a value is extracted from one iterator, that value is appended to the queues for the other iterators. Thus, if one iterator is exhausted before the others, each remaining iterator will hold a copy of the entire iterable in memory. (You can find a Python function that emulates tee() in the itertools docs.)\n",
    "\n",
    "For this reason, tee() should be used with care. If you are exhausting large portions of an iterator before working with the other returned by tee(), you may be better off casting the input iterator to a list or tuple.\n",
    "\n",
    "The islice() function works much the same way as slicing a list or tuple. You pass it an iterable, a starting, and stopping point, and, just like slicing a list, the slice returned stops at the index just before the stopping point. You can optionally include a step value, as well. The biggest difference here is, of course, that islice() returns an iterator."
   ]
  },
  {
   "cell_type": "code",
   "execution_count": 53,
   "metadata": {},
   "outputs": [
    {
     "data": {
      "text/plain": [
       "['C', 'D', 'E']"
      ]
     },
     "execution_count": 53,
     "metadata": {},
     "output_type": "execute_result"
    }
   ],
   "source": [
    "# Slice from index 2 to 4\n",
    "list(it.islice('ABCDEFG', 2, 5))"
   ]
  },
  {
   "cell_type": "code",
   "execution_count": 54,
   "metadata": {},
   "outputs": [
    {
     "data": {
      "text/plain": [
       "[1, 3, 5]"
      ]
     },
     "execution_count": 54,
     "metadata": {},
     "output_type": "execute_result"
    }
   ],
   "source": [
    "# Slice from beginning to index 4, in steps of 2\n",
    "list(it.islice([1, 2, 3, 4, 5], 0, 5, 2))"
   ]
  },
  {
   "cell_type": "code",
   "execution_count": 55,
   "metadata": {},
   "outputs": [
    {
     "data": {
      "text/plain": [
       "[3, 4, 5, 6, 7, 8, 9]"
      ]
     },
     "execution_count": 55,
     "metadata": {},
     "output_type": "execute_result"
    }
   ],
   "source": [
    "# Slice from index 3 to the end\n",
    "list(it.islice(range(10), 3, None))"
   ]
  },
  {
   "cell_type": "code",
   "execution_count": 56,
   "metadata": {},
   "outputs": [
    {
     "data": {
      "text/plain": [
       "['A', 'B', 'C', 'D']"
      ]
     },
     "execution_count": 56,
     "metadata": {},
     "output_type": "execute_result"
    }
   ],
   "source": [
    "# Slice from beginning to index 3\n",
    "list(it.islice('ABCDE', 4))"
   ]
  },
  {
   "cell_type": "markdown",
   "metadata": {},
   "source": [
    "The last two examples above are useful for truncating iterables. You can use this to replace the list slicing used in cut() to select the “top” and “bottom” of the deck. As an added bonus, islice() won’t accept negative indices for the start/stop positions and the step value, so you won’t need to raise an exception if n is negative.\n",
    "\n",
    "The last function you need is chain(). This function takes any number of iterables as arguments and “chains” them together. For example:"
   ]
  },
  {
   "cell_type": "code",
   "execution_count": 57,
   "metadata": {},
   "outputs": [
    {
     "data": {
      "text/plain": [
       "['A', 'B', 'C', 'D', 'E', 'F']"
      ]
     },
     "execution_count": 57,
     "metadata": {},
     "output_type": "execute_result"
    }
   ],
   "source": [
    "list(it.chain('ABC', 'DEF'))"
   ]
  },
  {
   "cell_type": "code",
   "execution_count": 58,
   "metadata": {},
   "outputs": [
    {
     "data": {
      "text/plain": [
       "[1, 2, 3, 4, 5, 6, 7, 8, 9]"
      ]
     },
     "execution_count": 58,
     "metadata": {},
     "output_type": "execute_result"
    }
   ],
   "source": [
    "list(it.chain([1, 2], [3, 4, 5, 6], [7, 8, 9]))"
   ]
  },
  {
   "cell_type": "markdown",
   "metadata": {},
   "source": [
    "Now that you’ve got some additional firepower in your arsenal, you can re-write the cut() function to cut the deck of cards without making a full copy cards in memory:\n",
    "\n"
   ]
  },
  {
   "cell_type": "code",
   "execution_count": 59,
   "metadata": {},
   "outputs": [],
   "source": [
    "def cut(deck, n):\n",
    "    \"\"\"Return an iterator over a deck of cards cut at index `n`.\"\"\"\n",
    "    deck1, deck2 = it.tee(deck, 2)\n",
    "    top = it.islice(deck1, n)\n",
    "    bottom = it.islice(deck2, n, None)\n",
    "    return it.chain(bottom, top)\n",
    "\n",
    "cards = cut(cards, 26)"
   ]
  },
  {
   "cell_type": "markdown",
   "metadata": {},
   "source": [
    "Now that you have shuffled and cut the cards, it is time to deal some hands. You could write a function deal() that takes a deck, the number of hands, and the hand size as arguments and returns a tuple containing the specified number of hands.\n",
    "\n",
    "You do not need any new itertools functions to write this function. See what you can come up with on your own before reading ahead.\n",
    "\n",
    "Here’s one solution:\n",
    "\n"
   ]
  },
  {
   "cell_type": "code",
   "execution_count": 60,
   "metadata": {},
   "outputs": [],
   "source": [
    "def deal(deck, num_hands=1, hand_size=5):\n",
    "    iters = [iter(deck)] * hand_size\n",
    "    return tuple(zip(*(tuple(it.islice(itr, num_hands)) for itr in iters)))"
   ]
  },
  {
   "cell_type": "markdown",
   "metadata": {},
   "source": [
    "You start by creating a list of hand_size references to an iterator over deck. You then iterate over this list, removing num_hands cards at each step and storing them in tuples.\n",
    "\n",
    "Next, you zip() these tuples up to emulate dealing one card at a time to each player. This produces num_hands tuples, each containing hand_size cards. Finally, you package the hands up into a tuple to return them all at once.\n",
    "\n",
    "This implementation sets the default values for num_hands to 1 and hand_size to 5—maybe you are making a “Five Card Draw” app. Here’s how you would use this function, with some sample output:"
   ]
  },
  {
   "cell_type": "code",
   "execution_count": 61,
   "metadata": {},
   "outputs": [
    {
     "data": {
      "text/plain": [
       "(('5', 'H'), ('8', 'C'), ('4', 'D'), ('J', 'D'), ('6', 'D'))"
      ]
     },
     "execution_count": 61,
     "metadata": {},
     "output_type": "execute_result"
    }
   ],
   "source": [
    "p1_hand, p2_hand, p3_hand = deal(cards, num_hands=3)\n",
    "p1_hand"
   ]
  },
  {
   "cell_type": "code",
   "execution_count": 62,
   "metadata": {},
   "outputs": [
    {
     "data": {
      "text/plain": [
       "(('10', 'S'), ('9', 'S'), ('10', 'H'), ('K', 'H'), ('A', 'C'))"
      ]
     },
     "execution_count": 62,
     "metadata": {},
     "output_type": "execute_result"
    }
   ],
   "source": [
    "p2_hand"
   ]
  },
  {
   "cell_type": "code",
   "execution_count": 63,
   "metadata": {},
   "outputs": [
    {
     "data": {
      "text/plain": [
       "(('10', 'D'), ('5', 'D'), ('9', 'D'), ('A', 'S'), ('A', 'D'))"
      ]
     },
     "execution_count": 63,
     "metadata": {},
     "output_type": "execute_result"
    }
   ],
   "source": [
    "p3_hand"
   ]
  },
  {
   "cell_type": "markdown",
   "metadata": {},
   "source": [
    "What do you think the state of cards is now that you have dealt three hands of five cards?\n",
    "\n"
   ]
  },
  {
   "cell_type": "code",
   "execution_count": 64,
   "metadata": {},
   "outputs": [
    {
     "data": {
      "text/plain": [
       "37"
      ]
     },
     "execution_count": 64,
     "metadata": {},
     "output_type": "execute_result"
    }
   ],
   "source": [
    "len(tuple(cards))"
   ]
  },
  {
   "cell_type": "markdown",
   "metadata": {},
   "source": [
    "The fifteen cards dealt are consumed from the cards iterator, which is exactly what you want. That way, as the game continues, the state of the cards iterator reflects the state of the deck in play.\n",
    "\n"
   ]
  },
  {
   "cell_type": "markdown",
   "metadata": {},
   "source": [
    "### Section Recap\n",
    "\n",
    "Let’s review the itertools functions you saw in this section.\n",
    "\n",
    "#### itertools.product Example\n",
    "\n",
    "    product(*iterables, repeat=1)\n",
    "\n",
    "    Cartesian product of input iterables. Equivalent to nested for-loops.\n",
    "\n",
    "        >>> product([1, 2], ['a', 'b'])\n",
    "        (1, 'a'), (1, 'b'), (2, 'a'), (2, 'b')\n",
    "#### itertools.tee Example\n",
    "    tee(iterable, n=2)\n",
    "\n",
    "    Create any number of independent iterators from a single input iterable.\n",
    "\n",
    "        >>> iter1, iter2 = it.tee(['a', 'b', 'c'], 2)\n",
    "        >>> list(iter1)\n",
    "        ['a', 'b', 'c']\n",
    "        >>> list(iter2)\n",
    "        ['a', 'b', 'c']\n",
    "        \n",
    "#### itertools.islice Example\n",
    "islice(iterable, stop) islice(iterable, start, stop, step=1)\n",
    "\n",
    "Return an iterator whose __next__() method returns selected values from an iterable. Works like a slice() on a list but returns an iterator.\n",
    "\n",
    "        >>> islice([1, 2, 3, 4], 3)\n",
    "        1, 2, 3\n",
    "\n",
    "        >>> islice([1, 2, 3, 4], 1, 2)\n",
    "        2, 3\n",
    "\n",
    "#### itertools.chain Example\n",
    "chain(*iterables)\n",
    "\n",
    "Return a chain object whose __next__() method returns elements from the first iterable until it is exhausted, then elements from the next iterable, until all of the iterables are exhausted.\n",
    "\n",
    "        >>> chain('abc', [1, 2, 3])\n",
    "        'a', 'b', 'c', 1, 2, 3"
   ]
  },
  {
   "cell_type": "markdown",
   "metadata": {},
   "source": [
    "## Intermission: Flattening A List of Lists\n",
    "\n",
    "In the previous example, you used chain() to tack one iterator onto the end of another. The chain() function has a class method .from_iterable() that takes a single iterable as an argument. The elements of the iterable must themselves be iterable, so the net effect is that chain.from_iterable() flattens its argument:\n",
    "\n",
    ">>> list(it.chain.from_iterable([[1, 2, 3], [4, 5, 6]]))\n",
    "\n",
    "[1, 2, 3, 4, 5, 6]\n",
    "\n",
    "There’s no reason the argument of chain.from_iterable() needs to be finite. You could emulate the behavior of cycle(), for example:"
   ]
  },
  {
   "cell_type": "code",
   "execution_count": 65,
   "metadata": {},
   "outputs": [
    {
     "data": {
      "text/plain": [
       "['a', 'b', 'c', 'a', 'b', 'c', 'a', 'b']"
      ]
     },
     "execution_count": 65,
     "metadata": {},
     "output_type": "execute_result"
    }
   ],
   "source": [
    ">>> cycle = it.chain.from_iterable(it.repeat('abc'))\n",
    ">>> list(it.islice(cycle, 8))"
   ]
  },
  {
   "cell_type": "markdown",
   "metadata": {},
   "source": [
    "The chain.from_iterable() function is useful when you need to build an iterator over data that has been “chunked.”\n",
    "\n",
    "In the next section, you will see how to use itertools to do some data analysis on a large dataset. But you deserve a break for having stuck with it this far. Why not hydrate yourself and relax a bit? Maybe even play a little Star Trek: The Nth Iteration.\n",
    "https://archive.org/details/Trek-nTheNthIteration\n",
    "\n",
    "\n",
    "Back? Great! Let’s do some data analysis."
   ]
  },
  {
   "cell_type": "markdown",
   "metadata": {},
   "source": [
    "## Analyzing the S&P500\n",
    "\n",
    "In this example, you will get your first taste of using itertools to manipulate a large dataset—in particular, the historical daily price data of the S&P500 index. A CSV file SP500.csv with this data can be found here (source: Yahoo Finance). The problem you’ll tackle is this:\n",
    "\n",
    "Determine the maximum daily gain, daily loss (in percent change), and the longest growth streak in the history of the S&P500.\n",
    "\n",
    "To get a feel for what you’re dealing with, here are the first ten rows of SP500.csv:"
   ]
  },
  {
   "cell_type": "markdown",
   "metadata": {},
   "source": [
    "head -n 10 SP500.csv\n",
    "\n",
    "Date,Open,High,Low,Close,Adj Close,Volume\n",
    "\n",
    "1950-01-03,16.660000,16.660000,16.660000,16.660000,16.660000,1260000\n",
    "\n",
    "1950-01-04,16.850000,16.850000,16.850000,16.850000,16.850000,1890000\n",
    "\n",
    "1950-01-05,16.930000,16.930000,16.930000,16.930000,16.930000,2550000\n",
    "\n",
    "1950-01-06,16.980000,16.980000,16.980000,16.980000,16.980000,2010000\n",
    "\n",
    "1950-01-09,17.080000,17.080000,17.080000,17.080000,17.080000,2520000\n",
    "\n",
    "1950-01-10,17.030001,17.030001,17.030001,17.030001,17.030001,2160000\n",
    "\n",
    "1950-01-11,17.090000,17.090000,17.090000,17.090000,17.090000,2630000\n",
    "\n",
    "1950-01-12,16.760000,16.760000,16.760000,16.760000,16.760000,2970000\n",
    "\n",
    "1950-01-13,16.670000,16.670000,16.670000,16.670000,16.670000,3330000"
   ]
  },
  {
   "cell_type": "markdown",
   "metadata": {},
   "source": [
    "As you can see, the early data is limited. The data improves for later dates, and, as a whole, is sufficient for this example.\n",
    "\n",
    "The strategy for solving this problem is as follows:\n",
    "\n",
    "1.Read data from the CSV file and transform it into a sequence gains of daily percent changes using the “Adj Close” column.\n",
    "\n",
    "2.Find the maximum and minimum values of the gains sequence, and the date on which they occur. (Note that it is possible that these values are attained on more than on date; in that case, the most recent date will suffice.)\n",
    "\n",
    "3.Transform gains into a sequence growth_streaks of tuples of consecutive positive values in gains. Then determine the length of the longest tuple in growth_streaks and the beginning and ending dates of the streak. (It is possible that the maximum length is attained by more than one tuple in growth_streaks; in that case, the tuple with the most recent beginning and ending dates will suffice.)\n",
    "\n",
    "The percent change between two values x and y is given by the following formula:\n",
    "\n",
    "<img src=\"https://files.realpython.com/media/percent_change.3c81a67b1906.png\" width=300>\n",
    "\n",
    "For each step in the analysis, it is necessary to compare values associated with dates. To facilitate these comparisons, you can subclass the namedtuple object from the collections module:\n",
    "\n"
   ]
  },
  {
   "cell_type": "code",
   "execution_count": 1,
   "metadata": {},
   "outputs": [],
   "source": [
    "from collections import namedtuple\n",
    "\n",
    "\n",
    "class DataPoint(namedtuple('DataPoint', ['date', 'value'])):\n",
    "    __slots__ = ()\n",
    "\n",
    "    def __le__(self, other):\n",
    "        return self.value <= other.value\n",
    "\n",
    "    def __lt__(self, other):\n",
    "        return self.value < other.value\n",
    "\n",
    "    def __gt__(self, other):\n",
    "        return self.value > other.value"
   ]
  },
  {
   "cell_type": "markdown",
   "metadata": {},
   "source": [
    "The DataPoint class has two attributes: date (a datetime.datetime instance) and value.\n",
    "The <b>.__le__(), .__lt__() and .__gt__() dunder methods</b> are implemented so that the <=, <, and > boolean comparators can be used to compare the values of two DataPoint objects. \n",
    "https://docs.python.org/3/reference/datamodel.html#object.__le__\n",
    "\n",
    "This also allows the max() and min() built-in functions to be called with <b>DataPoint arguments.</b>\n",
    "\n",
    "    Note: If you are not familiar with namedtuple, check out this excellent resource. The namedtuple implementation for DataPoint is just one of many ways to build this data structure. For example, in Python 3.7 you could implement DataPoint as a data class. Check out our Ultimate Guide to Data Classes for more information.\n",
    "    \n",
    "The following reads the data from SP500.csv to a tuple of DataPoint objects:\n",
    "\n"
   ]
  },
  {
   "cell_type": "code",
   "execution_count": 3,
   "metadata": {},
   "outputs": [],
   "source": [
    "import csv\n",
    "from datetime import datetime\n",
    "\n",
    "\n",
    "def read_prices(csvfile, _strptime=datetime.strptime):\n",
    "    with open(csvfile) as infile:\n",
    "        reader = csv.DictReader(infile)\n",
    "        for row in reader:\n",
    "            yield DataPoint(date=_strptime(row['Date'], '%Y-%m-%d').date(),\n",
    "                            value=float(row['Adj Close']))\n",
    "\n",
    "\n",
    "prices = tuple(read_prices('../materials/itertools-in-python3/SP500.csv'))"
   ]
  },
  {
   "cell_type": "code",
   "execution_count": 4,
   "metadata": {},
   "outputs": [
    {
     "data": {
      "text/plain": [
       "(DataPoint(date=datetime.date(1950, 1, 3), value=16.66),\n",
       " DataPoint(date=datetime.date(1950, 1, 4), value=16.85),\n",
       " DataPoint(date=datetime.date(1950, 1, 5), value=16.93),\n",
       " DataPoint(date=datetime.date(1950, 1, 6), value=16.98),\n",
       " DataPoint(date=datetime.date(1950, 1, 9), value=17.08),\n",
       " DataPoint(date=datetime.date(1950, 1, 10), value=17.030001),\n",
       " DataPoint(date=datetime.date(1950, 1, 11), value=17.09),\n",
       " DataPoint(date=datetime.date(1950, 1, 12), value=16.76),\n",
       " DataPoint(date=datetime.date(1950, 1, 13), value=16.67),\n",
       " DataPoint(date=datetime.date(1950, 1, 16), value=16.719999),\n",
       " DataPoint(date=datetime.date(1950, 1, 17), value=16.860001),\n",
       " DataPoint(date=datetime.date(1950, 1, 18), value=16.85),\n",
       " DataPoint(date=datetime.date(1950, 1, 19), value=16.870001),\n",
       " DataPoint(date=datetime.date(1950, 1, 20), value=16.9),\n",
       " DataPoint(date=datetime.date(1950, 1, 23), value=16.92),\n",
       " DataPoint(date=datetime.date(1950, 1, 24), value=16.860001),\n",
       " DataPoint(date=datetime.date(1950, 1, 25), value=16.74),\n",
       " DataPoint(date=datetime.date(1950, 1, 26), value=16.73),\n",
       " DataPoint(date=datetime.date(1950, 1, 27), value=16.82),\n",
       " DataPoint(date=datetime.date(1950, 1, 30), value=17.02),\n",
       " DataPoint(date=datetime.date(1950, 1, 31), value=17.049999),\n",
       " DataPoint(date=datetime.date(1950, 2, 1), value=17.049999),\n",
       " DataPoint(date=datetime.date(1950, 2, 2), value=17.23),\n",
       " DataPoint(date=datetime.date(1950, 2, 3), value=17.290001),\n",
       " DataPoint(date=datetime.date(1950, 2, 6), value=17.32),\n",
       " DataPoint(date=datetime.date(1950, 2, 7), value=17.23),\n",
       " DataPoint(date=datetime.date(1950, 2, 8), value=17.209999),\n",
       " DataPoint(date=datetime.date(1950, 2, 9), value=17.280001),\n",
       " DataPoint(date=datetime.date(1950, 2, 10), value=17.24),\n",
       " DataPoint(date=datetime.date(1950, 2, 14), value=17.059999),\n",
       " DataPoint(date=datetime.date(1950, 2, 15), value=17.059999),\n",
       " DataPoint(date=datetime.date(1950, 2, 16), value=16.99),\n",
       " DataPoint(date=datetime.date(1950, 2, 17), value=17.15),\n",
       " DataPoint(date=datetime.date(1950, 2, 20), value=17.200001),\n",
       " DataPoint(date=datetime.date(1950, 2, 21), value=17.17),\n",
       " DataPoint(date=datetime.date(1950, 2, 23), value=17.209999),\n",
       " DataPoint(date=datetime.date(1950, 2, 24), value=17.280001),\n",
       " DataPoint(date=datetime.date(1950, 2, 27), value=17.280001),\n",
       " DataPoint(date=datetime.date(1950, 2, 28), value=17.219999),\n",
       " DataPoint(date=datetime.date(1950, 3, 1), value=17.24),\n",
       " DataPoint(date=datetime.date(1950, 3, 2), value=17.23),\n",
       " DataPoint(date=datetime.date(1950, 3, 3), value=17.290001),\n",
       " DataPoint(date=datetime.date(1950, 3, 6), value=17.32),\n",
       " DataPoint(date=datetime.date(1950, 3, 7), value=17.200001),\n",
       " DataPoint(date=datetime.date(1950, 3, 8), value=17.190001),\n",
       " DataPoint(date=datetime.date(1950, 3, 9), value=17.07),\n",
       " DataPoint(date=datetime.date(1950, 3, 10), value=17.09),\n",
       " DataPoint(date=datetime.date(1950, 3, 13), value=17.120001),\n",
       " DataPoint(date=datetime.date(1950, 3, 14), value=17.25),\n",
       " DataPoint(date=datetime.date(1950, 3, 15), value=17.450001),\n",
       " DataPoint(date=datetime.date(1950, 3, 16), value=17.49),\n",
       " DataPoint(date=datetime.date(1950, 3, 17), value=17.450001),\n",
       " DataPoint(date=datetime.date(1950, 3, 20), value=17.440001),\n",
       " DataPoint(date=datetime.date(1950, 3, 21), value=17.450001),\n",
       " DataPoint(date=datetime.date(1950, 3, 22), value=17.549999),\n",
       " DataPoint(date=datetime.date(1950, 3, 23), value=17.559999),\n",
       " DataPoint(date=datetime.date(1950, 3, 24), value=17.559999),\n",
       " DataPoint(date=datetime.date(1950, 3, 27), value=17.459999),\n",
       " DataPoint(date=datetime.date(1950, 3, 28), value=17.530001),\n",
       " DataPoint(date=datetime.date(1950, 3, 29), value=17.440001),\n",
       " DataPoint(date=datetime.date(1950, 3, 30), value=17.299999),\n",
       " DataPoint(date=datetime.date(1950, 3, 31), value=17.290001),\n",
       " DataPoint(date=datetime.date(1950, 4, 3), value=17.530001),\n",
       " DataPoint(date=datetime.date(1950, 4, 4), value=17.549999),\n",
       " DataPoint(date=datetime.date(1950, 4, 5), value=17.629999),\n",
       " DataPoint(date=datetime.date(1950, 4, 6), value=17.780001),\n",
       " DataPoint(date=datetime.date(1950, 4, 10), value=17.85),\n",
       " DataPoint(date=datetime.date(1950, 4, 11), value=17.75),\n",
       " DataPoint(date=datetime.date(1950, 4, 12), value=17.940001),\n",
       " DataPoint(date=datetime.date(1950, 4, 13), value=17.98),\n",
       " DataPoint(date=datetime.date(1950, 4, 14), value=17.959999),\n",
       " DataPoint(date=datetime.date(1950, 4, 17), value=17.879999),\n",
       " DataPoint(date=datetime.date(1950, 4, 18), value=18.030001),\n",
       " DataPoint(date=datetime.date(1950, 4, 19), value=18.049999),\n",
       " DataPoint(date=datetime.date(1950, 4, 20), value=17.93),\n",
       " DataPoint(date=datetime.date(1950, 4, 21), value=17.959999),\n",
       " DataPoint(date=datetime.date(1950, 4, 24), value=17.83),\n",
       " DataPoint(date=datetime.date(1950, 4, 25), value=17.83),\n",
       " DataPoint(date=datetime.date(1950, 4, 26), value=17.76),\n",
       " DataPoint(date=datetime.date(1950, 4, 27), value=17.860001),\n",
       " DataPoint(date=datetime.date(1950, 4, 28), value=17.959999),\n",
       " DataPoint(date=datetime.date(1950, 5, 1), value=18.219999),\n",
       " DataPoint(date=datetime.date(1950, 5, 2), value=18.110001),\n",
       " DataPoint(date=datetime.date(1950, 5, 3), value=18.27),\n",
       " DataPoint(date=datetime.date(1950, 5, 4), value=18.120001),\n",
       " DataPoint(date=datetime.date(1950, 5, 5), value=18.219999),\n",
       " DataPoint(date=datetime.date(1950, 5, 8), value=18.27),\n",
       " DataPoint(date=datetime.date(1950, 5, 9), value=18.27),\n",
       " DataPoint(date=datetime.date(1950, 5, 10), value=18.290001),\n",
       " DataPoint(date=datetime.date(1950, 5, 11), value=18.290001),\n",
       " DataPoint(date=datetime.date(1950, 5, 12), value=18.18),\n",
       " DataPoint(date=datetime.date(1950, 5, 15), value=18.26),\n",
       " DataPoint(date=datetime.date(1950, 5, 16), value=18.440001),\n",
       " DataPoint(date=datetime.date(1950, 5, 17), value=18.52),\n",
       " DataPoint(date=datetime.date(1950, 5, 18), value=18.559999),\n",
       " DataPoint(date=datetime.date(1950, 5, 19), value=18.68),\n",
       " DataPoint(date=datetime.date(1950, 5, 22), value=18.6),\n",
       " DataPoint(date=datetime.date(1950, 5, 23), value=18.709999),\n",
       " DataPoint(date=datetime.date(1950, 5, 24), value=18.690001),\n",
       " DataPoint(date=datetime.date(1950, 5, 25), value=18.690001),\n",
       " DataPoint(date=datetime.date(1950, 5, 26), value=18.67),\n",
       " DataPoint(date=datetime.date(1950, 5, 29), value=18.719999),\n",
       " DataPoint(date=datetime.date(1950, 5, 31), value=18.780001),\n",
       " DataPoint(date=datetime.date(1950, 6, 1), value=18.77),\n",
       " DataPoint(date=datetime.date(1950, 6, 2), value=18.790001),\n",
       " DataPoint(date=datetime.date(1950, 6, 5), value=18.6),\n",
       " DataPoint(date=datetime.date(1950, 6, 6), value=18.879999),\n",
       " DataPoint(date=datetime.date(1950, 6, 7), value=18.93),\n",
       " DataPoint(date=datetime.date(1950, 6, 8), value=19.139999),\n",
       " DataPoint(date=datetime.date(1950, 6, 9), value=19.26),\n",
       " DataPoint(date=datetime.date(1950, 6, 12), value=19.4),\n",
       " DataPoint(date=datetime.date(1950, 6, 13), value=19.25),\n",
       " DataPoint(date=datetime.date(1950, 6, 14), value=18.98),\n",
       " DataPoint(date=datetime.date(1950, 6, 15), value=18.93),\n",
       " DataPoint(date=datetime.date(1950, 6, 16), value=18.969999),\n",
       " DataPoint(date=datetime.date(1950, 6, 19), value=18.92),\n",
       " DataPoint(date=datetime.date(1950, 6, 20), value=18.83),\n",
       " DataPoint(date=datetime.date(1950, 6, 21), value=19.0),\n",
       " DataPoint(date=datetime.date(1950, 6, 22), value=19.16),\n",
       " DataPoint(date=datetime.date(1950, 6, 23), value=19.139999),\n",
       " DataPoint(date=datetime.date(1950, 6, 26), value=18.110001),\n",
       " DataPoint(date=datetime.date(1950, 6, 27), value=17.91),\n",
       " DataPoint(date=datetime.date(1950, 6, 28), value=18.110001),\n",
       " DataPoint(date=datetime.date(1950, 6, 29), value=17.440001),\n",
       " DataPoint(date=datetime.date(1950, 6, 30), value=17.690001),\n",
       " DataPoint(date=datetime.date(1950, 7, 3), value=17.639999),\n",
       " DataPoint(date=datetime.date(1950, 7, 5), value=17.809999),\n",
       " DataPoint(date=datetime.date(1950, 7, 6), value=17.91),\n",
       " DataPoint(date=datetime.date(1950, 7, 7), value=17.67),\n",
       " DataPoint(date=datetime.date(1950, 7, 10), value=17.59),\n",
       " DataPoint(date=datetime.date(1950, 7, 11), value=17.32),\n",
       " DataPoint(date=datetime.date(1950, 7, 12), value=16.870001),\n",
       " DataPoint(date=datetime.date(1950, 7, 13), value=16.690001),\n",
       " DataPoint(date=datetime.date(1950, 7, 14), value=16.870001),\n",
       " DataPoint(date=datetime.date(1950, 7, 17), value=16.68),\n",
       " DataPoint(date=datetime.date(1950, 7, 18), value=17.059999),\n",
       " DataPoint(date=datetime.date(1950, 7, 19), value=17.360001),\n",
       " DataPoint(date=datetime.date(1950, 7, 20), value=17.610001),\n",
       " DataPoint(date=datetime.date(1950, 7, 21), value=17.59),\n",
       " DataPoint(date=datetime.date(1950, 7, 24), value=17.48),\n",
       " DataPoint(date=datetime.date(1950, 7, 25), value=17.23),\n",
       " DataPoint(date=datetime.date(1950, 7, 26), value=17.27),\n",
       " DataPoint(date=datetime.date(1950, 7, 27), value=17.5),\n",
       " DataPoint(date=datetime.date(1950, 7, 28), value=17.690001),\n",
       " DataPoint(date=datetime.date(1950, 7, 31), value=17.84),\n",
       " DataPoint(date=datetime.date(1950, 8, 1), value=18.02),\n",
       " DataPoint(date=datetime.date(1950, 8, 2), value=17.950001),\n",
       " DataPoint(date=datetime.date(1950, 8, 3), value=17.99),\n",
       " DataPoint(date=datetime.date(1950, 8, 4), value=18.139999),\n",
       " DataPoint(date=datetime.date(1950, 8, 7), value=18.41),\n",
       " DataPoint(date=datetime.date(1950, 8, 8), value=18.459999),\n",
       " DataPoint(date=datetime.date(1950, 8, 9), value=18.610001),\n",
       " DataPoint(date=datetime.date(1950, 8, 10), value=18.48),\n",
       " DataPoint(date=datetime.date(1950, 8, 11), value=18.280001),\n",
       " DataPoint(date=datetime.date(1950, 8, 14), value=18.290001),\n",
       " DataPoint(date=datetime.date(1950, 8, 15), value=18.32),\n",
       " DataPoint(date=datetime.date(1950, 8, 16), value=18.34),\n",
       " DataPoint(date=datetime.date(1950, 8, 17), value=18.540001),\n",
       " DataPoint(date=datetime.date(1950, 8, 18), value=18.68),\n",
       " DataPoint(date=datetime.date(1950, 8, 21), value=18.700001),\n",
       " DataPoint(date=datetime.date(1950, 8, 22), value=18.68),\n",
       " DataPoint(date=datetime.date(1950, 8, 23), value=18.82),\n",
       " DataPoint(date=datetime.date(1950, 8, 24), value=18.790001),\n",
       " DataPoint(date=datetime.date(1950, 8, 25), value=18.540001),\n",
       " DataPoint(date=datetime.date(1950, 8, 28), value=18.530001),\n",
       " DataPoint(date=datetime.date(1950, 8, 29), value=18.540001),\n",
       " DataPoint(date=datetime.date(1950, 8, 30), value=18.43),\n",
       " DataPoint(date=datetime.date(1950, 8, 31), value=18.42),\n",
       " DataPoint(date=datetime.date(1950, 9, 1), value=18.549999),\n",
       " DataPoint(date=datetime.date(1950, 9, 5), value=18.68),\n",
       " DataPoint(date=datetime.date(1950, 9, 6), value=18.540001),\n",
       " DataPoint(date=datetime.date(1950, 9, 7), value=18.59),\n",
       " DataPoint(date=datetime.date(1950, 9, 8), value=18.75),\n",
       " DataPoint(date=datetime.date(1950, 9, 11), value=18.610001),\n",
       " DataPoint(date=datetime.date(1950, 9, 12), value=18.870001),\n",
       " DataPoint(date=datetime.date(1950, 9, 13), value=19.09),\n",
       " DataPoint(date=datetime.date(1950, 9, 14), value=19.18),\n",
       " DataPoint(date=datetime.date(1950, 9, 15), value=19.290001),\n",
       " DataPoint(date=datetime.date(1950, 9, 18), value=19.370001),\n",
       " DataPoint(date=datetime.date(1950, 9, 19), value=19.309999),\n",
       " DataPoint(date=datetime.date(1950, 9, 20), value=19.209999),\n",
       " DataPoint(date=datetime.date(1950, 9, 21), value=19.370001),\n",
       " DataPoint(date=datetime.date(1950, 9, 22), value=19.440001),\n",
       " DataPoint(date=datetime.date(1950, 9, 25), value=19.42),\n",
       " DataPoint(date=datetime.date(1950, 9, 26), value=19.139999),\n",
       " DataPoint(date=datetime.date(1950, 9, 27), value=19.41),\n",
       " DataPoint(date=datetime.date(1950, 9, 28), value=19.42),\n",
       " DataPoint(date=datetime.date(1950, 9, 29), value=19.450001),\n",
       " DataPoint(date=datetime.date(1950, 10, 2), value=19.690001),\n",
       " DataPoint(date=datetime.date(1950, 10, 3), value=19.66),\n",
       " DataPoint(date=datetime.date(1950, 10, 4), value=20.0),\n",
       " DataPoint(date=datetime.date(1950, 10, 5), value=19.889999),\n",
       " DataPoint(date=datetime.date(1950, 10, 6), value=20.120001),\n",
       " DataPoint(date=datetime.date(1950, 10, 9), value=20.0),\n",
       " DataPoint(date=datetime.date(1950, 10, 10), value=19.780001),\n",
       " DataPoint(date=datetime.date(1950, 10, 11), value=19.860001),\n",
       " DataPoint(date=datetime.date(1950, 10, 13), value=19.85),\n",
       " DataPoint(date=datetime.date(1950, 10, 16), value=19.709999),\n",
       " DataPoint(date=datetime.date(1950, 10, 17), value=19.889999),\n",
       " DataPoint(date=datetime.date(1950, 10, 18), value=20.01),\n",
       " DataPoint(date=datetime.date(1950, 10, 19), value=20.02),\n",
       " DataPoint(date=datetime.date(1950, 10, 20), value=19.959999),\n",
       " DataPoint(date=datetime.date(1950, 10, 23), value=19.959999),\n",
       " DataPoint(date=datetime.date(1950, 10, 24), value=20.08),\n",
       " DataPoint(date=datetime.date(1950, 10, 25), value=20.049999),\n",
       " DataPoint(date=datetime.date(1950, 10, 26), value=19.610001),\n",
       " DataPoint(date=datetime.date(1950, 10, 27), value=19.77),\n",
       " DataPoint(date=datetime.date(1950, 10, 30), value=19.610001),\n",
       " DataPoint(date=datetime.date(1950, 10, 31), value=19.530001),\n",
       " DataPoint(date=datetime.date(1950, 11, 1), value=19.559999),\n",
       " DataPoint(date=datetime.date(1950, 11, 2), value=19.73),\n",
       " DataPoint(date=datetime.date(1950, 11, 3), value=19.85),\n",
       " DataPoint(date=datetime.date(1950, 11, 6), value=19.360001),\n",
       " DataPoint(date=datetime.date(1950, 11, 8), value=19.559999),\n",
       " DataPoint(date=datetime.date(1950, 11, 9), value=19.790001),\n",
       " DataPoint(date=datetime.date(1950, 11, 10), value=19.940001),\n",
       " DataPoint(date=datetime.date(1950, 11, 13), value=20.01),\n",
       " DataPoint(date=datetime.date(1950, 11, 14), value=19.860001),\n",
       " DataPoint(date=datetime.date(1950, 11, 15), value=19.82),\n",
       " DataPoint(date=datetime.date(1950, 11, 16), value=19.719999),\n",
       " DataPoint(date=datetime.date(1950, 11, 17), value=19.860001),\n",
       " DataPoint(date=datetime.date(1950, 11, 20), value=19.93),\n",
       " DataPoint(date=datetime.date(1950, 11, 21), value=19.879999),\n",
       " DataPoint(date=datetime.date(1950, 11, 22), value=20.16),\n",
       " DataPoint(date=datetime.date(1950, 11, 24), value=20.32),\n",
       " DataPoint(date=datetime.date(1950, 11, 27), value=20.18),\n",
       " DataPoint(date=datetime.date(1950, 11, 28), value=19.559999),\n",
       " DataPoint(date=datetime.date(1950, 11, 29), value=19.370001),\n",
       " DataPoint(date=datetime.date(1950, 11, 30), value=19.51),\n",
       " DataPoint(date=datetime.date(1950, 12, 1), value=19.66),\n",
       " DataPoint(date=datetime.date(1950, 12, 4), value=19.0),\n",
       " DataPoint(date=datetime.date(1950, 12, 5), value=19.309999),\n",
       " DataPoint(date=datetime.date(1950, 12, 6), value=19.450001),\n",
       " DataPoint(date=datetime.date(1950, 12, 7), value=19.4),\n",
       " DataPoint(date=datetime.date(1950, 12, 8), value=19.4),\n",
       " DataPoint(date=datetime.date(1950, 12, 11), value=19.719999),\n",
       " DataPoint(date=datetime.date(1950, 12, 12), value=19.68),\n",
       " DataPoint(date=datetime.date(1950, 12, 13), value=19.67),\n",
       " DataPoint(date=datetime.date(1950, 12, 14), value=19.43),\n",
       " DataPoint(date=datetime.date(1950, 12, 15), value=19.33),\n",
       " DataPoint(date=datetime.date(1950, 12, 18), value=19.85),\n",
       " DataPoint(date=datetime.date(1950, 12, 19), value=19.959999),\n",
       " DataPoint(date=datetime.date(1950, 12, 20), value=19.969999),\n",
       " DataPoint(date=datetime.date(1950, 12, 21), value=19.98),\n",
       " DataPoint(date=datetime.date(1950, 12, 22), value=20.07),\n",
       " DataPoint(date=datetime.date(1950, 12, 26), value=19.92),\n",
       " DataPoint(date=datetime.date(1950, 12, 27), value=20.299999),\n",
       " DataPoint(date=datetime.date(1950, 12, 28), value=20.379999),\n",
       " DataPoint(date=datetime.date(1950, 12, 29), value=20.43),\n",
       " DataPoint(date=datetime.date(1951, 1, 2), value=20.77),\n",
       " DataPoint(date=datetime.date(1951, 1, 3), value=20.690001),\n",
       " DataPoint(date=datetime.date(1951, 1, 4), value=20.870001),\n",
       " DataPoint(date=datetime.date(1951, 1, 5), value=20.870001),\n",
       " DataPoint(date=datetime.date(1951, 1, 8), value=21.0),\n",
       " DataPoint(date=datetime.date(1951, 1, 9), value=21.120001),\n",
       " DataPoint(date=datetime.date(1951, 1, 10), value=20.85),\n",
       " DataPoint(date=datetime.date(1951, 1, 11), value=21.190001),\n",
       " DataPoint(date=datetime.date(1951, 1, 12), value=21.110001),\n",
       " DataPoint(date=datetime.date(1951, 1, 15), value=21.299999),\n",
       " DataPoint(date=datetime.date(1951, 1, 16), value=21.459999),\n",
       " DataPoint(date=datetime.date(1951, 1, 17), value=21.549999),\n",
       " DataPoint(date=datetime.date(1951, 1, 18), value=21.4),\n",
       " DataPoint(date=datetime.date(1951, 1, 19), value=21.360001),\n",
       " DataPoint(date=datetime.date(1951, 1, 22), value=21.18),\n",
       " DataPoint(date=datetime.date(1951, 1, 23), value=21.26),\n",
       " DataPoint(date=datetime.date(1951, 1, 24), value=21.16),\n",
       " DataPoint(date=datetime.date(1951, 1, 25), value=21.030001),\n",
       " DataPoint(date=datetime.date(1951, 1, 26), value=21.26),\n",
       " DataPoint(date=datetime.date(1951, 1, 29), value=21.67),\n",
       " DataPoint(date=datetime.date(1951, 1, 30), value=21.74),\n",
       " DataPoint(date=datetime.date(1951, 1, 31), value=21.66),\n",
       " DataPoint(date=datetime.date(1951, 2, 1), value=21.77),\n",
       " DataPoint(date=datetime.date(1951, 2, 2), value=21.959999),\n",
       " DataPoint(date=datetime.date(1951, 2, 5), value=22.200001),\n",
       " DataPoint(date=datetime.date(1951, 2, 6), value=22.120001),\n",
       " DataPoint(date=datetime.date(1951, 2, 7), value=21.99),\n",
       " DataPoint(date=datetime.date(1951, 2, 8), value=22.09),\n",
       " DataPoint(date=datetime.date(1951, 2, 9), value=22.17),\n",
       " DataPoint(date=datetime.date(1951, 2, 13), value=22.18),\n",
       " DataPoint(date=datetime.date(1951, 2, 14), value=22.120001),\n",
       " DataPoint(date=datetime.date(1951, 2, 15), value=22.0),\n",
       " DataPoint(date=datetime.date(1951, 2, 16), value=22.129999),\n",
       " DataPoint(date=datetime.date(1951, 2, 19), value=21.83),\n",
       " DataPoint(date=datetime.date(1951, 2, 20), value=21.790001),\n",
       " DataPoint(date=datetime.date(1951, 2, 21), value=21.860001),\n",
       " DataPoint(date=datetime.date(1951, 2, 23), value=21.92),\n",
       " DataPoint(date=datetime.date(1951, 2, 26), value=21.93),\n",
       " DataPoint(date=datetime.date(1951, 2, 27), value=21.76),\n",
       " DataPoint(date=datetime.date(1951, 2, 28), value=21.799999),\n",
       " DataPoint(date=datetime.date(1951, 3, 1), value=21.85),\n",
       " DataPoint(date=datetime.date(1951, 3, 2), value=21.93),\n",
       " DataPoint(date=datetime.date(1951, 3, 5), value=21.790001),\n",
       " DataPoint(date=datetime.date(1951, 3, 6), value=21.790001),\n",
       " DataPoint(date=datetime.date(1951, 3, 7), value=21.860001),\n",
       " DataPoint(date=datetime.date(1951, 3, 8), value=21.950001),\n",
       " DataPoint(date=datetime.date(1951, 3, 9), value=21.950001),\n",
       " DataPoint(date=datetime.date(1951, 3, 12), value=21.700001),\n",
       " DataPoint(date=datetime.date(1951, 3, 13), value=21.41),\n",
       " DataPoint(date=datetime.date(1951, 3, 14), value=21.25),\n",
       " DataPoint(date=datetime.date(1951, 3, 15), value=21.290001),\n",
       " DataPoint(date=datetime.date(1951, 3, 16), value=21.639999),\n",
       " DataPoint(date=datetime.date(1951, 3, 19), value=21.559999),\n",
       " DataPoint(date=datetime.date(1951, 3, 20), value=21.52),\n",
       " DataPoint(date=datetime.date(1951, 3, 21), value=21.639999),\n",
       " DataPoint(date=datetime.date(1951, 3, 22), value=21.73),\n",
       " DataPoint(date=datetime.date(1951, 3, 26), value=21.530001),\n",
       " DataPoint(date=datetime.date(1951, 3, 27), value=21.51),\n",
       " DataPoint(date=datetime.date(1951, 3, 28), value=21.26),\n",
       " DataPoint(date=datetime.date(1951, 3, 29), value=21.33),\n",
       " DataPoint(date=datetime.date(1951, 3, 30), value=21.48),\n",
       " DataPoint(date=datetime.date(1951, 4, 2), value=21.32),\n",
       " DataPoint(date=datetime.date(1951, 4, 3), value=21.26),\n",
       " DataPoint(date=datetime.date(1951, 4, 4), value=21.4),\n",
       " DataPoint(date=datetime.date(1951, 4, 5), value=21.690001),\n",
       " DataPoint(date=datetime.date(1951, 4, 6), value=21.719999),\n",
       " DataPoint(date=datetime.date(1951, 4, 9), value=21.68),\n",
       " DataPoint(date=datetime.date(1951, 4, 10), value=21.65),\n",
       " DataPoint(date=datetime.date(1951, 4, 11), value=21.639999),\n",
       " DataPoint(date=datetime.date(1951, 4, 12), value=21.83),\n",
       " DataPoint(date=datetime.date(1951, 4, 13), value=22.09),\n",
       " DataPoint(date=datetime.date(1951, 4, 16), value=22.040001),\n",
       " DataPoint(date=datetime.date(1951, 4, 17), value=22.09),\n",
       " DataPoint(date=datetime.date(1951, 4, 18), value=22.129999),\n",
       " DataPoint(date=datetime.date(1951, 4, 19), value=22.040001),\n",
       " DataPoint(date=datetime.date(1951, 4, 20), value=22.040001),\n",
       " DataPoint(date=datetime.date(1951, 4, 23), value=22.049999),\n",
       " DataPoint(date=datetime.date(1951, 4, 24), value=21.959999),\n",
       " DataPoint(date=datetime.date(1951, 4, 25), value=21.969999),\n",
       " DataPoint(date=datetime.date(1951, 4, 26), value=22.16),\n",
       " DataPoint(date=datetime.date(1951, 4, 27), value=22.389999),\n",
       " DataPoint(date=datetime.date(1951, 4, 30), value=22.43),\n",
       " DataPoint(date=datetime.date(1951, 5, 1), value=22.530001),\n",
       " DataPoint(date=datetime.date(1951, 5, 2), value=22.620001),\n",
       " DataPoint(date=datetime.date(1951, 5, 3), value=22.809999),\n",
       " DataPoint(date=datetime.date(1951, 5, 4), value=22.77),\n",
       " DataPoint(date=datetime.date(1951, 5, 7), value=22.629999),\n",
       " DataPoint(date=datetime.date(1951, 5, 8), value=22.610001),\n",
       " DataPoint(date=datetime.date(1951, 5, 9), value=22.639999),\n",
       " DataPoint(date=datetime.date(1951, 5, 10), value=22.51),\n",
       " DataPoint(date=datetime.date(1951, 5, 11), value=22.33),\n",
       " DataPoint(date=datetime.date(1951, 5, 14), value=22.18),\n",
       " DataPoint(date=datetime.date(1951, 5, 15), value=21.76),\n",
       " DataPoint(date=datetime.date(1951, 5, 16), value=21.690001),\n",
       " DataPoint(date=datetime.date(1951, 5, 17), value=21.91),\n",
       " DataPoint(date=datetime.date(1951, 5, 18), value=21.51),\n",
       " DataPoint(date=datetime.date(1951, 5, 21), value=21.459999),\n",
       " DataPoint(date=datetime.date(1951, 5, 22), value=21.360001),\n",
       " DataPoint(date=datetime.date(1951, 5, 23), value=21.16),\n",
       " DataPoint(date=datetime.date(1951, 5, 24), value=21.049999),\n",
       " DataPoint(date=datetime.date(1951, 5, 25), value=21.030001),\n",
       " DataPoint(date=datetime.date(1951, 5, 28), value=21.209999),\n",
       " DataPoint(date=datetime.date(1951, 5, 29), value=21.35),\n",
       " DataPoint(date=datetime.date(1951, 5, 31), value=21.52),\n",
       " DataPoint(date=datetime.date(1951, 6, 1), value=21.48),\n",
       " DataPoint(date=datetime.date(1951, 6, 4), value=21.24),\n",
       " DataPoint(date=datetime.date(1951, 6, 5), value=21.33),\n",
       " DataPoint(date=datetime.date(1951, 6, 6), value=21.48),\n",
       " DataPoint(date=datetime.date(1951, 6, 7), value=21.559999),\n",
       " DataPoint(date=datetime.date(1951, 6, 8), value=21.49),\n",
       " DataPoint(date=datetime.date(1951, 6, 11), value=21.610001),\n",
       " DataPoint(date=datetime.date(1951, 6, 12), value=21.52),\n",
       " DataPoint(date=datetime.date(1951, 6, 13), value=21.549999),\n",
       " DataPoint(date=datetime.date(1951, 6, 14), value=21.84),\n",
       " DataPoint(date=datetime.date(1951, 6, 15), value=22.040001),\n",
       " DataPoint(date=datetime.date(1951, 6, 18), value=22.049999),\n",
       " DataPoint(date=datetime.date(1951, 6, 19), value=22.02),\n",
       " DataPoint(date=datetime.date(1951, 6, 20), value=21.91),\n",
       " DataPoint(date=datetime.date(1951, 6, 21), value=21.780001),\n",
       " DataPoint(date=datetime.date(1951, 6, 22), value=21.549999),\n",
       " DataPoint(date=datetime.date(1951, 6, 25), value=21.290001),\n",
       " DataPoint(date=datetime.date(1951, 6, 26), value=21.299999),\n",
       " DataPoint(date=datetime.date(1951, 6, 27), value=21.370001),\n",
       " DataPoint(date=datetime.date(1951, 6, 28), value=21.1),\n",
       " DataPoint(date=datetime.date(1951, 6, 29), value=20.959999),\n",
       " DataPoint(date=datetime.date(1951, 7, 2), value=21.1),\n",
       " DataPoint(date=datetime.date(1951, 7, 3), value=21.23),\n",
       " DataPoint(date=datetime.date(1951, 7, 5), value=21.639999),\n",
       " DataPoint(date=datetime.date(1951, 7, 6), value=21.639999),\n",
       " DataPoint(date=datetime.date(1951, 7, 9), value=21.73),\n",
       " DataPoint(date=datetime.date(1951, 7, 10), value=21.629999),\n",
       " DataPoint(date=datetime.date(1951, 7, 11), value=21.68),\n",
       " DataPoint(date=datetime.date(1951, 7, 12), value=21.799999),\n",
       " DataPoint(date=datetime.date(1951, 7, 13), value=21.98),\n",
       " DataPoint(date=datetime.date(1951, 7, 16), value=21.73),\n",
       " DataPoint(date=datetime.date(1951, 7, 17), value=21.92),\n",
       " DataPoint(date=datetime.date(1951, 7, 18), value=21.879999),\n",
       " DataPoint(date=datetime.date(1951, 7, 19), value=21.84),\n",
       " DataPoint(date=datetime.date(1951, 7, 20), value=21.879999),\n",
       " DataPoint(date=datetime.date(1951, 7, 23), value=22.1),\n",
       " DataPoint(date=datetime.date(1951, 7, 24), value=22.440001),\n",
       " DataPoint(date=datetime.date(1951, 7, 25), value=22.32),\n",
       " DataPoint(date=datetime.date(1951, 7, 26), value=22.469999),\n",
       " DataPoint(date=datetime.date(1951, 7, 27), value=22.530001),\n",
       " DataPoint(date=datetime.date(1951, 7, 30), value=22.629999),\n",
       " DataPoint(date=datetime.date(1951, 7, 31), value=22.4),\n",
       " DataPoint(date=datetime.date(1951, 8, 1), value=22.51),\n",
       " DataPoint(date=datetime.date(1951, 8, 2), value=22.82),\n",
       " DataPoint(date=datetime.date(1951, 8, 3), value=22.85),\n",
       " DataPoint(date=datetime.date(1951, 8, 6), value=23.01),\n",
       " DataPoint(date=datetime.date(1951, 8, 7), value=23.030001),\n",
       " DataPoint(date=datetime.date(1951, 8, 8), value=22.93),\n",
       " DataPoint(date=datetime.date(1951, 8, 9), value=22.84),\n",
       " DataPoint(date=datetime.date(1951, 8, 10), value=22.790001),\n",
       " DataPoint(date=datetime.date(1951, 8, 13), value=22.799999),\n",
       " DataPoint(date=datetime.date(1951, 8, 14), value=22.700001),\n",
       " DataPoint(date=datetime.date(1951, 8, 15), value=22.790001),\n",
       " DataPoint(date=datetime.date(1951, 8, 16), value=22.870001),\n",
       " DataPoint(date=datetime.date(1951, 8, 17), value=22.940001),\n",
       " DataPoint(date=datetime.date(1951, 8, 20), value=22.93),\n",
       " DataPoint(date=datetime.date(1951, 8, 21), value=22.83),\n",
       " DataPoint(date=datetime.date(1951, 8, 22), value=22.75),\n",
       " DataPoint(date=datetime.date(1951, 8, 23), value=22.9),\n",
       " DataPoint(date=datetime.date(1951, 8, 24), value=22.879999),\n",
       " DataPoint(date=datetime.date(1951, 8, 27), value=22.85),\n",
       " DataPoint(date=datetime.date(1951, 8, 28), value=22.9),\n",
       " DataPoint(date=datetime.date(1951, 8, 29), value=23.08),\n",
       " DataPoint(date=datetime.date(1951, 8, 30), value=23.24),\n",
       " DataPoint(date=datetime.date(1951, 8, 31), value=23.280001),\n",
       " DataPoint(date=datetime.date(1951, 9, 4), value=23.280001),\n",
       " DataPoint(date=datetime.date(1951, 9, 5), value=23.42),\n",
       " DataPoint(date=datetime.date(1951, 9, 6), value=23.469999),\n",
       " DataPoint(date=datetime.date(1951, 9, 7), value=23.530001),\n",
       " DataPoint(date=datetime.date(1951, 9, 10), value=23.620001),\n",
       " DataPoint(date=datetime.date(1951, 9, 11), value=23.5),\n",
       " DataPoint(date=datetime.date(1951, 9, 12), value=23.6),\n",
       " DataPoint(date=datetime.date(1951, 9, 13), value=23.709999),\n",
       " DataPoint(date=datetime.date(1951, 9, 14), value=23.690001),\n",
       " DataPoint(date=datetime.date(1951, 9, 17), value=23.620001),\n",
       " DataPoint(date=datetime.date(1951, 9, 18), value=23.59),\n",
       " DataPoint(date=datetime.date(1951, 9, 19), value=23.59),\n",
       " DataPoint(date=datetime.date(1951, 9, 20), value=23.57),\n",
       " DataPoint(date=datetime.date(1951, 9, 21), value=23.4),\n",
       " DataPoint(date=datetime.date(1951, 9, 24), value=23.299999),\n",
       " DataPoint(date=datetime.date(1951, 9, 25), value=23.379999),\n",
       " DataPoint(date=datetime.date(1951, 9, 26), value=23.4),\n",
       " DataPoint(date=datetime.date(1951, 9, 27), value=23.27),\n",
       " DataPoint(date=datetime.date(1951, 9, 28), value=23.26),\n",
       " DataPoint(date=datetime.date(1951, 10, 1), value=23.469999),\n",
       " DataPoint(date=datetime.date(1951, 10, 2), value=23.639999),\n",
       " DataPoint(date=datetime.date(1951, 10, 3), value=23.790001),\n",
       " DataPoint(date=datetime.date(1951, 10, 4), value=23.719999),\n",
       " DataPoint(date=datetime.date(1951, 10, 5), value=23.780001),\n",
       " DataPoint(date=datetime.date(1951, 10, 8), value=23.75),\n",
       " DataPoint(date=datetime.date(1951, 10, 9), value=23.65),\n",
       " DataPoint(date=datetime.date(1951, 10, 10), value=23.610001),\n",
       " DataPoint(date=datetime.date(1951, 10, 11), value=23.700001),\n",
       " DataPoint(date=datetime.date(1951, 10, 15), value=23.85),\n",
       " DataPoint(date=datetime.date(1951, 10, 16), value=23.77),\n",
       " DataPoint(date=datetime.date(1951, 10, 17), value=23.690001),\n",
       " DataPoint(date=datetime.date(1951, 10, 18), value=23.67),\n",
       " DataPoint(date=datetime.date(1951, 10, 19), value=23.32),\n",
       " DataPoint(date=datetime.date(1951, 10, 22), value=22.75),\n",
       " DataPoint(date=datetime.date(1951, 10, 23), value=22.84),\n",
       " DataPoint(date=datetime.date(1951, 10, 24), value=23.030001),\n",
       " DataPoint(date=datetime.date(1951, 10, 25), value=22.959999),\n",
       " DataPoint(date=datetime.date(1951, 10, 26), value=22.809999),\n",
       " DataPoint(date=datetime.date(1951, 10, 29), value=22.690001),\n",
       " DataPoint(date=datetime.date(1951, 10, 30), value=22.66),\n",
       " DataPoint(date=datetime.date(1951, 10, 31), value=22.940001),\n",
       " DataPoint(date=datetime.date(1951, 11, 1), value=23.1),\n",
       " DataPoint(date=datetime.date(1951, 11, 2), value=22.93),\n",
       " DataPoint(date=datetime.date(1951, 11, 5), value=22.82),\n",
       " DataPoint(date=datetime.date(1951, 11, 7), value=22.49),\n",
       " DataPoint(date=datetime.date(1951, 11, 8), value=22.469999),\n",
       " DataPoint(date=datetime.date(1951, 11, 9), value=22.75),\n",
       " DataPoint(date=datetime.date(1951, 11, 13), value=22.790001),\n",
       " DataPoint(date=datetime.date(1951, 11, 14), value=22.85),\n",
       " DataPoint(date=datetime.date(1951, 11, 15), value=22.84),\n",
       " DataPoint(date=datetime.date(1951, 11, 16), value=22.82),\n",
       " DataPoint(date=datetime.date(1951, 11, 19), value=22.73),\n",
       " DataPoint(date=datetime.date(1951, 11, 20), value=22.68),\n",
       " DataPoint(date=datetime.date(1951, 11, 21), value=22.639999),\n",
       " DataPoint(date=datetime.date(1951, 11, 23), value=22.4),\n",
       " DataPoint(date=datetime.date(1951, 11, 26), value=22.43),\n",
       " DataPoint(date=datetime.date(1951, 11, 27), value=22.66),\n",
       " DataPoint(date=datetime.date(1951, 11, 28), value=22.610001),\n",
       " DataPoint(date=datetime.date(1951, 11, 29), value=22.67),\n",
       " DataPoint(date=datetime.date(1951, 11, 30), value=22.879999),\n",
       " DataPoint(date=datetime.date(1951, 12, 3), value=23.01),\n",
       " DataPoint(date=datetime.date(1951, 12, 4), value=23.139999),\n",
       " DataPoint(date=datetime.date(1951, 12, 5), value=23.07),\n",
       " DataPoint(date=datetime.date(1951, 12, 6), value=23.34),\n",
       " DataPoint(date=datetime.date(1951, 12, 7), value=23.379999),\n",
       " DataPoint(date=datetime.date(1951, 12, 10), value=23.42),\n",
       " DataPoint(date=datetime.date(1951, 12, 11), value=23.299999),\n",
       " DataPoint(date=datetime.date(1951, 12, 12), value=23.370001),\n",
       " DataPoint(date=datetime.date(1951, 12, 13), value=23.389999),\n",
       " DataPoint(date=datetime.date(1951, 12, 14), value=23.370001),\n",
       " DataPoint(date=datetime.date(1951, 12, 17), value=23.41),\n",
       " DataPoint(date=datetime.date(1951, 12, 18), value=23.49),\n",
       " DataPoint(date=datetime.date(1951, 12, 19), value=23.57),\n",
       " DataPoint(date=datetime.date(1951, 12, 20), value=23.57),\n",
       " DataPoint(date=datetime.date(1951, 12, 21), value=23.51),\n",
       " DataPoint(date=datetime.date(1951, 12, 24), value=23.540001),\n",
       " DataPoint(date=datetime.date(1951, 12, 26), value=23.440001),\n",
       " DataPoint(date=datetime.date(1951, 12, 27), value=23.65),\n",
       " DataPoint(date=datetime.date(1951, 12, 28), value=23.690001),\n",
       " DataPoint(date=datetime.date(1951, 12, 31), value=23.77),\n",
       " DataPoint(date=datetime.date(1952, 1, 2), value=23.799999),\n",
       " DataPoint(date=datetime.date(1952, 1, 3), value=23.879999),\n",
       " DataPoint(date=datetime.date(1952, 1, 4), value=23.92),\n",
       " DataPoint(date=datetime.date(1952, 1, 7), value=23.91),\n",
       " DataPoint(date=datetime.date(1952, 1, 8), value=23.82),\n",
       " DataPoint(date=datetime.date(1952, 1, 9), value=23.74),\n",
       " DataPoint(date=datetime.date(1952, 1, 10), value=23.860001),\n",
       " DataPoint(date=datetime.date(1952, 1, 11), value=23.98),\n",
       " DataPoint(date=datetime.date(1952, 1, 14), value=24.16),\n",
       " DataPoint(date=datetime.date(1952, 1, 15), value=24.059999),\n",
       " DataPoint(date=datetime.date(1952, 1, 16), value=24.09),\n",
       " DataPoint(date=datetime.date(1952, 1, 17), value=24.200001),\n",
       " DataPoint(date=datetime.date(1952, 1, 18), value=24.25),\n",
       " DataPoint(date=datetime.date(1952, 1, 21), value=24.459999),\n",
       " DataPoint(date=datetime.date(1952, 1, 22), value=24.66),\n",
       " DataPoint(date=datetime.date(1952, 1, 23), value=24.540001),\n",
       " DataPoint(date=datetime.date(1952, 1, 24), value=24.559999),\n",
       " DataPoint(date=datetime.date(1952, 1, 25), value=24.549999),\n",
       " DataPoint(date=datetime.date(1952, 1, 28), value=24.610001),\n",
       " DataPoint(date=datetime.date(1952, 1, 29), value=24.57),\n",
       " DataPoint(date=datetime.date(1952, 1, 30), value=24.23),\n",
       " DataPoint(date=datetime.date(1952, 1, 31), value=24.139999),\n",
       " DataPoint(date=datetime.date(1952, 2, 1), value=24.299999),\n",
       " DataPoint(date=datetime.date(1952, 2, 4), value=24.120001),\n",
       " DataPoint(date=datetime.date(1952, 2, 5), value=24.110001),\n",
       " DataPoint(date=datetime.date(1952, 2, 6), value=24.18),\n",
       " DataPoint(date=datetime.date(1952, 2, 7), value=24.110001),\n",
       " DataPoint(date=datetime.date(1952, 2, 8), value=24.24),\n",
       " DataPoint(date=datetime.date(1952, 2, 11), value=24.110001),\n",
       " DataPoint(date=datetime.date(1952, 2, 13), value=23.92),\n",
       " DataPoint(date=datetime.date(1952, 2, 14), value=23.870001),\n",
       " DataPoint(date=datetime.date(1952, 2, 15), value=23.860001),\n",
       " DataPoint(date=datetime.date(1952, 2, 18), value=23.74),\n",
       " DataPoint(date=datetime.date(1952, 2, 19), value=23.360001),\n",
       " DataPoint(date=datetime.date(1952, 2, 20), value=23.09),\n",
       " DataPoint(date=datetime.date(1952, 2, 21), value=23.16),\n",
       " DataPoint(date=datetime.date(1952, 2, 25), value=23.23),\n",
       " DataPoint(date=datetime.date(1952, 2, 26), value=23.15),\n",
       " DataPoint(date=datetime.date(1952, 2, 27), value=23.18),\n",
       " DataPoint(date=datetime.date(1952, 2, 28), value=23.290001),\n",
       " DataPoint(date=datetime.date(1952, 2, 29), value=23.26),\n",
       " DataPoint(date=datetime.date(1952, 3, 3), value=23.290001),\n",
       " DataPoint(date=datetime.date(1952, 3, 4), value=23.68),\n",
       " DataPoint(date=datetime.date(1952, 3, 5), value=23.709999),\n",
       " DataPoint(date=datetime.date(1952, 3, 6), value=23.690001),\n",
       " DataPoint(date=datetime.date(1952, 3, 7), value=23.719999),\n",
       " DataPoint(date=datetime.date(1952, 3, 10), value=23.6),\n",
       " DataPoint(date=datetime.date(1952, 3, 11), value=23.620001),\n",
       " DataPoint(date=datetime.date(1952, 3, 12), value=23.73),\n",
       " DataPoint(date=datetime.date(1952, 3, 13), value=23.75),\n",
       " DataPoint(date=datetime.date(1952, 3, 14), value=23.75),\n",
       " DataPoint(date=datetime.date(1952, 3, 17), value=23.92),\n",
       " DataPoint(date=datetime.date(1952, 3, 18), value=23.870001),\n",
       " DataPoint(date=datetime.date(1952, 3, 19), value=23.82),\n",
       " DataPoint(date=datetime.date(1952, 3, 20), value=23.889999),\n",
       " DataPoint(date=datetime.date(1952, 3, 21), value=23.93),\n",
       " DataPoint(date=datetime.date(1952, 3, 24), value=23.93),\n",
       " DataPoint(date=datetime.date(1952, 3, 25), value=23.790001),\n",
       " DataPoint(date=datetime.date(1952, 3, 26), value=23.780001),\n",
       " DataPoint(date=datetime.date(1952, 3, 27), value=23.99),\n",
       " DataPoint(date=datetime.date(1952, 3, 28), value=24.18),\n",
       " DataPoint(date=datetime.date(1952, 3, 31), value=24.370001),\n",
       " DataPoint(date=datetime.date(1952, 4, 1), value=24.18),\n",
       " DataPoint(date=datetime.date(1952, 4, 2), value=24.120001),\n",
       " DataPoint(date=datetime.date(1952, 4, 3), value=24.120001),\n",
       " DataPoint(date=datetime.date(1952, 4, 4), value=24.02),\n",
       " DataPoint(date=datetime.date(1952, 4, 7), value=23.799999),\n",
       " DataPoint(date=datetime.date(1952, 4, 8), value=23.91),\n",
       " DataPoint(date=datetime.date(1952, 4, 9), value=23.940001),\n",
       " DataPoint(date=datetime.date(1952, 4, 10), value=24.110001),\n",
       " DataPoint(date=datetime.date(1952, 4, 14), value=23.950001),\n",
       " DataPoint(date=datetime.date(1952, 4, 15), value=23.65),\n",
       " DataPoint(date=datetime.date(1952, 4, 16), value=23.58),\n",
       " DataPoint(date=datetime.date(1952, 4, 17), value=23.41),\n",
       " DataPoint(date=datetime.date(1952, 4, 18), value=23.5),\n",
       " DataPoint(date=datetime.date(1952, 4, 21), value=23.690001),\n",
       " DataPoint(date=datetime.date(1952, 4, 22), value=23.58),\n",
       " DataPoint(date=datetime.date(1952, 4, 23), value=23.48),\n",
       " DataPoint(date=datetime.date(1952, 4, 24), value=23.43),\n",
       " DataPoint(date=datetime.date(1952, 4, 25), value=23.540001),\n",
       " DataPoint(date=datetime.date(1952, 4, 28), value=23.549999),\n",
       " DataPoint(date=datetime.date(1952, 4, 29), value=23.49),\n",
       " DataPoint(date=datetime.date(1952, 4, 30), value=23.32),\n",
       " DataPoint(date=datetime.date(1952, 5, 1), value=23.17),\n",
       " DataPoint(date=datetime.date(1952, 5, 2), value=23.559999),\n",
       " DataPoint(date=datetime.date(1952, 5, 5), value=23.66),\n",
       " DataPoint(date=datetime.date(1952, 5, 6), value=23.67),\n",
       " DataPoint(date=datetime.date(1952, 5, 7), value=23.809999),\n",
       " DataPoint(date=datetime.date(1952, 5, 8), value=23.860001),\n",
       " DataPoint(date=datetime.date(1952, 5, 9), value=23.84),\n",
       " DataPoint(date=datetime.date(1952, 5, 12), value=23.75),\n",
       " DataPoint(date=datetime.date(1952, 5, 13), value=23.780001),\n",
       " DataPoint(date=datetime.date(1952, 5, 14), value=23.68),\n",
       " DataPoint(date=datetime.date(1952, 5, 15), value=23.6),\n",
       " DataPoint(date=datetime.date(1952, 5, 16), value=23.559999),\n",
       " DataPoint(date=datetime.date(1952, 5, 19), value=23.610001),\n",
       " DataPoint(date=datetime.date(1952, 5, 20), value=23.74),\n",
       " DataPoint(date=datetime.date(1952, 5, 21), value=23.780001),\n",
       " DataPoint(date=datetime.date(1952, 5, 22), value=23.91),\n",
       " DataPoint(date=datetime.date(1952, 5, 23), value=23.889999),\n",
       " DataPoint(date=datetime.date(1952, 5, 26), value=23.940001),\n",
       " DataPoint(date=datetime.date(1952, 5, 27), value=23.879999),\n",
       " DataPoint(date=datetime.date(1952, 5, 28), value=23.84),\n",
       " DataPoint(date=datetime.date(1952, 5, 29), value=23.860001),\n",
       " DataPoint(date=datetime.date(1952, 6, 2), value=23.799999),\n",
       " DataPoint(date=datetime.date(1952, 6, 3), value=23.780001),\n",
       " DataPoint(date=datetime.date(1952, 6, 4), value=23.950001),\n",
       " DataPoint(date=datetime.date(1952, 6, 5), value=24.1),\n",
       " DataPoint(date=datetime.date(1952, 6, 6), value=24.26),\n",
       " DataPoint(date=datetime.date(1952, 6, 9), value=24.370001),\n",
       " DataPoint(date=datetime.date(1952, 6, 10), value=24.23),\n",
       " DataPoint(date=datetime.date(1952, 6, 11), value=24.309999),\n",
       " DataPoint(date=datetime.date(1952, 6, 12), value=24.309999),\n",
       " DataPoint(date=datetime.date(1952, 6, 13), value=24.370001),\n",
       " DataPoint(date=datetime.date(1952, 6, 16), value=24.299999),\n",
       " DataPoint(date=datetime.date(1952, 6, 17), value=24.33),\n",
       " DataPoint(date=datetime.date(1952, 6, 18), value=24.43),\n",
       " DataPoint(date=datetime.date(1952, 6, 19), value=24.51),\n",
       " DataPoint(date=datetime.date(1952, 6, 20), value=24.59),\n",
       " DataPoint(date=datetime.date(1952, 6, 23), value=24.559999),\n",
       " DataPoint(date=datetime.date(1952, 6, 24), value=24.6),\n",
       " DataPoint(date=datetime.date(1952, 6, 25), value=24.66),\n",
       " DataPoint(date=datetime.date(1952, 6, 26), value=24.75),\n",
       " DataPoint(date=datetime.date(1952, 6, 27), value=24.83),\n",
       " DataPoint(date=datetime.date(1952, 6, 30), value=24.959999),\n",
       " DataPoint(date=datetime.date(1952, 7, 1), value=25.120001),\n",
       " DataPoint(date=datetime.date(1952, 7, 2), value=25.059999),\n",
       " DataPoint(date=datetime.date(1952, 7, 3), value=25.049999),\n",
       " DataPoint(date=datetime.date(1952, 7, 7), value=24.969999),\n",
       " DataPoint(date=datetime.date(1952, 7, 8), value=24.959999),\n",
       " DataPoint(date=datetime.date(1952, 7, 9), value=24.860001),\n",
       " DataPoint(date=datetime.date(1952, 7, 10), value=24.809999),\n",
       " DataPoint(date=datetime.date(1952, 7, 11), value=24.98),\n",
       " DataPoint(date=datetime.date(1952, 7, 14), value=25.030001),\n",
       " DataPoint(date=datetime.date(1952, 7, 15), value=25.16),\n",
       " DataPoint(date=datetime.date(1952, 7, 16), value=25.16),\n",
       " DataPoint(date=datetime.date(1952, 7, 17), value=25.049999),\n",
       " DataPoint(date=datetime.date(1952, 7, 18), value=24.85),\n",
       " DataPoint(date=datetime.date(1952, 7, 21), value=24.950001),\n",
       " DataPoint(date=datetime.date(1952, 7, 22), value=25.0),\n",
       " DataPoint(date=datetime.date(1952, 7, 23), value=25.110001),\n",
       " DataPoint(date=datetime.date(1952, 7, 24), value=25.24),\n",
       " DataPoint(date=datetime.date(1952, 7, 25), value=25.16),\n",
       " DataPoint(date=datetime.date(1952, 7, 28), value=25.200001),\n",
       " DataPoint(date=datetime.date(1952, 7, 29), value=25.26),\n",
       " DataPoint(date=datetime.date(1952, 7, 30), value=25.370001),\n",
       " DataPoint(date=datetime.date(1952, 7, 31), value=25.4),\n",
       " DataPoint(date=datetime.date(1952, 8, 1), value=25.450001),\n",
       " DataPoint(date=datetime.date(1952, 8, 4), value=25.43),\n",
       " DataPoint(date=datetime.date(1952, 8, 5), value=25.459999),\n",
       " DataPoint(date=datetime.date(1952, 8, 6), value=25.440001),\n",
       " DataPoint(date=datetime.date(1952, 8, 7), value=25.52),\n",
       " DataPoint(date=datetime.date(1952, 8, 8), value=25.549999),\n",
       " DataPoint(date=datetime.date(1952, 8, 11), value=25.52),\n",
       " DataPoint(date=datetime.date(1952, 8, 12), value=25.309999),\n",
       " DataPoint(date=datetime.date(1952, 8, 13), value=25.280001),\n",
       " DataPoint(date=datetime.date(1952, 8, 14), value=25.280001),\n",
       " DataPoint(date=datetime.date(1952, 8, 15), value=25.200001),\n",
       " DataPoint(date=datetime.date(1952, 8, 18), value=24.940001),\n",
       " DataPoint(date=datetime.date(1952, 8, 19), value=24.889999),\n",
       " DataPoint(date=datetime.date(1952, 8, 20), value=24.950001),\n",
       " DataPoint(date=datetime.date(1952, 8, 21), value=24.98),\n",
       " DataPoint(date=datetime.date(1952, 8, 22), value=24.99),\n",
       " DataPoint(date=datetime.date(1952, 8, 25), value=24.870001),\n",
       " DataPoint(date=datetime.date(1952, 8, 26), value=24.83),\n",
       " DataPoint(date=datetime.date(1952, 8, 27), value=24.940001),\n",
       " DataPoint(date=datetime.date(1952, 8, 28), value=24.969999),\n",
       " DataPoint(date=datetime.date(1952, 8, 29), value=25.030001),\n",
       " DataPoint(date=datetime.date(1952, 9, 2), value=25.15),\n",
       " DataPoint(date=datetime.date(1952, 9, 3), value=25.25),\n",
       " DataPoint(date=datetime.date(1952, 9, 4), value=25.24),\n",
       " DataPoint(date=datetime.date(1952, 9, 5), value=25.209999),\n",
       " DataPoint(date=datetime.date(1952, 9, 8), value=25.110001),\n",
       " DataPoint(date=datetime.date(1952, 9, 9), value=24.860001),\n",
       " DataPoint(date=datetime.date(1952, 9, 10), value=24.690001),\n",
       " DataPoint(date=datetime.date(1952, 9, 11), value=24.719999),\n",
       " DataPoint(date=datetime.date(1952, 9, 12), value=24.709999),\n",
       " DataPoint(date=datetime.date(1952, 9, 15), value=24.450001),\n",
       " DataPoint(date=datetime.date(1952, 9, 16), value=24.530001),\n",
       " DataPoint(date=datetime.date(1952, 9, 17), value=24.58),\n",
       " DataPoint(date=datetime.date(1952, 9, 18), value=24.51),\n",
       " DataPoint(date=datetime.date(1952, 9, 19), value=24.57),\n",
       " DataPoint(date=datetime.date(1952, 9, 22), value=24.59),\n",
       " DataPoint(date=datetime.date(1952, 9, 23), value=24.700001),\n",
       " DataPoint(date=datetime.date(1952, 9, 24), value=24.790001),\n",
       " DataPoint(date=datetime.date(1952, 9, 25), value=24.809999),\n",
       " DataPoint(date=datetime.date(1952, 9, 26), value=24.73),\n",
       " DataPoint(date=datetime.date(1952, 9, 29), value=24.68),\n",
       " DataPoint(date=datetime.date(1952, 9, 30), value=24.540001),\n",
       " DataPoint(date=datetime.date(1952, 10, 1), value=24.48),\n",
       " DataPoint(date=datetime.date(1952, 10, 2), value=24.52),\n",
       " DataPoint(date=datetime.date(1952, 10, 3), value=24.5),\n",
       " DataPoint(date=datetime.date(1952, 10, 6), value=24.440001),\n",
       " DataPoint(date=datetime.date(1952, 10, 7), value=24.4),\n",
       " DataPoint(date=datetime.date(1952, 10, 8), value=24.58),\n",
       " DataPoint(date=datetime.date(1952, 10, 9), value=24.57),\n",
       " DataPoint(date=datetime.date(1952, 10, 10), value=24.549999),\n",
       " DataPoint(date=datetime.date(1952, 10, 14), value=24.48),\n",
       " DataPoint(date=datetime.date(1952, 10, 15), value=24.059999),\n",
       " DataPoint(date=datetime.date(1952, 10, 16), value=23.91),\n",
       " DataPoint(date=datetime.date(1952, 10, 17), value=24.200001),\n",
       " DataPoint(date=datetime.date(1952, 10, 20), value=24.129999),\n",
       " DataPoint(date=datetime.date(1952, 10, 21), value=24.07),\n",
       " DataPoint(date=datetime.date(1952, 10, 22), value=23.799999),\n",
       " DataPoint(date=datetime.date(1952, 10, 23), value=23.870001),\n",
       " DataPoint(date=datetime.date(1952, 10, 24), value=24.030001),\n",
       " DataPoint(date=datetime.date(1952, 10, 27), value=24.09),\n",
       " DataPoint(date=datetime.date(1952, 10, 28), value=24.129999),\n",
       " DataPoint(date=datetime.date(1952, 10, 29), value=24.15),\n",
       " DataPoint(date=datetime.date(1952, 10, 30), value=24.15),\n",
       " DataPoint(date=datetime.date(1952, 10, 31), value=24.52),\n",
       " DataPoint(date=datetime.date(1952, 11, 3), value=24.6),\n",
       " DataPoint(date=datetime.date(1952, 11, 5), value=24.67),\n",
       " DataPoint(date=datetime.date(1952, 11, 6), value=24.77),\n",
       " DataPoint(date=datetime.date(1952, 11, 7), value=24.780001),\n",
       " DataPoint(date=datetime.date(1952, 11, 10), value=24.77),\n",
       " DataPoint(date=datetime.date(1952, 11, 12), value=24.65),\n",
       " DataPoint(date=datetime.date(1952, 11, 13), value=24.709999),\n",
       " DataPoint(date=datetime.date(1952, 11, 14), value=24.75),\n",
       " DataPoint(date=datetime.date(1952, 11, 17), value=24.799999),\n",
       " DataPoint(date=datetime.date(1952, 11, 18), value=25.16),\n",
       " DataPoint(date=datetime.date(1952, 11, 19), value=25.33),\n",
       " DataPoint(date=datetime.date(1952, 11, 20), value=25.280001),\n",
       " DataPoint(date=datetime.date(1952, 11, 21), value=25.27),\n",
       " DataPoint(date=datetime.date(1952, 11, 24), value=25.42),\n",
       " DataPoint(date=datetime.date(1952, 11, 25), value=25.360001),\n",
       " DataPoint(date=datetime.date(1952, 11, 26), value=25.52),\n",
       " DataPoint(date=datetime.date(1952, 11, 28), value=25.66),\n",
       " DataPoint(date=datetime.date(1952, 12, 1), value=25.68),\n",
       " DataPoint(date=datetime.date(1952, 12, 2), value=25.74),\n",
       " DataPoint(date=datetime.date(1952, 12, 3), value=25.709999),\n",
       " DataPoint(date=datetime.date(1952, 12, 4), value=25.610001),\n",
       " DataPoint(date=datetime.date(1952, 12, 5), value=25.620001),\n",
       " DataPoint(date=datetime.date(1952, 12, 8), value=25.76),\n",
       " DataPoint(date=datetime.date(1952, 12, 9), value=25.93),\n",
       " DataPoint(date=datetime.date(1952, 12, 10), value=25.98),\n",
       " DataPoint(date=datetime.date(1952, 12, 11), value=25.959999),\n",
       " DataPoint(date=datetime.date(1952, 12, 12), value=26.040001),\n",
       " DataPoint(date=datetime.date(1952, 12, 15), value=26.040001),\n",
       " DataPoint(date=datetime.date(1952, 12, 16), value=26.07),\n",
       " DataPoint(date=datetime.date(1952, 12, 17), value=26.040001),\n",
       " DataPoint(date=datetime.date(1952, 12, 18), value=26.030001),\n",
       " DataPoint(date=datetime.date(1952, 12, 19), value=26.15),\n",
       " DataPoint(date=datetime.date(1952, 12, 22), value=26.299999),\n",
       " DataPoint(date=datetime.date(1952, 12, 23), value=26.190001),\n",
       " DataPoint(date=datetime.date(1952, 12, 24), value=26.209999),\n",
       " DataPoint(date=datetime.date(1952, 12, 26), value=26.25),\n",
       " DataPoint(date=datetime.date(1952, 12, 29), value=26.4),\n",
       " DataPoint(date=datetime.date(1952, 12, 30), value=26.59),\n",
       " DataPoint(date=datetime.date(1952, 12, 31), value=26.57),\n",
       " DataPoint(date=datetime.date(1953, 1, 2), value=26.540001),\n",
       " DataPoint(date=datetime.date(1953, 1, 5), value=26.66),\n",
       " DataPoint(date=datetime.date(1953, 1, 6), value=26.48),\n",
       " DataPoint(date=datetime.date(1953, 1, 7), value=26.370001),\n",
       " DataPoint(date=datetime.date(1953, 1, 8), value=26.33),\n",
       " DataPoint(date=datetime.date(1953, 1, 9), value=26.08),\n",
       " DataPoint(date=datetime.date(1953, 1, 12), value=25.860001),\n",
       " DataPoint(date=datetime.date(1953, 1, 13), value=26.02),\n",
       " DataPoint(date=datetime.date(1953, 1, 14), value=26.08),\n",
       " DataPoint(date=datetime.date(1953, 1, 15), value=26.129999),\n",
       " DataPoint(date=datetime.date(1953, 1, 16), value=26.02),\n",
       " DataPoint(date=datetime.date(1953, 1, 19), value=26.01),\n",
       " DataPoint(date=datetime.date(1953, 1, 20), value=26.139999),\n",
       " DataPoint(date=datetime.date(1953, 1, 21), value=26.09),\n",
       " DataPoint(date=datetime.date(1953, 1, 22), value=26.120001),\n",
       " DataPoint(date=datetime.date(1953, 1, 23), value=26.07),\n",
       " DataPoint(date=datetime.date(1953, 1, 26), value=26.02),\n",
       " DataPoint(date=datetime.date(1953, 1, 27), value=26.049999),\n",
       " DataPoint(date=datetime.date(1953, 1, 28), value=26.129999),\n",
       " DataPoint(date=datetime.date(1953, 1, 29), value=26.200001),\n",
       " DataPoint(date=datetime.date(1953, 1, 30), value=26.379999),\n",
       " DataPoint(date=datetime.date(1953, 2, 2), value=26.51),\n",
       " DataPoint(date=datetime.date(1953, 2, 3), value=26.540001),\n",
       " DataPoint(date=datetime.date(1953, 2, 4), value=26.42),\n",
       " DataPoint(date=datetime.date(1953, 2, 5), value=26.15),\n",
       " DataPoint(date=datetime.date(1953, 2, 6), value=26.51),\n",
       " DataPoint(date=datetime.date(1953, 2, 9), value=25.690001),\n",
       " DataPoint(date=datetime.date(1953, 2, 10), value=25.620001),\n",
       " DataPoint(date=datetime.date(1953, 2, 11), value=25.639999),\n",
       " DataPoint(date=datetime.date(1953, 2, 13), value=25.74),\n",
       " DataPoint(date=datetime.date(1953, 2, 16), value=25.65),\n",
       " DataPoint(date=datetime.date(1953, 2, 17), value=25.5),\n",
       " DataPoint(date=datetime.date(1953, 2, 18), value=25.48),\n",
       " DataPoint(date=datetime.date(1953, 2, 19), value=25.57),\n",
       " DataPoint(date=datetime.date(1953, 2, 20), value=25.629999),\n",
       " DataPoint(date=datetime.date(1953, 2, 24), value=25.75),\n",
       " DataPoint(date=datetime.date(1953, 2, 25), value=25.91),\n",
       " DataPoint(date=datetime.date(1953, 2, 26), value=25.950001),\n",
       " DataPoint(date=datetime.date(1953, 2, 27), value=25.9),\n",
       " DataPoint(date=datetime.date(1953, 3, 2), value=25.93),\n",
       " DataPoint(date=datetime.date(1953, 3, 3), value=26.0),\n",
       " DataPoint(date=datetime.date(1953, 3, 4), value=25.780001),\n",
       " DataPoint(date=datetime.date(1953, 3, 5), value=25.790001),\n",
       " DataPoint(date=datetime.date(1953, 3, 6), value=25.84),\n",
       " DataPoint(date=datetime.date(1953, 3, 9), value=25.83),\n",
       " DataPoint(date=datetime.date(1953, 3, 10), value=25.91),\n",
       " DataPoint(date=datetime.date(1953, 3, 11), value=26.120001),\n",
       " DataPoint(date=datetime.date(1953, 3, 12), value=26.129999),\n",
       " DataPoint(date=datetime.date(1953, 3, 13), value=26.18),\n",
       " DataPoint(date=datetime.date(1953, 3, 16), value=26.219999),\n",
       " DataPoint(date=datetime.date(1953, 3, 17), value=26.33),\n",
       " DataPoint(date=datetime.date(1953, 3, 18), value=26.24),\n",
       " DataPoint(date=datetime.date(1953, 3, 19), value=26.219999),\n",
       " DataPoint(date=datetime.date(1953, 3, 20), value=26.18),\n",
       " DataPoint(date=datetime.date(1953, 3, 23), value=26.02),\n",
       " DataPoint(date=datetime.date(1953, 3, 24), value=26.17),\n",
       " DataPoint(date=datetime.date(1953, 3, 25), value=26.1),\n",
       " DataPoint(date=datetime.date(1953, 3, 26), value=25.950001),\n",
       " DataPoint(date=datetime.date(1953, 3, 27), value=25.99),\n",
       " DataPoint(date=datetime.date(1953, 3, 30), value=25.610001),\n",
       " DataPoint(date=datetime.date(1953, 3, 31), value=25.290001),\n",
       " DataPoint(date=datetime.date(1953, 4, 1), value=25.25),\n",
       " DataPoint(date=datetime.date(1953, 4, 2), value=25.23),\n",
       " DataPoint(date=datetime.date(1953, 4, 6), value=24.610001),\n",
       " DataPoint(date=datetime.date(1953, 4, 7), value=24.709999),\n",
       " DataPoint(date=datetime.date(1953, 4, 8), value=24.93),\n",
       " DataPoint(date=datetime.date(1953, 4, 9), value=24.879999),\n",
       " DataPoint(date=datetime.date(1953, 4, 10), value=24.82),\n",
       " DataPoint(date=datetime.date(1953, 4, 13), value=24.77),\n",
       " DataPoint(date=datetime.date(1953, 4, 14), value=24.860001),\n",
       " DataPoint(date=datetime.date(1953, 4, 15), value=24.959999),\n",
       " DataPoint(date=datetime.date(1953, 4, 16), value=24.91),\n",
       " DataPoint(date=datetime.date(1953, 4, 17), value=24.620001),\n",
       " DataPoint(date=datetime.date(1953, 4, 20), value=24.73),\n",
       " DataPoint(date=datetime.date(1953, 4, 21), value=24.67),\n",
       " DataPoint(date=datetime.date(1953, 4, 22), value=24.459999),\n",
       " DataPoint(date=datetime.date(1953, 4, 23), value=24.190001),\n",
       " DataPoint(date=datetime.date(1953, 4, 24), value=24.200001),\n",
       " DataPoint(date=datetime.date(1953, 4, 27), value=24.34),\n",
       " DataPoint(date=datetime.date(1953, 4, 28), value=24.52),\n",
       " DataPoint(date=datetime.date(1953, 4, 29), value=24.68),\n",
       " DataPoint(date=datetime.date(1953, 4, 30), value=24.620001),\n",
       " DataPoint(date=datetime.date(1953, 5, 1), value=24.73),\n",
       " DataPoint(date=datetime.date(1953, 5, 4), value=25.0),\n",
       " DataPoint(date=datetime.date(1953, 5, 5), value=25.030001),\n",
       " DataPoint(date=datetime.date(1953, 5, 6), value=25.0),\n",
       " DataPoint(date=datetime.date(1953, 5, 7), value=24.9),\n",
       " DataPoint(date=datetime.date(1953, 5, 8), value=24.9),\n",
       " DataPoint(date=datetime.date(1953, 5, 11), value=24.91),\n",
       " DataPoint(date=datetime.date(1953, 5, 12), value=24.74),\n",
       " DataPoint(date=datetime.date(1953, 5, 13), value=24.709999),\n",
       " DataPoint(date=datetime.date(1953, 5, 14), value=24.85),\n",
       " DataPoint(date=datetime.date(1953, 5, 15), value=24.84),\n",
       " DataPoint(date=datetime.date(1953, 5, 18), value=24.75),\n",
       " DataPoint(date=datetime.date(1953, 5, 19), value=24.700001),\n",
       " DataPoint(date=datetime.date(1953, 5, 20), value=24.93),\n",
       " DataPoint(date=datetime.date(1953, 5, 21), value=25.059999),\n",
       " DataPoint(date=datetime.date(1953, 5, 22), value=25.030001),\n",
       " DataPoint(date=datetime.date(1953, 5, 25), value=24.99),\n",
       " DataPoint(date=datetime.date(1953, 5, 26), value=24.870001),\n",
       " DataPoint(date=datetime.date(1953, 5, 27), value=24.639999),\n",
       " DataPoint(date=datetime.date(1953, 5, 28), value=24.459999),\n",
       " DataPoint(date=datetime.date(1953, 5, 29), value=24.540001),\n",
       " DataPoint(date=datetime.date(1953, 6, 1), value=24.15),\n",
       " DataPoint(date=datetime.date(1953, 6, 2), value=24.219999),\n",
       " DataPoint(date=datetime.date(1953, 6, 3), value=24.18),\n",
       " DataPoint(date=datetime.date(1953, 6, 4), value=24.030001),\n",
       " DataPoint(date=datetime.date(1953, 6, 5), value=24.09),\n",
       " DataPoint(date=datetime.date(1953, 6, 8), value=24.01),\n",
       " DataPoint(date=datetime.date(1953, 6, 9), value=23.6),\n",
       " DataPoint(date=datetime.date(1953, 6, 10), value=23.540001),\n",
       " DataPoint(date=datetime.date(1953, 6, 11), value=23.75),\n",
       " DataPoint(date=datetime.date(1953, 6, 12), value=23.82),\n",
       " DataPoint(date=datetime.date(1953, 6, 15), value=23.620001),\n",
       " DataPoint(date=datetime.date(1953, 6, 16), value=23.549999),\n",
       " DataPoint(date=datetime.date(1953, 6, 17), value=23.85),\n",
       " DataPoint(date=datetime.date(1953, 6, 18), value=23.84),\n",
       " DataPoint(date=datetime.date(1953, 6, 19), value=23.84),\n",
       " DataPoint(date=datetime.date(1953, 6, 22), value=23.959999),\n",
       " DataPoint(date=datetime.date(1953, 6, 23), value=24.120001),\n",
       " DataPoint(date=datetime.date(1953, 6, 24), value=24.09),\n",
       " DataPoint(date=datetime.date(1953, 6, 25), value=24.190001),\n",
       " DataPoint(date=datetime.date(1953, 6, 26), value=24.209999),\n",
       " DataPoint(date=datetime.date(1953, 6, 29), value=24.139999),\n",
       " DataPoint(date=datetime.date(1953, 6, 30), value=24.139999),\n",
       " DataPoint(date=datetime.date(1953, 7, 1), value=24.24),\n",
       " DataPoint(date=datetime.date(1953, 7, 2), value=24.309999),\n",
       " DataPoint(date=datetime.date(1953, 7, 3), value=24.360001),\n",
       " DataPoint(date=datetime.date(1953, 7, 6), value=24.379999),\n",
       " DataPoint(date=datetime.date(1953, 7, 7), value=24.51),\n",
       " DataPoint(date=datetime.date(1953, 7, 8), value=24.5),\n",
       " DataPoint(date=datetime.date(1953, 7, 9), value=24.43),\n",
       " DataPoint(date=datetime.date(1953, 7, 10), value=24.41),\n",
       " DataPoint(date=datetime.date(1953, 7, 13), value=24.17),\n",
       " DataPoint(date=datetime.date(1953, 7, 14), value=24.08),\n",
       " DataPoint(date=datetime.date(1953, 7, 15), value=24.15),\n",
       " DataPoint(date=datetime.date(1953, 7, 16), value=24.18),\n",
       " DataPoint(date=datetime.date(1953, 7, 17), value=24.35),\n",
       " DataPoint(date=datetime.date(1953, 7, 20), value=24.219999),\n",
       " DataPoint(date=datetime.date(1953, 7, 21), value=24.16),\n",
       " DataPoint(date=datetime.date(1953, 7, 22), value=24.190001),\n",
       " DataPoint(date=datetime.date(1953, 7, 23), value=24.23),\n",
       " DataPoint(date=datetime.date(1953, 7, 24), value=24.23),\n",
       " DataPoint(date=datetime.date(1953, 7, 27), value=24.07),\n",
       " DataPoint(date=datetime.date(1953, 7, 28), value=24.110001),\n",
       " DataPoint(date=datetime.date(1953, 7, 29), value=24.26),\n",
       " DataPoint(date=datetime.date(1953, 7, 30), value=24.49),\n",
       " DataPoint(date=datetime.date(1953, 7, 31), value=24.75),\n",
       " DataPoint(date=datetime.date(1953, 8, 3), value=24.84),\n",
       " DataPoint(date=datetime.date(1953, 8, 4), value=24.780001),\n",
       " DataPoint(date=datetime.date(1953, 8, 5), value=24.68),\n",
       " DataPoint(date=datetime.date(1953, 8, 6), value=24.799999),\n",
       " DataPoint(date=datetime.date(1953, 8, 7), value=24.780001),\n",
       " DataPoint(date=datetime.date(1953, 8, 10), value=24.75),\n",
       " DataPoint(date=datetime.date(1953, 8, 11), value=24.719999),\n",
       " DataPoint(date=datetime.date(1953, 8, 12), value=24.780001),\n",
       " DataPoint(date=datetime.date(1953, 8, 13), value=24.73),\n",
       " DataPoint(date=datetime.date(1953, 8, 14), value=24.620001),\n",
       " DataPoint(date=datetime.date(1953, 8, 17), value=24.559999),\n",
       " DataPoint(date=datetime.date(1953, 8, 18), value=24.459999),\n",
       " DataPoint(date=datetime.date(1953, 8, 19), value=24.309999),\n",
       " DataPoint(date=datetime.date(1953, 8, 20), value=24.290001),\n",
       " DataPoint(date=datetime.date(1953, 8, 21), value=24.35),\n",
       " DataPoint(date=datetime.date(1953, 8, 24), value=24.09),\n",
       " DataPoint(date=datetime.date(1953, 8, 25), value=23.93),\n",
       " DataPoint(date=datetime.date(1953, 8, 26), value=23.860001),\n",
       " DataPoint(date=datetime.date(1953, 8, 27), value=23.790001),\n",
       " DataPoint(date=datetime.date(1953, 8, 28), value=23.74),\n",
       " DataPoint(date=datetime.date(1953, 8, 31), value=23.32),\n",
       " DataPoint(date=datetime.date(1953, 9, 1), value=23.42),\n",
       " DataPoint(date=datetime.date(1953, 9, 2), value=23.559999),\n",
       " DataPoint(date=datetime.date(1953, 9, 3), value=23.51),\n",
       " DataPoint(date=datetime.date(1953, 9, 4), value=23.57),\n",
       " DataPoint(date=datetime.date(1953, 9, 8), value=23.610001),\n",
       " DataPoint(date=datetime.date(1953, 9, 9), value=23.65),\n",
       " DataPoint(date=datetime.date(1953, 9, 10), value=23.41),\n",
       " DataPoint(date=datetime.date(1953, 9, 11), value=23.139999),\n",
       " DataPoint(date=datetime.date(1953, 9, 14), value=22.709999),\n",
       " DataPoint(date=datetime.date(1953, 9, 15), value=22.9),\n",
       " DataPoint(date=datetime.date(1953, 9, 16), value=23.01),\n",
       " DataPoint(date=datetime.date(1953, 9, 17), value=23.07),\n",
       " DataPoint(date=datetime.date(1953, 9, 18), value=22.950001),\n",
       " DataPoint(date=datetime.date(1953, 9, 21), value=22.879999),\n",
       " DataPoint(date=datetime.date(1953, 9, 22), value=23.200001),\n",
       " DataPoint(date=datetime.date(1953, 9, 23), value=23.23),\n",
       " DataPoint(date=datetime.date(1953, 9, 24), value=23.24),\n",
       " DataPoint(date=datetime.date(1953, 9, 25), value=23.299999),\n",
       " DataPoint(date=datetime.date(1953, 9, 28), value=23.450001),\n",
       " DataPoint(date=datetime.date(1953, 9, 29), value=23.49),\n",
       " DataPoint(date=datetime.date(1953, 9, 30), value=23.35),\n",
       " DataPoint(date=datetime.date(1953, 10, 1), value=23.49),\n",
       " DataPoint(date=datetime.date(1953, 10, 2), value=23.59),\n",
       " DataPoint(date=datetime.date(1953, 10, 5), value=23.48),\n",
       " DataPoint(date=datetime.date(1953, 10, 6), value=23.389999),\n",
       " DataPoint(date=datetime.date(1953, 10, 7), value=23.58),\n",
       " DataPoint(date=datetime.date(1953, 10, 8), value=23.620001),\n",
       " DataPoint(date=datetime.date(1953, 10, 9), value=23.66),\n",
       " DataPoint(date=datetime.date(1953, 10, 13), value=23.57),\n",
       " DataPoint(date=datetime.date(1953, 10, 14), value=23.68),\n",
       " DataPoint(date=datetime.date(1953, 10, 15), value=23.950001),\n",
       " DataPoint(date=datetime.date(1953, 10, 16), value=24.139999),\n",
       " DataPoint(date=datetime.date(1953, 10, 19), value=24.16),\n",
       " DataPoint(date=datetime.date(1953, 10, 20), value=24.17),\n",
       " DataPoint(date=datetime.date(1953, 10, 21), value=24.190001),\n",
       " DataPoint(date=datetime.date(1953, 10, 22), value=24.299999),\n",
       " DataPoint(date=datetime.date(1953, 10, 23), value=24.35),\n",
       " DataPoint(date=datetime.date(1953, 10, 26), value=24.309999),\n",
       " DataPoint(date=datetime.date(1953, 10, 27), value=24.26),\n",
       " DataPoint(date=datetime.date(1953, 10, 28), value=24.290001),\n",
       " DataPoint(date=datetime.date(1953, 10, 29), value=24.58),\n",
       " DataPoint(date=datetime.date(1953, 10, 30), value=24.540001),\n",
       " DataPoint(date=datetime.date(1953, 11, 2), value=24.66),\n",
       " DataPoint(date=datetime.date(1953, 11, 4), value=24.51),\n",
       " DataPoint(date=datetime.date(1953, 11, 5), value=24.639999),\n",
       " DataPoint(date=datetime.date(1953, 11, 6), value=24.610001),\n",
       " DataPoint(date=datetime.date(1953, 11, 9), value=24.66),\n",
       " DataPoint(date=datetime.date(1953, 11, 10), value=24.370001),\n",
       " DataPoint(date=datetime.date(1953, 11, 12), value=24.459999),\n",
       " DataPoint(date=datetime.date(1953, 11, 13), value=24.540001),\n",
       " DataPoint(date=datetime.date(1953, 11, 16), value=24.379999),\n",
       " DataPoint(date=datetime.date(1953, 11, 17), value=24.25),\n",
       " DataPoint(date=datetime.date(1953, 11, 18), value=24.290001),\n",
       " DataPoint(date=datetime.date(1953, 11, 19), value=24.4),\n",
       " DataPoint(date=datetime.date(1953, 11, 20), value=24.440001),\n",
       " DataPoint(date=datetime.date(1953, 11, 23), value=24.360001),\n",
       " DataPoint(date=datetime.date(1953, 11, 24), value=24.5),\n",
       " DataPoint(date=datetime.date(1953, 11, 25), value=24.52),\n",
       " DataPoint(date=datetime.date(1953, 11, 27), value=24.66),\n",
       " DataPoint(date=datetime.date(1953, 11, 30), value=24.76),\n",
       " DataPoint(date=datetime.date(1953, 12, 1), value=24.780001),\n",
       " DataPoint(date=datetime.date(1953, 12, 2), value=24.950001),\n",
       " DataPoint(date=datetime.date(1953, 12, 3), value=24.969999),\n",
       " DataPoint(date=datetime.date(1953, 12, 4), value=24.98),\n",
       " DataPoint(date=datetime.date(1953, 12, 7), value=24.950001),\n",
       " DataPoint(date=datetime.date(1953, 12, 8), value=24.870001),\n",
       " DataPoint(date=datetime.date(1953, 12, 9), value=24.84),\n",
       " DataPoint(date=datetime.date(1953, 12, 10), value=24.780001),\n",
       " DataPoint(date=datetime.date(1953, 12, 11), value=24.76),\n",
       " DataPoint(date=datetime.date(1953, 12, 14), value=24.690001),\n",
       " DataPoint(date=datetime.date(1953, 12, 15), value=24.709999),\n",
       " DataPoint(date=datetime.date(1953, 12, 16), value=24.959999),\n",
       " DataPoint(date=datetime.date(1953, 12, 17), value=24.940001),\n",
       " DataPoint(date=datetime.date(1953, 12, 18), value=24.99),\n",
       " DataPoint(date=datetime.date(1953, 12, 21), value=24.950001),\n",
       " DataPoint(date=datetime.date(1953, 12, 22), value=24.76),\n",
       " DataPoint(date=datetime.date(1953, 12, 23), value=24.690001),\n",
       " DataPoint(date=datetime.date(1953, 12, 24), value=24.799999),\n",
       " DataPoint(date=datetime.date(1953, 12, 28), value=24.709999),\n",
       " DataPoint(date=datetime.date(1953, 12, 29), value=24.549999),\n",
       " DataPoint(date=datetime.date(1953, 12, 30), value=24.76),\n",
       " DataPoint(date=datetime.date(1953, 12, 31), value=24.809999),\n",
       " DataPoint(date=datetime.date(1954, 1, 4), value=24.950001),\n",
       " ...)"
      ]
     },
     "execution_count": 4,
     "metadata": {},
     "output_type": "execute_result"
    }
   ],
   "source": [
    "prices"
   ]
  },
  {
   "cell_type": "markdown",
   "metadata": {},
   "source": [
    "The read_prices() generator opens SP500.csv and reads each row with a csv.DictReader() object. DictReader() returns each row as an OrderedDict whose keys are the column names from the header row of the CSV file.\n",
    "\n",
    "For each row, read_prices() yields a DataPoint object containing the values in the “Date” and “Adj Close” columns. Finally, the full sequence of data points is committed to memory as a tuple and stored in the prices variable.\n",
    "\n",
    "Next, prices needs to be transformed to a sequence of daily percent changes:"
   ]
  },
  {
   "cell_type": "code",
   "execution_count": 5,
   "metadata": {},
   "outputs": [],
   "source": [
    "gains = tuple(DataPoint(day.date, 100*(day.value/prev_day.value - 1.))\n",
    "                for day, prev_day in zip(prices[1:], prices))"
   ]
  },
  {
   "cell_type": "markdown",
   "metadata": {},
   "source": [
    "The choice of storing the data in a tuple is intentional. Although you could point gains to an iterator, you will need to iterate over the data twice to find the minimum and maximum values.\n",
    "\n",
    "If you use tee() to create two independent iterators, exhausting one iterator to find the maximum will create a copy of all of the data in memory for the second iterator. By creating a tuple up front, you do not lose anything in terms of space complexity compared to tee(), and you may even gain a little speed.\n",
    "\n",
    "    Note: This example focuses on leveraging itertools for analyzing the S&P500 data. Those intent on working with a lot of time series financial data might also want to check out the Pandas library, which is well suited for such tasks.\n",
    "    \n",
    "#### Maximum Gain and Loss\n",
    "\n",
    "To determine the maximum gain on any single day, you might do something like this:\n"
   ]
  },
  {
   "cell_type": "code",
   "execution_count": 6,
   "metadata": {},
   "outputs": [
    {
     "name": "stdout",
     "output_type": "stream",
     "text": [
      "DataPoint(date=datetime.date(2008, 10, 13), value=11.580036960722694)\n"
     ]
    }
   ],
   "source": [
    "max_gain = DataPoint(None, 0)\n",
    "for data_point in gains:\n",
    "    max_gain = max(data_point, max_gain)\n",
    "\n",
    "print(max_gain)   # DataPoint(date='2008-10-28', value=11.58)"
   ]
  },
  {
   "cell_type": "markdown",
   "metadata": {},
   "source": [
    "You can simplify the for loop using the functools.reduce() function. This function accepts a binary function func and an iterable inputs as arguments, and “reduces” inputs to a single value by applying func cumulatively to pairs of objects in the iterable.\n",
    "\n",
    "For example, functools.reduce(operator.add, [1, 2, 3, 4, 5]) will return the sum 1 + 2 + 3 + 4 + 5 = 15. You can think of reduce() as working in much the same way as accumulate(), except that it returns only the final value in the new sequence.\n",
    "\n",
    "Using reduce(), you can get rid of the for loop altogether in the above example:"
   ]
  },
  {
   "cell_type": "code",
   "execution_count": 7,
   "metadata": {},
   "outputs": [
    {
     "name": "stdout",
     "output_type": "stream",
     "text": [
      "DataPoint(date=datetime.date(2008, 10, 13), value=11.580036960722694)\n"
     ]
    }
   ],
   "source": [
    "import functools as ft\n",
    "\n",
    "\n",
    "max_gain = ft.reduce(max, gains)\n",
    "\n",
    "print(max_gain)  # DataPoint(date='2008-10-28', value=11.58)"
   ]
  },
  {
   "cell_type": "markdown",
   "metadata": {},
   "source": [
    "The above solution works, but it isn’t equivalent to the for loop you had before. Do you see why? Suppose the data in your CSV file recorded a loss every single day. What would the value of max_gain be?\n",
    "\n",
    "In the for loop, you first set max_gain = DataPoint(None, 0), so if there are no gains, the final max_gain value will be this empty DataPoint object. However, the reduce() solution returns the smallest loss. That is not what you want and could introduce a difficult to find bug.\n",
    "\n",
    "This is where itertools can help you out. The itertools.filterfalse() function takes two arguments: a function that returns True or False (called a predicate), and an iterable inputs. It returns an iterator over the elements in inputs for which the predicate returns False.\n",
    "\n",
    "Here’s a simple example:"
   ]
  },
  {
   "cell_type": "code",
   "execution_count": 10,
   "metadata": {},
   "outputs": [
    {
     "data": {
      "text/plain": [
       "[1, 2]"
      ]
     },
     "execution_count": 10,
     "metadata": {},
     "output_type": "execute_result"
    }
   ],
   "source": [
    "import itertools as it \n",
    "\n",
    "only_positives = it.filterfalse(lambda x: x <= 0, [0, 1, -1, 2, -2])\n",
    "list(only_positives)"
   ]
  },
  {
   "cell_type": "markdown",
   "metadata": {},
   "source": [
    "You can use filterfalse() to filter out the values in gains that are negative or zero so that reduce() only works on positive values:\n"
   ]
  },
  {
   "cell_type": "code",
   "execution_count": 12,
   "metadata": {},
   "outputs": [
    {
     "ename": "AttributeError",
     "evalue": "'int' object has no attribute 'value'",
     "output_type": "error",
     "traceback": [
      "\u001b[1;31m---------------------------------------------------------------------------\u001b[0m",
      "\u001b[1;31mAttributeError\u001b[0m                            Traceback (most recent call last)",
      "\u001b[1;32m<ipython-input-12-bdf758d21dec>\u001b[0m in \u001b[0;36m<module>\u001b[1;34m\u001b[0m\n\u001b[1;32m----> 1\u001b[1;33m \u001b[0mmax_gain\u001b[0m \u001b[1;33m=\u001b[0m \u001b[0mft\u001b[0m\u001b[1;33m.\u001b[0m\u001b[0mreduce\u001b[0m\u001b[1;33m(\u001b[0m\u001b[0mmax\u001b[0m\u001b[1;33m,\u001b[0m \u001b[0mit\u001b[0m\u001b[1;33m.\u001b[0m\u001b[0mfilterfalse\u001b[0m\u001b[1;33m(\u001b[0m\u001b[1;32mlambda\u001b[0m \u001b[0mp\u001b[0m\u001b[1;33m:\u001b[0m \u001b[0mp\u001b[0m \u001b[1;33m<=\u001b[0m \u001b[1;36m0\u001b[0m\u001b[1;33m,\u001b[0m \u001b[0mgains\u001b[0m\u001b[1;33m)\u001b[0m\u001b[1;33m)\u001b[0m\u001b[1;33m\u001b[0m\u001b[1;33m\u001b[0m\u001b[0m\n\u001b[0m",
      "\u001b[1;32m<ipython-input-12-bdf758d21dec>\u001b[0m in \u001b[0;36m<lambda>\u001b[1;34m(p)\u001b[0m\n\u001b[1;32m----> 1\u001b[1;33m \u001b[0mmax_gain\u001b[0m \u001b[1;33m=\u001b[0m \u001b[0mft\u001b[0m\u001b[1;33m.\u001b[0m\u001b[0mreduce\u001b[0m\u001b[1;33m(\u001b[0m\u001b[0mmax\u001b[0m\u001b[1;33m,\u001b[0m \u001b[0mit\u001b[0m\u001b[1;33m.\u001b[0m\u001b[0mfilterfalse\u001b[0m\u001b[1;33m(\u001b[0m\u001b[1;32mlambda\u001b[0m \u001b[0mp\u001b[0m\u001b[1;33m:\u001b[0m \u001b[0mp\u001b[0m \u001b[1;33m<=\u001b[0m \u001b[1;36m0\u001b[0m\u001b[1;33m,\u001b[0m \u001b[0mgains\u001b[0m\u001b[1;33m)\u001b[0m\u001b[1;33m)\u001b[0m\u001b[1;33m\u001b[0m\u001b[1;33m\u001b[0m\u001b[0m\n\u001b[0m",
      "\u001b[1;32m<ipython-input-1-3f21b4a45707>\u001b[0m in \u001b[0;36m__le__\u001b[1;34m(self, other)\u001b[0m\n\u001b[0;32m      6\u001b[0m \u001b[1;33m\u001b[0m\u001b[0m\n\u001b[0;32m      7\u001b[0m     \u001b[1;32mdef\u001b[0m \u001b[0m__le__\u001b[0m\u001b[1;33m(\u001b[0m\u001b[0mself\u001b[0m\u001b[1;33m,\u001b[0m \u001b[0mother\u001b[0m\u001b[1;33m)\u001b[0m\u001b[1;33m:\u001b[0m\u001b[1;33m\u001b[0m\u001b[1;33m\u001b[0m\u001b[0m\n\u001b[1;32m----> 8\u001b[1;33m         \u001b[1;32mreturn\u001b[0m \u001b[0mself\u001b[0m\u001b[1;33m.\u001b[0m\u001b[0mvalue\u001b[0m \u001b[1;33m<=\u001b[0m \u001b[0mother\u001b[0m\u001b[1;33m.\u001b[0m\u001b[0mvalue\u001b[0m\u001b[1;33m\u001b[0m\u001b[1;33m\u001b[0m\u001b[0m\n\u001b[0m\u001b[0;32m      9\u001b[0m \u001b[1;33m\u001b[0m\u001b[0m\n\u001b[0;32m     10\u001b[0m     \u001b[1;32mdef\u001b[0m \u001b[0m__lt__\u001b[0m\u001b[1;33m(\u001b[0m\u001b[0mself\u001b[0m\u001b[1;33m,\u001b[0m \u001b[0mother\u001b[0m\u001b[1;33m)\u001b[0m\u001b[1;33m:\u001b[0m\u001b[1;33m\u001b[0m\u001b[1;33m\u001b[0m\u001b[0m\n",
      "\u001b[1;31mAttributeError\u001b[0m: 'int' object has no attribute 'value'"
     ]
    }
   ],
   "source": [
    "max_gain = ft.reduce(max, it.filterfalse(lambda p: p <= 0, gains))"
   ]
  },
  {
   "cell_type": "markdown",
   "metadata": {},
   "source": [
    "What happens if there are never any gains? Consider the following:\n",
    "\n",
    "    >>> ft.reduce(max, it.filterfalse(lambda x: x <= 0, [-1, -2, -3]))\n",
    "    Traceback (most recent call last):\n",
    "      File \"<stdin>\", line 1, in <module>\n",
    "    TypeError: reduce() of empty sequence with no initial value\n",
    "\n",
    "Well, that’s not what you want! But, it makes sense because the iterator returned by filterflase() is empty. You could handle the TypeError by wrapping the call to reduce() with try...except, but there’s a better way.\n",
    "\n",
    "The reduce() function accepts an optional third argument for an initial value. Passing 0 to this third argument gets you the expected behavior:\n"
   ]
  },
  {
   "cell_type": "code",
   "execution_count": 13,
   "metadata": {},
   "outputs": [
    {
     "data": {
      "text/plain": [
       "0"
      ]
     },
     "execution_count": 13,
     "metadata": {},
     "output_type": "execute_result"
    }
   ],
   "source": [
    "ft.reduce(max, it.filterfalse(lambda x: x <= 0, [-1, -2, -3]), 0)"
   ]
  },
  {
   "cell_type": "markdown",
   "metadata": {},
   "source": [
    "Applying this to the S&P500 example:\n",
    "\n"
   ]
  },
  {
   "cell_type": "code",
   "execution_count": 14,
   "metadata": {},
   "outputs": [
    {
     "ename": "NameError",
     "evalue": "name 'diffs' is not defined",
     "output_type": "error",
     "traceback": [
      "\u001b[1;31m---------------------------------------------------------------------------\u001b[0m",
      "\u001b[1;31mNameError\u001b[0m                                 Traceback (most recent call last)",
      "\u001b[1;32m<ipython-input-14-3da426fffec0>\u001b[0m in \u001b[0;36m<module>\u001b[1;34m\u001b[0m\n\u001b[0;32m      1\u001b[0m \u001b[0mzdp\u001b[0m \u001b[1;33m=\u001b[0m \u001b[0mDataPoint\u001b[0m\u001b[1;33m(\u001b[0m\u001b[1;32mNone\u001b[0m\u001b[1;33m,\u001b[0m \u001b[1;36m0\u001b[0m\u001b[1;33m)\u001b[0m  \u001b[1;31m# zero DataPoint\u001b[0m\u001b[1;33m\u001b[0m\u001b[1;33m\u001b[0m\u001b[0m\n\u001b[1;32m----> 2\u001b[1;33m \u001b[0mmax_gain\u001b[0m \u001b[1;33m=\u001b[0m \u001b[0mft\u001b[0m\u001b[1;33m.\u001b[0m\u001b[0mreduce\u001b[0m\u001b[1;33m(\u001b[0m\u001b[0mmax\u001b[0m\u001b[1;33m,\u001b[0m \u001b[0mit\u001b[0m\u001b[1;33m.\u001b[0m\u001b[0mfilterfalse\u001b[0m\u001b[1;33m(\u001b[0m\u001b[1;32mlambda\u001b[0m \u001b[0mp\u001b[0m\u001b[1;33m:\u001b[0m \u001b[0mp\u001b[0m \u001b[1;33m<=\u001b[0m \u001b[1;36m0\u001b[0m\u001b[1;33m,\u001b[0m \u001b[0mdiffs\u001b[0m\u001b[1;33m)\u001b[0m\u001b[1;33m,\u001b[0m \u001b[0mzdp\u001b[0m\u001b[1;33m)\u001b[0m\u001b[1;33m\u001b[0m\u001b[1;33m\u001b[0m\u001b[0m\n\u001b[0m",
      "\u001b[1;31mNameError\u001b[0m: name 'diffs' is not defined"
     ]
    }
   ],
   "source": [
    "zdp = DataPoint(None, 0)  # zero DataPoint\n",
    "max_gain = ft.reduce(max, it.filterfalse(lambda p: p <= 0, diffs), zdp)"
   ]
  },
  {
   "cell_type": "markdown",
   "metadata": {},
   "source": [
    "Great! You’ve got it working just the way it should! Now, finding the maximum loss is easy:\n",
    "\n"
   ]
  },
  {
   "cell_type": "code",
   "execution_count": 15,
   "metadata": {},
   "outputs": [
    {
     "ename": "AttributeError",
     "evalue": "'int' object has no attribute 'value'",
     "output_type": "error",
     "traceback": [
      "\u001b[1;31m---------------------------------------------------------------------------\u001b[0m",
      "\u001b[1;31mAttributeError\u001b[0m                            Traceback (most recent call last)",
      "\u001b[1;32m<ipython-input-15-95391195fdda>\u001b[0m in \u001b[0;36m<module>\u001b[1;34m\u001b[0m\n\u001b[1;32m----> 1\u001b[1;33m \u001b[0mmax_loss\u001b[0m \u001b[1;33m=\u001b[0m \u001b[0mft\u001b[0m\u001b[1;33m.\u001b[0m\u001b[0mreduce\u001b[0m\u001b[1;33m(\u001b[0m\u001b[0mmin\u001b[0m\u001b[1;33m,\u001b[0m \u001b[0mit\u001b[0m\u001b[1;33m.\u001b[0m\u001b[0mfilterfalse\u001b[0m\u001b[1;33m(\u001b[0m\u001b[1;32mlambda\u001b[0m \u001b[0mp\u001b[0m\u001b[1;33m:\u001b[0m \u001b[0mp\u001b[0m \u001b[1;33m>\u001b[0m \u001b[1;36m0\u001b[0m\u001b[1;33m,\u001b[0m \u001b[0mgains\u001b[0m\u001b[1;33m)\u001b[0m\u001b[1;33m,\u001b[0m \u001b[0mzdp\u001b[0m\u001b[1;33m)\u001b[0m\u001b[1;33m\u001b[0m\u001b[1;33m\u001b[0m\u001b[0m\n\u001b[0m\u001b[0;32m      2\u001b[0m \u001b[1;33m\u001b[0m\u001b[0m\n\u001b[0;32m      3\u001b[0m \u001b[0mprint\u001b[0m\u001b[1;33m(\u001b[0m\u001b[0mmax_loss\u001b[0m\u001b[1;33m)\u001b[0m  \u001b[1;31m# DataPoint(date='2018-02-08', value=-20.47)\u001b[0m\u001b[1;33m\u001b[0m\u001b[1;33m\u001b[0m\u001b[0m\n",
      "\u001b[1;32m<ipython-input-15-95391195fdda>\u001b[0m in \u001b[0;36m<lambda>\u001b[1;34m(p)\u001b[0m\n\u001b[1;32m----> 1\u001b[1;33m \u001b[0mmax_loss\u001b[0m \u001b[1;33m=\u001b[0m \u001b[0mft\u001b[0m\u001b[1;33m.\u001b[0m\u001b[0mreduce\u001b[0m\u001b[1;33m(\u001b[0m\u001b[0mmin\u001b[0m\u001b[1;33m,\u001b[0m \u001b[0mit\u001b[0m\u001b[1;33m.\u001b[0m\u001b[0mfilterfalse\u001b[0m\u001b[1;33m(\u001b[0m\u001b[1;32mlambda\u001b[0m \u001b[0mp\u001b[0m\u001b[1;33m:\u001b[0m \u001b[0mp\u001b[0m \u001b[1;33m>\u001b[0m \u001b[1;36m0\u001b[0m\u001b[1;33m,\u001b[0m \u001b[0mgains\u001b[0m\u001b[1;33m)\u001b[0m\u001b[1;33m,\u001b[0m \u001b[0mzdp\u001b[0m\u001b[1;33m)\u001b[0m\u001b[1;33m\u001b[0m\u001b[1;33m\u001b[0m\u001b[0m\n\u001b[0m\u001b[0;32m      2\u001b[0m \u001b[1;33m\u001b[0m\u001b[0m\n\u001b[0;32m      3\u001b[0m \u001b[0mprint\u001b[0m\u001b[1;33m(\u001b[0m\u001b[0mmax_loss\u001b[0m\u001b[1;33m)\u001b[0m  \u001b[1;31m# DataPoint(date='2018-02-08', value=-20.47)\u001b[0m\u001b[1;33m\u001b[0m\u001b[1;33m\u001b[0m\u001b[0m\n",
      "\u001b[1;32m<ipython-input-1-3f21b4a45707>\u001b[0m in \u001b[0;36m__gt__\u001b[1;34m(self, other)\u001b[0m\n\u001b[0;32m     12\u001b[0m \u001b[1;33m\u001b[0m\u001b[0m\n\u001b[0;32m     13\u001b[0m     \u001b[1;32mdef\u001b[0m \u001b[0m__gt__\u001b[0m\u001b[1;33m(\u001b[0m\u001b[0mself\u001b[0m\u001b[1;33m,\u001b[0m \u001b[0mother\u001b[0m\u001b[1;33m)\u001b[0m\u001b[1;33m:\u001b[0m\u001b[1;33m\u001b[0m\u001b[1;33m\u001b[0m\u001b[0m\n\u001b[1;32m---> 14\u001b[1;33m         \u001b[1;32mreturn\u001b[0m \u001b[0mself\u001b[0m\u001b[1;33m.\u001b[0m\u001b[0mvalue\u001b[0m \u001b[1;33m>\u001b[0m \u001b[0mother\u001b[0m\u001b[1;33m.\u001b[0m\u001b[0mvalue\u001b[0m\u001b[1;33m\u001b[0m\u001b[1;33m\u001b[0m\u001b[0m\n\u001b[0m",
      "\u001b[1;31mAttributeError\u001b[0m: 'int' object has no attribute 'value'"
     ]
    }
   ],
   "source": [
    "max_loss = ft.reduce(min, it.filterfalse(lambda p: p > 0, gains), zdp)\n",
    "\n",
    "print(max_loss)  # DataPoint(date='2018-02-08', value=-20.47)"
   ]
  },
  {
   "cell_type": "markdown",
   "metadata": {},
   "source": [
    "### Longest Growth Streak\n",
    "\n",
    "Finding the longest growth streak in the history of the S&P500 is equivalent to finding the largest number of consecutive positive data points in the gains sequence. The itertools.takewhile() and itertools.dropwhile() functions are perfect for this situation.\n",
    "\n",
    "The takewhile() function takes a predicate and an iterable inputs as arguments and returns an iterator over inputs that stops at the first instance of an element for which the predicate returns False:"
   ]
  },
  {
   "cell_type": "code",
   "execution_count": 16,
   "metadata": {},
   "outputs": [
    {
     "data": {
      "text/plain": [
       "<itertools.takewhile at 0x24db4d7cb00>"
      ]
     },
     "execution_count": 16,
     "metadata": {},
     "output_type": "execute_result"
    }
   ],
   "source": [
    "it.takewhile(lambda x: x < 3, [0, 1, 2, 3, 4])  # 0, 1, 2"
   ]
  },
  {
   "cell_type": "markdown",
   "metadata": {},
   "source": [
    "The dropwhile() function does exactly the opposite. It returns an iterator beginning at the first element for which the predicate returns False:"
   ]
  },
  {
   "cell_type": "code",
   "execution_count": 17,
   "metadata": {},
   "outputs": [
    {
     "data": {
      "text/plain": [
       "<itertools.dropwhile at 0x24db4d81400>"
      ]
     },
     "execution_count": 17,
     "metadata": {},
     "output_type": "execute_result"
    }
   ],
   "source": [
    "it.dropwhile(lambda x: x < 3, [0, 1, 2, 3, 4])  # 3, 4"
   ]
  },
  {
   "cell_type": "markdown",
   "metadata": {},
   "source": [
    "In the following generator function, takewhile() and dropwhile() are composed to yield tuples of consecutive positive elements of a sequence:"
   ]
  },
  {
   "cell_type": "code",
   "execution_count": 18,
   "metadata": {},
   "outputs": [],
   "source": [
    "def consecutive_positives(sequence, zero=0):\n",
    "    def _consecutives():\n",
    "        for itr in it.repeat(iter(sequence)):\n",
    "            yield tuple(it.takewhile(lambda p: p > zero,\n",
    "                                     it.dropwhile(lambda p: p <= zero, itr)))\n",
    "    return it.takewhile(lambda t: len(t), _consecutives())"
   ]
  },
  {
   "cell_type": "markdown",
   "metadata": {},
   "source": [
    "The consecutive_positives() function works because repeat() keeps returning a pointer to an iterator over the sequence argument, which is being partially consumed at each iteration by the call to tuple() in the yield statement.\n",
    "\n",
    "You can use consecutive_positives() to get a generator that produces tuples of consecutive positive data points in gains:\n",
    "\n",
    "growth_streaks = consecutive_positives(gains, zero=DataPoint(None, 0))\n",
    "Now you can use reduce() to extract the longest growth streak:"
   ]
  },
  {
   "cell_type": "code",
   "execution_count": 20,
   "metadata": {},
   "outputs": [
    {
     "ename": "NameError",
     "evalue": "name 'growth_streaks' is not defined",
     "output_type": "error",
     "traceback": [
      "\u001b[1;31m---------------------------------------------------------------------------\u001b[0m",
      "\u001b[1;31mNameError\u001b[0m                                 Traceback (most recent call last)",
      "\u001b[1;32m<ipython-input-20-de2e61899f52>\u001b[0m in \u001b[0;36m<module>\u001b[1;34m\u001b[0m\n\u001b[1;32m----> 1\u001b[1;33m \u001b[0mlongest_streak\u001b[0m \u001b[1;33m=\u001b[0m \u001b[0mft\u001b[0m\u001b[1;33m.\u001b[0m\u001b[0mreduce\u001b[0m\u001b[1;33m(\u001b[0m\u001b[1;32mlambda\u001b[0m \u001b[0mx\u001b[0m\u001b[1;33m,\u001b[0m \u001b[0my\u001b[0m\u001b[1;33m:\u001b[0m \u001b[0mx\u001b[0m \u001b[1;32mif\u001b[0m \u001b[0mlen\u001b[0m\u001b[1;33m(\u001b[0m\u001b[0mx\u001b[0m\u001b[1;33m)\u001b[0m \u001b[1;33m>\u001b[0m \u001b[0mlen\u001b[0m\u001b[1;33m(\u001b[0m\u001b[0my\u001b[0m\u001b[1;33m)\u001b[0m \u001b[1;32melse\u001b[0m \u001b[0my\u001b[0m\u001b[1;33m,\u001b[0m\u001b[0mgrowth_streaks\u001b[0m\u001b[1;33m)\u001b[0m\u001b[1;33m\u001b[0m\u001b[1;33m\u001b[0m\u001b[0m\n\u001b[0m",
      "\u001b[1;31mNameError\u001b[0m: name 'growth_streaks' is not defined"
     ]
    }
   ],
   "source": [
    "longest_streak = ft.reduce(lambda x, y: x if len(x) > len(y) else y,growth_streaks)"
   ]
  },
  {
   "cell_type": "markdown",
   "metadata": {},
   "source": [
    "Putting the whole thing together, here’s a full script that will read data from the SP500.csv file and print out the max gain/loss and longest growth streak:"
   ]
  },
  {
   "cell_type": "code",
   "execution_count": 22,
   "metadata": {},
   "outputs": [],
   "source": [
    "from collections import namedtuple\n",
    "import csv\n",
    "from datetime import datetime\n",
    "import itertools as it\n",
    "import functools as ft\n",
    "\n",
    "\n",
    "class DataPoint(namedtuple('DataPoint', ['date', 'value'])):\n",
    "    __slots__ = ()\n",
    "\n",
    "    def __le__(self, other):\n",
    "        return self.value <= other.value\n",
    "\n",
    "    def __lt__(self, other):\n",
    "        return self.value < other.value\n",
    "\n",
    "    def __gt__(self, other):\n",
    "        return self.value > other.value\n",
    "\n",
    "\n",
    "def consecutive_positives(sequence, zero=0):\n",
    "    def _consecutives():\n",
    "        for itr in it.repeat(iter(sequence)):\n",
    "            yield tuple(it.takewhile(lambda p: p > zero,\n",
    "                                     it.dropwhile(lambda p: p <= zero, itr)))\n",
    "    return it.takewhile(lambda t: len(t), _consecutives())\n",
    "\n",
    "\n",
    "def read_prices(csvfile, _strptime=datetime.strptime):\n",
    "    with open(csvfile) as infile:\n",
    "        reader = csv.DictReader(infile)\n",
    "        for row in reader:\n",
    "            yield DataPoint(date=_strptime(row['Date'], '%Y-%m-%d').date(),\n",
    "                            value=float(row['Adj Close']))"
   ]
  },
  {
   "cell_type": "markdown",
   "metadata": {},
   "source": [
    "### Read prices and calculate daily percent change."
   ]
  },
  {
   "cell_type": "code",
   "execution_count": 23,
   "metadata": {},
   "outputs": [],
   "source": [
    "prices = tuple(read_prices('../materials/itertools-in-python3/SP500.csv'))\n",
    "gains = tuple(DataPoint(day.date, 100*(day.value/prev_day.value - 1.))\n",
    "              for day, prev_day in zip(prices[1:], prices))\n",
    "              "
   ]
  },
  {
   "cell_type": "markdown",
   "metadata": {},
   "source": [
    "### Find maximum daily gain/loss."
   ]
  },
  {
   "cell_type": "code",
   "execution_count": 24,
   "metadata": {},
   "outputs": [],
   "source": [
    "zdp = DataPoint(None, 0)  # zero DataPoint\n",
    "max_gain = ft.reduce(max, it.filterfalse(lambda p: p <= zdp, gains))\n",
    "max_loss = ft.reduce(min, it.filterfalse(lambda p: p > zdp, gains), zdp)"
   ]
  },
  {
   "cell_type": "markdown",
   "metadata": {},
   "source": [
    "### Find longest growth streak."
   ]
  },
  {
   "cell_type": "code",
   "execution_count": 25,
   "metadata": {},
   "outputs": [],
   "source": [
    "growth_streaks = consecutive_positives(gains, zero=DataPoint(None, 0))\n",
    "longest_streak = ft.reduce(lambda x, y: x if len(x) > len(y) else y,\n",
    "                           growth_streaks)"
   ]
  },
  {
   "cell_type": "markdown",
   "metadata": {},
   "source": [
    "### Display results."
   ]
  },
  {
   "cell_type": "code",
   "execution_count": 26,
   "metadata": {},
   "outputs": [
    {
     "name": "stdout",
     "output_type": "stream",
     "text": [
      "Max gain: 11.58% on 2008-10-13\n",
      "Max loss: -20.47% on 1987-10-19\n",
      "Longest growth streak: 14 days (1971-03-26 to 1971-04-15)\n"
     ]
    }
   ],
   "source": [
    "print('Max gain: {1:.2f}% on {0}'.format(*max_gain))\n",
    "print('Max loss: {1:.2f}% on {0}'.format(*max_loss))\n",
    "\n",
    "print('Longest growth streak: {num_days} days ({first} to {last})'.format(\n",
    "    num_days=len(longest_streak),\n",
    "    first=longest_streak[0].date,\n",
    "    last=longest_streak[-1].date\n",
    "))"
   ]
  },
  {
   "cell_type": "markdown",
   "metadata": {},
   "source": [
    "Running the above script produces the following output:\n",
    "\n",
    "Max gain: 11.58% on 2008-10-13\n",
    "Max loss: -20.47% on 1987-10-19\n",
    "Longest growth streak: 14 days (1971-03-26 to 1971-04-15)\n",
    "\n",
    "## Section Recap\n",
    "\n",
    "In this section, you covered a lot of ground, but you only saw a few functions from itertools. Let’s review those now.\n",
    "\n",
    "### itertools.filterfalse Example\n",
    "\n",
    "filterfalse(pred, iterable)\n",
    "\n",
    "Return those items of sequence for which pred(item) is false. If pred is None, return the items that are false.\n",
    "\n",
    "        >>> filterfalse(bool, [1, 0, 1, 0, 0])\n",
    "        0, 0, 0\n",
    "\n",
    "\n",
    "### itertools.takewhile Example\n",
    "takewhile(pred, iterable)\n",
    "\n",
    "Return successive entries from an iterable as long as pred evaluates to true for each entry.\n",
    "\n",
    "        >>> takewhile(bool, [1, 1, 1, 0, 0])\n",
    "        1, 1, 1\n",
    "\n",
    "\n",
    "### itertools.dropwhile Example\n",
    "dropwhile(pred, iterable)\n",
    "\n",
    "Drop items from the iterable while pred(item) is true. Afterwards, return every element until the iterable is exhausted.\n",
    "\n",
    "        >>> dropwhile(bool, [1, 1, 1, 0, 0, 1, 1, 0])\n",
    "        0, 0, 1, 1, 0\n",
    "\n",
    "You are really starting to master this whole itertools thing! The community swim team would like to commission you for a small project."
   ]
  },
  {
   "cell_type": "markdown",
   "metadata": {},
   "source": [
    "## Building Relay Teams From Swimmer Data\n",
    "In this example, you will read data from a CSV file containing swimming event times for a community swim team from all of the swim meets over the course of a season. The goal is to determine which swimmers should be in the relay teams for each stroke next season.\n",
    "\n",
    "Each stroke should have an “A” and a “B” relay team with four swimmers each. The “A” team should contain the four swimmers with the best times for the stroke and the “B” team the swimmers with the next four best times.\n",
    "\n",
    "The data for this example can be found here. If you want to follow along, download it to your current working directory and save it as swimmers.csv.\n",
    "\n",
    "Here are the first 10 rows of swimmers.csv:\n",
    "\n",
    "$ head -n 10 swimmers.csv\n",
    "\n",
    "Event,Name,Stroke,Time1,Time2,Time3\n",
    "\n",
    "0,Emma,freestyle,00:50:313667,00:50:875398,00:50:646837\n",
    "\n",
    "0,Emma,backstroke,00:56:720191,00:56:431243,00:56:941068\n",
    "\n",
    "0,Emma,butterfly,00:41:927947,00:42:062812,00:42:007531\n",
    "\n",
    "0,Emma,breaststroke,00:59:825463,00:59:397469,00:59:385919\n",
    "\n",
    "0,Olivia,freestyle,00:45:566228,00:46:066985,00:46:044389\n",
    "\n",
    "0,Olivia,backstroke,00:53:984872,00:54:575110,00:54:932723\n",
    "\n",
    "0,Olivia,butterfly,01:12:548582,01:12:722369,01:13:105429\n",
    "\n",
    "0,Olivia,breaststroke,00:49:230921,00:49:604561,00:49:120964\n",
    "\n",
    "0,Sophia,freestyle,00:55:209625,00:54:790225,00:55:351528\n",
    "\n",
    "The three times in each row represent the times recorded by three different stopwatches, and are given in MM:SS:mmmmmm format (minutes, seconds, microseconds). The accepted time for an event is the median of these three times, not the average.\n",
    "\n",
    "Let’s start by creating a subclass Event of the namedtuple object, just like we did in the SP500 example:"
   ]
  },
  {
   "cell_type": "code",
   "execution_count": 27,
   "metadata": {},
   "outputs": [],
   "source": [
    "from collections import namedtuple\n",
    "\n",
    "class Event(namedtuple('Event', ['stroke', 'name', 'time'])):\n",
    "    __slots__ = ()\n",
    "\n",
    "    def __lt__(self, other):\n",
    "        return self.time < other.time\n"
   ]
  },
  {
   "cell_type": "markdown",
   "metadata": {},
   "source": [
    "The .stroke property stores the name of the stroke in the event, .name stores the swimmer name, and .time records the accepted time for the event. The .__lt__() dunder method will allow min() to be called on a sequence of Event objects.\n",
    "\n",
    "To read the data from the CSV into a tuple of Event objects, you can use the csv.DictReader object:"
   ]
  },
  {
   "cell_type": "code",
   "execution_count": 29,
   "metadata": {},
   "outputs": [],
   "source": [
    "import csv\n",
    "import datetime\n",
    "import statistics\n",
    "\n",
    "def read_events(csvfile, _strptime=datetime.datetime.strptime):\n",
    "    def _median(times):\n",
    "        return statistics.median((_strptime(time, '%M:%S:%f').time()\n",
    "                                  for time in row['Times']))\n",
    "\n",
    "    fieldnames = ['Event', 'Name', 'Stroke']\n",
    "    with open(csvfile) as infile:\n",
    "        reader = csv.DictReader(infile, fieldnames=fieldnames, restkey='Times')\n",
    "        next(reader)  # skip header\n",
    "        for row in reader:\n",
    "            yield Event(row['Stroke'], row['Name'], _median(row['Times']))\n",
    "\n",
    "\n",
    "events = tuple(read_events('../materials/itertools-in-python3/swimmers.csv'))"
   ]
  },
  {
   "cell_type": "markdown",
   "metadata": {},
   "source": [
    "The read_events() generator reads each row in the swimmers.csv file into an OrderedDict object in the following line:\n",
    "\n"
   ]
  },
  {
   "cell_type": "code",
   "execution_count": 30,
   "metadata": {},
   "outputs": [
    {
     "ename": "NameError",
     "evalue": "name 'infile' is not defined",
     "output_type": "error",
     "traceback": [
      "\u001b[1;31m---------------------------------------------------------------------------\u001b[0m",
      "\u001b[1;31mNameError\u001b[0m                                 Traceback (most recent call last)",
      "\u001b[1;32m<ipython-input-30-065b256ebb9f>\u001b[0m in \u001b[0;36m<module>\u001b[1;34m\u001b[0m\n\u001b[1;32m----> 1\u001b[1;33m \u001b[0mreader\u001b[0m \u001b[1;33m=\u001b[0m \u001b[0mcsv\u001b[0m\u001b[1;33m.\u001b[0m\u001b[0mDictReader\u001b[0m\u001b[1;33m(\u001b[0m\u001b[0minfile\u001b[0m\u001b[1;33m,\u001b[0m \u001b[0mfieldnames\u001b[0m\u001b[1;33m=\u001b[0m\u001b[0mfieldnames\u001b[0m\u001b[1;33m,\u001b[0m \u001b[0mrestkey\u001b[0m\u001b[1;33m=\u001b[0m\u001b[1;34m'Times'\u001b[0m\u001b[1;33m)\u001b[0m\u001b[1;33m\u001b[0m\u001b[1;33m\u001b[0m\u001b[0m\n\u001b[0m",
      "\u001b[1;31mNameError\u001b[0m: name 'infile' is not defined"
     ]
    }
   ],
   "source": [
    "reader = csv.DictReader(infile, fieldnames=fieldnames, restkey='Times')\n"
   ]
  },
  {
   "cell_type": "markdown",
   "metadata": {},
   "source": [
    "By assigning the 'Times' field to restkey, the “Time1”, “Time2”, and “Time3” columns of each row in the CSV file will be stored in a list on the 'Times' key of the OrderedDict returned by csv.DictReader.\n",
    "\n",
    "For example, the first row of the file (excluding the header row) is read into the following object:"
   ]
  },
  {
   "cell_type": "code",
   "execution_count": 33,
   "metadata": {},
   "outputs": [
    {
     "ename": "NameError",
     "evalue": "name 'OrderedDict' is not defined",
     "output_type": "error",
     "traceback": [
      "\u001b[1;31m---------------------------------------------------------------------------\u001b[0m",
      "\u001b[1;31mNameError\u001b[0m                                 Traceback (most recent call last)",
      "\u001b[1;32m<ipython-input-33-2f63a55fd12d>\u001b[0m in \u001b[0;36m<module>\u001b[1;34m\u001b[0m\n\u001b[0;32m      1\u001b[0m \u001b[1;32mimport\u001b[0m \u001b[0mcollections\u001b[0m\u001b[1;33m\u001b[0m\u001b[1;33m\u001b[0m\u001b[0m\n\u001b[0;32m      2\u001b[0m \u001b[1;33m\u001b[0m\u001b[0m\n\u001b[1;32m----> 3\u001b[1;33m OrderedDict([('Event', '0'),\n\u001b[0m\u001b[0;32m      4\u001b[0m              \u001b[1;33m(\u001b[0m\u001b[1;34m'Name'\u001b[0m\u001b[1;33m,\u001b[0m \u001b[1;34m'Emma'\u001b[0m\u001b[1;33m)\u001b[0m\u001b[1;33m,\u001b[0m\u001b[1;33m\u001b[0m\u001b[1;33m\u001b[0m\u001b[0m\n\u001b[0;32m      5\u001b[0m              \u001b[1;33m(\u001b[0m\u001b[1;34m'Stroke'\u001b[0m\u001b[1;33m,\u001b[0m \u001b[1;34m'freestyle'\u001b[0m\u001b[1;33m)\u001b[0m\u001b[1;33m,\u001b[0m\u001b[1;33m\u001b[0m\u001b[1;33m\u001b[0m\u001b[0m\n",
      "\u001b[1;31mNameError\u001b[0m: name 'OrderedDict' is not defined"
     ]
    }
   ],
   "source": [
    "import collections\n",
    "\n",
    "OrderedDict([('Event', '0'),\n",
    "             ('Name', 'Emma'),\n",
    "             ('Stroke', 'freestyle'),\n",
    "             ('Times', ['00:50:313667', '00:50:875398', '00:50:646837'])])"
   ]
  },
  {
   "cell_type": "markdown",
   "metadata": {},
   "source": [
    "Next, read_events() yields an Event object with the stroke, swimmer name, and median time (as a datetime.time object) returned by the _median() function, which calls statistics.median() on the list of times in the row.\n",
    "\n",
    "Since each item in the list of times is read as a string by csv.DictReader(), _median() uses the datetime.datetime.strptime() classmethod to instantiate a time object from each string.\n",
    "\n",
    "Finally, a tuple of Event objects is created:\n",
    "\n"
   ]
  },
  {
   "cell_type": "code",
   "execution_count": 35,
   "metadata": {},
   "outputs": [],
   "source": [
    "events = tuple(read_events('../materials/itertools-in-python3/swimmers.csv'))\n"
   ]
  },
  {
   "cell_type": "markdown",
   "metadata": {},
   "source": [
    "The first five elements of events look like this:\n",
    "\n"
   ]
  },
  {
   "cell_type": "code",
   "execution_count": 36,
   "metadata": {},
   "outputs": [
    {
     "data": {
      "text/plain": [
       "(Event(stroke='freestyle', name='Emma', time=datetime.time(0, 0, 50, 646837)),\n",
       " Event(stroke='backstroke', name='Emma', time=datetime.time(0, 0, 56, 720191)),\n",
       " Event(stroke='butterfly', name='Emma', time=datetime.time(0, 0, 42, 7531)),\n",
       " Event(stroke='breaststroke', name='Emma', time=datetime.time(0, 0, 59, 397469)),\n",
       " Event(stroke='freestyle', name='Olivia', time=datetime.time(0, 0, 46, 44389)))"
      ]
     },
     "execution_count": 36,
     "metadata": {},
     "output_type": "execute_result"
    }
   ],
   "source": [
    "events[:5]"
   ]
  },
  {
   "cell_type": "markdown",
   "metadata": {},
   "source": [
    "Now that you’ve got the data into memory, what do you do with it? Here’s the plan of attack:\n",
    "\n",
    "Group the events by stroke.\n",
    "\n",
    "For each stroke:\n",
    "\n",
    "1.Group its events by swimmer name and determine the best time for each swimmer.\n",
    "\n",
    "2.Order the swimmers by best time.\n",
    "\n",
    "3.The first four swimmers make the “A” team for the stroke, and the next four swimmers make the “B” team.\n",
    "\n",
    "4.The itertools.groupby() function makes grouping objects in an iterable a snap. It takes an iterable inputs and a key to group by, and returns an object containing iterators over the elements of inputs grouped by the key.\n",
    "\n",
    "Here’s a simple groupby() example:"
   ]
  },
  {
   "cell_type": "code",
   "execution_count": 37,
   "metadata": {},
   "outputs": [
    {
     "name": "stdout",
     "output_type": "stream",
     "text": [
      "34: [{'name': 'Alan', 'age': 34}, {'name': 'Catherine', 'age': 34}]\n",
      "29: [{'name': 'Betsy', 'age': 29}]\n",
      "33: [{'name': 'David', 'age': 33}]\n"
     ]
    }
   ],
   "source": [
    "data = [{'name': 'Alan', 'age': 34},\n",
    "        {'name': 'Catherine', 'age': 34},\n",
    "        {'name': 'Betsy', 'age': 29},\n",
    "        {'name': 'David', 'age': 33}]\n",
    "grouped_data = it.groupby(data, key=lambda x: x['age'])\n",
    "for key, grp in grouped_data:\n",
    "    print('{}: {}'.format(key, list(grp)))"
   ]
  },
  {
   "cell_type": "markdown",
   "metadata": {},
   "source": [
    "If no key is specified, groupby() defaults to grouping by “identity”—that is, aggregating identical elements in the iterable:"
   ]
  },
  {
   "cell_type": "code",
   "execution_count": 41,
   "metadata": {},
   "outputs": [
    {
     "ename": "SyntaxError",
     "evalue": "invalid syntax (<ipython-input-41-78060a8dcd97>, line 1)",
     "output_type": "error",
     "traceback": [
      "\u001b[1;36m  File \u001b[1;32m\"<ipython-input-41-78060a8dcd97>\"\u001b[1;36m, line \u001b[1;32m1\u001b[0m\n\u001b[1;33m    for (key, grp) in it.groupby([1, 1, 2, 2, 2, 3]:\u001b[0m\n\u001b[1;37m                                                   ^\u001b[0m\n\u001b[1;31mSyntaxError\u001b[0m\u001b[1;31m:\u001b[0m invalid syntax\n"
     ]
    }
   ],
   "source": [
    "for (key, grp) in it.groupby([1, 1, 2, 2, 2, 3]:\n",
    "    print('{}: {}'.format(key, list(grp)))"
   ]
  },
  {
   "cell_type": "markdown",
   "metadata": {},
   "source": [
    "The object returned by groupby() is sort of like a dictionary in the sense that the iterators returned are associated with a key. However, unlike a dictionary, it won’t allow you to access its values by key name:\n",
    "\n",
    "    >>> grouped_data[1]\n",
    "    Traceback (most recent call last):\n",
    "      File \"<stdin>\", line 1, in <module>\n",
    "    TypeError: 'itertools.groupby' object is not subscriptable\n",
    "\n",
    "In fact, groupby() returns an iterator over tuples whose first components are keys and second components are iterators over the grouped data:\n",
    "\n",
    "    >>> grouped_data = it.groupby([1, 1, 2, 2, 2, 3])\n",
    "    >>> list(grouped_data)\n",
    "    [(1, <itertools._grouper object at 0x7ff3056130b8>),\n",
    "     (2, <itertools._grouper object at 0x7ff3056130f0>),\n",
    "     (3, <itertools._grouper object at 0x7ff305613128>)]\n",
    "\n",
    "One thing to keep in mind with groupby() is that it isn’t as smart as you might like. As groupby() traverses the data, it aggregates elements until an element with a different key is encountered, at which point it starts a new group:\n",
    "\n",
    "    >>> grouped_data = it.groupby([1, 2, 1, 2, 3, 2])\n",
    "    >>> for key, grp in grouped_data:\n",
    "    ...     print('{}: {}'.format(key, list(grp)))\n",
    "    ...\n",
    "    1: [1]\n",
    "    2: [2]\n",
    "    1: [1]\n",
    "    2: [2]\n",
    "    3: [3]\n",
    "    2: [2]\n",
    "Compare this to, say, the SQL GROUP BY command, which groups elements regardless of their order of appearance.\n",
    "\n",
    "When working with groupby(), you need to sort your data on the same key that you would like to group by. Otherwise, you may get unexpected results. This is so common that it helps to write a utility function to take care of this for you:"
   ]
  },
  {
   "cell_type": "code",
   "execution_count": 42,
   "metadata": {},
   "outputs": [],
   "source": [
    "def sort_and_group(iterable, key=None):\n",
    "    \"\"\"Group sorted `iterable` on `key`.\"\"\"\n",
    "    return it.groupby(sorted(iterable, key=key), key=key)\n"
   ]
  },
  {
   "cell_type": "markdown",
   "metadata": {},
   "source": [
    "Returning to the swimmers example, the first thing you need to do is create a for loop that iterates over the data in the events tuple grouped by stroke:\n",
    "\n",
    "for stroke, evts in sort_and_group(events, key=lambda evt: evt.stroke):\n",
    "\n",
    "Next, you need to group the evts iterator by swimmer name inside of the above for loop:"
   ]
  },
  {
   "cell_type": "code",
   "execution_count": 45,
   "metadata": {},
   "outputs": [
    {
     "ename": "NameError",
     "evalue": "name 'evts' is not defined",
     "output_type": "error",
     "traceback": [
      "\u001b[1;31m---------------------------------------------------------------------------\u001b[0m",
      "\u001b[1;31mNameError\u001b[0m                                 Traceback (most recent call last)",
      "\u001b[1;32m<ipython-input-45-8f1dd4a1aea5>\u001b[0m in \u001b[0;36m<module>\u001b[1;34m\u001b[0m\n\u001b[1;32m----> 1\u001b[1;33m \u001b[0mevents_by_name\u001b[0m \u001b[1;33m=\u001b[0m \u001b[0msort_and_group\u001b[0m\u001b[1;33m(\u001b[0m\u001b[0mevts\u001b[0m\u001b[1;33m,\u001b[0m \u001b[0mkey\u001b[0m\u001b[1;33m=\u001b[0m\u001b[1;32mlambda\u001b[0m \u001b[0mevt\u001b[0m\u001b[1;33m:\u001b[0m \u001b[0mevt\u001b[0m\u001b[1;33m.\u001b[0m\u001b[0mname\u001b[0m\u001b[1;33m)\u001b[0m\u001b[1;33m\u001b[0m\u001b[1;33m\u001b[0m\u001b[0m\n\u001b[0m",
      "\u001b[1;31mNameError\u001b[0m: name 'evts' is not defined"
     ]
    }
   ],
   "source": [
    "events_by_name = sort_and_group(evts, key=lambda evt: evt.name)"
   ]
  },
  {
   "cell_type": "markdown",
   "metadata": {},
   "source": [
    "To calculate the best time for each swimmer in events_by_name, you can call min() on the events in that swimmers group. (This works because you implemented the .__lt__() dunder method in the Events class.)"
   ]
  },
  {
   "cell_type": "code",
   "execution_count": null,
   "metadata": {},
   "outputs": [],
   "source": [
    "best_times = (min(evt) for _, evt in events_by_name)"
   ]
  },
  {
   "cell_type": "markdown",
   "metadata": {},
   "source": [
    "Note that the best_times generator yields Event objects containing the best stroke time for each swimmer. To build the relay teams, you’ll need to sort best_times by time and aggregate the result into groups of four. To aggregate the results, you can use the grouper() function from The grouper() recipe section and use islice() to grab the first two groups.\n",
    "\n",
    "sorted_by_time = sorted(best_times, key=lambda evt: evt.time)\n",
    "\n",
    "teams = zip(('A', 'B'), it.islice(grouper(sorted_by_time, 4), 2))"
   ]
  },
  {
   "cell_type": "code",
   "execution_count": 44,
   "metadata": {},
   "outputs": [
    {
     "ename": "NameError",
     "evalue": "name 'best_times' is not defined",
     "output_type": "error",
     "traceback": [
      "\u001b[1;31m---------------------------------------------------------------------------\u001b[0m",
      "\u001b[1;31mNameError\u001b[0m                                 Traceback (most recent call last)",
      "\u001b[1;32m<ipython-input-44-8427731963b8>\u001b[0m in \u001b[0;36m<module>\u001b[1;34m\u001b[0m\n\u001b[1;32m----> 1\u001b[1;33m \u001b[0msorted_by_time\u001b[0m \u001b[1;33m=\u001b[0m \u001b[0msorted\u001b[0m\u001b[1;33m(\u001b[0m\u001b[0mbest_times\u001b[0m\u001b[1;33m,\u001b[0m \u001b[0mkey\u001b[0m\u001b[1;33m=\u001b[0m\u001b[1;32mlambda\u001b[0m \u001b[0mevt\u001b[0m\u001b[1;33m:\u001b[0m \u001b[0mevt\u001b[0m\u001b[1;33m.\u001b[0m\u001b[0mtime\u001b[0m\u001b[1;33m)\u001b[0m\u001b[1;33m\u001b[0m\u001b[1;33m\u001b[0m\u001b[0m\n\u001b[0m\u001b[0;32m      2\u001b[0m \u001b[0mteams\u001b[0m \u001b[1;33m=\u001b[0m \u001b[0mzip\u001b[0m\u001b[1;33m(\u001b[0m\u001b[1;33m(\u001b[0m\u001b[1;34m'A'\u001b[0m\u001b[1;33m,\u001b[0m \u001b[1;34m'B'\u001b[0m\u001b[1;33m)\u001b[0m\u001b[1;33m,\u001b[0m \u001b[0mit\u001b[0m\u001b[1;33m.\u001b[0m\u001b[0mislice\u001b[0m\u001b[1;33m(\u001b[0m\u001b[0mgrouper\u001b[0m\u001b[1;33m(\u001b[0m\u001b[0msorted_by_time\u001b[0m\u001b[1;33m,\u001b[0m \u001b[1;36m4\u001b[0m\u001b[1;33m)\u001b[0m\u001b[1;33m,\u001b[0m \u001b[1;36m2\u001b[0m\u001b[1;33m)\u001b[0m\u001b[1;33m)\u001b[0m\u001b[1;33m\u001b[0m\u001b[1;33m\u001b[0m\u001b[0m\n",
      "\u001b[1;31mNameError\u001b[0m: name 'best_times' is not defined"
     ]
    }
   ],
   "source": [
    "sorted_by_time = sorted(best_times, key=lambda evt: evt.time)\n",
    "teams = zip(('A', 'B'), it.islice(grouper(sorted_by_time, 4), 2))"
   ]
  },
  {
   "cell_type": "markdown",
   "metadata": {},
   "source": [
    "Now teams is an iterator over exactly two tuples representing the “A” and the “B” team for the stroke. The first component of each tuple is the letter “A” or “B”, and the second component is an iterator over Event objects containing the swimmers in the team. You can now print the results:"
   ]
  },
  {
   "cell_type": "code",
   "execution_count": 46,
   "metadata": {},
   "outputs": [
    {
     "ename": "NameError",
     "evalue": "name 'teams' is not defined",
     "output_type": "error",
     "traceback": [
      "\u001b[1;31m---------------------------------------------------------------------------\u001b[0m",
      "\u001b[1;31mNameError\u001b[0m                                 Traceback (most recent call last)",
      "\u001b[1;32m<ipython-input-46-7a23b32361da>\u001b[0m in \u001b[0;36m<module>\u001b[1;34m\u001b[0m\n\u001b[1;32m----> 1\u001b[1;33m \u001b[1;32mfor\u001b[0m \u001b[0mteam\u001b[0m\u001b[1;33m,\u001b[0m \u001b[0mswimmers\u001b[0m \u001b[1;32min\u001b[0m \u001b[0mteams\u001b[0m\u001b[1;33m:\u001b[0m\u001b[1;33m\u001b[0m\u001b[1;33m\u001b[0m\u001b[0m\n\u001b[0m\u001b[0;32m      2\u001b[0m     print('{stroke} {team}: {names}'.format(\n\u001b[0;32m      3\u001b[0m         \u001b[0mstroke\u001b[0m\u001b[1;33m=\u001b[0m\u001b[0mstroke\u001b[0m\u001b[1;33m.\u001b[0m\u001b[0mcapitalize\u001b[0m\u001b[1;33m(\u001b[0m\u001b[1;33m)\u001b[0m\u001b[1;33m,\u001b[0m\u001b[1;33m\u001b[0m\u001b[1;33m\u001b[0m\u001b[0m\n\u001b[0;32m      4\u001b[0m         \u001b[0mteam\u001b[0m\u001b[1;33m=\u001b[0m\u001b[0mteam\u001b[0m\u001b[1;33m,\u001b[0m\u001b[1;33m\u001b[0m\u001b[1;33m\u001b[0m\u001b[0m\n\u001b[0;32m      5\u001b[0m         \u001b[0mnames\u001b[0m\u001b[1;33m=\u001b[0m\u001b[1;34m', '\u001b[0m\u001b[1;33m.\u001b[0m\u001b[0mjoin\u001b[0m\u001b[1;33m(\u001b[0m\u001b[0mswimmer\u001b[0m\u001b[1;33m.\u001b[0m\u001b[0mname\u001b[0m \u001b[1;32mfor\u001b[0m \u001b[0mswimmer\u001b[0m \u001b[1;32min\u001b[0m \u001b[0mswimmers\u001b[0m\u001b[1;33m)\u001b[0m\u001b[1;33m\u001b[0m\u001b[1;33m\u001b[0m\u001b[0m\n",
      "\u001b[1;31mNameError\u001b[0m: name 'teams' is not defined"
     ]
    }
   ],
   "source": [
    "for team, swimmers in teams:\n",
    "    print('{stroke} {team}: {names}'.format(\n",
    "        stroke=stroke.capitalize(),\n",
    "        team=team,\n",
    "        names=', '.join(swimmer.name for swimmer in swimmers)\n",
    "    ))"
   ]
  },
  {
   "cell_type": "markdown",
   "metadata": {},
   "source": [
    "Here’s the full script:\n",
    "\n"
   ]
  },
  {
   "cell_type": "code",
   "execution_count": 48,
   "metadata": {},
   "outputs": [
    {
     "name": "stdout",
     "output_type": "stream",
     "text": [
      "Backstroke A: Sophia, Grace, Penelope, Addison\n",
      "Backstroke B: Elizabeth, Audrey, Emily, Aria\n",
      "Breaststroke A: Samantha, Avery, Layla, Zoe\n",
      "Breaststroke B: Lillian, Aria, Ava, Alexa\n",
      "Butterfly A: Audrey, Leah, Layla, Samantha\n",
      "Butterfly B: Alexa, Zoey, Emma, Madison\n",
      "Freestyle A: Aubrey, Emma, Olivia, Evelyn\n",
      "Freestyle B: Elizabeth, Zoe, Addison, Madison\n"
     ]
    }
   ],
   "source": [
    "from collections import namedtuple\n",
    "import csv\n",
    "import datetime\n",
    "import itertools as it\n",
    "import statistics\n",
    "\n",
    "\n",
    "class Event(namedtuple('Event', ['stroke', 'name', 'time'])):\n",
    "    __slots__ = ()\n",
    "\n",
    "    def __lt__(self, other):\n",
    "        return self.time < other.time\n",
    "\n",
    "\n",
    "def sort_and_group(iterable, key=None):\n",
    "    return it.groupby(sorted(iterable, key=key), key=key)\n",
    "\n",
    "\n",
    "def grouper(iterable, n, fillvalue=None):\n",
    "    iters = [iter(iterable)] * n\n",
    "    return it.zip_longest(*iters, fillvalue=fillvalue)\n",
    "\n",
    "\n",
    "def read_events(csvfile, _strptime=datetime.datetime.strptime):\n",
    "    def _median(times):\n",
    "        return statistics.median((_strptime(time, '%M:%S:%f').time()\n",
    "                                  for time in row['Times']))\n",
    "\n",
    "    fieldnames = ['Event', 'Name', 'Stroke']\n",
    "    with open(csvfile) as infile:\n",
    "        reader = csv.DictReader(infile, fieldnames=fieldnames, restkey='Times')\n",
    "        next(reader)  # Skip header.\n",
    "        for row in reader:\n",
    "            yield Event(row['Stroke'], row['Name'], _median(row['Times']))\n",
    "\n",
    "\n",
    "events = tuple(read_events('../materials/itertools-in-python3/swimmers.csv'))\n",
    "\n",
    "for stroke, evts in sort_and_group(events, key=lambda evt: evt.stroke):\n",
    "    events_by_name = sort_and_group(evts, key=lambda evt: evt.name)\n",
    "    best_times = (min(evt) for _, evt in events_by_name)\n",
    "    sorted_by_time = sorted(best_times, key=lambda evt: evt.time)\n",
    "    teams = zip(('A', 'B'), it.islice(grouper(sorted_by_time, 4), 2))\n",
    "    for team, swimmers in teams:\n",
    "        print('{stroke} {team}: {names}'.format(\n",
    "            stroke=stroke.capitalize(),\n",
    "            team=team,\n",
    "            names=', '.join(swimmer.name for swimmer in swimmers)\n",
    "        ))"
   ]
  },
  {
   "cell_type": "markdown",
   "metadata": {},
   "source": [
    "#### itertools is a powerful module in the Python standard library, and an essential tool to have in your toolkit. With it, you can write faster and more memory efficient code that is often simpler and easier to read (although that is not always the case, as you saw in the section on second order recurrence relations).\n",
    "\n",
    "If anything, though, itertools is a testament to the power of iterators and lazy evaluation. Even though you have seen many techniques, this article only scratches the surface.\n",
    "\n",
    "So I guess this means your journey is only just beginning.\n",
    "\n",
    "this article skipped two itertools functions: starmap() and compress(). "
   ]
  },
  {
   "cell_type": "code",
   "execution_count": null,
   "metadata": {},
   "outputs": [],
   "source": []
  }
 ],
 "metadata": {
  "kernelspec": {
   "display_name": "Python 3",
   "language": "python",
   "name": "python3"
  },
  "language_info": {
   "codemirror_mode": {
    "name": "ipython",
    "version": 3
   },
   "file_extension": ".py",
   "mimetype": "text/x-python",
   "name": "python",
   "nbconvert_exporter": "python",
   "pygments_lexer": "ipython3",
   "version": "3.8.0"
  }
 },
 "nbformat": 4,
 "nbformat_minor": 4
}
