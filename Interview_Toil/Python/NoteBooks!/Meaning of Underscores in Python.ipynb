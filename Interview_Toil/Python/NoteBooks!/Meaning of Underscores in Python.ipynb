{
 "cells": [
  {
   "cell_type": "markdown",
   "metadata": {},
   "source": [
    "# The Meaning of Underscores in Python\n",
    "\n",
    "\n",
    "Single and double underscores have a meaning in Python variable and method names. Some of that meaning is merely by convention and intended as a hint to the programmer—and some of it is enforced by the Python interpreter.\n",
    "\n",
    "“What’s the meaning of single and double underscores in Python variable and method names?” \n",
    "\n",
    "We’ll discuss the following four underscore patterns and naming conventions and how they affect the behavior of your Python programs:\n",
    "\n",
    "1. Single Leading Underscore: _var\n",
    "2. Single Trailing Underscore: var_\n",
    "3. Double Leading Underscore: __var\n",
    "4. Double Leading and Trailing Underscore: <b>_ _ _var_ _ _</b>\n",
    "\n",
    "\n",
    "### 1. Single Leading Underscore: _var\n",
    "\n",
    "When it comes to variable and method names, the single underscore prefix has a meaning by convention only. It’s a hint to the programmer—and it means what the Python community agrees it should mean, but it does not affect the behavior of your programs.\n",
    "\n",
    "The underscore prefix is meant as a hint to another programmer that a variable or <b>method starting with a single underscore is intended for internal use.</b> This convention is defined in PEP 8.\n",
    "\n",
    "This isn’t enforced by Python. Python does not have strong distinctions between “private” and “public” variables like Java does. It’s like someone put up a tiny underscore warning sign that says:\n",
    "\n",
    "        “Hey, this isn’t really meant to be a part of the public interface of this class. Best to leave it alone.”\n",
    "\n",
    "Take a look at the following example:\n",
    "What’s going to happen if you instantiate this class and try to access the foo and _bar attributes defined in its __init__ constructor? Let’s find out:"
   ]
  },
  {
   "cell_type": "code",
   "execution_count": 1,
   "metadata": {},
   "outputs": [],
   "source": [
    "class Test: \n",
    "    def __init__(self): \n",
    "        self.foo = 11 \n",
    "        self._bar = 23"
   ]
  },
  {
   "cell_type": "code",
   "execution_count": 3,
   "metadata": {},
   "outputs": [
    {
     "data": {
      "text/plain": [
       "11"
      ]
     },
     "execution_count": 3,
     "metadata": {},
     "output_type": "execute_result"
    }
   ],
   "source": [
    "t = Test()\n",
    "t.foo"
   ]
  },
  {
   "cell_type": "code",
   "execution_count": 4,
   "metadata": {},
   "outputs": [
    {
     "data": {
      "text/plain": [
       "23"
      ]
     },
     "execution_count": 4,
     "metadata": {},
     "output_type": "execute_result"
    }
   ],
   "source": [
    "t._bar"
   ]
  },
  {
   "cell_type": "markdown",
   "metadata": {},
   "source": [
    "You just saw that the leading single underscore in _bar did not prevent us from “reaching into” the class and accessing the value of that variable.\n",
    "\n",
    "That’s because the single underscore prefix in Python is merely an agreed upon convention—at least when it comes to variable and method names.\n",
    "\n",
    "However, leading underscores do impact how names get imported from modules. Imagine you had the following code in a module called my_module:\n",
    "\n"
   ]
  },
  {
   "cell_type": "code",
   "execution_count": 5,
   "metadata": {},
   "outputs": [],
   "source": [
    "# This is my_module.py: \n",
    "def external_func(): \n",
    "    return 23\n",
    "\n",
    "def _internal_func():\n",
    "    return 42"
   ]
  },
  {
   "cell_type": "markdown",
   "metadata": {},
   "source": [
    "Now if you use a wildcard import to import all names from the module, Python will not import names with a leading underscore (unless the module defines an __all__ list that overrides this behavior):\n",
    "\n"
   ]
  },
  {
   "cell_type": "code",
   "execution_count": 7,
   "metadata": {},
   "outputs": [
    {
     "data": {
      "text/plain": [
       "23"
      ]
     },
     "execution_count": 7,
     "metadata": {},
     "output_type": "execute_result"
    }
   ],
   "source": [
    "external_func()"
   ]
  },
  {
   "cell_type": "markdown",
   "metadata": {},
   "source": [
    "        >>> _internal_func()\n",
    "        NameError: \"name '_internal_func' is not defined\"\n",
    "    \n",
    "By the way, wildcard imports should be avoided as they make it unclear which names are present in the namespace. It’s better to stick to regular imports for the sake of clarity.\n",
    "\n",
    "Unlike wildcard imports, regular imports are not affected by the leading single underscore naming convention:\n",
    "\n",
    "        >>> import my_module\n",
    "        >>> my_module.external_func()\n",
    "        23\n",
    "        >>> my_module._internal_func()\n",
    "        42\n",
    "\n",
    "I know this might be a little confusing at this point. If you stick to the PEP 8 recommendation that wildcard imports should be avoided, then really all you need to remember is this:\n",
    "\n",
    "#### \"Single underscores are a Python naming convention indicating a name is meant for internal use. It is generally not enforced by the Python interpreter and meant as a hint to the programmer only.\"\n",
    "\n",
    "\n",
    "\n",
    "### 2. Single Trailing Underscore: var_\n",
    "\n",
    "Sometimes the most fitting name for a variable is already taken by a keyword. Therefore names like class or def cannot be used as variable names in Python. In this case you can append a single underscore to break the naming conflict:\n",
    "\n",
    "        >>> def make_object(name, class):\n",
    "        SyntaxError: \"invalid syntax\" >>> def make_object(name, class_):\n",
    "        ... pass\n",
    "\n",
    "In summary, a single trailing underscore (postfix) is used by convention to avoid naming conflicts with Python keywords. This convention is explained in PEP 8.\n",
    "\n",
    "### 3. Double Leading Underscore: __var\n",
    "\n",
    "The naming patterns we covered so far received their meaning from agreed upon conventions only. With Python class attributes (variables and methods) that start with double underscores, things are a little different.\n",
    "\n",
    "<b>A double underscore prefix causes the Python interpreter to rewrite the attribute name in order to avoid naming conflicts in subclasses.\n",
    "\n",
    "This is also called <i><b>name mangling</b></i>—the interpreter changes the name of the variable in a way that makes it harder to create collisions when the class is extended later.</b>\n",
    "\n",
    "I know this sounds rather abstract. This is why this little code example we can use for experimentation:"
   ]
  },
  {
   "cell_type": "code",
   "execution_count": 9,
   "metadata": {},
   "outputs": [],
   "source": [
    "class Test: \n",
    "    def __init__(self): \n",
    "        self.foo = 11 \n",
    "        self._bar = 23 \n",
    "        self.__baz = 23\n"
   ]
  },
  {
   "cell_type": "markdown",
   "metadata": {},
   "source": [
    "Let’s take a look at the attributes on this object using the built-in dir() function:\n",
    "\n"
   ]
  },
  {
   "cell_type": "code",
   "execution_count": 10,
   "metadata": {},
   "outputs": [
    {
     "data": {
      "text/plain": [
       "['_Test__baz',\n",
       " '__class__',\n",
       " '__delattr__',\n",
       " '__dict__',\n",
       " '__dir__',\n",
       " '__doc__',\n",
       " '__eq__',\n",
       " '__format__',\n",
       " '__ge__',\n",
       " '__getattribute__',\n",
       " '__gt__',\n",
       " '__hash__',\n",
       " '__init__',\n",
       " '__init_subclass__',\n",
       " '__le__',\n",
       " '__lt__',\n",
       " '__module__',\n",
       " '__ne__',\n",
       " '__new__',\n",
       " '__reduce__',\n",
       " '__reduce_ex__',\n",
       " '__repr__',\n",
       " '__setattr__',\n",
       " '__sizeof__',\n",
       " '__str__',\n",
       " '__subclasshook__',\n",
       " '__weakref__',\n",
       " '_bar',\n",
       " 'foo']"
      ]
     },
     "execution_count": 10,
     "metadata": {},
     "output_type": "execute_result"
    }
   ],
   "source": [
    "t = Test()\n",
    "dir(t)"
   ]
  },
  {
   "cell_type": "markdown",
   "metadata": {},
   "source": [
    "This gives us a list with the object’s attributes. Let’s take this list and look for our original variable names foo, _bar, and __baz — I promise you’ll notice some interesting changes.\n",
    "\n",
    "1. The self.foo variable appears unmodified as foo in the attribute list.\n",
    "2. self._bar behaves the same way—it shows up on the class as _bar. Like I said before, the leading underscore is just a convention in this case. A hint for the programmer.\n",
    "3. However with self.__baz, things look a little different. When you search for __baz in that list you’ll see that there is no variable with that name.\n",
    "\n",
    "So what happened to __baz?\n",
    "\n",
    "If you look closely you’ll see there’s an attribute called _Test__baz on this object. This is the name mangling that the Python interpreter applies. It does this to protect the variable from getting overridden in subclasses.\n",
    "\n",
    "Let’s create another class that extends the Test class and attempts to override its existing attributes added in the constructor:\n",
    "\n"
   ]
  },
  {
   "cell_type": "code",
   "execution_count": 12,
   "metadata": {},
   "outputs": [],
   "source": [
    "class ExtendedTest(Test): \n",
    "    def __init__(self): \n",
    "        super().__init__() \n",
    "        self.foo = 'overridden' \n",
    "        self._bar = 'overridden' \n",
    "        self.__baz = 'overridden'\n"
   ]
  },
  {
   "cell_type": "markdown",
   "metadata": {},
   "source": [
    "Now what do you think the values of foo, _bar, and __baz will be on instances of this ExtendedTest class? Let’s take a look:\n",
    "\n"
   ]
  },
  {
   "cell_type": "code",
   "execution_count": 14,
   "metadata": {},
   "outputs": [
    {
     "data": {
      "text/plain": [
       "'overridden'"
      ]
     },
     "execution_count": 14,
     "metadata": {},
     "output_type": "execute_result"
    }
   ],
   "source": [
    "t2 = ExtendedTest()\n",
    "t2.foo"
   ]
  },
  {
   "cell_type": "code",
   "execution_count": 15,
   "metadata": {},
   "outputs": [
    {
     "data": {
      "text/plain": [
       "'overridden'"
      ]
     },
     "execution_count": 15,
     "metadata": {},
     "output_type": "execute_result"
    }
   ],
   "source": [
    "t2._bar"
   ]
  },
  {
   "cell_type": "code",
   "execution_count": 17,
   "metadata": {},
   "outputs": [
    {
     "ename": "AttributeError",
     "evalue": "'ExtendedTest' object has no attribute '__baz'",
     "output_type": "error",
     "traceback": [
      "\u001b[1;31m---------------------------------------------------------------------------\u001b[0m",
      "\u001b[1;31mAttributeError\u001b[0m                            Traceback (most recent call last)",
      "\u001b[1;32m<ipython-input-17-711defd2e129>\u001b[0m in \u001b[0;36m<module>\u001b[1;34m\u001b[0m\n\u001b[1;32m----> 1\u001b[1;33m \u001b[0mt2\u001b[0m\u001b[1;33m.\u001b[0m\u001b[0m__baz\u001b[0m \u001b[1;31m#AttributeError: \"'ExtendedTest' object has no attribute '__baz'\"\u001b[0m\u001b[1;33m\u001b[0m\u001b[1;33m\u001b[0m\u001b[0m\n\u001b[0m",
      "\u001b[1;31mAttributeError\u001b[0m: 'ExtendedTest' object has no attribute '__baz'"
     ]
    }
   ],
   "source": [
    "t2.__baz #AttributeError: \"'ExtendedTest' object has no attribute '__baz'\""
   ]
  },
  {
   "cell_type": "markdown",
   "metadata": {},
   "source": [
    "Wait, why did we get that AttributeError when we tried to inspect the value of t2.__baz? Name mangling strikes again! It turns out this object doesn’t even have a __baz attribute:\n",
    "\n"
   ]
  },
  {
   "cell_type": "code",
   "execution_count": 18,
   "metadata": {},
   "outputs": [
    {
     "data": {
      "text/plain": [
       "['_ExtendedTest__baz',\n",
       " '_Test__baz',\n",
       " '__class__',\n",
       " '__delattr__',\n",
       " '__dict__',\n",
       " '__dir__',\n",
       " '__doc__',\n",
       " '__eq__',\n",
       " '__format__',\n",
       " '__ge__',\n",
       " '__getattribute__',\n",
       " '__gt__',\n",
       " '__hash__',\n",
       " '__init__',\n",
       " '__init_subclass__',\n",
       " '__le__',\n",
       " '__lt__',\n",
       " '__module__',\n",
       " '__ne__',\n",
       " '__new__',\n",
       " '__reduce__',\n",
       " '__reduce_ex__',\n",
       " '__repr__',\n",
       " '__setattr__',\n",
       " '__sizeof__',\n",
       " '__str__',\n",
       " '__subclasshook__',\n",
       " '__weakref__',\n",
       " '_bar',\n",
       " 'foo']"
      ]
     },
     "execution_count": 18,
     "metadata": {},
     "output_type": "execute_result"
    }
   ],
   "source": [
    "dir(t2)"
   ]
  },
  {
   "cell_type": "markdown",
   "metadata": {},
   "source": [
    "As you can see __baz got turned into _ExtendedTest__baz to prevent accidental modification:\n",
    "\n"
   ]
  },
  {
   "cell_type": "code",
   "execution_count": 19,
   "metadata": {},
   "outputs": [
    {
     "data": {
      "text/plain": [
       "'overridden'"
      ]
     },
     "execution_count": 19,
     "metadata": {},
     "output_type": "execute_result"
    }
   ],
   "source": [
    "t2._ExtendedTest__baz"
   ]
  },
  {
   "cell_type": "markdown",
   "metadata": {},
   "source": [
    "But the original _Test__baz is also still around:\n",
    "\n"
   ]
  },
  {
   "cell_type": "code",
   "execution_count": 20,
   "metadata": {},
   "outputs": [
    {
     "data": {
      "text/plain": [
       "23"
      ]
     },
     "execution_count": 20,
     "metadata": {},
     "output_type": "execute_result"
    }
   ],
   "source": [
    "t2._Test__baz"
   ]
  },
  {
   "cell_type": "markdown",
   "metadata": {},
   "source": [
    "Double underscore name mangling is fully transparent to the programmer as long as the variable is accessed through the self object. Take a look at the following example that will confirm this:\n",
    "\n"
   ]
  },
  {
   "cell_type": "code",
   "execution_count": 21,
   "metadata": {},
   "outputs": [
    {
     "data": {
      "text/plain": [
       "'hello'"
      ]
     },
     "execution_count": 21,
     "metadata": {},
     "output_type": "execute_result"
    }
   ],
   "source": [
    "class ManglingTest: \n",
    "    def __init__(self): \n",
    "        self.__mangled = 'hello' \n",
    "    def get_mangled(self): \n",
    "        return self.__mangled \n",
    "\n",
    "ManglingTest().get_mangled()"
   ]
  },
  {
   "cell_type": "code",
   "execution_count": 23,
   "metadata": {},
   "outputs": [
    {
     "ename": "AttributeError",
     "evalue": "'ManglingTest' object has no attribute '__mangled'",
     "output_type": "error",
     "traceback": [
      "\u001b[1;31m---------------------------------------------------------------------------\u001b[0m",
      "\u001b[1;31mAttributeError\u001b[0m                            Traceback (most recent call last)",
      "\u001b[1;32m<ipython-input-23-14d8b1db7c4f>\u001b[0m in \u001b[0;36m<module>\u001b[1;34m\u001b[0m\n\u001b[1;32m----> 1\u001b[1;33m \u001b[0mManglingTest\u001b[0m\u001b[1;33m(\u001b[0m\u001b[1;33m)\u001b[0m\u001b[1;33m.\u001b[0m\u001b[0m__mangled\u001b[0m\u001b[1;33m\u001b[0m\u001b[1;33m\u001b[0m\u001b[0m\n\u001b[0m",
      "\u001b[1;31mAttributeError\u001b[0m: 'ManglingTest' object has no attribute '__mangled'"
     ]
    }
   ],
   "source": [
    "ManglingTest().__mangled"
   ]
  },
  {
   "cell_type": "markdown",
   "metadata": {},
   "source": [
    "Does name mangling also apply to method names? It sure does—name mangling affects all class attributes that start with two underscore characters (“dunders”):\n",
    "\n"
   ]
  },
  {
   "cell_type": "code",
   "execution_count": 24,
   "metadata": {},
   "outputs": [
    {
     "ename": "AttributeError",
     "evalue": "'MangledMethod' object has no attribute '__method'",
     "output_type": "error",
     "traceback": [
      "\u001b[1;31m---------------------------------------------------------------------------\u001b[0m",
      "\u001b[1;31mAttributeError\u001b[0m                            Traceback (most recent call last)",
      "\u001b[1;32m<ipython-input-24-a3259af1eb9b>\u001b[0m in \u001b[0;36m<module>\u001b[1;34m\u001b[0m\n\u001b[0;32m      5\u001b[0m         \u001b[1;32mreturn\u001b[0m \u001b[0mself\u001b[0m\u001b[1;33m.\u001b[0m\u001b[0m__method\u001b[0m\u001b[1;33m(\u001b[0m\u001b[1;33m)\u001b[0m\u001b[1;33m\u001b[0m\u001b[1;33m\u001b[0m\u001b[0m\n\u001b[0;32m      6\u001b[0m \u001b[1;33m\u001b[0m\u001b[0m\n\u001b[1;32m----> 7\u001b[1;33m \u001b[0mMangledMethod\u001b[0m\u001b[1;33m(\u001b[0m\u001b[1;33m)\u001b[0m\u001b[1;33m.\u001b[0m\u001b[0m__method\u001b[0m\u001b[1;33m(\u001b[0m\u001b[1;33m)\u001b[0m\u001b[1;33m\u001b[0m\u001b[1;33m\u001b[0m\u001b[0m\n\u001b[0m",
      "\u001b[1;31mAttributeError\u001b[0m: 'MangledMethod' object has no attribute '__method'"
     ]
    }
   ],
   "source": [
    "class MangledMethod: \n",
    "    def __method(self): \n",
    "        return 42 \n",
    "    def call_it(self): \n",
    "        return self.__method()\n",
    "\n",
    "MangledMethod().__method()"
   ]
  },
  {
   "cell_type": "code",
   "execution_count": 25,
   "metadata": {},
   "outputs": [
    {
     "data": {
      "text/plain": [
       "42"
      ]
     },
     "execution_count": 25,
     "metadata": {},
     "output_type": "execute_result"
    }
   ],
   "source": [
    "MangledMethod().call_it()"
   ]
  },
  {
   "cell_type": "markdown",
   "metadata": {},
   "source": [
    "Now this was a lot of stuff to absorb. To be honest with you I didn’t write these examples and explanations down off the top of my head. It took me some research and editing to do it. I’ve been using Python for years but rules and special cases like that aren’t constantly on my mind.\n",
    "\n",
    "Sometimes the most important skills for a programmer are “pattern recognition” and knowing where to look things up. If you feel a little overwhelmed at this point, don’t worry. Take your time and play with some of the examples in this article.\n",
    "\n",
    "Make these concepts sink in enough so that you’ll recognize the general idea of name mangling and some of the other behaviors I showed you. If you encounter them “in the wild” one day, you’ll know what to look for in the documentation."
   ]
  },
  {
   "cell_type": "markdown",
   "metadata": {},
   "source": [
    "## ⏰ Sidebar: What’s a “dunder” in Python?\n",
    "\n",
    "I’ve you’ve heard some experienced Pythonistas talk about Python or watched a few conference talks you may have heard the term dunder. If you’re wondering what that is, here’s your answer:\n",
    "\n",
    "Double underscores are often referred to as “dunders” in the Python community. The reason is that double underscores appear quite often in Python code and to avoid fatiguing their jaw muscles Pythonistas often shorten “double underscore” to “dunder.”\n",
    "\n",
    "For example, you’d pronounce __baz as “dunder baz”. Likewise __init__ would be pronounced as “dunder init”, even though one might think it should be “dunder init dunder.” But that’s just yet another quirk in the naming convention.\n",
    "\n",
    "It’s like a secret handshake for Python developers ?\n",
    "\n",
    "## 3. Double Leading and Trailing Underscore: __var__\n",
    "\n",
    "Perhaps surprisingly, name mangling is not applied if a name starts and ends with double underscores. \n",
    "\n",
    "Variables surrounded by a double underscore prefix and postfix are left unscathed by the Python interpeter:"
   ]
  },
  {
   "cell_type": "code",
   "execution_count": 26,
   "metadata": {},
   "outputs": [
    {
     "data": {
      "text/plain": [
       "42"
      ]
     },
     "execution_count": 26,
     "metadata": {},
     "output_type": "execute_result"
    }
   ],
   "source": [
    "class PrefixPostfixTest: \n",
    "    def __init__(self): \n",
    "        self.__bam__ = 42 \n",
    "\n",
    "        \n",
    "PrefixPostfixTest().__bam__"
   ]
  },
  {
   "cell_type": "markdown",
   "metadata": {},
   "source": [
    "However, names that have both leading and trailing double underscores are reserved for special use in the language. This rule covers things like __init__ for object constructors, or __call__ to make an object callable.\n",
    "\n",
    "These dunder methods are often referred to as magic methods—but many people in the Python community, including myself, don’t like that.\n",
    "\n",
    "It’s best to stay away from using names that start and end with double underscores (“dunders”) in your own programs to avoid collisions with future changes to the Python language."
   ]
  },
  {
   "cell_type": "markdown",
   "metadata": {},
   "source": [
    "### ? Python Underscore Naming Patterns – Summary\n",
    "\n",
    "Here’s a quick summary or “cheat sheet” of what the four underscore patterns I covered in this article mean in Python:\n",
    "\n",
    "1. Single Leading Underscore ->\t_var  -> \tNaming convention indicating a name is meant for internal use. Generally not enforced by the Python interpreter (except in wildcard imports) and meant as a hint to the programmer only.\n",
    "\n",
    "2. Single Trailing Underscore ->\tvar_  ->  Used by convention to avoid naming conflicts with Python keywords.\n",
    "\n",
    "3. Double Leading Underscore  ->\t__var  ->\tTriggers name mangling when used on class attributes. Enforced by the Python interpreter.\n",
    "\n",
    "4. Double Leading and Trailing Underscore  ->\t__var__  ->\tIndicates special methods defined by the Python language. Avoid this naming scheme for your own attributes."
   ]
  },
  {
   "cell_type": "code",
   "execution_count": null,
   "metadata": {},
   "outputs": [],
   "source": []
  }
 ],
 "metadata": {
  "kernelspec": {
   "display_name": "Python 3",
   "language": "python",
   "name": "python3"
  },
  "language_info": {
   "codemirror_mode": {
    "name": "ipython",
    "version": 3
   },
   "file_extension": ".py",
   "mimetype": "text/x-python",
   "name": "python",
   "nbconvert_exporter": "python",
   "pygments_lexer": "ipython3",
   "version": "3.8.0"
  }
 },
 "nbformat": 4,
 "nbformat_minor": 4
}
