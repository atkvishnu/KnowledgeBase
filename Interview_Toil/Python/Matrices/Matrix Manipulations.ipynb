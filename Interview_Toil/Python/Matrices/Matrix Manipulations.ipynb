{
 "cells": [
  {
   "cell_type": "markdown",
   "metadata": {},
   "source": [
    "https://levelup.gitconnected.com/make-way-for-the-matrix-a-complete-guide-to-solving-2d-array-coding-problems-725096d122d9\n",
    "\n",
    "A Complete Guide to Solving 2D Array Coding Problems"
   ]
  },
  {
   "cell_type": "code",
   "execution_count": 2,
   "metadata": {},
   "outputs": [],
   "source": [
    "# A theatre seating of 5 rows with 10 seats in each row\n",
    "theatre = []\n",
    "for row in range(5):\n",
    "    row = []\n",
    "    for seats in range(10):\n",
    "        row.append(0)\n",
    "    theatre.append(row)"
   ]
  },
  {
   "cell_type": "code",
   "execution_count": 3,
   "metadata": {},
   "outputs": [
    {
     "data": {
      "text/plain": [
       "[[0, 0, 0, 0, 0, 0, 0, 0, 0, 0],\n",
       " [0, 0, 0, 0, 0, 0, 0, 0, 0, 0],\n",
       " [0, 0, 0, 0, 0, 0, 0, 0, 0, 0],\n",
       " [0, 0, 0, 0, 0, 0, 0, 0, 0, 0],\n",
       " [0, 0, 0, 0, 0, 0, 0, 0, 0, 0]]"
      ]
     },
     "execution_count": 3,
     "metadata": {},
     "output_type": "execute_result"
    }
   ],
   "source": [
    "theatre\n",
    "# 5 x 10 matrix"
   ]
  },
  {
   "cell_type": "code",
   "execution_count": 5,
   "metadata": {},
   "outputs": [
    {
     "data": {
      "text/plain": [
       "[[0, 0, 0, 0, 0, 0, 0, 0, 0, 0],\n",
       " [0, 0, 0, 0, 0, 0, 0, 0, 0, 0],\n",
       " [0, 0, 0, 0, 0, 0, 0, 0, 0, 0],\n",
       " [0, 0, 0, 0, 0, 0, 0, 0, 0, 0],\n",
       " [0, 0, 0, 0, 0, 0, 0, 0, 0, 0]]"
      ]
     },
     "execution_count": 5,
     "metadata": {},
     "output_type": "execute_result"
    }
   ],
   "source": [
    "# The above can also be accomplished with a nested list comprehension:\n",
    "theatre = []\n",
    "theatre = [[0 for seat in range(10)] for row in range(5)]\n",
    "theatre"
   ]
  },
  {
   "cell_type": "code",
   "execution_count": 7,
   "metadata": {},
   "outputs": [
    {
     "data": {
      "text/plain": [
       "[[1, 1, 1, 1, 1, 1, 1, 1, 1, 1],\n",
       " [1, 1, 1, 1, 1, 1, 1, 1, 1, 1],\n",
       " [0, 0, 0, 0, 0, 0, 0, 0, 0, 0],\n",
       " [0, 0, 0, 0, 0, 0, 0, 0, 0, 0],\n",
       " [0, 0, 0, 0, 0, 0, 0, 0, 0, 0]]"
      ]
     },
     "execution_count": 7,
     "metadata": {},
     "output_type": "execute_result"
    }
   ],
   "source": [
    "# We need to update that the last 2 rows are booked by setting a value of 1\n",
    "for row in range(2):\n",
    "    for seats in range(10):\n",
    "        theatre[row][seats] = 1\n",
    "\n",
    "theatre"
   ]
  },
  {
   "cell_type": "code",
   "execution_count": 20,
   "metadata": {},
   "outputs": [
    {
     "data": {
      "text/plain": [
       "[[0, 0, 1], [0, 1, 1], [0, 0, 1]]"
      ]
     },
     "execution_count": 20,
     "metadata": {},
     "output_type": "execute_result"
    }
   ],
   "source": [
    "# Problems\n",
    "# Transpose a matrix\n",
    "# Transposing a matrix is to swap its row values with its column values.\n",
    "\n",
    "# For every cell result[i][j] we need to replace the value with  input[j][i] \n",
    "# where input is the matrix to be transposed and \n",
    "# result is the placeholder for the transposed matrix\n",
    "\n",
    "inputMatrix = [[0,0,0],\n",
    "               [0,1,0],\n",
    "               [1,1,1]]\n",
    "\n",
    "def transpose(matrix):\n",
    "    result = [[0 for row in range(len(matrix))] for col in range(len(matrix[0]))]\n",
    "\n",
    "    for i in range(len(inputMatrix)):\n",
    "        for j in range(len(inputMatrix[0])):\n",
    "            result[j][i] = inputMatrix[i][j]\n",
    "\n",
    "    return result\n",
    "\n",
    "transpose(inputMatrix)"
   ]
  },
  {
   "cell_type": "code",
   "execution_count": 25,
   "metadata": {},
   "outputs": [
    {
     "name": "stdout",
     "output_type": "stream",
     "text": [
      "False\n",
      "True\n"
     ]
    }
   ],
   "source": [
    "# Search a 2D Matrix\n",
    "\n",
    "# We need to search for a value in a sorted matrix. A sorted matrix essentially means that the value at cell A[i][j] will always be greater than the values of all cells preceding it.\n",
    "\n",
    "# Solution1: The brute-force approach to solving this is to iterate through each row and each column until we have found the target element or reached the end of the matrix.\n",
    "    \n",
    "def searchMatrix(matrix, target):\n",
    "    for i in range(len(matrix)):\n",
    "        for j in range(len(matrix[0])):\n",
    "            if matrix[i][j] == target:\n",
    "                return True\n",
    "    return False\n",
    "\n",
    "print(searchMatrix([[1,2,3],[4,5,6],[7,8,9]], 10))\n",
    "print(searchMatrix([[1,2,3],[4,5,6],[7,8,9]], 6))\n",
    "\n",
    "\n",
    "# This is an O(N*M) solution. We can improve on that!"
   ]
  },
  {
   "cell_type": "code",
   "execution_count": 42,
   "metadata": {},
   "outputs": [
    {
     "data": {
      "text/plain": [
       "True"
      ]
     },
     "execution_count": 42,
     "metadata": {},
     "output_type": "execute_result"
    }
   ],
   "source": [
    "# Solution2:\n",
    "\n",
    "def searchMatrix(matrix, target: int) -> bool:\n",
    "    #Helper function to perform Binary search for the target(in rows)\n",
    "    \n",
    "    def helper_search(l,target):\n",
    "        start=0\n",
    "        end=len(matrix[0])-1  #matrix[0] represents the first list in the List of lists i.e this helper function is helping us find the row in which the target will be there\n",
    "        while start <= end:\n",
    "            mid = (start+end)//2\n",
    "            if l[mid] == target:\n",
    "                return True\n",
    "            elif l[mid] < target:\n",
    "                start = mid + 1\n",
    "            else:\n",
    "                end = mid - 1\n",
    "        return False\n",
    "\n",
    "    if matrix == [] or matrix == [[]]:\n",
    "        return False\n",
    "    start = 0\n",
    "    end = len(matrix)-1\n",
    "    \n",
    "    # This is the outer binary search for rows\n",
    "    while start <= end:\n",
    "        mid = (start+end)//2\n",
    "        # inner binary search on the row\n",
    "        value = helper_search(matrix[mid], target)\n",
    "\n",
    "        if value == True:\n",
    "            return True\n",
    "        elif matrix[mid][-1] > target:\n",
    "            end = mid - 1\n",
    "        else:\n",
    "            start = mid + 1\n",
    "    return False\n",
    "\n",
    "\n",
    "searchMatrix([[1,2,3],[4,5,6],[7,8,9]], 6)"
   ]
  },
  {
   "cell_type": "code",
   "execution_count": 2,
   "metadata": {},
   "outputs": [
    {
     "data": {
      "text/plain": [
       "False"
      ]
     },
     "execution_count": 2,
     "metadata": {},
     "output_type": "execute_result"
    }
   ],
   "source": [
    "# Solution3:\n",
    "\n",
    "def searchMatrix1(matrix, target):\n",
    "    if matrix == []:\n",
    "        return False\n",
    "    row, col = len(matrix), len(matrix[0])\n",
    "    \n",
    "    i, j=0,col-1\n",
    "    \n",
    "    while i < row and j >= 0:\n",
    "        if matrix[i][j] == target:\n",
    "            return True\n",
    "        elif matrix[i][j] < target:\n",
    "            i+=1\n",
    "        elif matrix[i][j] > target:\n",
    "            j-=1\n",
    "    return False\n",
    "\n",
    "\n",
    "searchMatrix1([[1,2,3],[4,5,6],[7,8,9]], 10)"
   ]
  },
  {
   "cell_type": "code",
   "execution_count": 3,
   "metadata": {},
   "outputs": [],
   "source": [
    "#Search in a 2D Matrix - II\n",
    "# This will not be a sorted matrix\n",
    "# Here, A preceding row can have a higher value than the rows following it\n",
    "\n",
    "def searchMatrix2(matrix, target):\n",
    "    if matrix == [] and matrix == [[]]:\n",
    "        return False\n",
    "    \n",
    "    maxRow, maxCol = len(matrix)-1, len()"
   ]
  },
  {
   "cell_type": "code",
   "execution_count": 6,
   "metadata": {},
   "outputs": [
    {
     "ename": "IndexError",
     "evalue": "list index out of range",
     "output_type": "error",
     "traceback": [
      "\u001b[1;31m---------------------------------------------------------------------------\u001b[0m",
      "\u001b[1;31mIndexError\u001b[0m                                Traceback (most recent call last)",
      "\u001b[1;32m<ipython-input-6-2f66100702a8>\u001b[0m in \u001b[0;36m<module>\u001b[1;34m\u001b[0m\n\u001b[0;32m     16\u001b[0m \u001b[1;33m\u001b[0m\u001b[0m\n\u001b[0;32m     17\u001b[0m \u001b[1;33m\u001b[0m\u001b[0m\n\u001b[1;32m---> 18\u001b[1;33m \u001b[0mprint\u001b[0m\u001b[1;33m(\u001b[0m\u001b[0mfindTime\u001b[0m\u001b[1;33m(\u001b[0m\u001b[1;33m[\u001b[0m\u001b[1;36m1\u001b[0m\u001b[1;33m,\u001b[0m\u001b[1;36m1\u001b[0m\u001b[1;33m,\u001b[0m\u001b[1;36m2\u001b[0m\u001b[1;33m,\u001b[0m\u001b[1;36m1\u001b[0m\u001b[1;33m]\u001b[0m\u001b[1;33m,\u001b[0m \u001b[1;36m2\u001b[0m\u001b[1;33m)\u001b[0m\u001b[1;33m)\u001b[0m\u001b[1;33m\u001b[0m\u001b[1;33m\u001b[0m\u001b[0m\n\u001b[0m",
      "\u001b[1;32m<ipython-input-6-2f66100702a8>\u001b[0m in \u001b[0;36mfindTime\u001b[1;34m(arr, cooldown)\u001b[0m\n\u001b[0;32m      6\u001b[0m     \u001b[1;32mfor\u001b[0m \u001b[0mi\u001b[0m \u001b[1;32min\u001b[0m \u001b[0mrange\u001b[0m\u001b[1;33m(\u001b[0m\u001b[0mlen\u001b[0m\u001b[1;33m(\u001b[0m\u001b[0marr\u001b[0m\u001b[1;33m)\u001b[0m\u001b[1;33m)\u001b[0m\u001b[1;33m:\u001b[0m\u001b[1;33m\u001b[0m\u001b[1;33m\u001b[0m\u001b[0m\n\u001b[0;32m      7\u001b[0m         \u001b[0moutput\u001b[0m \u001b[1;33m+=\u001b[0m \u001b[0mlen\u001b[0m\u001b[1;33m(\u001b[0m\u001b[0marr\u001b[0m\u001b[1;33m)\u001b[0m\u001b[1;33m\u001b[0m\u001b[1;33m\u001b[0m\u001b[0m\n\u001b[1;32m----> 8\u001b[1;33m         \u001b[1;32mif\u001b[0m \u001b[0marr\u001b[0m\u001b[1;33m[\u001b[0m\u001b[0mi\u001b[0m\u001b[1;33m+\u001b[0m\u001b[1;36m1\u001b[0m\u001b[1;33m]\u001b[0m \u001b[1;33m==\u001b[0m \u001b[0marr\u001b[0m\u001b[1;33m[\u001b[0m\u001b[0mi\u001b[0m\u001b[1;33m]\u001b[0m\u001b[1;33m:\u001b[0m\u001b[1;33m\u001b[0m\u001b[1;33m\u001b[0m\u001b[0m\n\u001b[0m\u001b[0;32m      9\u001b[0m             \u001b[0moutput\u001b[0m \u001b[1;33m+=\u001b[0m \u001b[0mcooldown\u001b[0m\u001b[1;33m\u001b[0m\u001b[1;33m\u001b[0m\u001b[0m\n\u001b[0;32m     10\u001b[0m         \u001b[1;32melif\u001b[0m \u001b[0marr\u001b[0m\u001b[1;33m[\u001b[0m\u001b[0mi\u001b[0m\u001b[1;33m+\u001b[0m\u001b[1;36m1\u001b[0m\u001b[1;33m]\u001b[0m \u001b[1;33m!=\u001b[0m \u001b[0marr\u001b[0m\u001b[1;33m[\u001b[0m\u001b[0mi\u001b[0m\u001b[1;33m]\u001b[0m\u001b[1;33m:\u001b[0m\u001b[1;33m\u001b[0m\u001b[1;33m\u001b[0m\u001b[0m\n",
      "\u001b[1;31mIndexError\u001b[0m: list index out of range"
     ]
    }
   ],
   "source": [
    "#AirBnB\n",
    "\n",
    "def findTime(arr, cooldown):\n",
    "    output = 0\n",
    "    \n",
    "    for i in range(len(arr)):\n",
    "        output += len(arr)\n",
    "        if arr[i+1] == arr[i]:\n",
    "            output += cooldown\n",
    "        elif arr[i+1] != arr[i]:\n",
    "            pass\n",
    "        else:\n",
    "            output += 1\n",
    "    return output\n",
    "    \n",
    "\n",
    "    \n",
    "print(findTime([1,1,2,1], 2))\n"
   ]
  },
  {
   "cell_type": "code",
   "execution_count": null,
   "metadata": {},
   "outputs": [],
   "source": []
  }
 ],
 "metadata": {
  "kernelspec": {
   "display_name": "Python 3",
   "language": "python",
   "name": "python3"
  },
  "language_info": {
   "codemirror_mode": {
    "name": "ipython",
    "version": 3
   },
   "file_extension": ".py",
   "mimetype": "text/x-python",
   "name": "python",
   "nbconvert_exporter": "python",
   "pygments_lexer": "ipython3",
   "version": "3.8.0"
  }
 },
 "nbformat": 4,
 "nbformat_minor": 4
}
