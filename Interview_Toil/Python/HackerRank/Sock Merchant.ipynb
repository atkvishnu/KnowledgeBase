{
 "cells": [
  {
   "cell_type": "markdown",
   "metadata": {},
   "source": [
    "John works at a clothing store. He has a large pile of socks that he must pair by color for sale. Given an array of integers representing the color of each sock, determine how many pairs of socks with matching colors there are.\n",
    "\n",
    "For example, there are  socks with colors . There is one pair of color  and one of color . There are three odd socks left, one of each color. The number of pairs is .\n",
    "\n",
    "Function Description\n",
    "\n",
    "Complete the sockMerchant function in the editor below. It must return an integer representing the number of matching pairs of socks that are available.\n",
    "\n",
    "sockMerchant has the following parameter(s):\n",
    "\n",
    "n: the number of socks in the pile\n",
    "ar: the colors of each sock\n",
    "Input Format\n",
    "\n",
    "The first line contains an integer , the number of socks represented in .\n",
    "The second line contains  space-separated integers describing the colors  of the socks in the pile.\n",
    "\n",
    "Constraints\n",
    "\n",
    " where \n",
    "Output Format\n",
    "\n",
    "Return the total number of matching pairs of socks that John can sell.\n",
    "\n",
    "Sample Input\n",
    "9\n",
    "10 20 20 10 10 30 50 10 20\n",
    "\n",
    "Sample Output\n",
    "3"
   ]
  },
  {
   "cell_type": "code",
   "execution_count": 34,
   "metadata": {},
   "outputs": [
    {
     "name": "stdout",
     "output_type": "stream",
     "text": [
      "number of socks9\n",
      "socks color with spaces10 20 20 10 10 30 50 10 20\n",
      "3\n"
     ]
    }
   ],
   "source": [
    "import collections\n",
    "import math\n",
    "\n",
    "# Complete the sockMerchant function below.\n",
    "def sockMerchant(n, ar):\n",
    "    \n",
    "#     count = 0\n",
    "#     ar.sort()\n",
    "#     ar.append('#')\n",
    "#     i = 0\n",
    "#     while i<n:\n",
    "#         if ar[i]==ar[i+1]:\n",
    "#             count = count+1\n",
    "#             i+=2\n",
    "#         else:\n",
    "#             i+=1\n",
    "#     print(count)\n",
    "\n",
    "# __________________________________________________________\n",
    "\n",
    "\n",
    "#using dict\n",
    "#     occurences = collections.Counter(ar)\n",
    "    \n",
    "#     vals = occurences.values()\n",
    "#     count1 = 0\n",
    "#     for i in vals:\n",
    "#         if i == 2:\n",
    "#             count1+=1\n",
    "#         elif i > 2:\n",
    "#             x = i/2\n",
    "#             i, j = math.modf(x)\n",
    "#             count1+=j\n",
    "#         else:\n",
    "#             pass\n",
    "#     print(int(count1))\n",
    "\n",
    "#_____________________________________________________________\n",
    "\n",
    "#using set\n",
    "\n",
    "    set = set()\n",
    "    count = 0\n",
    "    for i in range(0,n):\n",
    "        element = ar[i]\n",
    "        if set.contains(element):\n",
    "            set.remove\n",
    "        \n",
    "    \n",
    "if __name__ == '__main__':\n",
    "\n",
    "    n = int(input('number of socks'))\n",
    "\n",
    "    ar = list(map(int, input('socks color with spaces').rstrip().split()))\n",
    "\n",
    "    sockMerchant(n, ar)\n",
    "    \n"
   ]
  },
  {
   "cell_type": "code",
   "execution_count": 32,
   "metadata": {},
   "outputs": [
    {
     "data": {
      "text/plain": [
       "1234.0"
      ]
     },
     "execution_count": 32,
     "metadata": {},
     "output_type": "execute_result"
    }
   ],
   "source": [
    "import math\n",
    "i, j = math.modf(1234.5)\n",
    "j"
   ]
  },
  {
   "cell_type": "code",
   "execution_count": null,
   "metadata": {},
   "outputs": [],
   "source": []
  }
 ],
 "metadata": {
  "kernelspec": {
   "display_name": "Python 3",
   "language": "python",
   "name": "python3"
  },
  "language_info": {
   "codemirror_mode": {
    "name": "ipython",
    "version": 3
   },
   "file_extension": ".py",
   "mimetype": "text/x-python",
   "name": "python",
   "nbconvert_exporter": "python",
   "pygments_lexer": "ipython3",
   "version": "3.8.0"
  }
 },
 "nbformat": 4,
 "nbformat_minor": 4
}
