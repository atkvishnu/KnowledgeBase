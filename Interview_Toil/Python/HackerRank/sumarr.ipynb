{
 "cells": [
  {
   "cell_type": "code",
   "execution_count": 20,
   "metadata": {},
   "outputs": [
    {
     "name": "stdout",
     "output_type": "stream",
     "text": [
      "array count3\n",
      "array list elements1 2 3\n",
      "6\n"
     ]
    }
   ],
   "source": [
    "def simpleArraySum(ar):\n",
    "\n",
    "    sum = 0\n",
    "    for i in range(0,ar_count):\n",
    "        sum = sum + ar[i]\n",
    "    print(sum)\n",
    "    \n",
    "\n",
    "\n",
    "\n",
    "\n",
    "if __name__ == '__main__':\n",
    "    \n",
    "    ar_count = int(input('array count'))\n",
    "\n",
    "    ar = list(map(int, input('array list elements').rstrip().split()))\n",
    "\n",
    "    simpleArraySum(ar)"
   ]
  },
  {
   "cell_type": "code",
   "execution_count": null,
   "metadata": {},
   "outputs": [],
   "source": []
  }
 ],
 "metadata": {
  "kernelspec": {
   "display_name": "Python 3",
   "language": "python",
   "name": "python3"
  },
  "language_info": {
   "codemirror_mode": {
    "name": "ipython",
    "version": 3
   },
   "file_extension": ".py",
   "mimetype": "text/x-python",
   "name": "python",
   "nbconvert_exporter": "python",
   "pygments_lexer": "ipython3",
   "version": "3.8.0"
  }
 },
 "nbformat": 4,
 "nbformat_minor": 4
}
